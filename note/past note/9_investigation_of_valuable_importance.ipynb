{
 "cells": [
  {
   "cell_type": "markdown",
   "id": "750bafb7-d806-45e7-81ba-f2611a8e3c6d",
   "metadata": {
    "tags": []
   },
   "source": [
    "# 9. Investigation of the valuabble importance "
   ]
  },
  {
   "cell_type": "code",
   "execution_count": 3,
   "id": "5effad26-9b2d-4a53-aa68-30bdfee05a7a",
   "metadata": {
    "tags": []
   },
   "outputs": [],
   "source": [
    "import pandas as pd\n",
    "import numpy as np\n",
    "import seaborn as sns\n",
    "import matplotlib.pyplot as plt"
   ]
  },
  {
   "cell_type": "code",
   "execution_count": 8,
   "id": "fc73e8ea-b1b2-4ec6-be11-03784e1935e4",
   "metadata": {
    "tags": []
   },
   "outputs": [],
   "source": [
    "#load\n",
    "lg = pd.read_csv('../data/Significant_Score/T_SMOTE_LG_Significance_Score.csv')\n",
    "knn = pd.read_csv('../data/Significant_Score/T_SMOTE_KNN_Significance_Score.csv')\n",
    "rf =pd.read_csv('../data/Significant_Score/T_SMOTE_RF_Significance_Score.csv')\n",
    "gb = pd.read_csv('../data/Significant_Score/T_SMOTE_GB_Significance_Score.csv')\n"
   ]
  },
  {
   "cell_type": "code",
   "execution_count": 9,
   "id": "98cacf69-83c5-4469-b3af-bc051fee55c1",
   "metadata": {
    "tags": []
   },
   "outputs": [
    {
     "data": {
      "text/html": [
       "<div>\n",
       "<style scoped>\n",
       "    .dataframe tbody tr th:only-of-type {\n",
       "        vertical-align: middle;\n",
       "    }\n",
       "\n",
       "    .dataframe tbody tr th {\n",
       "        vertical-align: top;\n",
       "    }\n",
       "\n",
       "    .dataframe thead th {\n",
       "        text-align: right;\n",
       "    }\n",
       "</style>\n",
       "<table border=\"1\" class=\"dataframe\">\n",
       "  <thead>\n",
       "    <tr style=\"text-align: right;\">\n",
       "      <th></th>\n",
       "      <th>contract_Two year</th>\n",
       "      <th>contract_One year</th>\n",
       "      <th>payment_method_Credit card (automatic)</th>\n",
       "      <th>total_charges</th>\n",
       "      <th>gender_M</th>\n",
       "      <th>payment_method_Bank transfer (automatic)</th>\n",
       "      <th>payment_method_Mailed check</th>\n",
       "      <th>gender_F</th>\n",
       "      <th>internet_service_No</th>\n",
       "      <th>internet_service_DSL</th>\n",
       "      <th>...</th>\n",
       "      <th>streaming_tv</th>\n",
       "      <th>senior_citizen</th>\n",
       "      <th>dependents</th>\n",
       "      <th>partner</th>\n",
       "      <th>phone_service</th>\n",
       "      <th>device_protection</th>\n",
       "      <th>online_backup</th>\n",
       "      <th>streaming_movies</th>\n",
       "      <th>multiple_lines</th>\n",
       "      <th>monthly_charges</th>\n",
       "    </tr>\n",
       "  </thead>\n",
       "  <tbody>\n",
       "    <tr>\n",
       "      <th>0</th>\n",
       "      <td>0.161622</td>\n",
       "      <td>0.12408</td>\n",
       "      <td>0.097264</td>\n",
       "      <td>0.095944</td>\n",
       "      <td>0.095109</td>\n",
       "      <td>0.094262</td>\n",
       "      <td>0.093596</td>\n",
       "      <td>0.093063</td>\n",
       "      <td>0.084189</td>\n",
       "      <td>0.061622</td>\n",
       "      <td>...</td>\n",
       "      <td>0.001804</td>\n",
       "      <td>0.000751</td>\n",
       "      <td>0.000291</td>\n",
       "      <td>0.000182</td>\n",
       "      <td>0.000157</td>\n",
       "      <td>0.000145</td>\n",
       "      <td>-0.000424</td>\n",
       "      <td>-0.001186</td>\n",
       "      <td>-0.001223</td>\n",
       "      <td>-0.001283</td>\n",
       "    </tr>\n",
       "  </tbody>\n",
       "</table>\n",
       "<p>1 rows × 25 columns</p>\n",
       "</div>"
      ],
      "text/plain": [
       "   contract_Two year  contract_One year  \\\n",
       "0           0.161622            0.12408   \n",
       "\n",
       "   payment_method_Credit card (automatic)  total_charges  gender_M  \\\n",
       "0                                0.097264       0.095944  0.095109   \n",
       "\n",
       "   payment_method_Bank transfer (automatic)  payment_method_Mailed check  \\\n",
       "0                                  0.094262                     0.093596   \n",
       "\n",
       "   gender_F  internet_service_No  internet_service_DSL  ...  streaming_tv  \\\n",
       "0  0.093063             0.084189              0.061622  ...      0.001804   \n",
       "\n",
       "   senior_citizen  dependents   partner  phone_service  device_protection  \\\n",
       "0        0.000751    0.000291  0.000182       0.000157           0.000145   \n",
       "\n",
       "   online_backup  streaming_movies  multiple_lines  monthly_charges  \n",
       "0      -0.000424         -0.001186       -0.001223        -0.001283  \n",
       "\n",
       "[1 rows x 25 columns]"
      ]
     },
     "execution_count": 9,
     "metadata": {},
     "output_type": "execute_result"
    }
   ],
   "source": [
    "lg"
   ]
  },
  {
   "cell_type": "code",
   "execution_count": 10,
   "id": "5d47473b-8322-4315-a69e-39b4c7964a79",
   "metadata": {
    "tags": []
   },
   "outputs": [
    {
     "data": {
      "text/html": [
       "<div>\n",
       "<style scoped>\n",
       "    .dataframe tbody tr th:only-of-type {\n",
       "        vertical-align: middle;\n",
       "    }\n",
       "\n",
       "    .dataframe tbody tr th {\n",
       "        vertical-align: top;\n",
       "    }\n",
       "\n",
       "    .dataframe thead th {\n",
       "        text-align: right;\n",
       "    }\n",
       "</style>\n",
       "<table border=\"1\" class=\"dataframe\">\n",
       "  <thead>\n",
       "    <tr style=\"text-align: right;\">\n",
       "      <th></th>\n",
       "      <th>total_charges</th>\n",
       "      <th>multiple_lines</th>\n",
       "      <th>partner</th>\n",
       "      <th>online_backup</th>\n",
       "      <th>online_security</th>\n",
       "      <th>senior_citizen</th>\n",
       "      <th>streaming_tv</th>\n",
       "      <th>streaming_movies</th>\n",
       "      <th>dependents</th>\n",
       "      <th>tech_support</th>\n",
       "      <th>...</th>\n",
       "      <th>payment_method_Electronic check</th>\n",
       "      <th>contract_Month-to-month</th>\n",
       "      <th>contract_One year</th>\n",
       "      <th>phone_service</th>\n",
       "      <th>payment_method_Bank transfer (automatic)</th>\n",
       "      <th>internet_service_DSL</th>\n",
       "      <th>gender_F</th>\n",
       "      <th>internet_service_Fiber optic</th>\n",
       "      <th>internet_service_No</th>\n",
       "      <th>gender_M</th>\n",
       "    </tr>\n",
       "  </thead>\n",
       "  <tbody>\n",
       "    <tr>\n",
       "      <th>0</th>\n",
       "      <td>0.047772</td>\n",
       "      <td>0.039262</td>\n",
       "      <td>0.038596</td>\n",
       "      <td>0.028172</td>\n",
       "      <td>0.024625</td>\n",
       "      <td>0.024528</td>\n",
       "      <td>0.023317</td>\n",
       "      <td>0.022942</td>\n",
       "      <td>0.022809</td>\n",
       "      <td>0.020678</td>\n",
       "      <td>...</td>\n",
       "      <td>0.01201</td>\n",
       "      <td>0.010605</td>\n",
       "      <td>0.009927</td>\n",
       "      <td>0.009334</td>\n",
       "      <td>0.007361</td>\n",
       "      <td>0.003596</td>\n",
       "      <td>0.001816</td>\n",
       "      <td>0.001392</td>\n",
       "      <td>0.001283</td>\n",
       "      <td>0.001102</td>\n",
       "    </tr>\n",
       "  </tbody>\n",
       "</table>\n",
       "<p>1 rows × 25 columns</p>\n",
       "</div>"
      ],
      "text/plain": [
       "   total_charges  multiple_lines   partner  online_backup  online_security  \\\n",
       "0       0.047772        0.039262  0.038596       0.028172         0.024625   \n",
       "\n",
       "   senior_citizen  streaming_tv  streaming_movies  dependents  tech_support  \\\n",
       "0        0.024528      0.023317          0.022942    0.022809      0.020678   \n",
       "\n",
       "   ...  payment_method_Electronic check  contract_Month-to-month  \\\n",
       "0  ...                          0.01201                 0.010605   \n",
       "\n",
       "   contract_One year  phone_service  payment_method_Bank transfer (automatic)  \\\n",
       "0           0.009927       0.009334                                  0.007361   \n",
       "\n",
       "   internet_service_DSL  gender_F  internet_service_Fiber optic  \\\n",
       "0              0.003596  0.001816                      0.001392   \n",
       "\n",
       "   internet_service_No  gender_M  \n",
       "0             0.001283  0.001102  \n",
       "\n",
       "[1 rows x 25 columns]"
      ]
     },
     "execution_count": 10,
     "metadata": {},
     "output_type": "execute_result"
    }
   ],
   "source": [
    "knn"
   ]
  },
  {
   "cell_type": "code",
   "execution_count": 11,
   "id": "978db585-9d01-4b87-acc6-da3f6fe81d13",
   "metadata": {
    "tags": []
   },
   "outputs": [
    {
     "data": {
      "text/html": [
       "<div>\n",
       "<style scoped>\n",
       "    .dataframe tbody tr th:only-of-type {\n",
       "        vertical-align: middle;\n",
       "    }\n",
       "\n",
       "    .dataframe tbody tr th {\n",
       "        vertical-align: top;\n",
       "    }\n",
       "\n",
       "    .dataframe thead th {\n",
       "        text-align: right;\n",
       "    }\n",
       "</style>\n",
       "<table border=\"1\" class=\"dataframe\">\n",
       "  <thead>\n",
       "    <tr style=\"text-align: right;\">\n",
       "      <th></th>\n",
       "      <th>total_charges</th>\n",
       "      <th>online_security</th>\n",
       "      <th>monthly_charges</th>\n",
       "      <th>tech_support</th>\n",
       "      <th>contract_Month-to-month</th>\n",
       "      <th>dependents</th>\n",
       "      <th>contract_Two year</th>\n",
       "      <th>internet_service_No</th>\n",
       "      <th>streaming_movies</th>\n",
       "      <th>payment_method_Electronic check</th>\n",
       "      <th>...</th>\n",
       "      <th>device_protection</th>\n",
       "      <th>contract_One year</th>\n",
       "      <th>gender_M</th>\n",
       "      <th>senior_citizen</th>\n",
       "      <th>payment_method_Credit card (automatic)</th>\n",
       "      <th>payment_method_Bank transfer (automatic)</th>\n",
       "      <th>gender_F</th>\n",
       "      <th>internet_service_DSL</th>\n",
       "      <th>payment_method_Mailed check</th>\n",
       "      <th>phone_service</th>\n",
       "    </tr>\n",
       "  </thead>\n",
       "  <tbody>\n",
       "    <tr>\n",
       "      <th>0</th>\n",
       "      <td>0.079225</td>\n",
       "      <td>0.030714</td>\n",
       "      <td>0.029879</td>\n",
       "      <td>0.024867</td>\n",
       "      <td>0.023063</td>\n",
       "      <td>0.01776</td>\n",
       "      <td>0.015981</td>\n",
       "      <td>0.015218</td>\n",
       "      <td>0.014274</td>\n",
       "      <td>0.014031</td>\n",
       "      <td>...</td>\n",
       "      <td>0.009334</td>\n",
       "      <td>0.008281</td>\n",
       "      <td>0.007676</td>\n",
       "      <td>0.007167</td>\n",
       "      <td>0.007119</td>\n",
       "      <td>0.006283</td>\n",
       "      <td>0.005194</td>\n",
       "      <td>0.005121</td>\n",
       "      <td>0.003644</td>\n",
       "      <td>0.003462</td>\n",
       "    </tr>\n",
       "  </tbody>\n",
       "</table>\n",
       "<p>1 rows × 25 columns</p>\n",
       "</div>"
      ],
      "text/plain": [
       "   total_charges  online_security  monthly_charges  tech_support  \\\n",
       "0       0.079225         0.030714         0.029879      0.024867   \n",
       "\n",
       "   contract_Month-to-month  dependents  contract_Two year  \\\n",
       "0                 0.023063     0.01776           0.015981   \n",
       "\n",
       "   internet_service_No  streaming_movies  payment_method_Electronic check  \\\n",
       "0             0.015218          0.014274                         0.014031   \n",
       "\n",
       "   ...  device_protection  contract_One year  gender_M  senior_citizen  \\\n",
       "0  ...           0.009334           0.008281  0.007676        0.007167   \n",
       "\n",
       "   payment_method_Credit card (automatic)  \\\n",
       "0                                0.007119   \n",
       "\n",
       "   payment_method_Bank transfer (automatic)  gender_F  internet_service_DSL  \\\n",
       "0                                  0.006283  0.005194              0.005121   \n",
       "\n",
       "   payment_method_Mailed check  phone_service  \n",
       "0                     0.003644       0.003462  \n",
       "\n",
       "[1 rows x 25 columns]"
      ]
     },
     "execution_count": 11,
     "metadata": {},
     "output_type": "execute_result"
    }
   ],
   "source": [
    "rf"
   ]
  },
  {
   "cell_type": "code",
   "execution_count": 12,
   "id": "53ab26f3-2168-4b48-b46f-a1d55b34945d",
   "metadata": {
    "tags": []
   },
   "outputs": [
    {
     "data": {
      "text/html": [
       "<div>\n",
       "<style scoped>\n",
       "    .dataframe tbody tr th:only-of-type {\n",
       "        vertical-align: middle;\n",
       "    }\n",
       "\n",
       "    .dataframe tbody tr th {\n",
       "        vertical-align: top;\n",
       "    }\n",
       "\n",
       "    .dataframe thead th {\n",
       "        text-align: right;\n",
       "    }\n",
       "</style>\n",
       "<table border=\"1\" class=\"dataframe\">\n",
       "  <thead>\n",
       "    <tr style=\"text-align: right;\">\n",
       "      <th></th>\n",
       "      <th>total_charges</th>\n",
       "      <th>monthly_charges</th>\n",
       "      <th>partner</th>\n",
       "      <th>online_security</th>\n",
       "      <th>tech_support</th>\n",
       "      <th>online_backup</th>\n",
       "      <th>dependents</th>\n",
       "      <th>senior_citizen</th>\n",
       "      <th>multiple_lines</th>\n",
       "      <th>streaming_movies</th>\n",
       "      <th>...</th>\n",
       "      <th>payment_method_Credit card (automatic)</th>\n",
       "      <th>contract_Month-to-month</th>\n",
       "      <th>internet_service_Fiber optic</th>\n",
       "      <th>contract_One year</th>\n",
       "      <th>phone_service</th>\n",
       "      <th>gender_F</th>\n",
       "      <th>payment_method_Bank transfer (automatic)</th>\n",
       "      <th>internet_service_No</th>\n",
       "      <th>gender_M</th>\n",
       "      <th>internet_service_DSL</th>\n",
       "    </tr>\n",
       "  </thead>\n",
       "  <tbody>\n",
       "    <tr>\n",
       "      <th>0</th>\n",
       "      <td>0.140738</td>\n",
       "      <td>0.067736</td>\n",
       "      <td>0.030835</td>\n",
       "      <td>0.028172</td>\n",
       "      <td>0.025387</td>\n",
       "      <td>0.023523</td>\n",
       "      <td>0.019479</td>\n",
       "      <td>0.019128</td>\n",
       "      <td>0.016598</td>\n",
       "      <td>0.015182</td>\n",
       "      <td>...</td>\n",
       "      <td>0.00931</td>\n",
       "      <td>0.008027</td>\n",
       "      <td>0.006598</td>\n",
       "      <td>0.006114</td>\n",
       "      <td>0.003644</td>\n",
       "      <td>0.003269</td>\n",
       "      <td>0.003196</td>\n",
       "      <td>0.002676</td>\n",
       "      <td>0.001828</td>\n",
       "      <td>0.000424</td>\n",
       "    </tr>\n",
       "  </tbody>\n",
       "</table>\n",
       "<p>1 rows × 25 columns</p>\n",
       "</div>"
      ],
      "text/plain": [
       "   total_charges  monthly_charges   partner  online_security  tech_support  \\\n",
       "0       0.140738         0.067736  0.030835         0.028172      0.025387   \n",
       "\n",
       "   online_backup  dependents  senior_citizen  multiple_lines  \\\n",
       "0       0.023523    0.019479        0.019128        0.016598   \n",
       "\n",
       "   streaming_movies  ...  payment_method_Credit card (automatic)  \\\n",
       "0          0.015182  ...                                 0.00931   \n",
       "\n",
       "   contract_Month-to-month  internet_service_Fiber optic  contract_One year  \\\n",
       "0                 0.008027                      0.006598           0.006114   \n",
       "\n",
       "   phone_service  gender_F  payment_method_Bank transfer (automatic)  \\\n",
       "0       0.003644  0.003269                                  0.003196   \n",
       "\n",
       "   internet_service_No  gender_M  internet_service_DSL  \n",
       "0             0.002676  0.001828              0.000424  \n",
       "\n",
       "[1 rows x 25 columns]"
      ]
     },
     "execution_count": 12,
     "metadata": {},
     "output_type": "execute_result"
    }
   ],
   "source": [
    "gb"
   ]
  },
  {
   "cell_type": "markdown",
   "id": "bc42aa7c-a4b7-4fc9-8e0b-9a7cc20e052e",
   "metadata": {
    "tags": []
   },
   "source": [
    "### choose top 10 and extract column names"
   ]
  },
  {
   "cell_type": "code",
   "execution_count": 30,
   "id": "2060f7b1-47a2-476a-b5ab-fb09861c69f9",
   "metadata": {
    "tags": []
   },
   "outputs": [
    {
     "data": {
      "text/plain": [
       "['total_charges',\n",
       " 'multiple_lines',\n",
       " 'partner',\n",
       " 'online_backup',\n",
       " 'online_security',\n",
       " 'senior_citizen',\n",
       " 'streaming_tv',\n",
       " 'streaming_movies',\n",
       " 'dependents',\n",
       " 'tech_support',\n",
       " 'contract_Two year',\n",
       " 'contract_One year',\n",
       " 'payment_method_Credit card (automatic)',\n",
       " 'total_charges',\n",
       " 'gender_M',\n",
       " 'payment_method_Bank transfer (automatic)',\n",
       " 'payment_method_Mailed check',\n",
       " 'gender_F',\n",
       " 'internet_service_No',\n",
       " 'internet_service_DSL',\n",
       " 'total_charges',\n",
       " 'online_security',\n",
       " 'monthly_charges',\n",
       " 'tech_support',\n",
       " 'contract_Month-to-month',\n",
       " 'dependents',\n",
       " 'contract_Two year',\n",
       " 'internet_service_No',\n",
       " 'streaming_movies',\n",
       " 'payment_method_Electronic check',\n",
       " 'total_charges',\n",
       " 'monthly_charges',\n",
       " 'partner',\n",
       " 'online_security',\n",
       " 'tech_support',\n",
       " 'online_backup',\n",
       " 'dependents',\n",
       " 'senior_citizen',\n",
       " 'multiple_lines',\n",
       " 'streaming_movies']"
      ]
     },
     "execution_count": 30,
     "metadata": {},
     "output_type": "execute_result"
    }
   ],
   "source": [
    "column_names = []\n",
    "\n",
    "for name in knn.columns[:10]:\n",
    "    column_names.append(name)\n",
    "for name in lg.columns[:10]:\n",
    "    column_names.append(name)\n",
    "for name in rf.columns[:10]:\n",
    "    column_names.append(name)\n",
    "for name in gb.columns[:10]:\n",
    "    column_names.append(name)\n",
    "    \n",
    "column_names"
   ]
  },
  {
   "cell_type": "code",
   "execution_count": 31,
   "id": "0f76816b-92f3-484a-a17e-262e040b2666",
   "metadata": {
    "tags": []
   },
   "outputs": [
    {
     "name": "stdout",
     "output_type": "stream",
     "text": [
      "total_charges: 4\n",
      "multiple_lines: 2\n",
      "partner: 2\n",
      "online_backup: 2\n",
      "online_security: 3\n",
      "senior_citizen: 2\n",
      "streaming_tv: 1\n",
      "streaming_movies: 3\n",
      "dependents: 3\n",
      "tech_support: 3\n",
      "contract_Two year: 2\n",
      "contract_One year: 1\n",
      "payment_method_Credit card (automatic): 1\n",
      "gender_M: 1\n",
      "payment_method_Bank transfer (automatic): 1\n",
      "payment_method_Mailed check: 1\n",
      "gender_F: 1\n",
      "internet_service_No: 2\n",
      "internet_service_DSL: 1\n",
      "monthly_charges: 2\n",
      "contract_Month-to-month: 1\n",
      "payment_method_Electronic check: 1\n"
     ]
    }
   ],
   "source": [
    "from collections import Counter\n",
    "\n",
    "# Count the occurrences of each value\n",
    "value_counts = Counter(column_names)\n",
    "\n",
    "# Display the count of each value\n",
    "for value, count in value_counts.items():\n",
    "    print(f'{value}: {count}')"
   ]
  },
  {
   "cell_type": "code",
   "execution_count": 32,
   "id": "24ced4e9-4803-4442-9ca4-f3278f0dfe52",
   "metadata": {
    "tags": []
   },
   "outputs": [
    {
     "name": "stdout",
     "output_type": "stream",
     "text": [
      "total_charges: 4\n",
      "online_security: 3\n",
      "streaming_movies: 3\n",
      "dependents: 3\n",
      "tech_support: 3\n",
      "multiple_lines: 2\n",
      "partner: 2\n",
      "online_backup: 2\n",
      "senior_citizen: 2\n",
      "contract_Two year: 2\n",
      "internet_service_No: 2\n",
      "monthly_charges: 2\n",
      "streaming_tv: 1\n",
      "contract_One year: 1\n",
      "payment_method_Credit card (automatic): 1\n",
      "gender_M: 1\n",
      "payment_method_Bank transfer (automatic): 1\n",
      "payment_method_Mailed check: 1\n",
      "gender_F: 1\n",
      "internet_service_DSL: 1\n",
      "contract_Month-to-month: 1\n",
      "payment_method_Electronic check: 1\n"
     ]
    }
   ],
   "source": [
    "\n",
    "\n",
    "# Count the occurrences of each value\n",
    "value_counts = Counter(column_names)\n",
    "\n",
    "# Sort the value counts in descending order\n",
    "sorted_value_counts = sorted(value_counts.items(), key=lambda x: x[1], reverse=True)\n",
    "\n",
    "# Display the count of each value in descending order\n",
    "for value, count in sorted_value_counts:\n",
    "    print(f'{value}: {count}')"
   ]
  },
  {
   "cell_type": "code",
   "execution_count": null,
   "id": "7e2deb3f-c965-475a-81ad-8441643de26d",
   "metadata": {},
   "outputs": [],
   "source": [
    "'total_charges', 'online_security', 'streaming_movies', 'dependents', 'tech_support',\n",
    "'multiple_lines' , 'partner', 'online_backup', 'senior_citizen', 'contract_Two year', \n",
    "'internet_service_No', 'monthly_charges' were chosen."
   ]
  },
  {
   "cell_type": "code",
   "execution_count": null,
   "id": "14e6fc3c-5e16-4284-abad-3abb27844b71",
   "metadata": {},
   "outputs": [],
   "source": []
  }
 ],
 "metadata": {
  "kernelspec": {
   "display_name": "final_project_env",
   "language": "python",
   "name": "final_project_env"
  },
  "language_info": {
   "codemirror_mode": {
    "name": "ipython",
    "version": 3
   },
   "file_extension": ".py",
   "mimetype": "text/x-python",
   "name": "python",
   "nbconvert_exporter": "python",
   "pygments_lexer": "ipython3",
   "version": "3.11.3"
  }
 },
 "nbformat": 4,
 "nbformat_minor": 5
}
