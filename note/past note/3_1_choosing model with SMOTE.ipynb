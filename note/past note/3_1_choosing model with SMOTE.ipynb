{
 "cells": [
  {
   "cell_type": "markdown",
   "id": "02c4db6e-8a8a-4346-b906-9871b7f10c6c",
   "metadata": {
    "tags": []
   },
   "source": [
    "# 3_1choose_learning_machine_models with SMOTE\n"
   ]
  },
  {
   "cell_type": "code",
   "execution_count": 1,
   "id": "6197f503-0bfd-47f3-a626-3255066febd0",
   "metadata": {
    "tags": []
   },
   "outputs": [],
   "source": [
    "import pandas as pd\n",
    "import numpy as np\n",
    "import seaborn as sns\n",
    "import matplotlib.pyplot as plt"
   ]
  },
  {
   "cell_type": "code",
   "execution_count": 2,
   "id": "c8297b6c-1fc4-4401-9d94-af9dc975dc77",
   "metadata": {
    "tags": []
   },
   "outputs": [
    {
     "data": {
      "text/html": [
       "<div>\n",
       "<style scoped>\n",
       "    .dataframe tbody tr th:only-of-type {\n",
       "        vertical-align: middle;\n",
       "    }\n",
       "\n",
       "    .dataframe tbody tr th {\n",
       "        vertical-align: top;\n",
       "    }\n",
       "\n",
       "    .dataframe thead th {\n",
       "        text-align: right;\n",
       "    }\n",
       "</style>\n",
       "<table border=\"1\" class=\"dataframe\">\n",
       "  <thead>\n",
       "    <tr style=\"text-align: right;\">\n",
       "      <th></th>\n",
       "      <th>senior_citizen</th>\n",
       "      <th>partner</th>\n",
       "      <th>dependents</th>\n",
       "      <th>phone_service</th>\n",
       "      <th>multiple_lines</th>\n",
       "      <th>online_security</th>\n",
       "      <th>online_backup</th>\n",
       "      <th>device_protection</th>\n",
       "      <th>tech_support</th>\n",
       "      <th>streaming_tv</th>\n",
       "      <th>...</th>\n",
       "      <th>internet_service_Fiber optic</th>\n",
       "      <th>internet_service_No</th>\n",
       "      <th>contract_Month-to-month</th>\n",
       "      <th>contract_One year</th>\n",
       "      <th>contract_Two year</th>\n",
       "      <th>payment_method_Bank transfer (automatic)</th>\n",
       "      <th>payment_method_Credit card (automatic)</th>\n",
       "      <th>payment_method_Electronic check</th>\n",
       "      <th>payment_method_Mailed check</th>\n",
       "      <th>churn</th>\n",
       "    </tr>\n",
       "  </thead>\n",
       "  <tbody>\n",
       "    <tr>\n",
       "      <th>0</th>\n",
       "      <td>0.0</td>\n",
       "      <td>1.0</td>\n",
       "      <td>0.0</td>\n",
       "      <td>0.0</td>\n",
       "      <td>0.0</td>\n",
       "      <td>0.0</td>\n",
       "      <td>1.0</td>\n",
       "      <td>0.0</td>\n",
       "      <td>0.0</td>\n",
       "      <td>0.0</td>\n",
       "      <td>...</td>\n",
       "      <td>0</td>\n",
       "      <td>0</td>\n",
       "      <td>1</td>\n",
       "      <td>0</td>\n",
       "      <td>0</td>\n",
       "      <td>0</td>\n",
       "      <td>0</td>\n",
       "      <td>1</td>\n",
       "      <td>0</td>\n",
       "      <td>No</td>\n",
       "    </tr>\n",
       "    <tr>\n",
       "      <th>1</th>\n",
       "      <td>0.0</td>\n",
       "      <td>0.0</td>\n",
       "      <td>0.0</td>\n",
       "      <td>1.0</td>\n",
       "      <td>0.0</td>\n",
       "      <td>1.0</td>\n",
       "      <td>0.0</td>\n",
       "      <td>1.0</td>\n",
       "      <td>0.0</td>\n",
       "      <td>0.0</td>\n",
       "      <td>...</td>\n",
       "      <td>0</td>\n",
       "      <td>0</td>\n",
       "      <td>0</td>\n",
       "      <td>1</td>\n",
       "      <td>0</td>\n",
       "      <td>0</td>\n",
       "      <td>0</td>\n",
       "      <td>0</td>\n",
       "      <td>1</td>\n",
       "      <td>No</td>\n",
       "    </tr>\n",
       "    <tr>\n",
       "      <th>2</th>\n",
       "      <td>0.0</td>\n",
       "      <td>0.0</td>\n",
       "      <td>0.0</td>\n",
       "      <td>1.0</td>\n",
       "      <td>0.0</td>\n",
       "      <td>1.0</td>\n",
       "      <td>1.0</td>\n",
       "      <td>0.0</td>\n",
       "      <td>0.0</td>\n",
       "      <td>0.0</td>\n",
       "      <td>...</td>\n",
       "      <td>0</td>\n",
       "      <td>0</td>\n",
       "      <td>1</td>\n",
       "      <td>0</td>\n",
       "      <td>0</td>\n",
       "      <td>0</td>\n",
       "      <td>0</td>\n",
       "      <td>0</td>\n",
       "      <td>1</td>\n",
       "      <td>Yes</td>\n",
       "    </tr>\n",
       "    <tr>\n",
       "      <th>3</th>\n",
       "      <td>0.0</td>\n",
       "      <td>0.0</td>\n",
       "      <td>0.0</td>\n",
       "      <td>0.0</td>\n",
       "      <td>0.0</td>\n",
       "      <td>1.0</td>\n",
       "      <td>0.0</td>\n",
       "      <td>1.0</td>\n",
       "      <td>1.0</td>\n",
       "      <td>0.0</td>\n",
       "      <td>...</td>\n",
       "      <td>0</td>\n",
       "      <td>0</td>\n",
       "      <td>0</td>\n",
       "      <td>1</td>\n",
       "      <td>0</td>\n",
       "      <td>1</td>\n",
       "      <td>0</td>\n",
       "      <td>0</td>\n",
       "      <td>0</td>\n",
       "      <td>No</td>\n",
       "    </tr>\n",
       "    <tr>\n",
       "      <th>4</th>\n",
       "      <td>0.0</td>\n",
       "      <td>0.0</td>\n",
       "      <td>0.0</td>\n",
       "      <td>1.0</td>\n",
       "      <td>0.0</td>\n",
       "      <td>0.0</td>\n",
       "      <td>0.0</td>\n",
       "      <td>0.0</td>\n",
       "      <td>0.0</td>\n",
       "      <td>0.0</td>\n",
       "      <td>...</td>\n",
       "      <td>1</td>\n",
       "      <td>0</td>\n",
       "      <td>1</td>\n",
       "      <td>0</td>\n",
       "      <td>0</td>\n",
       "      <td>0</td>\n",
       "      <td>0</td>\n",
       "      <td>1</td>\n",
       "      <td>0</td>\n",
       "      <td>Yes</td>\n",
       "    </tr>\n",
       "  </tbody>\n",
       "</table>\n",
       "<p>5 rows × 26 columns</p>\n",
       "</div>"
      ],
      "text/plain": [
       "   senior_citizen  partner  dependents  phone_service  multiple_lines  \\\n",
       "0             0.0      1.0         0.0            0.0             0.0   \n",
       "1             0.0      0.0         0.0            1.0             0.0   \n",
       "2             0.0      0.0         0.0            1.0             0.0   \n",
       "3             0.0      0.0         0.0            0.0             0.0   \n",
       "4             0.0      0.0         0.0            1.0             0.0   \n",
       "\n",
       "   online_security  online_backup  device_protection  tech_support  \\\n",
       "0              0.0            1.0                0.0           0.0   \n",
       "1              1.0            0.0                1.0           0.0   \n",
       "2              1.0            1.0                0.0           0.0   \n",
       "3              1.0            0.0                1.0           1.0   \n",
       "4              0.0            0.0                0.0           0.0   \n",
       "\n",
       "   streaming_tv  ...  internet_service_Fiber optic  internet_service_No  \\\n",
       "0           0.0  ...                             0                    0   \n",
       "1           0.0  ...                             0                    0   \n",
       "2           0.0  ...                             0                    0   \n",
       "3           0.0  ...                             0                    0   \n",
       "4           0.0  ...                             1                    0   \n",
       "\n",
       "   contract_Month-to-month  contract_One year  contract_Two year  \\\n",
       "0                        1                  0                  0   \n",
       "1                        0                  1                  0   \n",
       "2                        1                  0                  0   \n",
       "3                        0                  1                  0   \n",
       "4                        1                  0                  0   \n",
       "\n",
       "   payment_method_Bank transfer (automatic)  \\\n",
       "0                                         0   \n",
       "1                                         0   \n",
       "2                                         0   \n",
       "3                                         1   \n",
       "4                                         0   \n",
       "\n",
       "   payment_method_Credit card (automatic)  payment_method_Electronic check  \\\n",
       "0                                       0                                1   \n",
       "1                                       0                                0   \n",
       "2                                       0                                0   \n",
       "3                                       0                                0   \n",
       "4                                       0                                1   \n",
       "\n",
       "   payment_method_Mailed check  churn  \n",
       "0                            0     No  \n",
       "1                            1     No  \n",
       "2                            1    Yes  \n",
       "3                            0     No  \n",
       "4                            0    Yes  \n",
       "\n",
       "[5 rows x 26 columns]"
      ]
     },
     "execution_count": 2,
     "metadata": {},
     "output_type": "execute_result"
    }
   ],
   "source": [
    "#load the file \n",
    "data = pd.read_csv('../data/cleaned_data/cleaned_data.csv')\n",
    "data.head()\n"
   ]
  },
  {
   "cell_type": "code",
   "execution_count": 3,
   "id": "04b55c75-f392-4a99-a3e8-4d93131a9a17",
   "metadata": {
    "tags": []
   },
   "outputs": [
    {
     "data": {
      "text/plain": [
       "(7032, 26)"
      ]
     },
     "execution_count": 3,
     "metadata": {},
     "output_type": "execute_result"
    }
   ],
   "source": [
    "data.shape"
   ]
  },
  {
   "cell_type": "markdown",
   "id": "c85814fa-6291-4252-978c-0592b32893c6",
   "metadata": {
    "tags": []
   },
   "source": [
    "### x/y split"
   ]
  },
  {
   "cell_type": "code",
   "execution_count": 4,
   "id": "0019e14c-39d1-43b0-a5b0-0d78250c1863",
   "metadata": {
    "tags": []
   },
   "outputs": [],
   "source": [
    "#separate the features from the labels\n",
    "y = data['churn']\n",
    "X = data.drop(['churn'], axis=1)"
   ]
  },
  {
   "cell_type": "code",
   "execution_count": 5,
   "id": "465c0ad5-3aee-48ec-a8b2-740151d68741",
   "metadata": {
    "tags": []
   },
   "outputs": [
    {
     "data": {
      "text/plain": [
       "dtype('O')"
      ]
     },
     "execution_count": 5,
     "metadata": {},
     "output_type": "execute_result"
    }
   ],
   "source": [
    "# change the type of 'y'\n",
    "y.dtypes"
   ]
  },
  {
   "cell_type": "code",
   "execution_count": 6,
   "id": "dfb5902a-1a8d-4355-bbf6-9fb1e22c1a03",
   "metadata": {
    "tags": []
   },
   "outputs": [],
   "source": [
    "from sklearn.model_selection import train_test_split\n",
    "\n",
    "X_train, X_test, y_train, y_test = train_test_split(X, y, test_size=0.2, random_state=42)"
   ]
  },
  {
   "cell_type": "code",
   "execution_count": 7,
   "id": "3e817921-d04b-4e1d-a707-93f17059ae73",
   "metadata": {
    "tags": []
   },
   "outputs": [
    {
     "data": {
      "text/plain": [
       "churn\n",
       "No     4130\n",
       "Yes    1495\n",
       "Name: count, dtype: int64"
      ]
     },
     "metadata": {},
     "output_type": "display_data"
    },
    {
     "data": {
      "text/plain": [
       "churn\n",
       "No     1033\n",
       "Yes     374\n",
       "Name: count, dtype: int64"
      ]
     },
     "metadata": {},
     "output_type": "display_data"
    }
   ],
   "source": [
    "display(y_train.value_counts())\n",
    "display(y_test.value_counts())"
   ]
  },
  {
   "cell_type": "markdown",
   "id": "a9107495-47a8-4e29-8924-ee48632c1860",
   "metadata": {
    "tags": []
   },
   "source": [
    "#### It is imbalanced,so it needs up/down sampling or SMOTE"
   ]
  },
  {
   "cell_type": "code",
   "execution_count": 8,
   "id": "e190a09d-f5da-45c3-b833-93098f75fb35",
   "metadata": {
    "tags": []
   },
   "outputs": [],
   "source": [
    "from imblearn.over_sampling import SMOTE\n",
    "\n",
    "smote = SMOTE()\n",
    "# Fit and apply SMOTE to generate synthetic samples for the minority class\n",
    "X_resampled, y_resampled = smote.fit_resample(X_train, y_train)"
   ]
  },
  {
   "cell_type": "code",
   "execution_count": 9,
   "id": "bb895fce-7b57-4d3b-b08e-675f0e7238f3",
   "metadata": {
    "tags": []
   },
   "outputs": [
    {
     "data": {
      "text/plain": [
       "(8260, 25)"
      ]
     },
     "execution_count": 9,
     "metadata": {},
     "output_type": "execute_result"
    }
   ],
   "source": [
    "X_resampled.shape"
   ]
  },
  {
   "cell_type": "code",
   "execution_count": 10,
   "id": "c397fcf0-bd61-4f67-9727-a2fae71c1058",
   "metadata": {
    "tags": []
   },
   "outputs": [
    {
     "name": "stdout",
     "output_type": "stream",
     "text": [
      "churn\n",
      "Yes    4130\n",
      "No     4130\n",
      "Name: count, dtype: int64\n"
     ]
    }
   ],
   "source": [
    "class_counts = y_resampled.value_counts()\n",
    "print(class_counts)"
   ]
  },
  {
   "cell_type": "code",
   "execution_count": 11,
   "id": "3e4b50f7-f3a6-4630-9636-91a6067b3479",
   "metadata": {
    "tags": []
   },
   "outputs": [],
   "source": [
    "# save \n",
    "#X_resampled.to_csv('../data/x_y_data/SMOTE/X_resampled.csv', index=False)\n",
    "#y_resampled.to_csv('../data/x_y_data/SMOTE/y_resampled.csv', index=False)\n",
    "#X_test.to_csv('../data/x_y_data/SMOTE/X_test.csv', index=False)\n",
    "#y_test.to_csv('../data/x_y_data/SMOTE/y_test.csv', index=False)"
   ]
  },
  {
   "cell_type": "markdown",
   "id": "a9d503b6-5a44-4062-b18c-6e1ba75f31f0",
   "metadata": {
    "tags": []
   },
   "source": [
    "### Choosing models"
   ]
  },
  {
   "cell_type": "code",
   "execution_count": 12,
   "id": "db2d97ec-67f9-4660-9143-d1b29c9d36c7",
   "metadata": {
    "tags": []
   },
   "outputs": [
    {
     "data": {
      "text/plain": [
       "(8260, 25)"
      ]
     },
     "execution_count": 12,
     "metadata": {},
     "output_type": "execute_result"
    }
   ],
   "source": [
    "X_resampled.shape"
   ]
  },
  {
   "cell_type": "code",
   "execution_count": 13,
   "id": "06ac770b-5ce2-4160-91cf-ec326c70b6cc",
   "metadata": {
    "tags": []
   },
   "outputs": [],
   "source": [
    "from sklearn.linear_model import LogisticRegression\n",
    "from sklearn.neighbors import KNeighborsClassifier\n",
    "from sklearn.ensemble import RandomForestClassifier\n",
    "from sklearn.ensemble import GradientBoostingClassifier\n",
    "\n",
    "\n",
    "models = []\n",
    "models.append(('LR', LogisticRegression(random_state = 12345)))\n",
    "models.append(('KNN', KNeighborsClassifier()))\n",
    "models.append(('RF', RandomForestClassifier(random_state = 12345)))\n",
    "models.append(('GB', GradientBoostingClassifier(random_state = 12345)))"
   ]
  },
  {
   "cell_type": "markdown",
   "id": "2a0aa7e6-481e-47ca-bee9-ae51c5f9cef9",
   "metadata": {
    "tags": []
   },
   "source": [
    "#### Kappa"
   ]
  },
  {
   "cell_type": "code",
   "execution_count": 14,
   "id": "58802018-8cbb-4b96-ad85-bb83357c35e3",
   "metadata": {
    "tags": []
   },
   "outputs": [
    {
     "name": "stdout",
     "output_type": "stream",
     "text": [
      "LR: 0.3417679415413188 (0.2289466893885931)\n",
      "KNN: 0.32958468995302737 (0.22018849327856665)\n",
      "RF: 0.3846380068548302 (0.25829538596168583)\n",
      "GB: 0.3613351823459473 (0.2454865457606578)\n"
     ]
    }
   ],
   "source": [
    "# evaluate each model in turn\n",
    "from sklearn.model_selection import KFold\n",
    "from sklearn.model_selection import cross_val_score\n",
    "from sklearn.metrics import cohen_kappa_score, make_scorer\n",
    "\n",
    "import warnings\n",
    "warnings.filterwarnings('ignore')\n",
    "\n",
    "X_resampled2 = np.ascontiguousarray(X_resampled)\n",
    "y_resampled2 = np.ascontiguousarray(y_resampled)\n",
    "\n",
    "\n",
    "kappa_scorer = make_scorer(cohen_kappa_score)\n",
    "\n",
    "names = []\n",
    "results = []\n",
    "\n",
    "for name, model in models:\n",
    "    kfold = KFold(n_splits=10, shuffle=False)\n",
    "    cv_results = cross_val_score(model, X_resampled2, y_resampled2, cv=kfold, scoring=kappa_scorer)\n",
    "    results.append(cv_results)\n",
    "    names.append(name)\n",
    "    msg = f\"{name}: {cv_results.mean()} ({cv_results.std()})\"\n",
    "    print(msg)\n"
   ]
  },
  {
   "cell_type": "code",
   "execution_count": 15,
   "id": "8fb10385-121b-40ac-94d0-82af0749a12a",
   "metadata": {
    "tags": []
   },
   "outputs": [
    {
     "data": {
      "image/png": "[encoded data removed]",
      "text/plain": [
       "<Figure size 1500x1000 with 1 Axes>"
      ]
     },
     "metadata": {},
     "output_type": "display_data"
    }
   ],
   "source": [
    "# boxplot algorithm comparison\n",
    "fig = plt.figure(figsize=(15,10))\n",
    "fig.suptitle('Algorithm Comparison')\n",
    "ax = fig.add_subplot(111)\n",
    "plt.boxplot(results)\n",
    "ax.set_xticklabels(names)\n",
    "plt.show()"
   ]
  },
  {
   "cell_type": "code",
   "execution_count": 16,
   "id": "4e536daf-3b3c-41ef-94e2-5aa14e239407",
   "metadata": {
    "tags": []
   },
   "outputs": [
    {
     "data": {
      "text/html": [
       "<div>\n",
       "<style scoped>\n",
       "    .dataframe tbody tr th:only-of-type {\n",
       "        vertical-align: middle;\n",
       "    }\n",
       "\n",
       "    .dataframe tbody tr th {\n",
       "        vertical-align: top;\n",
       "    }\n",
       "\n",
       "    .dataframe thead th {\n",
       "        text-align: right;\n",
       "    }\n",
       "</style>\n",
       "<table border=\"1\" class=\"dataframe\">\n",
       "  <thead>\n",
       "    <tr style=\"text-align: right;\">\n",
       "      <th></th>\n",
       "      <th>LR</th>\n",
       "      <th>KNN</th>\n",
       "      <th>RF</th>\n",
       "      <th>GB</th>\n",
       "    </tr>\n",
       "  </thead>\n",
       "  <tbody>\n",
       "    <tr>\n",
       "      <th>0</th>\n",
       "      <td>0.491883</td>\n",
       "      <td>0.452824</td>\n",
       "      <td>0.539716</td>\n",
       "      <td>0.516537</td>\n",
       "    </tr>\n",
       "    <tr>\n",
       "      <th>1</th>\n",
       "      <td>0.482543</td>\n",
       "      <td>0.464980</td>\n",
       "      <td>0.548462</td>\n",
       "      <td>0.503162</td>\n",
       "    </tr>\n",
       "    <tr>\n",
       "      <th>2</th>\n",
       "      <td>0.432607</td>\n",
       "      <td>0.435510</td>\n",
       "      <td>0.498584</td>\n",
       "      <td>0.453543</td>\n",
       "    </tr>\n",
       "    <tr>\n",
       "      <th>3</th>\n",
       "      <td>0.424749</td>\n",
       "      <td>0.425335</td>\n",
       "      <td>0.461010</td>\n",
       "      <td>0.415985</td>\n",
       "    </tr>\n",
       "    <tr>\n",
       "      <th>4</th>\n",
       "      <td>0.451091</td>\n",
       "      <td>0.454374</td>\n",
       "      <td>0.522414</td>\n",
       "      <td>0.488429</td>\n",
       "    </tr>\n",
       "    <tr>\n",
       "      <th>5</th>\n",
       "      <td>0.532146</td>\n",
       "      <td>0.468156</td>\n",
       "      <td>0.582613</td>\n",
       "      <td>0.556590</td>\n",
       "    </tr>\n",
       "    <tr>\n",
       "      <th>6</th>\n",
       "      <td>0.602660</td>\n",
       "      <td>0.594668</td>\n",
       "      <td>0.693581</td>\n",
       "      <td>0.679106</td>\n",
       "    </tr>\n",
       "    <tr>\n",
       "      <th>7</th>\n",
       "      <td>0.000000</td>\n",
       "      <td>0.000000</td>\n",
       "      <td>0.000000</td>\n",
       "      <td>0.000000</td>\n",
       "    </tr>\n",
       "    <tr>\n",
       "      <th>8</th>\n",
       "      <td>0.000000</td>\n",
       "      <td>0.000000</td>\n",
       "      <td>0.000000</td>\n",
       "      <td>0.000000</td>\n",
       "    </tr>\n",
       "    <tr>\n",
       "      <th>9</th>\n",
       "      <td>0.000000</td>\n",
       "      <td>0.000000</td>\n",
       "      <td>0.000000</td>\n",
       "      <td>0.000000</td>\n",
       "    </tr>\n",
       "  </tbody>\n",
       "</table>\n",
       "</div>"
      ],
      "text/plain": [
       "         LR       KNN        RF        GB\n",
       "0  0.491883  0.452824  0.539716  0.516537\n",
       "1  0.482543  0.464980  0.548462  0.503162\n",
       "2  0.432607  0.435510  0.498584  0.453543\n",
       "3  0.424749  0.425335  0.461010  0.415985\n",
       "4  0.451091  0.454374  0.522414  0.488429\n",
       "5  0.532146  0.468156  0.582613  0.556590\n",
       "6  0.602660  0.594668  0.693581  0.679106\n",
       "7  0.000000  0.000000  0.000000  0.000000\n",
       "8  0.000000  0.000000  0.000000  0.000000\n",
       "9  0.000000  0.000000  0.000000  0.000000"
      ]
     },
     "metadata": {},
     "output_type": "display_data"
    }
   ],
   "source": [
    "results_dict = {name: result for name, result in zip(names, results)}\n",
    "\n",
    "# Create the DataFrame using the dictionary\n",
    "score = pd.DataFrame(results_dict)\n",
    "\n",
    "# Print the DataFrame\n",
    "display(score)"
   ]
  },
  {
   "cell_type": "code",
   "execution_count": null,
   "id": "05638bca-dcf6-475d-890d-beeee494661d",
   "metadata": {},
   "outputs": [],
   "source": []
  }
 ],
 "metadata": {
  "kernelspec": {
   "display_name": "final_project_env",
   "language": "python",
   "name": "final_project_env"
  },
  "language_info": {
   "codemirror_mode": {
    "name": "ipython",
    "version": 3
   },
   "file_extension": ".py",
   "mimetype": "text/x-python",
   "name": "python",
   "nbconvert_exporter": "python",
   "pygments_lexer": "ipython3",
   "version": "3.11.3"
  }
 },
 "nbformat": 4,
 "nbformat_minor": 5
}
