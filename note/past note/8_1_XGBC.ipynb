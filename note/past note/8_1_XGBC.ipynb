{
 "cells": [
  {
   "cell_type": "markdown",
   "id": "31f87692-3a0b-4d8f-8cd9-9e6ae9aec4f9",
   "metadata": {
    "tags": []
   },
   "source": [
    "# 8_1. Tuning parameters of XGBC(SMOTE)"
   ]
  },
  {
   "cell_type": "code",
   "execution_count": 1,
   "id": "2d27ffd7-61e4-4ad7-b563-f12f8ebc4898",
   "metadata": {
    "tags": []
   },
   "outputs": [],
   "source": [
    "import pandas as pd\n",
    "import numpy as np\n",
    "import seaborn as sns\n",
    "import matplotlib.pyplot as plt\n",
    "from xgboost import XGBClassifier\n",
    "from sklearn.metrics import cohen_kappa_score, make_scorer\n",
    "from sklearn.model_selection import GridSearchCV\n",
    "import warnings\n",
    "warnings.filterwarnings('ignore')\n",
    "from sklearn.model_selection import KFold\n",
    "from sklearn.model_selection import cross_val_score\n",
    "import pickle\n",
    "from sklearn.metrics import accuracy_score, classification_report"
   ]
  },
  {
   "cell_type": "code",
   "execution_count": 2,
   "id": "6f5c005f-b928-4d68-88b9-1f7714fb4202",
   "metadata": {
    "tags": []
   },
   "outputs": [],
   "source": [
    "#load the files\n",
    "\n",
    "X_train = pd.read_csv('../data/x_y_data/SMOTE/X_resampled.csv')\n",
    "y_train = pd.read_csv('../data/x_y_data/SMOTE/y_resampled.csv')\n",
    "X_test = pd.read_csv('../data/x_y_data/SMOTE/X_test.csv')\n",
    "y_test = pd.read_csv('../data/x_y_data/SMOTE/y_test.csv')\n",
    "data = pd.read_csv('../data/cleaned_data/cleaned_data.csv')\n",
    "\n",
    "y_train.loc[y_train['churn'] == 'Yes', 'churn'] = 1\n",
    "y_train.loc[y_train['churn'] == 'No', 'churn'] = 0\n",
    "\n",
    "y_train['churn'] =y_train['churn'].astype('int64')\n",
    "\n",
    "\n",
    "y_test.loc[y_test['churn'] == 'Yes', 'churn'] = 1\n",
    "y_test.loc[y_test['churn'] == 'No', 'churn'] = 0\n",
    "\n",
    "y_test['churn'] =y_test['churn'].astype('int64')\n"
   ]
  },
  {
   "cell_type": "code",
   "execution_count": 19,
   "id": "da42fc10-c901-4a50-b451-0f34e4410231",
   "metadata": {
    "tags": []
   },
   "outputs": [
    {
     "name": "stdout",
     "output_type": "stream",
     "text": [
      "Fitting 5 folds for each of 12 candidates, totalling 60 fits\n",
      "[CV 3/5; 1/12] START learning_rate=0.1, max_depth=3, n_estimators=100...........\n",
      "[CV 3/5; 1/12] END learning_rate=0.1, max_depth=3, n_estimators=100;, score=(train=0.679, test=0.718) total time=  15.3s\n",
      "[CV 5/5; 2/12] START learning_rate=0.1, max_depth=3, n_estimators=500...........\n",
      "[CV 5/5; 2/12] END learning_rate=0.1, max_depth=3, n_estimators=500;, score=(train=0.751, test=0.805) total time=  52.8s\n",
      "[CV 3/5; 4/12] START learning_rate=0.1, max_depth=5, n_estimators=100...........\n",
      "[CV 3/5; 4/12] END learning_rate=0.1, max_depth=5, n_estimators=100;, score=(train=0.750, test=0.757) total time=  16.0s\n",
      "[CV 1/5; 5/12] START learning_rate=0.1, max_depth=5, n_estimators=500...........\n",
      "[CV 1/5; 5/12] END learning_rate=0.1, max_depth=5, n_estimators=500;, score=(train=0.938, test=0.419) total time= 1.5min\n",
      "[CV 4/5; 6/12] START learning_rate=0.1, max_depth=5, n_estimators=1000..........\n",
      "[CV 4/5; 6/12] END learning_rate=0.1, max_depth=5, n_estimators=1000;, score=(train=0.961, test=0.794) total time= 2.6min\n",
      "[CV 2/5; 10/12] START learning_rate=0.01, max_depth=5, n_estimators=100.........\n",
      "[CV 2/5; 10/12] END learning_rate=0.01, max_depth=5, n_estimators=100;, score=(train=0.641, test=0.590) total time=  13.4s\n",
      "[CV 5/5; 10/12] START learning_rate=0.01, max_depth=5, n_estimators=100.........\n",
      "[CV 5/5; 10/12] END learning_rate=0.01, max_depth=5, n_estimators=100;, score=(train=0.629, test=0.667) total time=  13.6s\n",
      "[CV 3/5; 11/12] START learning_rate=0.01, max_depth=5, n_estimators=500.........\n",
      "[CV 3/5; 11/12] END learning_rate=0.01, max_depth=5, n_estimators=500;, score=(train=0.701, test=0.730) total time= 1.3min\n",
      "[CV 1/5; 1/12] START learning_rate=0.1, max_depth=3, n_estimators=100...........\n",
      "[CV 1/5; 1/12] END learning_rate=0.1, max_depth=3, n_estimators=100;, score=(train=0.755, test=0.490) total time=  15.7s\n",
      "[CV 4/5; 2/12] START learning_rate=0.1, max_depth=3, n_estimators=500...........\n",
      "[CV 4/5; 2/12] END learning_rate=0.1, max_depth=3, n_estimators=500;, score=(train=0.748, test=0.793) total time=  53.0s\n",
      "[CV 2/5; 4/12] START learning_rate=0.1, max_depth=5, n_estimators=100...........\n",
      "[CV 2/5; 4/12] END learning_rate=0.1, max_depth=5, n_estimators=100;, score=(train=0.791, test=0.603) total time=  16.1s\n",
      "[CV 5/5; 4/12] START learning_rate=0.1, max_depth=5, n_estimators=100...........\n",
      "[CV 5/5; 4/12] END learning_rate=0.1, max_depth=5, n_estimators=100;, score=(train=0.732, test=0.786) total time=  13.1s\n",
      "[CV 3/5; 5/12] START learning_rate=0.1, max_depth=5, n_estimators=500...........\n",
      "[CV 3/5; 5/12] END learning_rate=0.1, max_depth=5, n_estimators=500;, score=(train=0.888, test=0.786) total time= 1.5min\n",
      "[CV 1/5; 7/12] START learning_rate=0.01, max_depth=3, n_estimators=100..........\n",
      "[CV 1/5; 7/12] END learning_rate=0.01, max_depth=3, n_estimators=100;, score=(train=0.558, test=0.498) total time=  11.7s\n",
      "[CV 2/5; 7/12] START learning_rate=0.01, max_depth=3, n_estimators=100..........\n",
      "[CV 2/5; 7/12] END learning_rate=0.01, max_depth=3, n_estimators=100;, score=(train=0.562, test=0.570) total time=  12.1s\n",
      "[CV 5/5; 7/12] START learning_rate=0.01, max_depth=3, n_estimators=100..........\n",
      "[CV 5/5; 7/12] END learning_rate=0.01, max_depth=3, n_estimators=100;, score=(train=0.560, test=0.577) total time=  10.7s\n",
      "[CV 3/5; 8/12] START learning_rate=0.01, max_depth=3, n_estimators=500..........\n",
      "[CV 3/5; 8/12] END learning_rate=0.01, max_depth=3, n_estimators=500;, score=(train=0.643, test=0.656) total time=  45.4s\n",
      "[CV 1/5; 9/12] START learning_rate=0.01, max_depth=3, n_estimators=1000.........\n",
      "[CV 1/5; 9/12] END learning_rate=0.01, max_depth=3, n_estimators=1000;, score=(train=0.750, test=0.495) total time= 1.5min\n",
      "[CV 4/5; 11/12] START learning_rate=0.01, max_depth=5, n_estimators=500.........\n",
      "[CV 4/5; 11/12] END learning_rate=0.01, max_depth=5, n_estimators=500;, score=(train=0.696, test=0.745) total time= 1.3min\n",
      "[CV 5/5; 1/12] START learning_rate=0.1, max_depth=3, n_estimators=100...........\n",
      "[CV 5/5; 1/12] END learning_rate=0.1, max_depth=3, n_estimators=100;, score=(train=0.680, test=0.736) total time=  15.1s\n",
      "[CV 1/5; 3/12] START learning_rate=0.1, max_depth=3, n_estimators=1000..........\n",
      "[CV 1/5; 3/12] END learning_rate=0.1, max_depth=3, n_estimators=1000;, score=(train=0.881, test=0.423) total time= 1.7min\n",
      "[CV 1/5; 6/12] START learning_rate=0.1, max_depth=5, n_estimators=1000..........\n",
      "[CV 1/5; 6/12] END learning_rate=0.1, max_depth=5, n_estimators=1000;, score=(train=0.979, test=0.402) total time= 2.9min\n",
      "[CV 2/5; 9/12] START learning_rate=0.01, max_depth=3, n_estimators=1000.........\n",
      "[CV 2/5; 9/12] END learning_rate=0.01, max_depth=3, n_estimators=1000;, score=(train=0.720, test=0.609) total time= 1.5min\n",
      "[CV 5/5; 11/12] START learning_rate=0.01, max_depth=5, n_estimators=500.........\n",
      "[CV 5/5; 11/12] END learning_rate=0.01, max_depth=5, n_estimators=500;, score=(train=0.697, test=0.737) total time= 1.2min\n"
     ]
    },
    {
     "data": {
      "text/plain": [
       "{'learning_rate': 0.1, 'max_depth': 5, 'n_estimators': 500}"
      ]
     },
     "execution_count": 19,
     "metadata": {},
     "output_type": "execute_result"
    },
    {
     "name": "stdout",
     "output_type": "stream",
     "text": [
      "[CV 4/5; 1/12] START learning_rate=0.1, max_depth=3, n_estimators=100...........\n",
      "[CV 4/5; 1/12] END learning_rate=0.1, max_depth=3, n_estimators=100;, score=(train=0.678, test=0.748) total time=  15.3s\n",
      "[CV 2/5; 3/12] START learning_rate=0.1, max_depth=3, n_estimators=1000..........\n",
      "[CV 2/5; 3/12] END learning_rate=0.1, max_depth=3, n_estimators=1000;, score=(train=0.856, test=0.556) total time= 1.7min\n",
      "[CV 5/5; 5/12] START learning_rate=0.1, max_depth=5, n_estimators=500...........\n",
      "[CV 5/5; 5/12] END learning_rate=0.1, max_depth=5, n_estimators=500;, score=(train=0.885, test=0.823) total time= 1.6min\n",
      "[CV 4/5; 7/12] START learning_rate=0.01, max_depth=3, n_estimators=100..........\n",
      "[CV 4/5; 7/12] END learning_rate=0.01, max_depth=3, n_estimators=100;, score=(train=0.553, test=0.540) total time=  11.6s\n",
      "[CV 2/5; 8/12] START learning_rate=0.01, max_depth=3, n_estimators=500..........\n",
      "[CV 2/5; 8/12] END learning_rate=0.01, max_depth=3, n_estimators=500;, score=(train=0.673, test=0.607) total time=  46.2s\n",
      "[CV 5/5; 8/12] START learning_rate=0.01, max_depth=3, n_estimators=500..........\n",
      "[CV 5/5; 8/12] END learning_rate=0.01, max_depth=3, n_estimators=500;, score=(train=0.637, test=0.682) total time=  48.2s\n",
      "[CV 4/5; 9/12] START learning_rate=0.01, max_depth=3, n_estimators=1000.........\n",
      "[CV 4/5; 9/12] END learning_rate=0.01, max_depth=3, n_estimators=1000;, score=(train=0.673, test=0.748) total time= 1.5min\n",
      "[CV 2/5; 12/12] START learning_rate=0.01, max_depth=5, n_estimators=1000........\n",
      "[CV 2/5; 12/12] END learning_rate=0.01, max_depth=5, n_estimators=1000;, score=(train=0.789, test=0.593) total time= 2.4min\n",
      "[CV 2/5; 1/12] START learning_rate=0.1, max_depth=3, n_estimators=100...........\n",
      "[CV 2/5; 1/12] END learning_rate=0.1, max_depth=3, n_estimators=100;, score=(train=0.722, test=0.600) total time=  15.1s\n",
      "[CV 3/5; 3/12] START learning_rate=0.1, max_depth=3, n_estimators=1000..........\n",
      "[CV 3/5; 3/12] END learning_rate=0.1, max_depth=3, n_estimators=1000;, score=(train=0.812, test=0.781) total time= 1.6min\n",
      "[CV 4/5; 5/12] START learning_rate=0.1, max_depth=5, n_estimators=500...........\n",
      "[CV 4/5; 5/12] END learning_rate=0.1, max_depth=5, n_estimators=500;, score=(train=0.888, test=0.795) total time= 1.6min\n",
      "[CV 3/5; 7/12] START learning_rate=0.01, max_depth=3, n_estimators=100..........\n",
      "[CV 3/5; 7/12] END learning_rate=0.01, max_depth=3, n_estimators=100;, score=(train=0.539, test=0.527) total time=  11.6s\n",
      "[CV 1/5; 8/12] START learning_rate=0.01, max_depth=3, n_estimators=500..........\n",
      "[CV 1/5; 8/12] END learning_rate=0.01, max_depth=3, n_estimators=500;, score=(train=0.703, test=0.519) total time=  45.8s\n",
      "[CV 4/5; 8/12] START learning_rate=0.01, max_depth=3, n_estimators=500..........\n",
      "[CV 4/5; 8/12] END learning_rate=0.01, max_depth=3, n_estimators=500;, score=(train=0.640, test=0.694) total time=  48.2s\n",
      "[CV 3/5; 9/12] START learning_rate=0.01, max_depth=3, n_estimators=1000.........\n",
      "[CV 3/5; 9/12] END learning_rate=0.01, max_depth=3, n_estimators=1000;, score=(train=0.677, test=0.722) total time= 1.5min\n",
      "[CV 1/5; 12/12] START learning_rate=0.01, max_depth=5, n_estimators=1000........\n",
      "[CV 1/5; 12/12] END learning_rate=0.01, max_depth=5, n_estimators=1000;, score=(train=0.817, test=0.464) total time= 2.4min\n",
      "[CV 1/5; 2/12] START learning_rate=0.1, max_depth=3, n_estimators=500...........\n",
      "[CV 1/5; 2/12] END learning_rate=0.1, max_depth=3, n_estimators=500;, score=(train=0.840, test=0.427) total time=  58.3s\n",
      "[CV 5/5; 3/12] START learning_rate=0.1, max_depth=3, n_estimators=1000..........\n",
      "[CV 5/5; 3/12] END learning_rate=0.1, max_depth=3, n_estimators=1000;, score=(train=0.803, test=0.808) total time= 1.7min\n",
      "[CV 3/5; 6/12] START learning_rate=0.1, max_depth=5, n_estimators=1000..........\n",
      "[CV 3/5; 6/12] END learning_rate=0.1, max_depth=5, n_estimators=1000;, score=(train=0.958, test=0.786) total time= 2.7min\n",
      "[CV 5/5; 9/12] START learning_rate=0.01, max_depth=3, n_estimators=1000.........\n",
      "[CV 5/5; 9/12] END learning_rate=0.01, max_depth=3, n_estimators=1000;, score=(train=0.675, test=0.732) total time= 1.4min\n",
      "[CV 3/5; 12/12] START learning_rate=0.01, max_depth=5, n_estimators=1000........\n",
      "[CV 3/5; 12/12] END learning_rate=0.01, max_depth=5, n_estimators=1000;, score=(train=0.742, test=0.755) total time= 2.4min\n",
      "[CV 2/5; 2/12] START learning_rate=0.1, max_depth=3, n_estimators=500...........\n",
      "[CV 2/5; 2/12] END learning_rate=0.1, max_depth=3, n_estimators=500;, score=(train=0.810, test=0.577) total time=  58.1s\n",
      "[CV 1/5; 4/12] START learning_rate=0.1, max_depth=5, n_estimators=100...........\n",
      "[CV 1/5; 4/12] END learning_rate=0.1, max_depth=5, n_estimators=100;, score=(train=0.813, test=0.459) total time=  17.5s\n",
      "[CV 4/5; 4/12] START learning_rate=0.1, max_depth=5, n_estimators=100...........\n",
      "[CV 4/5; 4/12] END learning_rate=0.1, max_depth=5, n_estimators=100;, score=(train=0.737, test=0.775) total time=  13.8s\n",
      "[CV 2/5; 5/12] START learning_rate=0.1, max_depth=5, n_estimators=500...........\n",
      "[CV 2/5; 5/12] END learning_rate=0.1, max_depth=5, n_estimators=500;, score=(train=0.928, test=0.576) total time= 1.5min\n",
      "[CV 5/5; 6/12] START learning_rate=0.1, max_depth=5, n_estimators=1000..........\n",
      "[CV 5/5; 6/12] END learning_rate=0.1, max_depth=5, n_estimators=1000;, score=(train=0.957, test=0.821) total time= 2.6min\n",
      "[CV 3/5; 10/12] START learning_rate=0.01, max_depth=5, n_estimators=100.........\n",
      "[CV 3/5; 10/12] END learning_rate=0.01, max_depth=5, n_estimators=100;, score=(train=0.637, test=0.631) total time=  12.9s\n",
      "[CV 1/5; 11/12] START learning_rate=0.01, max_depth=5, n_estimators=500.........\n",
      "[CV 1/5; 11/12] END learning_rate=0.01, max_depth=5, n_estimators=500;, score=(train=0.774, test=0.499) total time= 1.3min\n",
      "[CV 4/5; 12/12] START learning_rate=0.01, max_depth=5, n_estimators=1000........\n",
      "[CV 4/5; 12/12] END learning_rate=0.01, max_depth=5, n_estimators=1000;, score=(train=0.733, test=0.780) total time= 2.2min\n",
      "[CV 3/5; 2/12] START learning_rate=0.1, max_depth=3, n_estimators=500...........\n",
      "[CV 3/5; 2/12] END learning_rate=0.1, max_depth=3, n_estimators=500;, score=(train=0.752, test=0.771) total time=  57.4s\n",
      "[CV 4/5; 3/12] START learning_rate=0.1, max_depth=3, n_estimators=1000..........\n",
      "[CV 4/5; 3/12] END learning_rate=0.1, max_depth=3, n_estimators=1000;, score=(train=0.801, test=0.798) total time= 1.7min\n",
      "[CV 2/5; 6/12] START learning_rate=0.1, max_depth=5, n_estimators=1000..........\n",
      "[CV 2/5; 6/12] END learning_rate=0.1, max_depth=5, n_estimators=1000;, score=(train=0.976, test=0.552) total time= 2.7min\n",
      "[CV 1/5; 10/12] START learning_rate=0.01, max_depth=5, n_estimators=100.........\n",
      "[CV 1/5; 10/12] END learning_rate=0.01, max_depth=5, n_estimators=100;, score=(train=0.657, test=0.523) total time=  14.6s\n",
      "[CV 4/5; 10/12] START learning_rate=0.01, max_depth=5, n_estimators=100.........\n",
      "[CV 4/5; 10/12] END learning_rate=0.01, max_depth=5, n_estimators=100;, score=(train=0.622, test=0.625) total time=  12.9s\n",
      "[CV 2/5; 11/12] START learning_rate=0.01, max_depth=5, n_estimators=500.........\n",
      "[CV 2/5; 11/12] END learning_rate=0.01, max_depth=5, n_estimators=500;, score=(train=0.748, test=0.607) total time= 1.3min\n",
      "[CV 5/5; 12/12] START learning_rate=0.01, max_depth=5, n_estimators=1000........\n",
      "[CV 5/5; 12/12] END learning_rate=0.01, max_depth=5, n_estimators=1000;, score=(train=0.735, test=0.782) total time= 2.2min\n"
     ]
    }
   ],
   "source": [
    "#set the high-parameter\n",
    "\n",
    "param_grid = {\n",
    "    'learning_rate': [0.1,0.01],\n",
    "    'n_estimators': [100, 500,1000],\n",
    "    'max_depth':[3,5],\n",
    "    }\n",
    "kappa_scorer = make_scorer(cohen_kappa_score)\n",
    "xgb = XGBClassifier(random_state=12345)\n",
    "\n",
    "# make_scorer(error_metric_kappa)\n",
    "grid_search = GridSearchCV(xgb, param_grid, cv=5,return_train_score=True,n_jobs=-1, verbose = 20,  scoring=kappa_scorer)\n",
    "grid_search.fit(X_train,y_train)\n",
    "grid_search.best_params_ #To check the best set of parameters returned"
   ]
  },
  {
   "cell_type": "markdown",
   "id": "d9efc470-ad6d-45de-b409-7f2ced4b466e",
   "metadata": {},
   "source": [
    "The parameter: {'criterion': 'squared_error','loss': 'log_loss','max_depth': 15,'max_features': 'sqrt','min_samples_leaf': 1,'min_samples_split': 2, 'n_estimators': 150} was chosen."
   ]
  },
  {
   "cell_type": "markdown",
   "id": "ddd76d07-531c-4a63-bfe9-9d7c241279a3",
   "metadata": {},
   "source": [
    "####  Cross validation socre - Kappa-"
   ]
  },
  {
   "cell_type": "code",
   "execution_count": 15,
   "id": "c37b9469-85e0-486b-a088-1c6abc87ab55",
   "metadata": {
    "tags": []
   },
   "outputs": [],
   "source": [
    "xgb1= XGBClassifier(learning_rate= 0.01,max_depth = 5,n_estimators = 1000)\n",
    "xgb_tuned1 = xgb.fit(X_train, y_train)"
   ]
  },
  {
   "cell_type": "code",
   "execution_count": null,
   "id": "26353fca-831b-41b0-a75f-f05865d512be",
   "metadata": {
    "tags": []
   },
   "outputs": [],
   "source": [
    "xgb= XGBClassifier(random_state=12345)\n",
    "\n",
    "results = []\n",
    "kfold = KFold(n_splits=10, shuffle=False)\n",
    "cv_results = cross_val_score(xgb, X_train, y_train, cv=kfold, scoring=kappa_scorer)\n",
    "\n",
    "results.append(cv_results)\n",
    "    \n",
    "msg = f\" GB: {cv_results.mean()} ({cv_results.std()})\"\n",
    "print(msg)"
   ]
  },
  {
   "cell_type": "code",
   "execution_count": null,
   "id": "f726322d-10ed-4ad4-b4da-c1d4989a47f8",
   "metadata": {
    "tags": []
   },
   "outputs": [],
   "source": [
    "#save the model\n",
    "gb1.fit(X_train, y_train)\n",
    "\n",
    "filename = \"../models/TOMEK_gb.pickle\" # Path with filename\n",
    "\n",
    "with open(filename, \"wb\") as file:\n",
    "        pickle.dump(gb1,file)"
   ]
  },
  {
   "cell_type": "markdown",
   "id": "24c965fa-25d9-4360-a437-d5c5d63c71a7",
   "metadata": {
    "tags": []
   },
   "source": [
    "### Variable Importance "
   ]
  },
  {
   "cell_type": "code",
   "execution_count": null,
   "id": "5f40ca7a-840e-4e5c-b2ae-3dc54fb03a90",
   "metadata": {
    "tags": []
   },
   "outputs": [],
   "source": [
    "X_train2 = X_train.copy()\n",
    "y_train2 = y_train.copy()\n",
    "\n",
    "xgb= XGBClassifier(random_state=12345)\n",
    "xgb_tuned = xgb.fit(X_train2, y_train2)\n",
    "\n",
    "from sklearn.inspection import permutation_importance\n",
    "\n",
    "\n",
    "# Calculate permutation feature importances\n",
    "result = permutation_importance(xgb_tuned, X_train2, y_train2, n_repeats=10, random_state=42)\n",
    "\n",
    "# Sort and display the results\n",
    "feature_importances = pd.Series(result.importances_mean, index=X_train2.columns).sort_values(ascending=False)\n",
    "\n",
    "# Plot the feature importances\n",
    "import matplotlib.pyplot as plt\n",
    "\n",
    "sns.barplot(x=feature_importances, y=feature_importances.index)\n",
    "plt.xlabel('Significance Score Of Variables')\n",
    "plt.ylabel('Variables')\n",
    "plt.title(\"Variable Importance for Gradient Boosting  Model\")\n",
    "plt.show()\n"
   ]
  },
  {
   "cell_type": "code",
   "execution_count": null,
   "id": "c2ecc563-db5e-429c-b648-3b78689a6ce1",
   "metadata": {
    "tags": []
   },
   "outputs": [],
   "source": [
    "feature_importances_df = pd.DataFrame(feature_importances)\n",
    "feature_importances_df = feature_importances_df.rename(columns={0:'Significance Score'})\n",
    "feature_importances_df.head(2)"
   ]
  },
  {
   "cell_type": "code",
   "execution_count": null,
   "id": "2fb62eed-6aaf-40a8-9801-9b166dae7301",
   "metadata": {
    "tags": []
   },
   "outputs": [],
   "source": [
    "feature_importances_df.to_csv('../data/Significant_Score/TOMEK_GB_Significance_Score.csv', index=False)"
   ]
  },
  {
   "cell_type": "markdown",
   "id": "473f77a9-26ed-4d3b-be55-a36d3959faff",
   "metadata": {},
   "source": [
    "### the classification report"
   ]
  },
  {
   "cell_type": "code",
   "execution_count": 16,
   "id": "188cf554-2b64-4086-8fb2-c00b093e5de4",
   "metadata": {
    "tags": []
   },
   "outputs": [
    {
     "name": "stdout",
     "output_type": "stream",
     "text": [
      "Confusion Matrix:\n"
     ]
    },
    {
     "data": {
      "text/plain": [
       "array([[851, 182],\n",
       "       [147, 227]])"
      ]
     },
     "metadata": {},
     "output_type": "display_data"
    }
   ],
   "source": [
    "from sklearn.metrics import confusion_matrix\n",
    "\n",
    "\n",
    "y_pred = xgb_tuned1.predict(X_test)\n",
    "\n",
    "# Calculate the confusion matrix\n",
    "cm = confusion_matrix(y_test, y_pred)\n",
    "\n",
    "print(\"Confusion Matrix:\")\n",
    "display(cm)"
   ]
  },
  {
   "cell_type": "code",
   "execution_count": 17,
   "id": "9d787834-e4ba-4f97-ab39-4d279c285dae",
   "metadata": {
    "tags": []
   },
   "outputs": [
    {
     "data": {
      "text/plain": [
       "0    998\n",
       "1    409\n",
       "Name: count, dtype: int64"
      ]
     },
     "execution_count": 17,
     "metadata": {},
     "output_type": "execute_result"
    }
   ],
   "source": [
    "y_pred_df = pd.DataFrame(y_pred)\n",
    "\n",
    "y_pred_df.value_counts()"
   ]
  },
  {
   "cell_type": "code",
   "execution_count": 18,
   "id": "74c3b90b-14ca-42c1-a271-e470170d63f7",
   "metadata": {
    "tags": []
   },
   "outputs": [
    {
     "data": {
      "text/plain": [
       "churn\n",
       "0        1033\n",
       "1         374\n",
       "Name: count, dtype: int64"
      ]
     },
     "execution_count": 18,
     "metadata": {},
     "output_type": "execute_result"
    }
   ],
   "source": [
    "y_test_df = pd.DataFrame(y_test)\n",
    "\n",
    "y_test_df.value_counts()"
   ]
  },
  {
   "cell_type": "code",
   "execution_count": 14,
   "id": "1e31fbcd-e394-4328-89d9-74d0385abb33",
   "metadata": {
    "tags": []
   },
   "outputs": [
    {
     "data": {
      "text/html": [
       "<div>\n",
       "<style scoped>\n",
       "    .dataframe tbody tr th:only-of-type {\n",
       "        vertical-align: middle;\n",
       "    }\n",
       "\n",
       "    .dataframe tbody tr th {\n",
       "        vertical-align: top;\n",
       "    }\n",
       "\n",
       "    .dataframe thead th {\n",
       "        text-align: right;\n",
       "    }\n",
       "</style>\n",
       "<table border=\"1\" class=\"dataframe\">\n",
       "  <thead>\n",
       "    <tr style=\"text-align: right;\">\n",
       "      <th></th>\n",
       "      <th>Metric</th>\n",
       "      <th>Score</th>\n",
       "    </tr>\n",
       "  </thead>\n",
       "  <tbody>\n",
       "    <tr>\n",
       "      <th>0</th>\n",
       "      <td>Accuracy</td>\n",
       "      <td>0.766169</td>\n",
       "    </tr>\n",
       "    <tr>\n",
       "      <th>1</th>\n",
       "      <td>Precision</td>\n",
       "      <td>0.555012</td>\n",
       "    </tr>\n",
       "    <tr>\n",
       "      <th>2</th>\n",
       "      <td>Recall</td>\n",
       "      <td>0.606952</td>\n",
       "    </tr>\n",
       "    <tr>\n",
       "      <th>3</th>\n",
       "      <td>F1-Score</td>\n",
       "      <td>0.579821</td>\n",
       "    </tr>\n",
       "    <tr>\n",
       "      <th>4</th>\n",
       "      <td>Kappa</td>\n",
       "      <td>0.418280</td>\n",
       "    </tr>\n",
       "  </tbody>\n",
       "</table>\n",
       "</div>"
      ],
      "text/plain": [
       "      Metric     Score\n",
       "0   Accuracy  0.766169\n",
       "1  Precision  0.555012\n",
       "2     Recall  0.606952\n",
       "3   F1-Score  0.579821\n",
       "4      Kappa  0.418280"
      ]
     },
     "metadata": {},
     "output_type": "display_data"
    }
   ],
   "source": [
    "from sklearn.metrics import accuracy_score, precision_score, recall_score, f1_score, cohen_kappa_score\n",
    "\n",
    "\n",
    "y_pred = xgb_tuned1.predict(X_test)\n",
    "\n",
    "accuracy = accuracy_score(y_test, y_pred)\n",
    "precision = precision_score(y_test, y_pred)\n",
    "recall = recall_score(y_test, y_pred)\n",
    "f1 = f1_score(y_test, y_pred)\n",
    "kappa = cohen_kappa_score(y_test, y_pred)\n",
    "\n",
    "# Create a DataFrame\n",
    "metrics_df = pd.DataFrame({\n",
    "    \"Metric\": [\"Accuracy\", \"Precision\", \"Recall\", \"F1-Score\", \"Kappa\"],\n",
    "    \"Score\": [accuracy, precision, recall, f1, kappa]\n",
    "})\n",
    "\n",
    "display(metrics_df)"
   ]
  },
  {
   "cell_type": "code",
   "execution_count": null,
   "id": "5b07dd41-ccd5-4441-9b05-c468f1c4869f",
   "metadata": {
    "tags": []
   },
   "outputs": [],
   "source": [
    "metrics_df.to_csv('../data/metrics/SMOTE_gb_metrics.csv', index=False)"
   ]
  },
  {
   "cell_type": "code",
   "execution_count": null,
   "id": "79418249-093d-4315-978b-d4234b923d22",
   "metadata": {},
   "outputs": [],
   "source": []
  }
 ],
 "metadata": {
  "kernelspec": {
   "display_name": "final_project_env",
   "language": "python",
   "name": "final_project_env"
  },
  "language_info": {
   "codemirror_mode": {
    "name": "ipython",
    "version": 3
   },
   "file_extension": ".py",
   "mimetype": "text/x-python",
   "name": "python",
   "nbconvert_exporter": "python",
   "pygments_lexer": "ipython3",
   "version": "3.11.3"
  }
 },
 "nbformat": 4,
 "nbformat_minor": 5
}
