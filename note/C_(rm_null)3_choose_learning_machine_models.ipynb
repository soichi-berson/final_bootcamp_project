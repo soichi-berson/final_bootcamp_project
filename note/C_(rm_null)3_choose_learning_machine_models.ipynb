{
 "cells": [
  {
   "cell_type": "markdown",
   "id": "fc6cd6b7-3cef-4992-9e20-c9ada62565dd",
   "metadata": {},
   "source": [
    "# C._(rm_null) 3_choose_learning_machine_models"
   ]
  },
  {
   "cell_type": "code",
   "execution_count": 2,
   "id": "6f0b1332-e5d5-405e-87c0-6f71765b12dd",
   "metadata": {
    "tags": []
   },
   "outputs": [],
   "source": [
    "import pandas as pd\n",
    "import numpy as np\n",
    "import seaborn as sns\n",
    "import matplotlib.pyplot as plt"
   ]
  },
  {
   "cell_type": "code",
   "execution_count": 3,
   "id": "ac273ad0-eb62-4d96-ba88-bfa07fce7392",
   "metadata": {
    "tags": []
   },
   "outputs": [
    {
     "data": {
      "text/html": [
       "<div>\n",
       "<style scoped>\n",
       "    .dataframe tbody tr th:only-of-type {\n",
       "        vertical-align: middle;\n",
       "    }\n",
       "\n",
       "    .dataframe tbody tr th {\n",
       "        vertical-align: top;\n",
       "    }\n",
       "\n",
       "    .dataframe thead th {\n",
       "        text-align: right;\n",
       "    }\n",
       "</style>\n",
       "<table border=\"1\" class=\"dataframe\">\n",
       "  <thead>\n",
       "    <tr style=\"text-align: right;\">\n",
       "      <th></th>\n",
       "      <th>age</th>\n",
       "      <th>hypertension</th>\n",
       "      <th>heart_disease</th>\n",
       "      <th>ever_married</th>\n",
       "      <th>avg_glucose_level</th>\n",
       "      <th>bmi</th>\n",
       "      <th>gender_F</th>\n",
       "      <th>gender_M</th>\n",
       "      <th>work_type_Govt_job</th>\n",
       "      <th>work_type_Other</th>\n",
       "      <th>work_type_Private</th>\n",
       "      <th>work_type_Self-employed</th>\n",
       "      <th>residence_type_Rural</th>\n",
       "      <th>residence_type_Urban</th>\n",
       "      <th>smoking_status_Unknown</th>\n",
       "      <th>smoking_status_formerly smoked</th>\n",
       "      <th>smoking_status_never smoked</th>\n",
       "      <th>smoking_status_smokes</th>\n",
       "      <th>stroke</th>\n",
       "    </tr>\n",
       "  </thead>\n",
       "  <tbody>\n",
       "    <tr>\n",
       "      <th>0</th>\n",
       "      <td>0.839182</td>\n",
       "      <td>0.0</td>\n",
       "      <td>1.0</td>\n",
       "      <td>1.0</td>\n",
       "      <td>0.954770</td>\n",
       "      <td>0.700525</td>\n",
       "      <td>0</td>\n",
       "      <td>1</td>\n",
       "      <td>0</td>\n",
       "      <td>0</td>\n",
       "      <td>1</td>\n",
       "      <td>0</td>\n",
       "      <td>0</td>\n",
       "      <td>1</td>\n",
       "      <td>0</td>\n",
       "      <td>1</td>\n",
       "      <td>0</td>\n",
       "      <td>0</td>\n",
       "      <td>1</td>\n",
       "    </tr>\n",
       "    <tr>\n",
       "      <th>1</th>\n",
       "      <td>0.978813</td>\n",
       "      <td>0.0</td>\n",
       "      <td>1.0</td>\n",
       "      <td>1.0</td>\n",
       "      <td>0.612224</td>\n",
       "      <td>0.630121</td>\n",
       "      <td>0</td>\n",
       "      <td>1</td>\n",
       "      <td>0</td>\n",
       "      <td>0</td>\n",
       "      <td>1</td>\n",
       "      <td>0</td>\n",
       "      <td>1</td>\n",
       "      <td>0</td>\n",
       "      <td>0</td>\n",
       "      <td>0</td>\n",
       "      <td>1</td>\n",
       "      <td>0</td>\n",
       "      <td>1</td>\n",
       "    </tr>\n",
       "    <tr>\n",
       "      <th>2</th>\n",
       "      <td>0.639247</td>\n",
       "      <td>0.0</td>\n",
       "      <td>0.0</td>\n",
       "      <td>1.0</td>\n",
       "      <td>0.857404</td>\n",
       "      <td>0.663675</td>\n",
       "      <td>1</td>\n",
       "      <td>0</td>\n",
       "      <td>0</td>\n",
       "      <td>0</td>\n",
       "      <td>1</td>\n",
       "      <td>0</td>\n",
       "      <td>0</td>\n",
       "      <td>1</td>\n",
       "      <td>0</td>\n",
       "      <td>0</td>\n",
       "      <td>0</td>\n",
       "      <td>1</td>\n",
       "      <td>1</td>\n",
       "    </tr>\n",
       "    <tr>\n",
       "      <th>3</th>\n",
       "      <td>0.968192</td>\n",
       "      <td>1.0</td>\n",
       "      <td>0.0</td>\n",
       "      <td>1.0</td>\n",
       "      <td>0.863892</td>\n",
       "      <td>0.454702</td>\n",
       "      <td>1</td>\n",
       "      <td>0</td>\n",
       "      <td>0</td>\n",
       "      <td>0</td>\n",
       "      <td>0</td>\n",
       "      <td>1</td>\n",
       "      <td>1</td>\n",
       "      <td>0</td>\n",
       "      <td>0</td>\n",
       "      <td>0</td>\n",
       "      <td>1</td>\n",
       "      <td>0</td>\n",
       "      <td>1</td>\n",
       "    </tr>\n",
       "    <tr>\n",
       "      <th>4</th>\n",
       "      <td>0.989416</td>\n",
       "      <td>0.0</td>\n",
       "      <td>0.0</td>\n",
       "      <td>1.0</td>\n",
       "      <td>0.888781</td>\n",
       "      <td>0.563472</td>\n",
       "      <td>0</td>\n",
       "      <td>1</td>\n",
       "      <td>0</td>\n",
       "      <td>0</td>\n",
       "      <td>1</td>\n",
       "      <td>0</td>\n",
       "      <td>0</td>\n",
       "      <td>1</td>\n",
       "      <td>0</td>\n",
       "      <td>1</td>\n",
       "      <td>0</td>\n",
       "      <td>0</td>\n",
       "      <td>1</td>\n",
       "    </tr>\n",
       "  </tbody>\n",
       "</table>\n",
       "</div>"
      ],
      "text/plain": [
       "        age  hypertension  heart_disease  ever_married  avg_glucose_level  \\\n",
       "0  0.839182           0.0            1.0           1.0           0.954770   \n",
       "1  0.978813           0.0            1.0           1.0           0.612224   \n",
       "2  0.639247           0.0            0.0           1.0           0.857404   \n",
       "3  0.968192           1.0            0.0           1.0           0.863892   \n",
       "4  0.989416           0.0            0.0           1.0           0.888781   \n",
       "\n",
       "        bmi  gender_F  gender_M  work_type_Govt_job  work_type_Other  \\\n",
       "0  0.700525         0         1                   0                0   \n",
       "1  0.630121         0         1                   0                0   \n",
       "2  0.663675         1         0                   0                0   \n",
       "3  0.454702         1         0                   0                0   \n",
       "4  0.563472         0         1                   0                0   \n",
       "\n",
       "   work_type_Private  work_type_Self-employed  residence_type_Rural  \\\n",
       "0                  1                        0                     0   \n",
       "1                  1                        0                     1   \n",
       "2                  1                        0                     0   \n",
       "3                  0                        1                     1   \n",
       "4                  1                        0                     0   \n",
       "\n",
       "   residence_type_Urban  smoking_status_Unknown  \\\n",
       "0                     1                       0   \n",
       "1                     0                       0   \n",
       "2                     1                       0   \n",
       "3                     0                       0   \n",
       "4                     1                       0   \n",
       "\n",
       "   smoking_status_formerly smoked  smoking_status_never smoked  \\\n",
       "0                               1                            0   \n",
       "1                               0                            1   \n",
       "2                               0                            0   \n",
       "3                               0                            1   \n",
       "4                               1                            0   \n",
       "\n",
       "   smoking_status_smokes  stroke  \n",
       "0                      0       1  \n",
       "1                      0       1  \n",
       "2                      1       1  \n",
       "3                      0       1  \n",
       "4                      0       1  "
      ]
     },
     "execution_count": 3,
     "metadata": {},
     "output_type": "execute_result"
    }
   ],
   "source": [
    "#load the file \n",
    "data = pd.read_csv('../data/cleaned_data/rm_null_cleaned_data.csv')\n",
    "data.head()\n"
   ]
  },
  {
   "cell_type": "markdown",
   "id": "6aa0f8ff-da64-4385-a969-a6ae331695e6",
   "metadata": {},
   "source": [
    "### x/y split"
   ]
  },
  {
   "cell_type": "code",
   "execution_count": 4,
   "id": "c9625b34-dcd6-4f59-9b20-d103efd0d91d",
   "metadata": {
    "tags": []
   },
   "outputs": [],
   "source": [
    "#separate the features from the labels\n",
    "y = data['stroke']\n",
    "X = data.drop(['stroke'], axis=1)"
   ]
  },
  {
   "cell_type": "code",
   "execution_count": 5,
   "id": "f36caa48-de31-4a3e-8047-7a7ff363a94b",
   "metadata": {
    "tags": []
   },
   "outputs": [
    {
     "data": {
      "text/plain": [
       "0    1\n",
       "Name: stroke, dtype: int64"
      ]
     },
     "execution_count": 5,
     "metadata": {},
     "output_type": "execute_result"
    }
   ],
   "source": [
    "y.head(1)"
   ]
  },
  {
   "cell_type": "code",
   "execution_count": 6,
   "id": "b11aa827-27a4-445b-925b-dbe0a5dc2d81",
   "metadata": {
    "tags": []
   },
   "outputs": [
    {
     "data": {
      "text/plain": [
       "dtype('int64')"
      ]
     },
     "execution_count": 6,
     "metadata": {},
     "output_type": "execute_result"
    }
   ],
   "source": [
    "# change the type of 'y'\n",
    "y = y.astype('int64')\n",
    "y.dtypes"
   ]
  },
  {
   "cell_type": "code",
   "execution_count": 7,
   "id": "c053205b-dabe-4c4d-a255-747d92b90cf2",
   "metadata": {
    "tags": []
   },
   "outputs": [],
   "source": [
    "from sklearn.model_selection import train_test_split\n",
    "\n",
    "X_train, X_test, y_train, y_test = train_test_split(X, y, test_size=0.2, random_state=123)"
   ]
  },
  {
   "cell_type": "code",
   "execution_count": 8,
   "id": "a0954aa6-4903-4ce0-bc2b-0d5a5b383641",
   "metadata": {
    "tags": []
   },
   "outputs": [
    {
     "data": {
      "text/plain": [
       "stroke\n",
       "0    3747\n",
       "1     169\n",
       "Name: count, dtype: int64"
      ]
     },
     "metadata": {},
     "output_type": "display_data"
    },
    {
     "data": {
      "text/plain": [
       "stroke\n",
       "0    939\n",
       "1     40\n",
       "Name: count, dtype: int64"
      ]
     },
     "metadata": {},
     "output_type": "display_data"
    }
   ],
   "source": [
    "display(y_train.value_counts())\n",
    "display(y_test.value_counts())"
   ]
  },
  {
   "cell_type": "markdown",
   "id": "e68db4b5-4560-476a-87e3-b63d33c60af6",
   "metadata": {},
   "source": [
    "##### As I mentioned earlier, it is clearly imbalanced and it needs Random oversampling  or SMOTE. \n",
    "##### Random oversampling can lead to overfitting, while SMOTE can help to reduce overfitting, as it increases the diversity in the dataset. In this case, SMOTE was chosen.\n",
    "reference: https://www.quora.com/Whats-the-difference-between-random-oversampling-and-oversampling-using-SMOTE-on-an-imbalanced-dataset-Is-the-later-always-better-then-the-first "
   ]
  },
  {
   "cell_type": "code",
   "execution_count": 9,
   "id": "035ec182-8770-4c34-b8bd-80afa5036902",
   "metadata": {
    "tags": []
   },
   "outputs": [],
   "source": [
    "from imblearn.over_sampling import SMOTE\n",
    "\n",
    "smote = SMOTE()\n",
    "# Fit and apply SMOTE to generate synthetic samples for the minority class\n",
    "X_resampled, y_resampled = smote.fit_resample(X_train, y_train)"
   ]
  },
  {
   "cell_type": "code",
   "execution_count": 10,
   "id": "0d801fa3-3642-4791-8e44-580b3b77ac91",
   "metadata": {
    "tags": []
   },
   "outputs": [
    {
     "data": {
      "text/plain": [
       "(7494, 18)"
      ]
     },
     "execution_count": 10,
     "metadata": {},
     "output_type": "execute_result"
    }
   ],
   "source": [
    "X_resampled.shape"
   ]
  },
  {
   "cell_type": "code",
   "execution_count": 11,
   "id": "c2671847-7ad9-4f2c-815f-9783f9967e1e",
   "metadata": {
    "tags": []
   },
   "outputs": [
    {
     "name": "stdout",
     "output_type": "stream",
     "text": [
      "stroke\n",
      "0    3747\n",
      "1    3747\n",
      "Name: count, dtype: int64\n"
     ]
    }
   ],
   "source": [
    "class_counts = y_resampled.value_counts()\n",
    "print(class_counts)"
   ]
  },
  {
   "cell_type": "code",
   "execution_count": 12,
   "id": "2dba9f8d-fde8-4a2b-a62c-06274e852d8a",
   "metadata": {
    "tags": []
   },
   "outputs": [
    {
     "data": {
      "text/plain": [
       "dtype('O')"
      ]
     },
     "execution_count": 12,
     "metadata": {},
     "output_type": "execute_result"
    }
   ],
   "source": [
    "# In order to apply K-NN, the type 'y' are changed into '~Object' \n",
    "y_resampled_obj = y_resampled.apply(lambda x: str(x))\n",
    "y_resampled_obj.dtypes"
   ]
  },
  {
   "cell_type": "code",
   "execution_count": 13,
   "id": "4bae4b9b-d5d3-4038-98fa-82d7f93ae769",
   "metadata": {
    "tags": []
   },
   "outputs": [],
   "source": [
    "# save train and test sets \n",
    "\n",
    "X_resampled.to_csv('../data/x_y_data/rm_null/X_resampled.csv', index=False)\n",
    "y_resampled.to_csv('../data/x_y_data/rm_null/y_resampled.csv', index=False)\n",
    "X_test.to_csv('../data/x_y_data/rm_null/X_test.csv', index=False)\n",
    "y_test.to_csv('../data/x_y_data/rm_null/y_test.csv', index=False)"
   ]
  },
  {
   "cell_type": "markdown",
   "id": "fd8f9d0d-3f13-4a1a-94c8-7000b76d626f",
   "metadata": {},
   "source": [
    "   "
   ]
  },
  {
   "cell_type": "markdown",
   "id": "efbebc1c-a25e-48dc-aaec-e3689eaa87f1",
   "metadata": {},
   "source": [
    "### Choosing models"
   ]
  },
  {
   "cell_type": "code",
   "execution_count": 14,
   "id": "94a2a493-7c60-4899-ac98-ea799077b553",
   "metadata": {
    "tags": []
   },
   "outputs": [
    {
     "data": {
      "text/plain": [
       "(7494, 18)"
      ]
     },
     "execution_count": 14,
     "metadata": {},
     "output_type": "execute_result"
    }
   ],
   "source": [
    "X_resampled.shape"
   ]
  },
  {
   "cell_type": "code",
   "execution_count": 15,
   "id": "353db8bb-3a6d-499c-86b7-9499d0ee60e6",
   "metadata": {
    "tags": []
   },
   "outputs": [
    {
     "data": {
      "text/plain": [
       "(7494,)"
      ]
     },
     "execution_count": 15,
     "metadata": {},
     "output_type": "execute_result"
    }
   ],
   "source": [
    "y_resampled.shape"
   ]
  },
  {
   "cell_type": "code",
   "execution_count": 16,
   "id": "85428941-4fc2-4143-9c51-cee4995b22ad",
   "metadata": {
    "tags": []
   },
   "outputs": [],
   "source": [
    "from sklearn.linear_model import LogisticRegression\n",
    "from sklearn.neighbors import KNeighborsClassifier\n",
    "from sklearn.ensemble import RandomForestClassifier\n",
    "from sklearn.ensemble import GradientBoostingClassifier\n",
    "from sklearn.ensemble import AdaBoostClassifier\n",
    "\n",
    "\n",
    "models = []\n",
    "models.append(('LR', LogisticRegression(random_state = 12345)))\n",
    "models.append(('KNN', KNeighborsClassifier()))\n",
    "models.append(('RF', RandomForestClassifier(random_state = 12345)))\n",
    "models.append(('GB', GradientBoostingClassifier(random_state = 12345)))\n",
    "models.append(('AB', AdaBoostClassifier(random_state = 12345)))"
   ]
  },
  {
   "cell_type": "code",
   "execution_count": 17,
   "id": "aea6f3fc-6229-4513-b40e-797709e19c04",
   "metadata": {
    "tags": []
   },
   "outputs": [
    {
     "name": "stdout",
     "output_type": "stream",
     "text": [
      "LR: 0.8007902091677792 (0.03127953280693007)\n",
      "KNN: 0.917429639519359 (0.05533546318682031)\n",
      "RF: 0.9490372941700043 (0.02633288941227401)\n",
      "GB: 0.870057320872274 (0.052530503840761036)\n",
      "AB: 0.8202971072541165 (0.07631839451772754)\n"
     ]
    }
   ],
   "source": [
    "# evaluate each model in turn\n",
    "from sklearn.model_selection import KFold\n",
    "from sklearn.model_selection import cross_val_score\n",
    "import warnings\n",
    "warnings.filterwarnings('ignore')\n",
    "\n",
    "X_resampled2 = np.ascontiguousarray(X_resampled)\n",
    "y_resampled2 = np.ascontiguousarray(y_resampled)\n",
    "\n",
    "names = []\n",
    "results = []\n",
    "\n",
    "for name, model in models:\n",
    "    kfold = KFold(n_splits=10, shuffle=False)\n",
    "    cv_results = cross_val_score(model, X_resampled2, y_resampled2, cv=kfold, scoring=\"accuracy\")\n",
    "    results.append(cv_results)\n",
    "    names.append(name)\n",
    "    msg = f\"{name}: {cv_results.mean()} ({cv_results.std()})\"\n",
    "    print(msg)\n"
   ]
  },
  {
   "cell_type": "code",
   "execution_count": 18,
   "id": "b81101bf-df07-4b2d-899b-cfe870300806",
   "metadata": {
    "tags": []
   },
   "outputs": [
    {
     "data": {
      "image/png": "[encoded data removed]",
      "text/plain": [
       "<Figure size 1500x1000 with 1 Axes>"
      ]
     },
     "metadata": {},
     "output_type": "display_data"
    }
   ],
   "source": [
    "# boxplot algorithm comparison\n",
    "fig = plt.figure(figsize=(15,10))\n",
    "fig.suptitle('Algorithm Comparison')\n",
    "ax = fig.add_subplot(111)\n",
    "plt.boxplot(results)\n",
    "ax.set_xticklabels(names)\n",
    "plt.show()"
   ]
  },
  {
   "cell_type": "markdown",
   "id": "da90aed6-4a46-4d5d-a394-b5ecddf42333",
   "metadata": {},
   "source": [
    "####  KNN and Random Forest  are chosen. In addition, nuural network is investigated."
   ]
  },
  {
   "cell_type": "code",
   "execution_count": 19,
   "id": "ec05eede-9451-4211-a146-7fbf446d25bd",
   "metadata": {
    "tags": []
   },
   "outputs": [
    {
     "data": {
      "text/plain": [
       "['LR', 'KNN', 'RF', 'GB', 'AB']"
      ]
     },
     "execution_count": 19,
     "metadata": {},
     "output_type": "execute_result"
    }
   ],
   "source": [
    "names"
   ]
  },
  {
   "cell_type": "code",
   "execution_count": 20,
   "id": "26e81f0d-2b34-45e0-81da-36973b56a5a9",
   "metadata": {
    "tags": []
   },
   "outputs": [
    {
     "data": {
      "text/plain": [
       "[array([0.75733333, 0.77333333, 0.75866667, 0.792     , 0.77703605,\n",
       "        0.8317757 , 0.82242991, 0.84779706, 0.81975968, 0.82777036]),\n",
       " array([0.852     , 0.86533333, 0.868     , 0.86666667, 0.86248331,\n",
       "        0.9506008 , 0.98397864, 0.9706275 , 0.98264352, 0.97196262]),\n",
       " array([0.91866667, 0.93333333, 0.92533333, 0.93333333, 0.90921228,\n",
       "        0.96528705, 0.98531375, 0.9706275 , 0.97730307, 0.97196262]),\n",
       " array([0.80133333, 0.81466667, 0.80266667, 0.852     , 0.82643525,\n",
       "        0.91855808, 0.92790387, 0.90921228, 0.92523364, 0.92256342]),\n",
       " array([0.73733333, 0.74933333, 0.72933333, 0.75866667, 0.75567423,\n",
       "        0.88651535, 0.92256342, 0.91989319, 0.87049399, 0.87316422])]"
      ]
     },
     "execution_count": 20,
     "metadata": {},
     "output_type": "execute_result"
    }
   ],
   "source": [
    "results"
   ]
  },
  {
   "cell_type": "code",
   "execution_count": 21,
   "id": "13ed925c-3ec9-4eb2-a05b-2653b5fdb5e9",
   "metadata": {
    "tags": []
   },
   "outputs": [
    {
     "data": {
      "text/html": [
       "<div>\n",
       "<style scoped>\n",
       "    .dataframe tbody tr th:only-of-type {\n",
       "        vertical-align: middle;\n",
       "    }\n",
       "\n",
       "    .dataframe tbody tr th {\n",
       "        vertical-align: top;\n",
       "    }\n",
       "\n",
       "    .dataframe thead th {\n",
       "        text-align: right;\n",
       "    }\n",
       "</style>\n",
       "<table border=\"1\" class=\"dataframe\">\n",
       "  <thead>\n",
       "    <tr style=\"text-align: right;\">\n",
       "      <th></th>\n",
       "      <th>LR</th>\n",
       "      <th>KNN</th>\n",
       "      <th>RF</th>\n",
       "      <th>GB</th>\n",
       "      <th>AB</th>\n",
       "    </tr>\n",
       "  </thead>\n",
       "  <tbody>\n",
       "    <tr>\n",
       "      <th>0</th>\n",
       "      <td>0.757333</td>\n",
       "      <td>0.852000</td>\n",
       "      <td>0.918667</td>\n",
       "      <td>0.801333</td>\n",
       "      <td>0.737333</td>\n",
       "    </tr>\n",
       "    <tr>\n",
       "      <th>1</th>\n",
       "      <td>0.773333</td>\n",
       "      <td>0.865333</td>\n",
       "      <td>0.933333</td>\n",
       "      <td>0.814667</td>\n",
       "      <td>0.749333</td>\n",
       "    </tr>\n",
       "    <tr>\n",
       "      <th>2</th>\n",
       "      <td>0.758667</td>\n",
       "      <td>0.868000</td>\n",
       "      <td>0.925333</td>\n",
       "      <td>0.802667</td>\n",
       "      <td>0.729333</td>\n",
       "    </tr>\n",
       "    <tr>\n",
       "      <th>3</th>\n",
       "      <td>0.792000</td>\n",
       "      <td>0.866667</td>\n",
       "      <td>0.933333</td>\n",
       "      <td>0.852000</td>\n",
       "      <td>0.758667</td>\n",
       "    </tr>\n",
       "    <tr>\n",
       "      <th>4</th>\n",
       "      <td>0.777036</td>\n",
       "      <td>0.862483</td>\n",
       "      <td>0.909212</td>\n",
       "      <td>0.826435</td>\n",
       "      <td>0.755674</td>\n",
       "    </tr>\n",
       "    <tr>\n",
       "      <th>5</th>\n",
       "      <td>0.831776</td>\n",
       "      <td>0.950601</td>\n",
       "      <td>0.965287</td>\n",
       "      <td>0.918558</td>\n",
       "      <td>0.886515</td>\n",
       "    </tr>\n",
       "    <tr>\n",
       "      <th>6</th>\n",
       "      <td>0.822430</td>\n",
       "      <td>0.983979</td>\n",
       "      <td>0.985314</td>\n",
       "      <td>0.927904</td>\n",
       "      <td>0.922563</td>\n",
       "    </tr>\n",
       "    <tr>\n",
       "      <th>7</th>\n",
       "      <td>0.847797</td>\n",
       "      <td>0.970628</td>\n",
       "      <td>0.970628</td>\n",
       "      <td>0.909212</td>\n",
       "      <td>0.919893</td>\n",
       "    </tr>\n",
       "    <tr>\n",
       "      <th>8</th>\n",
       "      <td>0.819760</td>\n",
       "      <td>0.982644</td>\n",
       "      <td>0.977303</td>\n",
       "      <td>0.925234</td>\n",
       "      <td>0.870494</td>\n",
       "    </tr>\n",
       "    <tr>\n",
       "      <th>9</th>\n",
       "      <td>0.827770</td>\n",
       "      <td>0.971963</td>\n",
       "      <td>0.971963</td>\n",
       "      <td>0.922563</td>\n",
       "      <td>0.873164</td>\n",
       "    </tr>\n",
       "  </tbody>\n",
       "</table>\n",
       "</div>"
      ],
      "text/plain": [
       "         LR       KNN        RF        GB        AB\n",
       "0  0.757333  0.852000  0.918667  0.801333  0.737333\n",
       "1  0.773333  0.865333  0.933333  0.814667  0.749333\n",
       "2  0.758667  0.868000  0.925333  0.802667  0.729333\n",
       "3  0.792000  0.866667  0.933333  0.852000  0.758667\n",
       "4  0.777036  0.862483  0.909212  0.826435  0.755674\n",
       "5  0.831776  0.950601  0.965287  0.918558  0.886515\n",
       "6  0.822430  0.983979  0.985314  0.927904  0.922563\n",
       "7  0.847797  0.970628  0.970628  0.909212  0.919893\n",
       "8  0.819760  0.982644  0.977303  0.925234  0.870494\n",
       "9  0.827770  0.971963  0.971963  0.922563  0.873164"
      ]
     },
     "metadata": {},
     "output_type": "display_data"
    }
   ],
   "source": [
    "results_dict = {name: result for name, result in zip(names, results)}\n",
    "\n",
    "# Create the DataFrame using the dictionary\n",
    "score = pd.DataFrame(results_dict)\n",
    "\n",
    "# Print the DataFrame\n",
    "display(score)"
   ]
  },
  {
   "cell_type": "code",
   "execution_count": 22,
   "id": "a9267dab-8eb3-4226-a9e0-2400a0fe4c9f",
   "metadata": {
    "tags": []
   },
   "outputs": [],
   "source": [
    "score.to_csv('../data/score/rm_null/5_models/scores_5_models_accurate.csv', index=False)"
   ]
  },
  {
   "cell_type": "markdown",
   "id": "3779eddb-e9f0-49cd-a12e-5a9ac3446a9f",
   "metadata": {},
   "source": [
    "#### recall"
   ]
  },
  {
   "cell_type": "code",
   "execution_count": 23,
   "id": "5ec674cc-9227-41d6-a5c6-fdc92245bd0b",
   "metadata": {
    "tags": []
   },
   "outputs": [
    {
     "name": "stdout",
     "output_type": "stream",
     "text": [
      "LR: 0.7807554930563757 (0.05577486110958208)\n",
      "KNN: 0.927767673960133 (0.06840031027400709)\n",
      "RF: 0.8741952106530239 (0.12256994070647322)\n",
      "GB: 0.785521283875499 (0.15321641146051415)\n",
      "AB: 0.8045270586504932 (0.10251153599691612)\n"
     ]
    }
   ],
   "source": [
    "#evaluate each model in turn\n",
    "from sklearn.model_selection import KFold\n",
    "from sklearn.model_selection import cross_val_score\n",
    "import warnings\n",
    "warnings.filterwarnings('ignore')\n",
    "\n",
    "X_resampled2 = np.ascontiguousarray(X_resampled)\n",
    "y_resampled2 = np.ascontiguousarray(y_resampled)\n",
    "\n",
    "names2 = []\n",
    "results2 = []\n",
    "\n",
    "for name, model in models:\n",
    "    kfold = KFold(n_splits=10, shuffle=False)\n",
    "    cv_results2 = cross_val_score(model, X_resampled2, y_resampled2, cv=kfold, scoring=\"recall\")\n",
    "    results2.append(cv_results2)\n",
    "    names2.append(name)\n",
    "    msg2 = f\"{name}: {cv_results2.mean()} ({cv_results2.std()})\"\n",
    "    print(msg2)\n"
   ]
  },
  {
   "cell_type": "code",
   "execution_count": 24,
   "id": "da03ac3f-fc81-41da-97f3-848b9db85d17",
   "metadata": {
    "tags": []
   },
   "outputs": [
    {
     "data": {
      "image/png": "[encoded data removed]",
      "text/plain": [
       "<Figure size 1500x1000 with 1 Axes>"
      ]
     },
     "metadata": {},
     "output_type": "display_data"
    }
   ],
   "source": [
    "# boxplot algorithm comparison\n",
    "fig = plt.figure(figsize=(15,10))\n",
    "fig.suptitle('Algorithm Comparison')\n",
    "ax = fig.add_subplot(111)\n",
    "plt.boxplot(results2)\n",
    "ax.set_xticklabels(names2)\n",
    "plt.show()"
   ]
  },
  {
   "cell_type": "code",
   "execution_count": 25,
   "id": "c39d6e92-a8f7-4adf-902f-01dbfc450a49",
   "metadata": {
    "tags": []
   },
   "outputs": [
    {
     "data": {
      "text/html": [
       "<div>\n",
       "<style scoped>\n",
       "    .dataframe tbody tr th:only-of-type {\n",
       "        vertical-align: middle;\n",
       "    }\n",
       "\n",
       "    .dataframe tbody tr th {\n",
       "        vertical-align: top;\n",
       "    }\n",
       "\n",
       "    .dataframe thead th {\n",
       "        text-align: right;\n",
       "    }\n",
       "</style>\n",
       "<table border=\"1\" class=\"dataframe\">\n",
       "  <thead>\n",
       "    <tr style=\"text-align: right;\">\n",
       "      <th></th>\n",
       "      <th>LR</th>\n",
       "      <th>KNN</th>\n",
       "      <th>RF</th>\n",
       "      <th>GB</th>\n",
       "      <th>AB</th>\n",
       "    </tr>\n",
       "  </thead>\n",
       "  <tbody>\n",
       "    <tr>\n",
       "      <th>0</th>\n",
       "      <td>0.769231</td>\n",
       "      <td>0.769231</td>\n",
       "      <td>0.615385</td>\n",
       "      <td>0.538462</td>\n",
       "      <td>0.692308</td>\n",
       "    </tr>\n",
       "    <tr>\n",
       "      <th>1</th>\n",
       "      <td>0.692308</td>\n",
       "      <td>0.948718</td>\n",
       "      <td>0.871795</td>\n",
       "      <td>0.743590</td>\n",
       "      <td>0.769231</td>\n",
       "    </tr>\n",
       "    <tr>\n",
       "      <th>2</th>\n",
       "      <td>0.764706</td>\n",
       "      <td>0.941176</td>\n",
       "      <td>0.735294</td>\n",
       "      <td>0.617647</td>\n",
       "      <td>0.705882</td>\n",
       "    </tr>\n",
       "    <tr>\n",
       "      <th>3</th>\n",
       "      <td>0.714286</td>\n",
       "      <td>0.857143</td>\n",
       "      <td>0.857143</td>\n",
       "      <td>0.742857</td>\n",
       "      <td>0.657143</td>\n",
       "    </tr>\n",
       "    <tr>\n",
       "      <th>4</th>\n",
       "      <td>0.709677</td>\n",
       "      <td>0.870968</td>\n",
       "      <td>0.774194</td>\n",
       "      <td>0.580645</td>\n",
       "      <td>0.709677</td>\n",
       "    </tr>\n",
       "    <tr>\n",
       "      <th>5</th>\n",
       "      <td>0.839590</td>\n",
       "      <td>0.981229</td>\n",
       "      <td>0.982935</td>\n",
       "      <td>0.947099</td>\n",
       "      <td>0.924915</td>\n",
       "    </tr>\n",
       "    <tr>\n",
       "      <th>6</th>\n",
       "      <td>0.822430</td>\n",
       "      <td>0.983979</td>\n",
       "      <td>0.985314</td>\n",
       "      <td>0.927904</td>\n",
       "      <td>0.922563</td>\n",
       "    </tr>\n",
       "    <tr>\n",
       "      <th>7</th>\n",
       "      <td>0.847797</td>\n",
       "      <td>0.970628</td>\n",
       "      <td>0.970628</td>\n",
       "      <td>0.909212</td>\n",
       "      <td>0.919893</td>\n",
       "    </tr>\n",
       "    <tr>\n",
       "      <th>8</th>\n",
       "      <td>0.819760</td>\n",
       "      <td>0.982644</td>\n",
       "      <td>0.977303</td>\n",
       "      <td>0.925234</td>\n",
       "      <td>0.870494</td>\n",
       "    </tr>\n",
       "    <tr>\n",
       "      <th>9</th>\n",
       "      <td>0.827770</td>\n",
       "      <td>0.971963</td>\n",
       "      <td>0.971963</td>\n",
       "      <td>0.922563</td>\n",
       "      <td>0.873164</td>\n",
       "    </tr>\n",
       "  </tbody>\n",
       "</table>\n",
       "</div>"
      ],
      "text/plain": [
       "         LR       KNN        RF        GB        AB\n",
       "0  0.769231  0.769231  0.615385  0.538462  0.692308\n",
       "1  0.692308  0.948718  0.871795  0.743590  0.769231\n",
       "2  0.764706  0.941176  0.735294  0.617647  0.705882\n",
       "3  0.714286  0.857143  0.857143  0.742857  0.657143\n",
       "4  0.709677  0.870968  0.774194  0.580645  0.709677\n",
       "5  0.839590  0.981229  0.982935  0.947099  0.924915\n",
       "6  0.822430  0.983979  0.985314  0.927904  0.922563\n",
       "7  0.847797  0.970628  0.970628  0.909212  0.919893\n",
       "8  0.819760  0.982644  0.977303  0.925234  0.870494\n",
       "9  0.827770  0.971963  0.971963  0.922563  0.873164"
      ]
     },
     "metadata": {},
     "output_type": "display_data"
    }
   ],
   "source": [
    "results_dict2 = {name2: result2 for name2, result2 in zip(names2, results2)}\n",
    "\n",
    "# Create the DataFrame using the dictionary\n",
    "score2 = pd.DataFrame(results_dict2)\n",
    "\n",
    "# Print the DataFrame\n",
    "display(score2)"
   ]
  },
  {
   "cell_type": "code",
   "execution_count": 26,
   "id": "194abf31-43be-4281-a374-40fdbc5e5cee",
   "metadata": {
    "tags": []
   },
   "outputs": [],
   "source": [
    "score2.to_csv('../data/score/rm_null/5_models/scores_5_models_recall.csv', index=False)"
   ]
  },
  {
   "cell_type": "markdown",
   "id": "4298a1ea-706d-42cc-855e-45303c74069b",
   "metadata": {},
   "source": [
    "  "
   ]
  },
  {
   "cell_type": "markdown",
   "id": "e482ac2d-e311-4996-b1db-d3e23da904e4",
   "metadata": {
    "tags": []
   },
   "source": [
    "### Precision"
   ]
  },
  {
   "cell_type": "code",
   "execution_count": 27,
   "id": "c2913788-7b6c-4c38-b06b-8f67002b5c79",
   "metadata": {
    "tags": []
   },
   "outputs": [
    {
     "name": "stdout",
     "output_type": "stream",
     "text": [
      "LR: 0.5585992378945638 (0.42969245851086824)\n",
      "KNN: 0.6091145322037804 (0.3833814122377686)\n",
      "RF: 0.6671733853356363 (0.3313630362600421)\n",
      "GB: 0.5696051202252214 (0.42130859084424604)\n",
      "AB: 0.5502806934047875 (0.43629714566334565)\n"
     ]
    }
   ],
   "source": [
    "#evaluate each model in turn\n",
    "from sklearn.model_selection import KFold\n",
    "from sklearn.model_selection import cross_val_score\n",
    "import warnings\n",
    "warnings.filterwarnings('ignore')\n",
    "\n",
    "X_resampled3 = np.ascontiguousarray(X_resampled)\n",
    "y_resampled3 = np.ascontiguousarray(y_resampled)\n",
    "\n",
    "names3 = []\n",
    "results3 = []\n",
    "\n",
    "for name, model in models:\n",
    "    kfold = KFold(n_splits=10, shuffle=False)\n",
    "    cv_results3 = cross_val_score(model, X_resampled3, y_resampled3, cv=kfold, scoring=\"precision\")\n",
    "    results3.append(cv_results3)\n",
    "    names3.append(name)\n",
    "    msg3 = f\"{name}: {cv_results3.mean()} ({cv_results3.std()})\"\n",
    "    print(msg3)\n"
   ]
  },
  {
   "cell_type": "code",
   "execution_count": 28,
   "id": "8e474ad0-ff46-4ebe-9d2c-4d8ca54c2a79",
   "metadata": {
    "tags": []
   },
   "outputs": [
    {
     "data": {
      "image/png": "[encoded data removed]",
      "text/plain": [
       "<Figure size 1500x1000 with 1 Axes>"
      ]
     },
     "metadata": {},
     "output_type": "display_data"
    }
   ],
   "source": [
    "# boxplot algorithm comparison\n",
    "fig = plt.figure(figsize=(15,10))\n",
    "fig.suptitle('Algorithm Comparison -Precision-')\n",
    "ax = fig.add_subplot(111)\n",
    "plt.boxplot(results3)\n",
    "ax.set_xticklabels(names3)\n",
    "plt.show()"
   ]
  },
  {
   "cell_type": "code",
   "execution_count": 29,
   "id": "af975d52-02f0-4c09-b125-66d39e091747",
   "metadata": {
    "tags": []
   },
   "outputs": [
    {
     "data": {
      "text/html": [
       "<div>\n",
       "<style scoped>\n",
       "    .dataframe tbody tr th:only-of-type {\n",
       "        vertical-align: middle;\n",
       "    }\n",
       "\n",
       "    .dataframe tbody tr th {\n",
       "        vertical-align: top;\n",
       "    }\n",
       "\n",
       "    .dataframe thead th {\n",
       "        text-align: right;\n",
       "    }\n",
       "</style>\n",
       "<table border=\"1\" class=\"dataframe\">\n",
       "  <thead>\n",
       "    <tr style=\"text-align: right;\">\n",
       "      <th></th>\n",
       "      <th>LR</th>\n",
       "      <th>KNN</th>\n",
       "      <th>RF</th>\n",
       "      <th>GB</th>\n",
       "      <th>AB</th>\n",
       "    </tr>\n",
       "  </thead>\n",
       "  <tbody>\n",
       "    <tr>\n",
       "      <th>0</th>\n",
       "      <td>0.102041</td>\n",
       "      <td>0.160000</td>\n",
       "      <td>0.238806</td>\n",
       "      <td>0.092715</td>\n",
       "      <td>0.086957</td>\n",
       "    </tr>\n",
       "    <tr>\n",
       "      <th>1</th>\n",
       "      <td>0.145946</td>\n",
       "      <td>0.272059</td>\n",
       "      <td>0.430380</td>\n",
       "      <td>0.183544</td>\n",
       "      <td>0.143541</td>\n",
       "    </tr>\n",
       "    <tr>\n",
       "      <th>2</th>\n",
       "      <td>0.130653</td>\n",
       "      <td>0.248062</td>\n",
       "      <td>0.347222</td>\n",
       "      <td>0.134615</td>\n",
       "      <td>0.110599</td>\n",
       "    </tr>\n",
       "    <tr>\n",
       "      <th>3</th>\n",
       "      <td>0.146199</td>\n",
       "      <td>0.240000</td>\n",
       "      <td>0.400000</td>\n",
       "      <td>0.203125</td>\n",
       "      <td>0.119792</td>\n",
       "    </tr>\n",
       "    <tr>\n",
       "      <th>4</th>\n",
       "      <td>0.122222</td>\n",
       "      <td>0.214286</td>\n",
       "      <td>0.282353</td>\n",
       "      <td>0.133333</td>\n",
       "      <td>0.112245</td>\n",
       "    </tr>\n",
       "    <tr>\n",
       "      <th>5</th>\n",
       "      <td>0.938931</td>\n",
       "      <td>0.956739</td>\n",
       "      <td>0.972973</td>\n",
       "      <td>0.948718</td>\n",
       "      <td>0.929674</td>\n",
       "    </tr>\n",
       "    <tr>\n",
       "      <th>6</th>\n",
       "      <td>1.000000</td>\n",
       "      <td>1.000000</td>\n",
       "      <td>1.000000</td>\n",
       "      <td>1.000000</td>\n",
       "      <td>1.000000</td>\n",
       "    </tr>\n",
       "    <tr>\n",
       "      <th>7</th>\n",
       "      <td>1.000000</td>\n",
       "      <td>1.000000</td>\n",
       "      <td>1.000000</td>\n",
       "      <td>1.000000</td>\n",
       "      <td>1.000000</td>\n",
       "    </tr>\n",
       "    <tr>\n",
       "      <th>8</th>\n",
       "      <td>1.000000</td>\n",
       "      <td>1.000000</td>\n",
       "      <td>1.000000</td>\n",
       "      <td>1.000000</td>\n",
       "      <td>1.000000</td>\n",
       "    </tr>\n",
       "    <tr>\n",
       "      <th>9</th>\n",
       "      <td>1.000000</td>\n",
       "      <td>1.000000</td>\n",
       "      <td>1.000000</td>\n",
       "      <td>1.000000</td>\n",
       "      <td>1.000000</td>\n",
       "    </tr>\n",
       "  </tbody>\n",
       "</table>\n",
       "</div>"
      ],
      "text/plain": [
       "         LR       KNN        RF        GB        AB\n",
       "0  0.102041  0.160000  0.238806  0.092715  0.086957\n",
       "1  0.145946  0.272059  0.430380  0.183544  0.143541\n",
       "2  0.130653  0.248062  0.347222  0.134615  0.110599\n",
       "3  0.146199  0.240000  0.400000  0.203125  0.119792\n",
       "4  0.122222  0.214286  0.282353  0.133333  0.112245\n",
       "5  0.938931  0.956739  0.972973  0.948718  0.929674\n",
       "6  1.000000  1.000000  1.000000  1.000000  1.000000\n",
       "7  1.000000  1.000000  1.000000  1.000000  1.000000\n",
       "8  1.000000  1.000000  1.000000  1.000000  1.000000\n",
       "9  1.000000  1.000000  1.000000  1.000000  1.000000"
      ]
     },
     "metadata": {},
     "output_type": "display_data"
    }
   ],
   "source": [
    "results_dict3 = {name3: result3 for name3, result3 in zip(names3, results3)}\n",
    "\n",
    "# Create the DataFrame using the dictionary\n",
    "score3 = pd.DataFrame(results_dict3)\n",
    "\n",
    "# Print the DataFrame\n",
    "display(score3)"
   ]
  },
  {
   "cell_type": "code",
   "execution_count": 30,
   "id": "9e30f899-afe2-49df-b639-8ec9e5d72199",
   "metadata": {
    "tags": []
   },
   "outputs": [],
   "source": [
    "score3.to_csv('../data/score/rm_null/5_models/scores_5_models_precision.csv', index=False)"
   ]
  },
  {
   "cell_type": "markdown",
   "id": "4cef3a48-d84f-4424-a5de-9ca5e6c49318",
   "metadata": {},
   "source": [
    "### f1"
   ]
  },
  {
   "cell_type": "code",
   "execution_count": 31,
   "id": "2a350018-71f4-4f6d-b807-a85f972dd1eb",
   "metadata": {
    "tags": []
   },
   "outputs": [
    {
     "name": "stdout",
     "output_type": "stream",
     "text": [
      "LR: 0.5609081887490346 (0.3422380092545004)\n",
      "KNN: 0.6722221129722519 (0.3147277692831473)\n",
      "RF: 0.7281232329119144 (0.2647735656202479)\n",
      "GB: 0.5993393312882332 (0.35979084661340505)\n",
      "AB: 0.5692490332173897 (0.3730778145164856)\n"
     ]
    }
   ],
   "source": [
    "#evaluate each model in turn\n",
    "from sklearn.model_selection import KFold\n",
    "from sklearn.model_selection import cross_val_score\n",
    "import warnings\n",
    "warnings.filterwarnings('ignore')\n",
    "\n",
    "X_resampled4 = np.ascontiguousarray(X_resampled)\n",
    "y_resampled4 = np.ascontiguousarray(y_resampled)\n",
    "\n",
    "names4 = []\n",
    "results4 = []\n",
    "\n",
    "for name, model in models:\n",
    "    kfold = KFold(n_splits=10, shuffle=False)\n",
    "    cv_results4 = cross_val_score(model, X_resampled4, y_resampled4, cv=kfold, scoring=\"f1\")\n",
    "    results4.append(cv_results4)\n",
    "    names4.append(name)\n",
    "    msg4 = f\"{name}: {cv_results4.mean()} ({cv_results4.std()})\"\n",
    "    print(msg4)\n"
   ]
  },
  {
   "cell_type": "code",
   "execution_count": 32,
   "id": "dbb4c484-9f47-49f2-b7bf-2102e5c7d124",
   "metadata": {
    "tags": []
   },
   "outputs": [
    {
     "data": {
      "image/png": "[encoded data removed]",
      "text/plain": [
       "<Figure size 1500x1000 with 1 Axes>"
      ]
     },
     "metadata": {},
     "output_type": "display_data"
    }
   ],
   "source": [
    "# boxplot algorithm comparison\n",
    "fig = plt.figure(figsize=(15,10))\n",
    "fig.suptitle('Algorithm Comparison -f1-')\n",
    "ax = fig.add_subplot(111)\n",
    "plt.boxplot(results4)\n",
    "ax.set_xticklabels(names4)\n",
    "plt.show()"
   ]
  },
  {
   "cell_type": "code",
   "execution_count": 33,
   "id": "9c34d545-5437-4013-bd24-0bfed06b68ef",
   "metadata": {
    "tags": []
   },
   "outputs": [
    {
     "data": {
      "text/html": [
       "<div>\n",
       "<style scoped>\n",
       "    .dataframe tbody tr th:only-of-type {\n",
       "        vertical-align: middle;\n",
       "    }\n",
       "\n",
       "    .dataframe tbody tr th {\n",
       "        vertical-align: top;\n",
       "    }\n",
       "\n",
       "    .dataframe thead th {\n",
       "        text-align: right;\n",
       "    }\n",
       "</style>\n",
       "<table border=\"1\" class=\"dataframe\">\n",
       "  <thead>\n",
       "    <tr style=\"text-align: right;\">\n",
       "      <th></th>\n",
       "      <th>LR</th>\n",
       "      <th>KNN</th>\n",
       "      <th>RF</th>\n",
       "      <th>GB</th>\n",
       "      <th>AB</th>\n",
       "    </tr>\n",
       "  </thead>\n",
       "  <tbody>\n",
       "    <tr>\n",
       "      <th>0</th>\n",
       "      <td>0.180180</td>\n",
       "      <td>0.264901</td>\n",
       "      <td>0.344086</td>\n",
       "      <td>0.158192</td>\n",
       "      <td>0.154506</td>\n",
       "    </tr>\n",
       "    <tr>\n",
       "      <th>1</th>\n",
       "      <td>0.241071</td>\n",
       "      <td>0.422857</td>\n",
       "      <td>0.576271</td>\n",
       "      <td>0.294416</td>\n",
       "      <td>0.241935</td>\n",
       "    </tr>\n",
       "    <tr>\n",
       "      <th>2</th>\n",
       "      <td>0.223176</td>\n",
       "      <td>0.392638</td>\n",
       "      <td>0.471698</td>\n",
       "      <td>0.221053</td>\n",
       "      <td>0.191235</td>\n",
       "    </tr>\n",
       "    <tr>\n",
       "      <th>3</th>\n",
       "      <td>0.242718</td>\n",
       "      <td>0.375000</td>\n",
       "      <td>0.545455</td>\n",
       "      <td>0.319018</td>\n",
       "      <td>0.202643</td>\n",
       "    </tr>\n",
       "    <tr>\n",
       "      <th>4</th>\n",
       "      <td>0.208531</td>\n",
       "      <td>0.343949</td>\n",
       "      <td>0.413793</td>\n",
       "      <td>0.216867</td>\n",
       "      <td>0.193833</td>\n",
       "    </tr>\n",
       "    <tr>\n",
       "      <th>5</th>\n",
       "      <td>0.886486</td>\n",
       "      <td>0.968829</td>\n",
       "      <td>0.977929</td>\n",
       "      <td>0.947908</td>\n",
       "      <td>0.927288</td>\n",
       "    </tr>\n",
       "    <tr>\n",
       "      <th>6</th>\n",
       "      <td>0.902564</td>\n",
       "      <td>0.991925</td>\n",
       "      <td>0.992603</td>\n",
       "      <td>0.962604</td>\n",
       "      <td>0.959722</td>\n",
       "    </tr>\n",
       "    <tr>\n",
       "      <th>7</th>\n",
       "      <td>0.917630</td>\n",
       "      <td>0.985095</td>\n",
       "      <td>0.985095</td>\n",
       "      <td>0.952448</td>\n",
       "      <td>0.958275</td>\n",
       "    </tr>\n",
       "    <tr>\n",
       "      <th>8</th>\n",
       "      <td>0.900954</td>\n",
       "      <td>0.991246</td>\n",
       "      <td>0.988521</td>\n",
       "      <td>0.961165</td>\n",
       "      <td>0.930764</td>\n",
       "    </tr>\n",
       "    <tr>\n",
       "      <th>9</th>\n",
       "      <td>0.905771</td>\n",
       "      <td>0.985782</td>\n",
       "      <td>0.985782</td>\n",
       "      <td>0.959722</td>\n",
       "      <td>0.932288</td>\n",
       "    </tr>\n",
       "  </tbody>\n",
       "</table>\n",
       "</div>"
      ],
      "text/plain": [
       "         LR       KNN        RF        GB        AB\n",
       "0  0.180180  0.264901  0.344086  0.158192  0.154506\n",
       "1  0.241071  0.422857  0.576271  0.294416  0.241935\n",
       "2  0.223176  0.392638  0.471698  0.221053  0.191235\n",
       "3  0.242718  0.375000  0.545455  0.319018  0.202643\n",
       "4  0.208531  0.343949  0.413793  0.216867  0.193833\n",
       "5  0.886486  0.968829  0.977929  0.947908  0.927288\n",
       "6  0.902564  0.991925  0.992603  0.962604  0.959722\n",
       "7  0.917630  0.985095  0.985095  0.952448  0.958275\n",
       "8  0.900954  0.991246  0.988521  0.961165  0.930764\n",
       "9  0.905771  0.985782  0.985782  0.959722  0.932288"
      ]
     },
     "metadata": {},
     "output_type": "display_data"
    }
   ],
   "source": [
    "results_dict4 = {name4: result4 for name4, result4 in zip(names4, results4)}\n",
    "\n",
    "# Create the DataFrame using the dictionary\n",
    "score4 = pd.DataFrame(results_dict4)\n",
    "\n",
    "# Print the DataFrame\n",
    "display(score4)"
   ]
  },
  {
   "cell_type": "code",
   "execution_count": 34,
   "id": "fb26b073-30b8-4c77-99b4-5632765f09fa",
   "metadata": {
    "tags": []
   },
   "outputs": [],
   "source": [
    "score4.to_csv('../data/score/rm_null/5_models/scores_5_models_f1.csv', index=False)"
   ]
  },
  {
   "cell_type": "code",
   "execution_count": null,
   "id": "59275e1e-ee52-4704-8b63-cb932c7ad472",
   "metadata": {},
   "outputs": [],
   "source": []
  }
 ],
 "metadata": {
  "kernelspec": {
   "display_name": "final_project_env",
   "language": "python",
   "name": "final_project_env"
  },
  "language_info": {
   "codemirror_mode": {
    "name": "ipython",
    "version": 3
   },
   "file_extension": ".py",
   "mimetype": "text/x-python",
   "name": "python",
   "nbconvert_exporter": "python",
   "pygments_lexer": "ipython3",
   "version": "3.11.3"
  }
 },
 "nbformat": 4,
 "nbformat_minor": 5
}
