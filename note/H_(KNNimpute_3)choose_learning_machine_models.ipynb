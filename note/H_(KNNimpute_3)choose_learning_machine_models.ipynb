{
 "cells": [
  {
   "cell_type": "markdown",
   "id": "fc6cd6b7-3cef-4992-9e20-c9ada62565dd",
   "metadata": {},
   "source": [
    "# H_choose_learning_machine_models"
   ]
  },
  {
   "cell_type": "code",
   "execution_count": 1,
   "id": "6f0b1332-e5d5-405e-87c0-6f71765b12dd",
   "metadata": {
    "tags": []
   },
   "outputs": [],
   "source": [
    "import pandas as pd\n",
    "import numpy as np\n",
    "import seaborn as sns\n",
    "import matplotlib.pyplot as plt"
   ]
  },
  {
   "cell_type": "code",
   "execution_count": 2,
   "id": "ac273ad0-eb62-4d96-ba88-bfa07fce7392",
   "metadata": {
    "tags": []
   },
   "outputs": [
    {
     "data": {
      "text/html": [
       "<div>\n",
       "<style scoped>\n",
       "    .dataframe tbody tr th:only-of-type {\n",
       "        vertical-align: middle;\n",
       "    }\n",
       "\n",
       "    .dataframe tbody tr th {\n",
       "        vertical-align: top;\n",
       "    }\n",
       "\n",
       "    .dataframe thead th {\n",
       "        text-align: right;\n",
       "    }\n",
       "</style>\n",
       "<table border=\"1\" class=\"dataframe\">\n",
       "  <thead>\n",
       "    <tr style=\"text-align: right;\">\n",
       "      <th></th>\n",
       "      <th>age</th>\n",
       "      <th>hypertension</th>\n",
       "      <th>heart_disease</th>\n",
       "      <th>ever_married</th>\n",
       "      <th>avg_glucose_level</th>\n",
       "      <th>bmi</th>\n",
       "      <th>gender_F</th>\n",
       "      <th>gender_M</th>\n",
       "      <th>work_type_Govt_job</th>\n",
       "      <th>work_type_Other</th>\n",
       "      <th>work_type_Private</th>\n",
       "      <th>work_type_Self-employed</th>\n",
       "      <th>residence_type_Rural</th>\n",
       "      <th>residence_type_Urban</th>\n",
       "      <th>smoking_status_Unknown</th>\n",
       "      <th>smoking_status_formerly smoked</th>\n",
       "      <th>smoking_status_never smoked</th>\n",
       "      <th>smoking_status_smokes</th>\n",
       "      <th>stroke</th>\n",
       "    </tr>\n",
       "  </thead>\n",
       "  <tbody>\n",
       "    <tr>\n",
       "      <th>0</th>\n",
       "      <td>0.839182</td>\n",
       "      <td>0.0</td>\n",
       "      <td>1.0</td>\n",
       "      <td>1.0</td>\n",
       "      <td>0.954770</td>\n",
       "      <td>0.700525</td>\n",
       "      <td>0.0</td>\n",
       "      <td>1.0</td>\n",
       "      <td>0.0</td>\n",
       "      <td>0.0</td>\n",
       "      <td>1.0</td>\n",
       "      <td>0.0</td>\n",
       "      <td>0.0</td>\n",
       "      <td>1.0</td>\n",
       "      <td>0.0</td>\n",
       "      <td>1.0</td>\n",
       "      <td>0.0</td>\n",
       "      <td>0.0</td>\n",
       "      <td>1.0</td>\n",
       "    </tr>\n",
       "    <tr>\n",
       "      <th>1</th>\n",
       "      <td>0.773486</td>\n",
       "      <td>0.0</td>\n",
       "      <td>0.0</td>\n",
       "      <td>1.0</td>\n",
       "      <td>0.917002</td>\n",
       "      <td>0.570372</td>\n",
       "      <td>1.0</td>\n",
       "      <td>0.0</td>\n",
       "      <td>0.0</td>\n",
       "      <td>0.0</td>\n",
       "      <td>0.0</td>\n",
       "      <td>1.0</td>\n",
       "      <td>1.0</td>\n",
       "      <td>0.0</td>\n",
       "      <td>0.0</td>\n",
       "      <td>0.0</td>\n",
       "      <td>1.0</td>\n",
       "      <td>0.0</td>\n",
       "      <td>1.0</td>\n",
       "    </tr>\n",
       "    <tr>\n",
       "      <th>2</th>\n",
       "      <td>0.978813</td>\n",
       "      <td>0.0</td>\n",
       "      <td>1.0</td>\n",
       "      <td>1.0</td>\n",
       "      <td>0.612224</td>\n",
       "      <td>0.630121</td>\n",
       "      <td>0.0</td>\n",
       "      <td>1.0</td>\n",
       "      <td>0.0</td>\n",
       "      <td>0.0</td>\n",
       "      <td>1.0</td>\n",
       "      <td>0.0</td>\n",
       "      <td>1.0</td>\n",
       "      <td>0.0</td>\n",
       "      <td>0.0</td>\n",
       "      <td>0.0</td>\n",
       "      <td>1.0</td>\n",
       "      <td>0.0</td>\n",
       "      <td>1.0</td>\n",
       "    </tr>\n",
       "    <tr>\n",
       "      <th>3</th>\n",
       "      <td>0.639247</td>\n",
       "      <td>0.0</td>\n",
       "      <td>0.0</td>\n",
       "      <td>1.0</td>\n",
       "      <td>0.857404</td>\n",
       "      <td>0.663675</td>\n",
       "      <td>1.0</td>\n",
       "      <td>0.0</td>\n",
       "      <td>0.0</td>\n",
       "      <td>0.0</td>\n",
       "      <td>1.0</td>\n",
       "      <td>0.0</td>\n",
       "      <td>0.0</td>\n",
       "      <td>1.0</td>\n",
       "      <td>0.0</td>\n",
       "      <td>0.0</td>\n",
       "      <td>0.0</td>\n",
       "      <td>1.0</td>\n",
       "      <td>1.0</td>\n",
       "    </tr>\n",
       "    <tr>\n",
       "      <th>4</th>\n",
       "      <td>0.968192</td>\n",
       "      <td>1.0</td>\n",
       "      <td>0.0</td>\n",
       "      <td>1.0</td>\n",
       "      <td>0.863892</td>\n",
       "      <td>0.454702</td>\n",
       "      <td>1.0</td>\n",
       "      <td>0.0</td>\n",
       "      <td>0.0</td>\n",
       "      <td>0.0</td>\n",
       "      <td>0.0</td>\n",
       "      <td>1.0</td>\n",
       "      <td>1.0</td>\n",
       "      <td>0.0</td>\n",
       "      <td>0.0</td>\n",
       "      <td>0.0</td>\n",
       "      <td>1.0</td>\n",
       "      <td>0.0</td>\n",
       "      <td>1.0</td>\n",
       "    </tr>\n",
       "  </tbody>\n",
       "</table>\n",
       "</div>"
      ],
      "text/plain": [
       "        age  hypertension  heart_disease  ever_married  avg_glucose_level  \\\n",
       "0  0.839182           0.0            1.0           1.0           0.954770   \n",
       "1  0.773486           0.0            0.0           1.0           0.917002   \n",
       "2  0.978813           0.0            1.0           1.0           0.612224   \n",
       "3  0.639247           0.0            0.0           1.0           0.857404   \n",
       "4  0.968192           1.0            0.0           1.0           0.863892   \n",
       "\n",
       "        bmi  gender_F  gender_M  work_type_Govt_job  work_type_Other  \\\n",
       "0  0.700525       0.0       1.0                 0.0              0.0   \n",
       "1  0.570372       1.0       0.0                 0.0              0.0   \n",
       "2  0.630121       0.0       1.0                 0.0              0.0   \n",
       "3  0.663675       1.0       0.0                 0.0              0.0   \n",
       "4  0.454702       1.0       0.0                 0.0              0.0   \n",
       "\n",
       "   work_type_Private  work_type_Self-employed  residence_type_Rural  \\\n",
       "0                1.0                      0.0                   0.0   \n",
       "1                0.0                      1.0                   1.0   \n",
       "2                1.0                      0.0                   1.0   \n",
       "3                1.0                      0.0                   0.0   \n",
       "4                0.0                      1.0                   1.0   \n",
       "\n",
       "   residence_type_Urban  smoking_status_Unknown  \\\n",
       "0                   1.0                     0.0   \n",
       "1                   0.0                     0.0   \n",
       "2                   0.0                     0.0   \n",
       "3                   1.0                     0.0   \n",
       "4                   0.0                     0.0   \n",
       "\n",
       "   smoking_status_formerly smoked  smoking_status_never smoked  \\\n",
       "0                             1.0                          0.0   \n",
       "1                             0.0                          1.0   \n",
       "2                             0.0                          1.0   \n",
       "3                             0.0                          0.0   \n",
       "4                             0.0                          1.0   \n",
       "\n",
       "   smoking_status_smokes  stroke  \n",
       "0                    0.0     1.0  \n",
       "1                    0.0     1.0  \n",
       "2                    0.0     1.0  \n",
       "3                    1.0     1.0  \n",
       "4                    0.0     1.0  "
      ]
     },
     "execution_count": 2,
     "metadata": {},
     "output_type": "execute_result"
    }
   ],
   "source": [
    "#load the file \n",
    "data = pd.read_csv('../data/cleaned_data/K3_cleaned_data.csv')\n",
    "data.head()\n"
   ]
  },
  {
   "cell_type": "markdown",
   "id": "6aa0f8ff-da64-4385-a969-a6ae331695e6",
   "metadata": {},
   "source": [
    "### x/y split"
   ]
  },
  {
   "cell_type": "code",
   "execution_count": 3,
   "id": "c9625b34-dcd6-4f59-9b20-d103efd0d91d",
   "metadata": {
    "tags": []
   },
   "outputs": [],
   "source": [
    "#separate the features from the labels\n",
    "y = data['stroke']\n",
    "X = data.drop(['stroke'], axis=1)"
   ]
  },
  {
   "cell_type": "code",
   "execution_count": 4,
   "id": "f36caa48-de31-4a3e-8047-7a7ff363a94b",
   "metadata": {
    "tags": []
   },
   "outputs": [
    {
     "data": {
      "text/plain": [
       "0    1.0\n",
       "Name: stroke, dtype: float64"
      ]
     },
     "execution_count": 4,
     "metadata": {},
     "output_type": "execute_result"
    }
   ],
   "source": [
    "y.head(1)"
   ]
  },
  {
   "cell_type": "code",
   "execution_count": 5,
   "id": "b11aa827-27a4-445b-925b-dbe0a5dc2d81",
   "metadata": {
    "tags": []
   },
   "outputs": [
    {
     "data": {
      "text/plain": [
       "dtype('int64')"
      ]
     },
     "execution_count": 5,
     "metadata": {},
     "output_type": "execute_result"
    }
   ],
   "source": [
    "# change the type of 'y'\n",
    "y = y.astype('int64')\n",
    "y.dtypes"
   ]
  },
  {
   "cell_type": "code",
   "execution_count": 6,
   "id": "c053205b-dabe-4c4d-a255-747d92b90cf2",
   "metadata": {
    "tags": []
   },
   "outputs": [],
   "source": [
    "from sklearn.model_selection import train_test_split\n",
    "\n",
    "X_train, X_test, y_train, y_test = train_test_split(X, y, test_size=0.2, random_state=123)"
   ]
  },
  {
   "cell_type": "code",
   "execution_count": 7,
   "id": "a0954aa6-4903-4ce0-bc2b-0d5a5b383641",
   "metadata": {
    "tags": []
   },
   "outputs": [
    {
     "data": {
      "text/plain": [
       "stroke\n",
       "0    3875\n",
       "1     201\n",
       "Name: count, dtype: int64"
      ]
     },
     "metadata": {},
     "output_type": "display_data"
    },
    {
     "data": {
      "text/plain": [
       "stroke\n",
       "0    972\n",
       "1     48\n",
       "Name: count, dtype: int64"
      ]
     },
     "metadata": {},
     "output_type": "display_data"
    }
   ],
   "source": [
    "display(y_train.value_counts())\n",
    "display(y_test.value_counts())"
   ]
  },
  {
   "cell_type": "markdown",
   "id": "e68db4b5-4560-476a-87e3-b63d33c60af6",
   "metadata": {},
   "source": [
    "##### As I mentioned earlier, it is clearly imbalanced and it needs Random oversampling  or SMOTE. \n",
    "##### Random oversampling can lead to overfitting, while SMOTE can help to reduce overfitting, as it increases the diversity in the dataset. In this case, SMOTE was chosen.\n",
    "reference: https://www.quora.com/Whats-the-difference-between-random-oversampling-and-oversampling-using-SMOTE-on-an-imbalanced-dataset-Is-the-later-always-better-then-the-first "
   ]
  },
  {
   "cell_type": "code",
   "execution_count": 8,
   "id": "035ec182-8770-4c34-b8bd-80afa5036902",
   "metadata": {
    "tags": []
   },
   "outputs": [],
   "source": [
    "from imblearn.over_sampling import SMOTE\n",
    "\n",
    "smote = SMOTE()\n",
    "# Fit and apply SMOTE to generate synthetic samples for the minority class\n",
    "X_resampled, y_resampled = smote.fit_resample(X_train, y_train)"
   ]
  },
  {
   "cell_type": "code",
   "execution_count": 9,
   "id": "0d801fa3-3642-4791-8e44-580b3b77ac91",
   "metadata": {
    "tags": []
   },
   "outputs": [
    {
     "data": {
      "text/plain": [
       "(7750, 18)"
      ]
     },
     "execution_count": 9,
     "metadata": {},
     "output_type": "execute_result"
    }
   ],
   "source": [
    "X_resampled.shape"
   ]
  },
  {
   "cell_type": "code",
   "execution_count": 10,
   "id": "c2671847-7ad9-4f2c-815f-9783f9967e1e",
   "metadata": {
    "tags": []
   },
   "outputs": [
    {
     "name": "stdout",
     "output_type": "stream",
     "text": [
      "stroke\n",
      "0    3875\n",
      "1    3875\n",
      "Name: count, dtype: int64\n"
     ]
    }
   ],
   "source": [
    "class_counts = y_resampled.value_counts()\n",
    "print(class_counts)"
   ]
  },
  {
   "cell_type": "code",
   "execution_count": 11,
   "id": "2dba9f8d-fde8-4a2b-a62c-06274e852d8a",
   "metadata": {
    "tags": []
   },
   "outputs": [
    {
     "data": {
      "text/plain": [
       "dtype('O')"
      ]
     },
     "execution_count": 11,
     "metadata": {},
     "output_type": "execute_result"
    }
   ],
   "source": [
    "# In order to apply K-NN, the type 'y' are changed into '~Object' \n",
    "y_resampled_obj = y_resampled.apply(lambda x: str(x))\n",
    "y_resampled_obj.dtypes"
   ]
  },
  {
   "cell_type": "code",
   "execution_count": 12,
   "id": "4bae4b9b-d5d3-4038-98fa-82d7f93ae769",
   "metadata": {
    "tags": []
   },
   "outputs": [],
   "source": [
    "# save train and test sets \n",
    "\n",
    "X_resampled.to_csv('../data/x_y_data/K3/X_resampled.csv', index=False)\n",
    "y_resampled.to_csv('../data/x_y_data/K3/y_resampled.csv', index=False)\n",
    "X_test.to_csv('../data/x_y_data/K3/X_test.csv', index=False)\n",
    "y_test.to_csv('../data/x_y_data/K3/y_test.csv', index=False)"
   ]
  },
  {
   "cell_type": "markdown",
   "id": "fd8f9d0d-3f13-4a1a-94c8-7000b76d626f",
   "metadata": {},
   "source": [
    "   "
   ]
  },
  {
   "cell_type": "markdown",
   "id": "efbebc1c-a25e-48dc-aaec-e3689eaa87f1",
   "metadata": {},
   "source": [
    "### Choosing models"
   ]
  },
  {
   "cell_type": "code",
   "execution_count": 13,
   "id": "94a2a493-7c60-4899-ac98-ea799077b553",
   "metadata": {
    "tags": []
   },
   "outputs": [
    {
     "data": {
      "text/plain": [
       "(7750, 18)"
      ]
     },
     "execution_count": 13,
     "metadata": {},
     "output_type": "execute_result"
    }
   ],
   "source": [
    "X_resampled.shape"
   ]
  },
  {
   "cell_type": "code",
   "execution_count": 14,
   "id": "353db8bb-3a6d-499c-86b7-9499d0ee60e6",
   "metadata": {
    "tags": []
   },
   "outputs": [
    {
     "data": {
      "text/plain": [
       "(7750,)"
      ]
     },
     "execution_count": 14,
     "metadata": {},
     "output_type": "execute_result"
    }
   ],
   "source": [
    "y_resampled.shape"
   ]
  },
  {
   "cell_type": "code",
   "execution_count": 15,
   "id": "85428941-4fc2-4143-9c51-cee4995b22ad",
   "metadata": {
    "tags": []
   },
   "outputs": [],
   "source": [
    "from sklearn.linear_model import LogisticRegression\n",
    "from sklearn.neighbors import KNeighborsClassifier\n",
    "from sklearn.ensemble import RandomForestClassifier\n",
    "from sklearn.ensemble import GradientBoostingClassifier\n",
    "from sklearn.ensemble import AdaBoostClassifier\n",
    "\n",
    "\n",
    "models = []\n",
    "models.append(('LR', LogisticRegression(random_state = 12345)))\n",
    "models.append(('KNN', KNeighborsClassifier()))\n",
    "models.append(('RF', RandomForestClassifier(random_state = 12345)))\n",
    "models.append(('GB', GradientBoostingClassifier(random_state = 12345)))\n",
    "models.append(('AB', AdaBoostClassifier(random_state = 12345)))"
   ]
  },
  {
   "cell_type": "code",
   "execution_count": 16,
   "id": "aea6f3fc-6229-4513-b40e-797709e19c04",
   "metadata": {
    "tags": []
   },
   "outputs": [
    {
     "name": "stdout",
     "output_type": "stream",
     "text": [
      "LR: 0.7513548387096773 (0.04970690369268477)\n",
      "KNN: 0.9024516129032257 (0.07130523855050944)\n",
      "RF: 0.9486451612903226 (0.027510210005133286)\n",
      "GB: 0.8649032258064517 (0.05495638228826892)\n",
      "AB: 0.8113548387096774 (0.07086162153710461)\n"
     ]
    }
   ],
   "source": [
    "# evaluate each model in turn\n",
    "from sklearn.model_selection import KFold\n",
    "from sklearn.model_selection import cross_val_score\n",
    "import warnings\n",
    "warnings.filterwarnings('ignore')\n",
    "\n",
    "X_resampled2 = np.ascontiguousarray(X_resampled)\n",
    "y_resampled2 = np.ascontiguousarray(y_resampled)\n",
    "\n",
    "names = []\n",
    "results = []\n",
    "\n",
    "for name, model in models:\n",
    "    kfold = KFold(n_splits=10, shuffle=False)\n",
    "    cv_results = cross_val_score(model, X_resampled2, y_resampled2, cv=kfold, scoring=\"accuracy\")\n",
    "    results.append(cv_results)\n",
    "    names.append(name)\n",
    "    msg = f\"{name}: {cv_results.mean()} ({cv_results.std()})\"\n",
    "    print(msg)\n"
   ]
  },
  {
   "cell_type": "code",
   "execution_count": 17,
   "id": "b81101bf-df07-4b2d-899b-cfe870300806",
   "metadata": {
    "tags": []
   },
   "outputs": [
    {
     "data": {
      "image/png": "[encoded data removed]",
      "text/plain": [
       "<Figure size 1500x1000 with 1 Axes>"
      ]
     },
     "metadata": {},
     "output_type": "display_data"
    }
   ],
   "source": [
    "# boxplot algorithm comparison\n",
    "fig = plt.figure(figsize=(15,10))\n",
    "fig.suptitle('Algorithm Comparison')\n",
    "ax = fig.add_subplot(111)\n",
    "plt.boxplot(results)\n",
    "ax.set_xticklabels(names)\n",
    "plt.show()"
   ]
  },
  {
   "cell_type": "markdown",
   "id": "da90aed6-4a46-4d5d-a394-b5ecddf42333",
   "metadata": {},
   "source": [
    "####  KNN and Random Forest  are chosen. In addition, nuural network is investigated."
   ]
  },
  {
   "cell_type": "code",
   "execution_count": 18,
   "id": "ec05eede-9451-4211-a146-7fbf446d25bd",
   "metadata": {
    "tags": []
   },
   "outputs": [
    {
     "data": {
      "text/plain": [
       "['LR', 'KNN', 'RF', 'GB', 'AB']"
      ]
     },
     "execution_count": 18,
     "metadata": {},
     "output_type": "execute_result"
    }
   ],
   "source": [
    "names"
   ]
  },
  {
   "cell_type": "code",
   "execution_count": 19,
   "id": "26e81f0d-2b34-45e0-81da-36973b56a5a9",
   "metadata": {
    "tags": []
   },
   "outputs": [
    {
     "data": {
      "text/plain": [
       "[array([0.6916129 , 0.71612903, 0.70580645, 0.67741935, 0.7316129 ,\n",
       "        0.80129032, 0.78451613, 0.81032258, 0.77935484, 0.81548387]),\n",
       " array([0.83870968, 0.84387097, 0.83741935, 0.79612903, 0.84645161,\n",
       "        0.96129032, 0.9716129 , 0.97935484, 0.97032258, 0.97935484]),\n",
       " array([0.92645161, 0.92387097, 0.91354839, 0.90580645, 0.94580645,\n",
       "        0.97032258, 0.97935484, 0.97677419, 0.96645161, 0.97806452]),\n",
       " array([0.80774194, 0.82709677, 0.80774194, 0.78451613, 0.82967742,\n",
       "        0.91225806, 0.91612903, 0.91870968, 0.91483871, 0.93032258]),\n",
       " array([0.7316129 , 0.75225806, 0.73290323, 0.72387097, 0.76774194,\n",
       "        0.87225806, 0.87870968, 0.89419355, 0.88774194, 0.87225806])]"
      ]
     },
     "execution_count": 19,
     "metadata": {},
     "output_type": "execute_result"
    }
   ],
   "source": [
    "results"
   ]
  },
  {
   "cell_type": "code",
   "execution_count": 20,
   "id": "13ed925c-3ec9-4eb2-a05b-2653b5fdb5e9",
   "metadata": {
    "tags": []
   },
   "outputs": [
    {
     "data": {
      "text/html": [
       "<div>\n",
       "<style scoped>\n",
       "    .dataframe tbody tr th:only-of-type {\n",
       "        vertical-align: middle;\n",
       "    }\n",
       "\n",
       "    .dataframe tbody tr th {\n",
       "        vertical-align: top;\n",
       "    }\n",
       "\n",
       "    .dataframe thead th {\n",
       "        text-align: right;\n",
       "    }\n",
       "</style>\n",
       "<table border=\"1\" class=\"dataframe\">\n",
       "  <thead>\n",
       "    <tr style=\"text-align: right;\">\n",
       "      <th></th>\n",
       "      <th>LR</th>\n",
       "      <th>KNN</th>\n",
       "      <th>RF</th>\n",
       "      <th>GB</th>\n",
       "      <th>AB</th>\n",
       "    </tr>\n",
       "  </thead>\n",
       "  <tbody>\n",
       "    <tr>\n",
       "      <th>0</th>\n",
       "      <td>0.691613</td>\n",
       "      <td>0.838710</td>\n",
       "      <td>0.926452</td>\n",
       "      <td>0.807742</td>\n",
       "      <td>0.731613</td>\n",
       "    </tr>\n",
       "    <tr>\n",
       "      <th>1</th>\n",
       "      <td>0.716129</td>\n",
       "      <td>0.843871</td>\n",
       "      <td>0.923871</td>\n",
       "      <td>0.827097</td>\n",
       "      <td>0.752258</td>\n",
       "    </tr>\n",
       "    <tr>\n",
       "      <th>2</th>\n",
       "      <td>0.705806</td>\n",
       "      <td>0.837419</td>\n",
       "      <td>0.913548</td>\n",
       "      <td>0.807742</td>\n",
       "      <td>0.732903</td>\n",
       "    </tr>\n",
       "    <tr>\n",
       "      <th>3</th>\n",
       "      <td>0.677419</td>\n",
       "      <td>0.796129</td>\n",
       "      <td>0.905806</td>\n",
       "      <td>0.784516</td>\n",
       "      <td>0.723871</td>\n",
       "    </tr>\n",
       "    <tr>\n",
       "      <th>4</th>\n",
       "      <td>0.731613</td>\n",
       "      <td>0.846452</td>\n",
       "      <td>0.945806</td>\n",
       "      <td>0.829677</td>\n",
       "      <td>0.767742</td>\n",
       "    </tr>\n",
       "    <tr>\n",
       "      <th>5</th>\n",
       "      <td>0.801290</td>\n",
       "      <td>0.961290</td>\n",
       "      <td>0.970323</td>\n",
       "      <td>0.912258</td>\n",
       "      <td>0.872258</td>\n",
       "    </tr>\n",
       "    <tr>\n",
       "      <th>6</th>\n",
       "      <td>0.784516</td>\n",
       "      <td>0.971613</td>\n",
       "      <td>0.979355</td>\n",
       "      <td>0.916129</td>\n",
       "      <td>0.878710</td>\n",
       "    </tr>\n",
       "    <tr>\n",
       "      <th>7</th>\n",
       "      <td>0.810323</td>\n",
       "      <td>0.979355</td>\n",
       "      <td>0.976774</td>\n",
       "      <td>0.918710</td>\n",
       "      <td>0.894194</td>\n",
       "    </tr>\n",
       "    <tr>\n",
       "      <th>8</th>\n",
       "      <td>0.779355</td>\n",
       "      <td>0.970323</td>\n",
       "      <td>0.966452</td>\n",
       "      <td>0.914839</td>\n",
       "      <td>0.887742</td>\n",
       "    </tr>\n",
       "    <tr>\n",
       "      <th>9</th>\n",
       "      <td>0.815484</td>\n",
       "      <td>0.979355</td>\n",
       "      <td>0.978065</td>\n",
       "      <td>0.930323</td>\n",
       "      <td>0.872258</td>\n",
       "    </tr>\n",
       "  </tbody>\n",
       "</table>\n",
       "</div>"
      ],
      "text/plain": [
       "         LR       KNN        RF        GB        AB\n",
       "0  0.691613  0.838710  0.926452  0.807742  0.731613\n",
       "1  0.716129  0.843871  0.923871  0.827097  0.752258\n",
       "2  0.705806  0.837419  0.913548  0.807742  0.732903\n",
       "3  0.677419  0.796129  0.905806  0.784516  0.723871\n",
       "4  0.731613  0.846452  0.945806  0.829677  0.767742\n",
       "5  0.801290  0.961290  0.970323  0.912258  0.872258\n",
       "6  0.784516  0.971613  0.979355  0.916129  0.878710\n",
       "7  0.810323  0.979355  0.976774  0.918710  0.894194\n",
       "8  0.779355  0.970323  0.966452  0.914839  0.887742\n",
       "9  0.815484  0.979355  0.978065  0.930323  0.872258"
      ]
     },
     "metadata": {},
     "output_type": "display_data"
    }
   ],
   "source": [
    "results_dict = {name: result for name, result in zip(names, results)}\n",
    "\n",
    "# Create the DataFrame using the dictionary\n",
    "score = pd.DataFrame(results_dict)\n",
    "\n",
    "# Print the DataFrame\n",
    "display(score)"
   ]
  },
  {
   "cell_type": "code",
   "execution_count": 21,
   "id": "a9267dab-8eb3-4226-a9e0-2400a0fe4c9f",
   "metadata": {
    "tags": []
   },
   "outputs": [],
   "source": [
    "score.to_csv('../data/score/K3/scores_5_models.csv', index=False)"
   ]
  },
  {
   "cell_type": "markdown",
   "id": "3779eddb-e9f0-49cd-a12e-5a9ac3446a9f",
   "metadata": {},
   "source": [
    "#### recall"
   ]
  },
  {
   "cell_type": "code",
   "execution_count": 22,
   "id": "5ec674cc-9227-41d6-a5c6-fdc92245bd0b",
   "metadata": {
    "tags": []
   },
   "outputs": [
    {
     "name": "stdout",
     "output_type": "stream",
     "text": [
      "LR: 0.824607271406433 (0.028684474103214837)\n",
      "KNN: 0.9795484981889324 (0.01249710072139747)\n",
      "RF: 0.9089475971918202 (0.07690509725641292)\n",
      "GB: 0.7819923958960864 (0.14646346033526236)\n",
      "AB: 0.8020881728094722 (0.09134024350557454)\n"
     ]
    }
   ],
   "source": [
    "#evaluate each model in turn\n",
    "from sklearn.model_selection import KFold\n",
    "from sklearn.model_selection import cross_val_score\n",
    "import warnings\n",
    "warnings.filterwarnings('ignore')\n",
    "\n",
    "X_resampled2 = np.ascontiguousarray(X_resampled)\n",
    "y_resampled2 = np.ascontiguousarray(y_resampled)\n",
    "\n",
    "names2 = []\n",
    "results2 = []\n",
    "\n",
    "for name, model in models:\n",
    "    kfold = KFold(n_splits=10, shuffle=False)\n",
    "    cv_results2 = cross_val_score(model, X_resampled2, y_resampled2, cv=kfold, scoring=\"recall\")\n",
    "    results2.append(cv_results2)\n",
    "    names2.append(name)\n",
    "    msg2 = f\"{name}: {cv_results2.mean()} ({cv_results2.std()})\"\n",
    "    print(msg2)\n"
   ]
  },
  {
   "cell_type": "code",
   "execution_count": 23,
   "id": "da03ac3f-fc81-41da-97f3-848b9db85d17",
   "metadata": {
    "tags": []
   },
   "outputs": [
    {
     "data": {
      "image/png": "[encoded data removed]",
      "text/plain": [
       "<Figure size 1500x1000 with 1 Axes>"
      ]
     },
     "metadata": {},
     "output_type": "display_data"
    }
   ],
   "source": [
    "# boxplot algorithm comparison\n",
    "fig = plt.figure(figsize=(15,10))\n",
    "fig.suptitle('Algorithm Comparison')\n",
    "ax = fig.add_subplot(111)\n",
    "plt.boxplot(results2)\n",
    "ax.set_xticklabels(names2)\n",
    "plt.show()"
   ]
  },
  {
   "cell_type": "code",
   "execution_count": 24,
   "id": "c39d6e92-a8f7-4adf-902f-01dbfc450a49",
   "metadata": {
    "tags": []
   },
   "outputs": [
    {
     "data": {
      "text/html": [
       "<div>\n",
       "<style scoped>\n",
       "    .dataframe tbody tr th:only-of-type {\n",
       "        vertical-align: middle;\n",
       "    }\n",
       "\n",
       "    .dataframe tbody tr th {\n",
       "        vertical-align: top;\n",
       "    }\n",
       "\n",
       "    .dataframe thead th {\n",
       "        text-align: right;\n",
       "    }\n",
       "</style>\n",
       "<table border=\"1\" class=\"dataframe\">\n",
       "  <thead>\n",
       "    <tr style=\"text-align: right;\">\n",
       "      <th></th>\n",
       "      <th>LR</th>\n",
       "      <th>KNN</th>\n",
       "      <th>RF</th>\n",
       "      <th>GB</th>\n",
       "      <th>AB</th>\n",
       "    </tr>\n",
       "  </thead>\n",
       "  <tbody>\n",
       "    <tr>\n",
       "      <th>0</th>\n",
       "      <td>0.848485</td>\n",
       "      <td>1.000000</td>\n",
       "      <td>0.818182</td>\n",
       "      <td>0.606061</td>\n",
       "      <td>0.636364</td>\n",
       "    </tr>\n",
       "    <tr>\n",
       "      <th>1</th>\n",
       "      <td>0.869565</td>\n",
       "      <td>0.978261</td>\n",
       "      <td>0.782609</td>\n",
       "      <td>0.630435</td>\n",
       "      <td>0.782609</td>\n",
       "    </tr>\n",
       "    <tr>\n",
       "      <th>2</th>\n",
       "      <td>0.851064</td>\n",
       "      <td>0.957447</td>\n",
       "      <td>0.829787</td>\n",
       "      <td>0.723404</td>\n",
       "      <td>0.765957</td>\n",
       "    </tr>\n",
       "    <tr>\n",
       "      <th>3</th>\n",
       "      <td>0.810811</td>\n",
       "      <td>0.972973</td>\n",
       "      <td>0.837838</td>\n",
       "      <td>0.567568</td>\n",
       "      <td>0.702703</td>\n",
       "    </tr>\n",
       "    <tr>\n",
       "      <th>4</th>\n",
       "      <td>0.852941</td>\n",
       "      <td>1.000000</td>\n",
       "      <td>0.941176</td>\n",
       "      <td>0.676471</td>\n",
       "      <td>0.705882</td>\n",
       "    </tr>\n",
       "    <tr>\n",
       "      <th>5</th>\n",
       "      <td>0.823529</td>\n",
       "      <td>0.986159</td>\n",
       "      <td>0.979239</td>\n",
       "      <td>0.935986</td>\n",
       "      <td>0.894464</td>\n",
       "    </tr>\n",
       "    <tr>\n",
       "      <th>6</th>\n",
       "      <td>0.784516</td>\n",
       "      <td>0.971613</td>\n",
       "      <td>0.979355</td>\n",
       "      <td>0.916129</td>\n",
       "      <td>0.878710</td>\n",
       "    </tr>\n",
       "    <tr>\n",
       "      <th>7</th>\n",
       "      <td>0.810323</td>\n",
       "      <td>0.979355</td>\n",
       "      <td>0.976774</td>\n",
       "      <td>0.918710</td>\n",
       "      <td>0.894194</td>\n",
       "    </tr>\n",
       "    <tr>\n",
       "      <th>8</th>\n",
       "      <td>0.779355</td>\n",
       "      <td>0.970323</td>\n",
       "      <td>0.966452</td>\n",
       "      <td>0.914839</td>\n",
       "      <td>0.887742</td>\n",
       "    </tr>\n",
       "    <tr>\n",
       "      <th>9</th>\n",
       "      <td>0.815484</td>\n",
       "      <td>0.979355</td>\n",
       "      <td>0.978065</td>\n",
       "      <td>0.930323</td>\n",
       "      <td>0.872258</td>\n",
       "    </tr>\n",
       "  </tbody>\n",
       "</table>\n",
       "</div>"
      ],
      "text/plain": [
       "         LR       KNN        RF        GB        AB\n",
       "0  0.848485  1.000000  0.818182  0.606061  0.636364\n",
       "1  0.869565  0.978261  0.782609  0.630435  0.782609\n",
       "2  0.851064  0.957447  0.829787  0.723404  0.765957\n",
       "3  0.810811  0.972973  0.837838  0.567568  0.702703\n",
       "4  0.852941  1.000000  0.941176  0.676471  0.705882\n",
       "5  0.823529  0.986159  0.979239  0.935986  0.894464\n",
       "6  0.784516  0.971613  0.979355  0.916129  0.878710\n",
       "7  0.810323  0.979355  0.976774  0.918710  0.894194\n",
       "8  0.779355  0.970323  0.966452  0.914839  0.887742\n",
       "9  0.815484  0.979355  0.978065  0.930323  0.872258"
      ]
     },
     "metadata": {},
     "output_type": "display_data"
    }
   ],
   "source": [
    "results_dict2 = {name2: result2 for name2, result2 in zip(names2, results2)}\n",
    "\n",
    "# Create the DataFrame using the dictionary\n",
    "score2 = pd.DataFrame(results_dict2)\n",
    "\n",
    "# Print the DataFrame\n",
    "display(score2)"
   ]
  },
  {
   "cell_type": "code",
   "execution_count": 25,
   "id": "194abf31-43be-4281-a374-40fdbc5e5cee",
   "metadata": {
    "tags": []
   },
   "outputs": [],
   "source": [
    "score2.to_csv('../data/score/K3/scores_5_models_recall.csv', index=False)"
   ]
  },
  {
   "cell_type": "markdown",
   "id": "4298a1ea-706d-42cc-855e-45303c74069b",
   "metadata": {},
   "source": [
    "  "
   ]
  },
  {
   "cell_type": "markdown",
   "id": "e482ac2d-e311-4996-b1db-d3e23da904e4",
   "metadata": {
    "tags": []
   },
   "source": [
    "### Precision"
   ]
  },
  {
   "cell_type": "code",
   "execution_count": 26,
   "id": "c2913788-7b6c-4c38-b06b-8f67002b5c79",
   "metadata": {
    "tags": []
   },
   "outputs": [
    {
     "name": "stdout",
     "output_type": "stream",
     "text": [
      "LR: 0.5554012510354368 (0.4260790796572384)\n",
      "KNN: 0.6119448779039443 (0.38149322712270695)\n",
      "RF: 0.6909349291865349 (0.3071626483576144)\n",
      "GB: 0.5754454706473662 (0.41466601750466286)\n",
      "AB: 0.5585864211662037 (0.4285408291264093)\n"
     ]
    }
   ],
   "source": [
    "#evaluate each model in turn\n",
    "from sklearn.model_selection import KFold\n",
    "from sklearn.model_selection import cross_val_score\n",
    "import warnings\n",
    "warnings.filterwarnings('ignore')\n",
    "\n",
    "X_resampled3 = np.ascontiguousarray(X_resampled)\n",
    "y_resampled3 = np.ascontiguousarray(y_resampled)\n",
    "\n",
    "names3 = []\n",
    "results3 = []\n",
    "\n",
    "for name, model in models:\n",
    "    kfold = KFold(n_splits=10, shuffle=False)\n",
    "    cv_results3 = cross_val_score(model, X_resampled3, y_resampled3, cv=kfold, scoring=\"precision\")\n",
    "    results3.append(cv_results3)\n",
    "    names3.append(name)\n",
    "    msg3 = f\"{name}: {cv_results3.mean()} ({cv_results3.std()})\"\n",
    "    print(msg3)\n"
   ]
  },
  {
   "cell_type": "code",
   "execution_count": 27,
   "id": "8e474ad0-ff46-4ebe-9d2c-4d8ca54c2a79",
   "metadata": {
    "tags": []
   },
   "outputs": [
    {
     "data": {
      "image/png": "[encoded data removed]",
      "text/plain": [
       "<Figure size 1500x1000 with 1 Axes>"
      ]
     },
     "metadata": {},
     "output_type": "display_data"
    }
   ],
   "source": [
    "# boxplot algorithm comparison\n",
    "fig = plt.figure(figsize=(15,10))\n",
    "fig.suptitle('Algorithm Comparison -Precision-')\n",
    "ax = fig.add_subplot(111)\n",
    "plt.boxplot(results3)\n",
    "ax.set_xticklabels(names3)\n",
    "plt.show()"
   ]
  },
  {
   "cell_type": "code",
   "execution_count": 28,
   "id": "af975d52-02f0-4c09-b125-66d39e091747",
   "metadata": {
    "tags": []
   },
   "outputs": [
    {
     "data": {
      "text/html": [
       "<div>\n",
       "<style scoped>\n",
       "    .dataframe tbody tr th:only-of-type {\n",
       "        vertical-align: middle;\n",
       "    }\n",
       "\n",
       "    .dataframe tbody tr th {\n",
       "        vertical-align: top;\n",
       "    }\n",
       "\n",
       "    .dataframe thead th {\n",
       "        text-align: right;\n",
       "    }\n",
       "</style>\n",
       "<table border=\"1\" class=\"dataframe\">\n",
       "  <thead>\n",
       "    <tr style=\"text-align: right;\">\n",
       "      <th></th>\n",
       "      <th>LR</th>\n",
       "      <th>KNN</th>\n",
       "      <th>RF</th>\n",
       "      <th>GB</th>\n",
       "      <th>AB</th>\n",
       "    </tr>\n",
       "  </thead>\n",
       "  <tbody>\n",
       "    <tr>\n",
       "      <th>0</th>\n",
       "      <td>0.106870</td>\n",
       "      <td>0.208861</td>\n",
       "      <td>0.346154</td>\n",
       "      <td>0.128205</td>\n",
       "      <td>0.096774</td>\n",
       "    </tr>\n",
       "    <tr>\n",
       "      <th>1</th>\n",
       "      <td>0.157480</td>\n",
       "      <td>0.272727</td>\n",
       "      <td>0.423529</td>\n",
       "      <td>0.198630</td>\n",
       "      <td>0.165138</td>\n",
       "    </tr>\n",
       "    <tr>\n",
       "      <th>2</th>\n",
       "      <td>0.153257</td>\n",
       "      <td>0.266272</td>\n",
       "      <td>0.397959</td>\n",
       "      <td>0.200000</td>\n",
       "      <td>0.155172</td>\n",
       "    </tr>\n",
       "    <tr>\n",
       "      <th>3</th>\n",
       "      <td>0.109890</td>\n",
       "      <td>0.186528</td>\n",
       "      <td>0.316327</td>\n",
       "      <td>0.122093</td>\n",
       "      <td>0.113537</td>\n",
       "    </tr>\n",
       "    <tr>\n",
       "      <th>4</th>\n",
       "      <td>0.125000</td>\n",
       "      <td>0.222222</td>\n",
       "      <td>0.444444</td>\n",
       "      <td>0.159722</td>\n",
       "      <td>0.123711</td>\n",
       "    </tr>\n",
       "    <tr>\n",
       "      <th>5</th>\n",
       "      <td>0.901515</td>\n",
       "      <td>0.962838</td>\n",
       "      <td>0.980936</td>\n",
       "      <td>0.945804</td>\n",
       "      <td>0.931532</td>\n",
       "    </tr>\n",
       "    <tr>\n",
       "      <th>6</th>\n",
       "      <td>1.000000</td>\n",
       "      <td>1.000000</td>\n",
       "      <td>1.000000</td>\n",
       "      <td>1.000000</td>\n",
       "      <td>1.000000</td>\n",
       "    </tr>\n",
       "    <tr>\n",
       "      <th>7</th>\n",
       "      <td>1.000000</td>\n",
       "      <td>1.000000</td>\n",
       "      <td>1.000000</td>\n",
       "      <td>1.000000</td>\n",
       "      <td>1.000000</td>\n",
       "    </tr>\n",
       "    <tr>\n",
       "      <th>8</th>\n",
       "      <td>1.000000</td>\n",
       "      <td>1.000000</td>\n",
       "      <td>1.000000</td>\n",
       "      <td>1.000000</td>\n",
       "      <td>1.000000</td>\n",
       "    </tr>\n",
       "    <tr>\n",
       "      <th>9</th>\n",
       "      <td>1.000000</td>\n",
       "      <td>1.000000</td>\n",
       "      <td>1.000000</td>\n",
       "      <td>1.000000</td>\n",
       "      <td>1.000000</td>\n",
       "    </tr>\n",
       "  </tbody>\n",
       "</table>\n",
       "</div>"
      ],
      "text/plain": [
       "         LR       KNN        RF        GB        AB\n",
       "0  0.106870  0.208861  0.346154  0.128205  0.096774\n",
       "1  0.157480  0.272727  0.423529  0.198630  0.165138\n",
       "2  0.153257  0.266272  0.397959  0.200000  0.155172\n",
       "3  0.109890  0.186528  0.316327  0.122093  0.113537\n",
       "4  0.125000  0.222222  0.444444  0.159722  0.123711\n",
       "5  0.901515  0.962838  0.980936  0.945804  0.931532\n",
       "6  1.000000  1.000000  1.000000  1.000000  1.000000\n",
       "7  1.000000  1.000000  1.000000  1.000000  1.000000\n",
       "8  1.000000  1.000000  1.000000  1.000000  1.000000\n",
       "9  1.000000  1.000000  1.000000  1.000000  1.000000"
      ]
     },
     "metadata": {},
     "output_type": "display_data"
    }
   ],
   "source": [
    "results_dict3 = {name3: result3 for name3, result3 in zip(names3, results3)}\n",
    "\n",
    "# Create the DataFrame using the dictionary\n",
    "score3 = pd.DataFrame(results_dict3)\n",
    "\n",
    "# Print the DataFrame\n",
    "display(score3)"
   ]
  },
  {
   "cell_type": "code",
   "execution_count": 29,
   "id": "9e30f899-afe2-49df-b639-8ec9e5d72199",
   "metadata": {
    "tags": []
   },
   "outputs": [],
   "source": [
    "score3.to_csv('../data/score/K3/scores_5_models_precision.csv', index=False)"
   ]
  },
  {
   "cell_type": "markdown",
   "id": "4cef3a48-d84f-4424-a5de-9ca5e6c49318",
   "metadata": {},
   "source": [
    "### f1"
   ]
  },
  {
   "cell_type": "code",
   "execution_count": 30,
   "id": "2a350018-71f4-4f6d-b807-a85f972dd1eb",
   "metadata": {
    "tags": []
   },
   "outputs": [
    {
     "name": "stdout",
     "output_type": "stream",
     "text": [
      "LR: 0.5537425374511384 (0.3291125153621047)\n",
      "KNN: 0.6789474890816527 (0.30738721077103665)\n",
      "RF: 0.7566825936146744 (0.23204896994473315)\n",
      "GB: 0.6060632193348987 (0.35029908081284916)\n",
      "AB: 0.57693137788271 (0.35712310077562237)\n"
     ]
    }
   ],
   "source": [
    "#evaluate each model in turn\n",
    "from sklearn.model_selection import KFold\n",
    "from sklearn.model_selection import cross_val_score\n",
    "import warnings\n",
    "warnings.filterwarnings('ignore')\n",
    "\n",
    "X_resampled4 = np.ascontiguousarray(X_resampled)\n",
    "y_resampled4 = np.ascontiguousarray(y_resampled)\n",
    "\n",
    "names4 = []\n",
    "results4 = []\n",
    "\n",
    "for name, model in models:\n",
    "    kfold = KFold(n_splits=10, shuffle=False)\n",
    "    cv_results4 = cross_val_score(model, X_resampled4, y_resampled4, cv=kfold, scoring=\"f1\")\n",
    "    results4.append(cv_results4)\n",
    "    names4.append(name)\n",
    "    msg4 = f\"{name}: {cv_results4.mean()} ({cv_results4.std()})\"\n",
    "    print(msg4)\n"
   ]
  },
  {
   "cell_type": "code",
   "execution_count": 31,
   "id": "dbb4c484-9f47-49f2-b7bf-2102e5c7d124",
   "metadata": {
    "tags": []
   },
   "outputs": [
    {
     "data": {
      "image/png": "[encoded data removed]",
      "text/plain": [
       "<Figure size 1500x1000 with 1 Axes>"
      ]
     },
     "metadata": {},
     "output_type": "display_data"
    }
   ],
   "source": [
    "# boxplot algorithm comparison\n",
    "fig = plt.figure(figsize=(15,10))\n",
    "fig.suptitle('Algorithm Comparison -f1-')\n",
    "ax = fig.add_subplot(111)\n",
    "plt.boxplot(results4)\n",
    "ax.set_xticklabels(names4)\n",
    "plt.show()"
   ]
  },
  {
   "cell_type": "code",
   "execution_count": 32,
   "id": "9c34d545-5437-4013-bd24-0bfed06b68ef",
   "metadata": {
    "tags": []
   },
   "outputs": [
    {
     "data": {
      "text/html": [
       "<div>\n",
       "<style scoped>\n",
       "    .dataframe tbody tr th:only-of-type {\n",
       "        vertical-align: middle;\n",
       "    }\n",
       "\n",
       "    .dataframe tbody tr th {\n",
       "        vertical-align: top;\n",
       "    }\n",
       "\n",
       "    .dataframe thead th {\n",
       "        text-align: right;\n",
       "    }\n",
       "</style>\n",
       "<table border=\"1\" class=\"dataframe\">\n",
       "  <thead>\n",
       "    <tr style=\"text-align: right;\">\n",
       "      <th></th>\n",
       "      <th>LR</th>\n",
       "      <th>KNN</th>\n",
       "      <th>RF</th>\n",
       "      <th>GB</th>\n",
       "      <th>AB</th>\n",
       "    </tr>\n",
       "  </thead>\n",
       "  <tbody>\n",
       "    <tr>\n",
       "      <th>0</th>\n",
       "      <td>0.189831</td>\n",
       "      <td>0.345550</td>\n",
       "      <td>0.486486</td>\n",
       "      <td>0.211640</td>\n",
       "      <td>0.168000</td>\n",
       "    </tr>\n",
       "    <tr>\n",
       "      <th>1</th>\n",
       "      <td>0.266667</td>\n",
       "      <td>0.426540</td>\n",
       "      <td>0.549618</td>\n",
       "      <td>0.302083</td>\n",
       "      <td>0.272727</td>\n",
       "    </tr>\n",
       "    <tr>\n",
       "      <th>2</th>\n",
       "      <td>0.259740</td>\n",
       "      <td>0.416667</td>\n",
       "      <td>0.537931</td>\n",
       "      <td>0.313364</td>\n",
       "      <td>0.258065</td>\n",
       "    </tr>\n",
       "    <tr>\n",
       "      <th>3</th>\n",
       "      <td>0.193548</td>\n",
       "      <td>0.313043</td>\n",
       "      <td>0.459259</td>\n",
       "      <td>0.200957</td>\n",
       "      <td>0.195489</td>\n",
       "    </tr>\n",
       "    <tr>\n",
       "      <th>4</th>\n",
       "      <td>0.218045</td>\n",
       "      <td>0.363636</td>\n",
       "      <td>0.603774</td>\n",
       "      <td>0.258427</td>\n",
       "      <td>0.210526</td>\n",
       "    </tr>\n",
       "    <tr>\n",
       "      <th>5</th>\n",
       "      <td>0.860759</td>\n",
       "      <td>0.974359</td>\n",
       "      <td>0.980087</td>\n",
       "      <td>0.940870</td>\n",
       "      <td>0.912621</td>\n",
       "    </tr>\n",
       "    <tr>\n",
       "      <th>6</th>\n",
       "      <td>0.879248</td>\n",
       "      <td>0.985602</td>\n",
       "      <td>0.989570</td>\n",
       "      <td>0.956229</td>\n",
       "      <td>0.935440</td>\n",
       "    </tr>\n",
       "    <tr>\n",
       "      <th>7</th>\n",
       "      <td>0.895225</td>\n",
       "      <td>0.989570</td>\n",
       "      <td>0.988251</td>\n",
       "      <td>0.957633</td>\n",
       "      <td>0.944142</td>\n",
       "    </tr>\n",
       "    <tr>\n",
       "      <th>8</th>\n",
       "      <td>0.875997</td>\n",
       "      <td>0.984938</td>\n",
       "      <td>0.982940</td>\n",
       "      <td>0.955526</td>\n",
       "      <td>0.940533</td>\n",
       "    </tr>\n",
       "    <tr>\n",
       "      <th>9</th>\n",
       "      <td>0.898365</td>\n",
       "      <td>0.989570</td>\n",
       "      <td>0.988911</td>\n",
       "      <td>0.963904</td>\n",
       "      <td>0.931771</td>\n",
       "    </tr>\n",
       "  </tbody>\n",
       "</table>\n",
       "</div>"
      ],
      "text/plain": [
       "         LR       KNN        RF        GB        AB\n",
       "0  0.189831  0.345550  0.486486  0.211640  0.168000\n",
       "1  0.266667  0.426540  0.549618  0.302083  0.272727\n",
       "2  0.259740  0.416667  0.537931  0.313364  0.258065\n",
       "3  0.193548  0.313043  0.459259  0.200957  0.195489\n",
       "4  0.218045  0.363636  0.603774  0.258427  0.210526\n",
       "5  0.860759  0.974359  0.980087  0.940870  0.912621\n",
       "6  0.879248  0.985602  0.989570  0.956229  0.935440\n",
       "7  0.895225  0.989570  0.988251  0.957633  0.944142\n",
       "8  0.875997  0.984938  0.982940  0.955526  0.940533\n",
       "9  0.898365  0.989570  0.988911  0.963904  0.931771"
      ]
     },
     "metadata": {},
     "output_type": "display_data"
    }
   ],
   "source": [
    "results_dict4 = {name4: result4 for name4, result4 in zip(names4, results4)}\n",
    "\n",
    "# Create the DataFrame using the dictionary\n",
    "score4 = pd.DataFrame(results_dict4)\n",
    "\n",
    "# Print the DataFrame\n",
    "display(score4)"
   ]
  },
  {
   "cell_type": "code",
   "execution_count": 33,
   "id": "fb26b073-30b8-4c77-99b4-5632765f09fa",
   "metadata": {
    "tags": []
   },
   "outputs": [],
   "source": [
    "score4.to_csv('../data/score/K3/scores_5_models_f1.csv', index=False)"
   ]
  },
  {
   "cell_type": "code",
   "execution_count": null,
   "id": "59275e1e-ee52-4704-8b63-cb932c7ad472",
   "metadata": {},
   "outputs": [],
   "source": []
  }
 ],
 "metadata": {
  "kernelspec": {
   "display_name": "final_project_env",
   "language": "python",
   "name": "final_project_env"
  },
  "language_info": {
   "codemirror_mode": {
    "name": "ipython",
    "version": 3
   },
   "file_extension": ".py",
   "mimetype": "text/x-python",
   "name": "python",
   "nbconvert_exporter": "python",
   "pygments_lexer": "ipython3",
   "version": "3.11.3"
  }
 },
 "nbformat": 4,
 "nbformat_minor": 5
}
