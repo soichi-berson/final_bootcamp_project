{
 "cells": [
  {
   "cell_type": "markdown",
   "id": "fc6cd6b7-3cef-4992-9e20-c9ada62565dd",
   "metadata": {},
   "source": [
    "# 3_choose_learning_machine_models"
   ]
  },
  {
   "cell_type": "code",
   "execution_count": 1,
   "id": "6f0b1332-e5d5-405e-87c0-6f71765b12dd",
   "metadata": {
    "tags": []
   },
   "outputs": [],
   "source": [
    "import pandas as pd\n",
    "import numpy as np\n",
    "import seaborn as sns\n",
    "import matplotlib.pyplot as plt"
   ]
  },
  {
   "cell_type": "code",
   "execution_count": 2,
   "id": "ac273ad0-eb62-4d96-ba88-bfa07fce7392",
   "metadata": {
    "tags": []
   },
   "outputs": [
    {
     "data": {
      "text/html": [
       "<div>\n",
       "<style scoped>\n",
       "    .dataframe tbody tr th:only-of-type {\n",
       "        vertical-align: middle;\n",
       "    }\n",
       "\n",
       "    .dataframe tbody tr th {\n",
       "        vertical-align: top;\n",
       "    }\n",
       "\n",
       "    .dataframe thead th {\n",
       "        text-align: right;\n",
       "    }\n",
       "</style>\n",
       "<table border=\"1\" class=\"dataframe\">\n",
       "  <thead>\n",
       "    <tr style=\"text-align: right;\">\n",
       "      <th></th>\n",
       "      <th>age</th>\n",
       "      <th>hypertension</th>\n",
       "      <th>heart_disease</th>\n",
       "      <th>ever_married</th>\n",
       "      <th>avg_glucose_level</th>\n",
       "      <th>bmi</th>\n",
       "      <th>gender_F</th>\n",
       "      <th>gender_M</th>\n",
       "      <th>work_type_Govt_job</th>\n",
       "      <th>work_type_Other</th>\n",
       "      <th>work_type_Private</th>\n",
       "      <th>work_type_Self-employed</th>\n",
       "      <th>residence_type_Rural</th>\n",
       "      <th>residence_type_Urban</th>\n",
       "      <th>smoking_status_Unknown</th>\n",
       "      <th>smoking_status_formerly smoked</th>\n",
       "      <th>smoking_status_never smoked</th>\n",
       "      <th>smoking_status_smokes</th>\n",
       "      <th>stroke</th>\n",
       "    </tr>\n",
       "  </thead>\n",
       "  <tbody>\n",
       "    <tr>\n",
       "      <th>0</th>\n",
       "      <td>0.798993</td>\n",
       "      <td>0.0</td>\n",
       "      <td>1.0</td>\n",
       "      <td>1.0</td>\n",
       "      <td>0.958108</td>\n",
       "      <td>0.698613</td>\n",
       "      <td>0.0</td>\n",
       "      <td>1.0</td>\n",
       "      <td>0.0</td>\n",
       "      <td>0.0</td>\n",
       "      <td>1.0</td>\n",
       "      <td>0.0</td>\n",
       "      <td>0.0</td>\n",
       "      <td>1.0</td>\n",
       "      <td>0.0</td>\n",
       "      <td>1.0</td>\n",
       "      <td>0.0</td>\n",
       "      <td>0.0</td>\n",
       "      <td>1.0</td>\n",
       "    </tr>\n",
       "    <tr>\n",
       "      <th>1</th>\n",
       "      <td>0.720732</td>\n",
       "      <td>0.0</td>\n",
       "      <td>0.0</td>\n",
       "      <td>1.0</td>\n",
       "      <td>0.922984</td>\n",
       "      <td>0.556160</td>\n",
       "      <td>1.0</td>\n",
       "      <td>0.0</td>\n",
       "      <td>0.0</td>\n",
       "      <td>0.0</td>\n",
       "      <td>0.0</td>\n",
       "      <td>1.0</td>\n",
       "      <td>1.0</td>\n",
       "      <td>0.0</td>\n",
       "      <td>0.0</td>\n",
       "      <td>0.0</td>\n",
       "      <td>1.0</td>\n",
       "      <td>0.0</td>\n",
       "      <td>1.0</td>\n",
       "    </tr>\n",
       "    <tr>\n",
       "      <th>2</th>\n",
       "      <td>0.972816</td>\n",
       "      <td>0.0</td>\n",
       "      <td>1.0</td>\n",
       "      <td>1.0</td>\n",
       "      <td>0.633325</td>\n",
       "      <td>0.627946</td>\n",
       "      <td>0.0</td>\n",
       "      <td>1.0</td>\n",
       "      <td>0.0</td>\n",
       "      <td>0.0</td>\n",
       "      <td>1.0</td>\n",
       "      <td>0.0</td>\n",
       "      <td>1.0</td>\n",
       "      <td>0.0</td>\n",
       "      <td>0.0</td>\n",
       "      <td>0.0</td>\n",
       "      <td>1.0</td>\n",
       "      <td>0.0</td>\n",
       "      <td>1.0</td>\n",
       "    </tr>\n",
       "    <tr>\n",
       "      <th>3</th>\n",
       "      <td>0.569120</td>\n",
       "      <td>0.0</td>\n",
       "      <td>0.0</td>\n",
       "      <td>1.0</td>\n",
       "      <td>0.867266</td>\n",
       "      <td>0.661613</td>\n",
       "      <td>1.0</td>\n",
       "      <td>0.0</td>\n",
       "      <td>0.0</td>\n",
       "      <td>0.0</td>\n",
       "      <td>1.0</td>\n",
       "      <td>0.0</td>\n",
       "      <td>0.0</td>\n",
       "      <td>1.0</td>\n",
       "      <td>0.0</td>\n",
       "      <td>0.0</td>\n",
       "      <td>0.0</td>\n",
       "      <td>1.0</td>\n",
       "      <td>1.0</td>\n",
       "    </tr>\n",
       "    <tr>\n",
       "      <th>4</th>\n",
       "      <td>0.959265</td>\n",
       "      <td>1.0</td>\n",
       "      <td>0.0</td>\n",
       "      <td>1.0</td>\n",
       "      <td>0.873349</td>\n",
       "      <td>0.452413</td>\n",
       "      <td>1.0</td>\n",
       "      <td>0.0</td>\n",
       "      <td>0.0</td>\n",
       "      <td>0.0</td>\n",
       "      <td>0.0</td>\n",
       "      <td>1.0</td>\n",
       "      <td>1.0</td>\n",
       "      <td>0.0</td>\n",
       "      <td>0.0</td>\n",
       "      <td>0.0</td>\n",
       "      <td>1.0</td>\n",
       "      <td>0.0</td>\n",
       "      <td>1.0</td>\n",
       "    </tr>\n",
       "  </tbody>\n",
       "</table>\n",
       "</div>"
      ],
      "text/plain": [
       "        age  hypertension  heart_disease  ever_married  avg_glucose_level  \\\n",
       "0  0.798993           0.0            1.0           1.0           0.958108   \n",
       "1  0.720732           0.0            0.0           1.0           0.922984   \n",
       "2  0.972816           0.0            1.0           1.0           0.633325   \n",
       "3  0.569120           0.0            0.0           1.0           0.867266   \n",
       "4  0.959265           1.0            0.0           1.0           0.873349   \n",
       "\n",
       "        bmi  gender_F  gender_M  work_type_Govt_job  work_type_Other  \\\n",
       "0  0.698613       0.0       1.0                 0.0              0.0   \n",
       "1  0.556160       1.0       0.0                 0.0              0.0   \n",
       "2  0.627946       0.0       1.0                 0.0              0.0   \n",
       "3  0.661613       1.0       0.0                 0.0              0.0   \n",
       "4  0.452413       1.0       0.0                 0.0              0.0   \n",
       "\n",
       "   work_type_Private  work_type_Self-employed  residence_type_Rural  \\\n",
       "0                1.0                      0.0                   0.0   \n",
       "1                0.0                      1.0                   1.0   \n",
       "2                1.0                      0.0                   1.0   \n",
       "3                1.0                      0.0                   0.0   \n",
       "4                0.0                      1.0                   1.0   \n",
       "\n",
       "   residence_type_Urban  smoking_status_Unknown  \\\n",
       "0                   1.0                     0.0   \n",
       "1                   0.0                     0.0   \n",
       "2                   0.0                     0.0   \n",
       "3                   1.0                     0.0   \n",
       "4                   0.0                     0.0   \n",
       "\n",
       "   smoking_status_formerly smoked  smoking_status_never smoked  \\\n",
       "0                             1.0                          0.0   \n",
       "1                             0.0                          1.0   \n",
       "2                             0.0                          1.0   \n",
       "3                             0.0                          0.0   \n",
       "4                             0.0                          1.0   \n",
       "\n",
       "   smoking_status_smokes  stroke  \n",
       "0                    0.0     1.0  \n",
       "1                    0.0     1.0  \n",
       "2                    0.0     1.0  \n",
       "3                    1.0     1.0  \n",
       "4                    0.0     1.0  "
      ]
     },
     "execution_count": 2,
     "metadata": {},
     "output_type": "execute_result"
    }
   ],
   "source": [
    "#load the file \n",
    "data = pd.read_csv('../data/cleaned_data/cleaned_data.csv')\n",
    "data.head()\n"
   ]
  },
  {
   "cell_type": "markdown",
   "id": "6aa0f8ff-da64-4385-a969-a6ae331695e6",
   "metadata": {},
   "source": [
    "### x/y split"
   ]
  },
  {
   "cell_type": "code",
   "execution_count": 3,
   "id": "c9625b34-dcd6-4f59-9b20-d103efd0d91d",
   "metadata": {
    "tags": []
   },
   "outputs": [],
   "source": [
    "#separate the features from the labels\n",
    "y = data['stroke']\n",
    "X = data.drop(['stroke'], axis=1)"
   ]
  },
  {
   "cell_type": "code",
   "execution_count": 4,
   "id": "f36caa48-de31-4a3e-8047-7a7ff363a94b",
   "metadata": {
    "tags": []
   },
   "outputs": [
    {
     "data": {
      "text/plain": [
       "0    1.0\n",
       "Name: stroke, dtype: float64"
      ]
     },
     "execution_count": 4,
     "metadata": {},
     "output_type": "execute_result"
    }
   ],
   "source": [
    "y.head(1)"
   ]
  },
  {
   "cell_type": "code",
   "execution_count": 7,
   "id": "b11aa827-27a4-445b-925b-dbe0a5dc2d81",
   "metadata": {
    "tags": []
   },
   "outputs": [
    {
     "data": {
      "text/plain": [
       "dtype('int64')"
      ]
     },
     "execution_count": 7,
     "metadata": {},
     "output_type": "execute_result"
    }
   ],
   "source": [
    "# change the type of 'y'\n",
    "y = y.astype('int64')\n",
    "y.dtypes"
   ]
  },
  {
   "cell_type": "code",
   "execution_count": 10,
   "id": "c053205b-dabe-4c4d-a255-747d92b90cf2",
   "metadata": {
    "tags": []
   },
   "outputs": [],
   "source": [
    "from sklearn.model_selection import train_test_split\n",
    "\n",
    "X_train, X_test, y_train, y_test = train_test_split(X, y, test_size=0.2, random_state=123)"
   ]
  },
  {
   "cell_type": "code",
   "execution_count": 12,
   "id": "a0954aa6-4903-4ce0-bc2b-0d5a5b383641",
   "metadata": {
    "tags": []
   },
   "outputs": [
    {
     "data": {
      "text/plain": [
       "stroke\n",
       "0    3875\n",
       "1     201\n",
       "Name: count, dtype: int64"
      ]
     },
     "metadata": {},
     "output_type": "display_data"
    },
    {
     "data": {
      "text/plain": [
       "stroke\n",
       "0    972\n",
       "1     48\n",
       "Name: count, dtype: int64"
      ]
     },
     "metadata": {},
     "output_type": "display_data"
    }
   ],
   "source": [
    "display(y_train.value_counts())\n",
    "display(y_test.value_counts())"
   ]
  },
  {
   "cell_type": "markdown",
   "id": "e68db4b5-4560-476a-87e3-b63d33c60af6",
   "metadata": {},
   "source": [
    "##### As I mentioned earlier, it is clearly imbalanced and it needs Random oversampling  or SMOTE. \n",
    "##### Random oversampling can lead to overfitting, while SMOTE can help to reduce overfitting, as it increases the diversity in the dataset. In this case, SMOTE was chosen.\n",
    "reference: https://www.quora.com/Whats-the-difference-between-random-oversampling-and-oversampling-using-SMOTE-on-an-imbalanced-dataset-Is-the-later-always-better-then-the-first "
   ]
  },
  {
   "cell_type": "code",
   "execution_count": 17,
   "id": "035ec182-8770-4c34-b8bd-80afa5036902",
   "metadata": {
    "tags": []
   },
   "outputs": [],
   "source": [
    "from imblearn.over_sampling import SMOTE\n",
    "\n",
    "smote = SMOTE()\n",
    "# Fit and apply SMOTE to generate synthetic samples for the minority class\n",
    "X_resampled, y_resampled = smote.fit_resample(X_train, y_train)"
   ]
  },
  {
   "cell_type": "code",
   "execution_count": 18,
   "id": "0d801fa3-3642-4791-8e44-580b3b77ac91",
   "metadata": {
    "tags": []
   },
   "outputs": [
    {
     "data": {
      "text/plain": [
       "(7750, 18)"
      ]
     },
     "execution_count": 18,
     "metadata": {},
     "output_type": "execute_result"
    }
   ],
   "source": [
    "X_resampled.shape"
   ]
  },
  {
   "cell_type": "code",
   "execution_count": 19,
   "id": "c2671847-7ad9-4f2c-815f-9783f9967e1e",
   "metadata": {
    "tags": []
   },
   "outputs": [
    {
     "name": "stdout",
     "output_type": "stream",
     "text": [
      "stroke\n",
      "0    3875\n",
      "1    3875\n",
      "Name: count, dtype: int64\n"
     ]
    }
   ],
   "source": [
    "class_counts = y_resampled.value_counts()\n",
    "print(class_counts)"
   ]
  },
  {
   "cell_type": "code",
   "execution_count": 66,
   "id": "2dba9f8d-fde8-4a2b-a62c-06274e852d8a",
   "metadata": {
    "tags": []
   },
   "outputs": [
    {
     "data": {
      "text/plain": [
       "dtype('O')"
      ]
     },
     "execution_count": 66,
     "metadata": {},
     "output_type": "execute_result"
    }
   ],
   "source": [
    "# In order to apply K-NN, the type 'y' are changed into '~Object' \n",
    "y_resampled_obj = y_resampled.apply(lambda x: str(x))\n",
    "y_resampled_obj.dtypes"
   ]
  },
  {
   "cell_type": "code",
   "execution_count": 21,
   "id": "4bae4b9b-d5d3-4038-98fa-82d7f93ae769",
   "metadata": {
    "tags": []
   },
   "outputs": [],
   "source": [
    "# save train and test sets \n",
    "\n",
    "X_resampled.to_csv('../data/x_y_data/X_resampled.csv', index=False)\n",
    "y_resampled.to_csv('../data/x_y_data/y_resampled.csv', index=False)\n",
    "X_test.to_csv('../data/x_y_data/X_test.csv', index=False)\n",
    "y_test.to_csv('../data/x_y_data/y_test.csv', index=False)"
   ]
  },
  {
   "cell_type": "markdown",
   "id": "fd8f9d0d-3f13-4a1a-94c8-7000b76d626f",
   "metadata": {},
   "source": [
    "   "
   ]
  },
  {
   "cell_type": "markdown",
   "id": "efbebc1c-a25e-48dc-aaec-e3689eaa87f1",
   "metadata": {},
   "source": [
    "### Choosing models"
   ]
  },
  {
   "cell_type": "code",
   "execution_count": 40,
   "id": "94a2a493-7c60-4899-ac98-ea799077b553",
   "metadata": {
    "tags": []
   },
   "outputs": [
    {
     "data": {
      "text/plain": [
       "(7750, 18)"
      ]
     },
     "execution_count": 40,
     "metadata": {},
     "output_type": "execute_result"
    }
   ],
   "source": [
    "X_resampled.shape"
   ]
  },
  {
   "cell_type": "code",
   "execution_count": 43,
   "id": "353db8bb-3a6d-499c-86b7-9499d0ee60e6",
   "metadata": {
    "tags": []
   },
   "outputs": [
    {
     "data": {
      "text/plain": [
       "(7750,)"
      ]
     },
     "execution_count": 43,
     "metadata": {},
     "output_type": "execute_result"
    }
   ],
   "source": [
    "y_resampled.shape"
   ]
  },
  {
   "cell_type": "code",
   "execution_count": 90,
   "id": "85428941-4fc2-4143-9c51-cee4995b22ad",
   "metadata": {
    "tags": []
   },
   "outputs": [],
   "source": [
    "from sklearn.linear_model import LogisticRegression\n",
    "from sklearn.neighbors import KNeighborsClassifier\n",
    "from sklearn.ensemble import RandomForestClassifier\n",
    "from sklearn.ensemble import GradientBoostingClassifier\n",
    "from sklearn.ensemble import AdaBoostClassifier\n",
    "\n",
    "\n",
    "models = []\n",
    "models.append(('LR', LogisticRegression(random_state = 12345)))\n",
    "models.append(('KNN', KNeighborsClassifier()))\n",
    "models.append(('RF', RandomForestClassifier(random_state = 12345)))\n",
    "models.append(('GB', GradientBoostingClassifier(random_state = 12345)))\n",
    "models.append(('AB', AdaBoostClassifier(random_state = 12345)))"
   ]
  },
  {
   "cell_type": "code",
   "execution_count": 91,
   "id": "aea6f3fc-6229-4513-b40e-797709e19c04",
   "metadata": {
    "tags": []
   },
   "outputs": [
    {
     "name": "stdout",
     "output_type": "stream",
     "text": [
      "LR: 0.755483870967742 (0.04424226182655737)\n",
      "KNN: 0.8992258064516129 (0.0690833696825897)\n",
      "RF: 0.9469677419354838 (0.02511625415313167)\n",
      "GB: 0.8603870967741936 (0.04768191519245422)\n",
      "AB: 0.8105806451612902 (0.061005927621787685)\n"
     ]
    }
   ],
   "source": [
    "# evaluate each model in turn\n",
    "from sklearn.model_selection import KFold\n",
    "from sklearn.model_selection import cross_val_score\n",
    "import warnings\n",
    "warnings.filterwarnings('ignore')\n",
    "\n",
    "X_resampled2 = np.ascontiguousarray(X_resampled)\n",
    "y_resampled2 = np.ascontiguousarray(y_resampled)\n",
    "\n",
    "names = []\n",
    "results = []\n",
    "\n",
    "for name, model in models:\n",
    "    kfold = KFold(n_splits=10, shuffle=False)\n",
    "    cv_results = cross_val_score(model, X_resampled2, y_resampled2, cv=kfold, scoring=\"accuracy\")\n",
    "    results.append(cv_results)\n",
    "    names.append(name)\n",
    "    msg = f\"{name}: {cv_results.mean()} ({cv_results.std()})\"\n",
    "    print(msg)\n"
   ]
  },
  {
   "cell_type": "code",
   "execution_count": 92,
   "id": "b81101bf-df07-4b2d-899b-cfe870300806",
   "metadata": {
    "tags": []
   },
   "outputs": [
    {
     "data": {
      "image/png": "[encoded data removed]",
      "text/plain": [
       "<Figure size 1500x1000 with 1 Axes>"
      ]
     },
     "metadata": {},
     "output_type": "display_data"
    }
   ],
   "source": [
    "# boxplot algorithm comparison\n",
    "fig = plt.figure(figsize=(15,10))\n",
    "fig.suptitle('Algorithm Comparison')\n",
    "ax = fig.add_subplot(111)\n",
    "plt.boxplot(results)\n",
    "ax.set_xticklabels(names)\n",
    "plt.show()"
   ]
  },
  {
   "cell_type": "markdown",
   "id": "da90aed6-4a46-4d5d-a394-b5ecddf42333",
   "metadata": {},
   "source": [
    "####  KNN and Random Forest  are chosen. In addition, nuural network is investigated."
   ]
  },
  {
   "cell_type": "code",
   "execution_count": 93,
   "id": "ec05eede-9451-4211-a146-7fbf446d25bd",
   "metadata": {
    "tags": []
   },
   "outputs": [
    {
     "data": {
      "text/plain": [
       "['LR', 'KNN', 'RF', 'GB', 'AB']"
      ]
     },
     "execution_count": 93,
     "metadata": {},
     "output_type": "execute_result"
    }
   ],
   "source": [
    "names"
   ]
  },
  {
   "cell_type": "code",
   "execution_count": 94,
   "id": "26e81f0d-2b34-45e0-81da-36973b56a5a9",
   "metadata": {
    "tags": []
   },
   "outputs": [
    {
     "data": {
      "text/plain": [
       "[array([0.70322581, 0.72774194, 0.71612903, 0.68516129, 0.74193548,\n",
       "        0.80645161, 0.76774194, 0.80774194, 0.80516129, 0.79354839]),\n",
       " array([0.8283871 , 0.83225806, 0.85032258, 0.79612903, 0.85419355,\n",
       "        0.94967742, 0.95612903, 0.98322581, 0.96645161, 0.97548387]),\n",
       " array([0.92903226, 0.91483871, 0.9316129 , 0.90322581, 0.94580645,\n",
       "        0.96903226, 0.95612903, 0.98322581, 0.96774194, 0.96903226]),\n",
       " array([0.81290323, 0.82709677, 0.79741935, 0.79870968, 0.83870968,\n",
       "        0.89677419, 0.88903226, 0.92      , 0.92129032, 0.90193548]),\n",
       " array([0.75741935, 0.7716129 , 0.72903226, 0.72387097, 0.77806452,\n",
       "        0.86064516, 0.85419355, 0.87741935, 0.87870968, 0.87483871])]"
      ]
     },
     "execution_count": 94,
     "metadata": {},
     "output_type": "execute_result"
    }
   ],
   "source": [
    "results"
   ]
  },
  {
   "cell_type": "code",
   "execution_count": 95,
   "id": "13ed925c-3ec9-4eb2-a05b-2653b5fdb5e9",
   "metadata": {
    "tags": []
   },
   "outputs": [
    {
     "data": {
      "text/html": [
       "<div>\n",
       "<style scoped>\n",
       "    .dataframe tbody tr th:only-of-type {\n",
       "        vertical-align: middle;\n",
       "    }\n",
       "\n",
       "    .dataframe tbody tr th {\n",
       "        vertical-align: top;\n",
       "    }\n",
       "\n",
       "    .dataframe thead th {\n",
       "        text-align: right;\n",
       "    }\n",
       "</style>\n",
       "<table border=\"1\" class=\"dataframe\">\n",
       "  <thead>\n",
       "    <tr style=\"text-align: right;\">\n",
       "      <th></th>\n",
       "      <th>LR</th>\n",
       "      <th>KNN</th>\n",
       "      <th>RF</th>\n",
       "      <th>GB</th>\n",
       "      <th>AB</th>\n",
       "    </tr>\n",
       "  </thead>\n",
       "  <tbody>\n",
       "    <tr>\n",
       "      <th>0</th>\n",
       "      <td>0.703226</td>\n",
       "      <td>0.828387</td>\n",
       "      <td>0.929032</td>\n",
       "      <td>0.812903</td>\n",
       "      <td>0.757419</td>\n",
       "    </tr>\n",
       "    <tr>\n",
       "      <th>1</th>\n",
       "      <td>0.727742</td>\n",
       "      <td>0.832258</td>\n",
       "      <td>0.914839</td>\n",
       "      <td>0.827097</td>\n",
       "      <td>0.771613</td>\n",
       "    </tr>\n",
       "    <tr>\n",
       "      <th>2</th>\n",
       "      <td>0.716129</td>\n",
       "      <td>0.850323</td>\n",
       "      <td>0.931613</td>\n",
       "      <td>0.797419</td>\n",
       "      <td>0.729032</td>\n",
       "    </tr>\n",
       "    <tr>\n",
       "      <th>3</th>\n",
       "      <td>0.685161</td>\n",
       "      <td>0.796129</td>\n",
       "      <td>0.903226</td>\n",
       "      <td>0.798710</td>\n",
       "      <td>0.723871</td>\n",
       "    </tr>\n",
       "    <tr>\n",
       "      <th>4</th>\n",
       "      <td>0.741935</td>\n",
       "      <td>0.854194</td>\n",
       "      <td>0.945806</td>\n",
       "      <td>0.838710</td>\n",
       "      <td>0.778065</td>\n",
       "    </tr>\n",
       "    <tr>\n",
       "      <th>5</th>\n",
       "      <td>0.806452</td>\n",
       "      <td>0.949677</td>\n",
       "      <td>0.969032</td>\n",
       "      <td>0.896774</td>\n",
       "      <td>0.860645</td>\n",
       "    </tr>\n",
       "    <tr>\n",
       "      <th>6</th>\n",
       "      <td>0.767742</td>\n",
       "      <td>0.956129</td>\n",
       "      <td>0.956129</td>\n",
       "      <td>0.889032</td>\n",
       "      <td>0.854194</td>\n",
       "    </tr>\n",
       "    <tr>\n",
       "      <th>7</th>\n",
       "      <td>0.807742</td>\n",
       "      <td>0.983226</td>\n",
       "      <td>0.983226</td>\n",
       "      <td>0.920000</td>\n",
       "      <td>0.877419</td>\n",
       "    </tr>\n",
       "    <tr>\n",
       "      <th>8</th>\n",
       "      <td>0.805161</td>\n",
       "      <td>0.966452</td>\n",
       "      <td>0.967742</td>\n",
       "      <td>0.921290</td>\n",
       "      <td>0.878710</td>\n",
       "    </tr>\n",
       "    <tr>\n",
       "      <th>9</th>\n",
       "      <td>0.793548</td>\n",
       "      <td>0.975484</td>\n",
       "      <td>0.969032</td>\n",
       "      <td>0.901935</td>\n",
       "      <td>0.874839</td>\n",
       "    </tr>\n",
       "  </tbody>\n",
       "</table>\n",
       "</div>"
      ],
      "text/plain": [
       "         LR       KNN        RF        GB        AB\n",
       "0  0.703226  0.828387  0.929032  0.812903  0.757419\n",
       "1  0.727742  0.832258  0.914839  0.827097  0.771613\n",
       "2  0.716129  0.850323  0.931613  0.797419  0.729032\n",
       "3  0.685161  0.796129  0.903226  0.798710  0.723871\n",
       "4  0.741935  0.854194  0.945806  0.838710  0.778065\n",
       "5  0.806452  0.949677  0.969032  0.896774  0.860645\n",
       "6  0.767742  0.956129  0.956129  0.889032  0.854194\n",
       "7  0.807742  0.983226  0.983226  0.920000  0.877419\n",
       "8  0.805161  0.966452  0.967742  0.921290  0.878710\n",
       "9  0.793548  0.975484  0.969032  0.901935  0.874839"
      ]
     },
     "metadata": {},
     "output_type": "display_data"
    }
   ],
   "source": [
    "results_dict = {name: result for name, result in zip(names, results)}\n",
    "\n",
    "# Create the DataFrame using the dictionary\n",
    "score = pd.DataFrame(results_dict)\n",
    "\n",
    "# Print the DataFrame\n",
    "display(score)"
   ]
  },
  {
   "cell_type": "code",
   "execution_count": 96,
   "id": "a9267dab-8eb3-4226-a9e0-2400a0fe4c9f",
   "metadata": {
    "tags": []
   },
   "outputs": [],
   "source": [
    "score.to_csv('../data/score/scores_5_models.csv', index=False)"
   ]
  },
  {
   "cell_type": "code",
   "execution_count": null,
   "id": "d6b75d45-64f4-464d-8126-7b747a1f0024",
   "metadata": {},
   "outputs": [],
   "source": []
  }
 ],
 "metadata": {
  "kernelspec": {
   "display_name": "final_project_env",
   "language": "python",
   "name": "final_project_env"
  },
  "language_info": {
   "codemirror_mode": {
    "name": "ipython",
    "version": 3
   },
   "file_extension": ".py",
   "mimetype": "text/x-python",
   "name": "python",
   "nbconvert_exporter": "python",
   "pygments_lexer": "ipython3",
   "version": "3.11.3"
  }
 },
 "nbformat": 4,
 "nbformat_minor": 5
}
