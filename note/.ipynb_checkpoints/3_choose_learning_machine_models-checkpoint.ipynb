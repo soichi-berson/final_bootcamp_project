{
 "cells": [
  {
   "cell_type": "markdown",
   "id": "fc6cd6b7-3cef-4992-9e20-c9ada62565dd",
   "metadata": {},
   "source": [
    "# 3_choose_learning_machine_models"
   ]
  },
  {
   "cell_type": "code",
   "execution_count": 1,
   "id": "6f0b1332-e5d5-405e-87c0-6f71765b12dd",
   "metadata": {
    "tags": []
   },
   "outputs": [],
   "source": [
    "import pandas as pd\n",
    "import numpy as np\n",
    "import seaborn as sns\n",
    "import matplotlib.pyplot as plt"
   ]
  },
  {
   "cell_type": "code",
   "execution_count": 2,
   "id": "ac273ad0-eb62-4d96-ba88-bfa07fce7392",
   "metadata": {
    "tags": []
   },
   "outputs": [
    {
     "data": {
      "text/html": [
       "<div>\n",
       "<style scoped>\n",
       "    .dataframe tbody tr th:only-of-type {\n",
       "        vertical-align: middle;\n",
       "    }\n",
       "\n",
       "    .dataframe tbody tr th {\n",
       "        vertical-align: top;\n",
       "    }\n",
       "\n",
       "    .dataframe thead th {\n",
       "        text-align: right;\n",
       "    }\n",
       "</style>\n",
       "<table border=\"1\" class=\"dataframe\">\n",
       "  <thead>\n",
       "    <tr style=\"text-align: right;\">\n",
       "      <th></th>\n",
       "      <th>age</th>\n",
       "      <th>hypertension</th>\n",
       "      <th>heart_disease</th>\n",
       "      <th>ever_married</th>\n",
       "      <th>avg_glucose_level</th>\n",
       "      <th>bmi</th>\n",
       "      <th>gender_F</th>\n",
       "      <th>gender_M</th>\n",
       "      <th>work_type_Govt_job</th>\n",
       "      <th>work_type_Other</th>\n",
       "      <th>work_type_Private</th>\n",
       "      <th>work_type_Self-employed</th>\n",
       "      <th>residence_type_Rural</th>\n",
       "      <th>residence_type_Urban</th>\n",
       "      <th>smoking_status_Unknown</th>\n",
       "      <th>smoking_status_formerly smoked</th>\n",
       "      <th>smoking_status_never smoked</th>\n",
       "      <th>smoking_status_smokes</th>\n",
       "      <th>stroke</th>\n",
       "    </tr>\n",
       "  </thead>\n",
       "  <tbody>\n",
       "    <tr>\n",
       "      <th>0</th>\n",
       "      <td>0.798993</td>\n",
       "      <td>0.0</td>\n",
       "      <td>1.0</td>\n",
       "      <td>1.0</td>\n",
       "      <td>0.958108</td>\n",
       "      <td>0.698613</td>\n",
       "      <td>0.0</td>\n",
       "      <td>1.0</td>\n",
       "      <td>0.0</td>\n",
       "      <td>0.0</td>\n",
       "      <td>1.0</td>\n",
       "      <td>0.0</td>\n",
       "      <td>0.0</td>\n",
       "      <td>1.0</td>\n",
       "      <td>0.0</td>\n",
       "      <td>1.0</td>\n",
       "      <td>0.0</td>\n",
       "      <td>0.0</td>\n",
       "      <td>1.0</td>\n",
       "    </tr>\n",
       "    <tr>\n",
       "      <th>1</th>\n",
       "      <td>0.720732</td>\n",
       "      <td>0.0</td>\n",
       "      <td>0.0</td>\n",
       "      <td>1.0</td>\n",
       "      <td>0.922984</td>\n",
       "      <td>0.556160</td>\n",
       "      <td>1.0</td>\n",
       "      <td>0.0</td>\n",
       "      <td>0.0</td>\n",
       "      <td>0.0</td>\n",
       "      <td>0.0</td>\n",
       "      <td>1.0</td>\n",
       "      <td>1.0</td>\n",
       "      <td>0.0</td>\n",
       "      <td>0.0</td>\n",
       "      <td>0.0</td>\n",
       "      <td>1.0</td>\n",
       "      <td>0.0</td>\n",
       "      <td>1.0</td>\n",
       "    </tr>\n",
       "    <tr>\n",
       "      <th>2</th>\n",
       "      <td>0.972816</td>\n",
       "      <td>0.0</td>\n",
       "      <td>1.0</td>\n",
       "      <td>1.0</td>\n",
       "      <td>0.633325</td>\n",
       "      <td>0.627946</td>\n",
       "      <td>0.0</td>\n",
       "      <td>1.0</td>\n",
       "      <td>0.0</td>\n",
       "      <td>0.0</td>\n",
       "      <td>1.0</td>\n",
       "      <td>0.0</td>\n",
       "      <td>1.0</td>\n",
       "      <td>0.0</td>\n",
       "      <td>0.0</td>\n",
       "      <td>0.0</td>\n",
       "      <td>1.0</td>\n",
       "      <td>0.0</td>\n",
       "      <td>1.0</td>\n",
       "    </tr>\n",
       "    <tr>\n",
       "      <th>3</th>\n",
       "      <td>0.569120</td>\n",
       "      <td>0.0</td>\n",
       "      <td>0.0</td>\n",
       "      <td>1.0</td>\n",
       "      <td>0.867266</td>\n",
       "      <td>0.661613</td>\n",
       "      <td>1.0</td>\n",
       "      <td>0.0</td>\n",
       "      <td>0.0</td>\n",
       "      <td>0.0</td>\n",
       "      <td>1.0</td>\n",
       "      <td>0.0</td>\n",
       "      <td>0.0</td>\n",
       "      <td>1.0</td>\n",
       "      <td>0.0</td>\n",
       "      <td>0.0</td>\n",
       "      <td>0.0</td>\n",
       "      <td>1.0</td>\n",
       "      <td>1.0</td>\n",
       "    </tr>\n",
       "    <tr>\n",
       "      <th>4</th>\n",
       "      <td>0.959265</td>\n",
       "      <td>1.0</td>\n",
       "      <td>0.0</td>\n",
       "      <td>1.0</td>\n",
       "      <td>0.873349</td>\n",
       "      <td>0.452413</td>\n",
       "      <td>1.0</td>\n",
       "      <td>0.0</td>\n",
       "      <td>0.0</td>\n",
       "      <td>0.0</td>\n",
       "      <td>0.0</td>\n",
       "      <td>1.0</td>\n",
       "      <td>1.0</td>\n",
       "      <td>0.0</td>\n",
       "      <td>0.0</td>\n",
       "      <td>0.0</td>\n",
       "      <td>1.0</td>\n",
       "      <td>0.0</td>\n",
       "      <td>1.0</td>\n",
       "    </tr>\n",
       "  </tbody>\n",
       "</table>\n",
       "</div>"
      ],
      "text/plain": [
       "        age  hypertension  heart_disease  ever_married  avg_glucose_level  \\\n",
       "0  0.798993           0.0            1.0           1.0           0.958108   \n",
       "1  0.720732           0.0            0.0           1.0           0.922984   \n",
       "2  0.972816           0.0            1.0           1.0           0.633325   \n",
       "3  0.569120           0.0            0.0           1.0           0.867266   \n",
       "4  0.959265           1.0            0.0           1.0           0.873349   \n",
       "\n",
       "        bmi  gender_F  gender_M  work_type_Govt_job  work_type_Other  \\\n",
       "0  0.698613       0.0       1.0                 0.0              0.0   \n",
       "1  0.556160       1.0       0.0                 0.0              0.0   \n",
       "2  0.627946       0.0       1.0                 0.0              0.0   \n",
       "3  0.661613       1.0       0.0                 0.0              0.0   \n",
       "4  0.452413       1.0       0.0                 0.0              0.0   \n",
       "\n",
       "   work_type_Private  work_type_Self-employed  residence_type_Rural  \\\n",
       "0                1.0                      0.0                   0.0   \n",
       "1                0.0                      1.0                   1.0   \n",
       "2                1.0                      0.0                   1.0   \n",
       "3                1.0                      0.0                   0.0   \n",
       "4                0.0                      1.0                   1.0   \n",
       "\n",
       "   residence_type_Urban  smoking_status_Unknown  \\\n",
       "0                   1.0                     0.0   \n",
       "1                   0.0                     0.0   \n",
       "2                   0.0                     0.0   \n",
       "3                   1.0                     0.0   \n",
       "4                   0.0                     0.0   \n",
       "\n",
       "   smoking_status_formerly smoked  smoking_status_never smoked  \\\n",
       "0                             1.0                          0.0   \n",
       "1                             0.0                          1.0   \n",
       "2                             0.0                          1.0   \n",
       "3                             0.0                          0.0   \n",
       "4                             0.0                          1.0   \n",
       "\n",
       "   smoking_status_smokes  stroke  \n",
       "0                    0.0     1.0  \n",
       "1                    0.0     1.0  \n",
       "2                    0.0     1.0  \n",
       "3                    1.0     1.0  \n",
       "4                    0.0     1.0  "
      ]
     },
     "execution_count": 2,
     "metadata": {},
     "output_type": "execute_result"
    }
   ],
   "source": [
    "#load the file \n",
    "data = pd.read_csv('../data/cleaned_data/cleaned_data.csv')\n",
    "data.head()\n"
   ]
  },
  {
   "cell_type": "markdown",
   "id": "6aa0f8ff-da64-4385-a969-a6ae331695e6",
   "metadata": {},
   "source": [
    "### x/y split"
   ]
  },
  {
   "cell_type": "code",
   "execution_count": 3,
   "id": "c9625b34-dcd6-4f59-9b20-d103efd0d91d",
   "metadata": {
    "tags": []
   },
   "outputs": [],
   "source": [
    "#separate the features from the labels\n",
    "y = data['stroke']\n",
    "X = data.drop(['stroke'], axis=1)"
   ]
  },
  {
   "cell_type": "code",
   "execution_count": 4,
   "id": "f36caa48-de31-4a3e-8047-7a7ff363a94b",
   "metadata": {
    "tags": []
   },
   "outputs": [
    {
     "data": {
      "text/plain": [
       "0    1.0\n",
       "Name: stroke, dtype: float64"
      ]
     },
     "execution_count": 4,
     "metadata": {},
     "output_type": "execute_result"
    }
   ],
   "source": [
    "y.head(1)"
   ]
  },
  {
   "cell_type": "code",
   "execution_count": 7,
   "id": "b11aa827-27a4-445b-925b-dbe0a5dc2d81",
   "metadata": {
    "tags": []
   },
   "outputs": [
    {
     "data": {
      "text/plain": [
       "dtype('int64')"
      ]
     },
     "execution_count": 7,
     "metadata": {},
     "output_type": "execute_result"
    }
   ],
   "source": [
    "# change the type of 'y'\n",
    "y = y.astype('int64')\n",
    "y.dtypes"
   ]
  },
  {
   "cell_type": "code",
   "execution_count": 10,
   "id": "c053205b-dabe-4c4d-a255-747d92b90cf2",
   "metadata": {
    "tags": []
   },
   "outputs": [],
   "source": [
    "from sklearn.model_selection import train_test_split\n",
    "\n",
    "X_train, X_test, y_train, y_test = train_test_split(X, y, test_size=0.2, random_state=123)"
   ]
  },
  {
   "cell_type": "code",
   "execution_count": 12,
   "id": "a0954aa6-4903-4ce0-bc2b-0d5a5b383641",
   "metadata": {
    "tags": []
   },
   "outputs": [
    {
     "data": {
      "text/plain": [
       "stroke\n",
       "0    3875\n",
       "1     201\n",
       "Name: count, dtype: int64"
      ]
     },
     "metadata": {},
     "output_type": "display_data"
    },
    {
     "data": {
      "text/plain": [
       "stroke\n",
       "0    972\n",
       "1     48\n",
       "Name: count, dtype: int64"
      ]
     },
     "metadata": {},
     "output_type": "display_data"
    }
   ],
   "source": [
    "display(y_train.value_counts())\n",
    "display(y_test.value_counts())"
   ]
  },
  {
   "cell_type": "markdown",
   "id": "e68db4b5-4560-476a-87e3-b63d33c60af6",
   "metadata": {},
   "source": [
    "##### As I mentioned earlier, it is clearly imbalanced and it needs Random oversampling  or SMOTE. \n",
    "##### Random oversampling can lead to overfitting, while SMOTE can help to reduce overfitting, as it increases the diversity in the dataset. In this case, SMOTE was chosen.\n",
    "reference: https://www.quora.com/Whats-the-difference-between-random-oversampling-and-oversampling-using-SMOTE-on-an-imbalanced-dataset-Is-the-later-always-better-then-the-first "
   ]
  },
  {
   "cell_type": "code",
   "execution_count": 17,
   "id": "035ec182-8770-4c34-b8bd-80afa5036902",
   "metadata": {
    "tags": []
   },
   "outputs": [],
   "source": [
    "from imblearn.over_sampling import SMOTE\n",
    "\n",
    "smote = SMOTE()\n",
    "# Fit and apply SMOTE to generate synthetic samples for the minority class\n",
    "X_resampled, y_resampled = smote.fit_resample(X_train, y_train)"
   ]
  },
  {
   "cell_type": "code",
   "execution_count": 18,
   "id": "0d801fa3-3642-4791-8e44-580b3b77ac91",
   "metadata": {
    "tags": []
   },
   "outputs": [
    {
     "data": {
      "text/plain": [
       "(7750, 18)"
      ]
     },
     "execution_count": 18,
     "metadata": {},
     "output_type": "execute_result"
    }
   ],
   "source": [
    "X_resampled.shape"
   ]
  },
  {
   "cell_type": "code",
   "execution_count": 19,
   "id": "c2671847-7ad9-4f2c-815f-9783f9967e1e",
   "metadata": {
    "tags": []
   },
   "outputs": [
    {
     "name": "stdout",
     "output_type": "stream",
     "text": [
      "stroke\n",
      "0    3875\n",
      "1    3875\n",
      "Name: count, dtype: int64\n"
     ]
    }
   ],
   "source": [
    "class_counts = y_resampled.value_counts()\n",
    "print(class_counts)"
   ]
  },
  {
   "cell_type": "code",
   "execution_count": 66,
   "id": "2dba9f8d-fde8-4a2b-a62c-06274e852d8a",
   "metadata": {
    "tags": []
   },
   "outputs": [
    {
     "data": {
      "text/plain": [
       "dtype('O')"
      ]
     },
     "execution_count": 66,
     "metadata": {},
     "output_type": "execute_result"
    }
   ],
   "source": [
    "# In order to apply K-NN, the type 'y' are changed into '~Object' \n",
    "y_resampled_obj = y_resampled.apply(lambda x: str(x))\n",
    "y_resampled_obj.dtypes"
   ]
  },
  {
   "cell_type": "code",
   "execution_count": 21,
   "id": "4bae4b9b-d5d3-4038-98fa-82d7f93ae769",
   "metadata": {
    "tags": []
   },
   "outputs": [],
   "source": [
    "# save train and test sets \n",
    "\n",
    "X_resampled.to_csv('../data/x_y_data/X_resampled.csv', index=False)\n",
    "y_resampled.to_csv('../data/x_y_data/y_resampled.csv', index=False)\n",
    "X_test.to_csv('../data/x_y_data/X_test.csv', index=False)\n",
    "y_test.to_csv('../data/x_y_data/y_test.csv', index=False)"
   ]
  },
  {
   "cell_type": "markdown",
   "id": "fd8f9d0d-3f13-4a1a-94c8-7000b76d626f",
   "metadata": {},
   "source": [
    "   "
   ]
  },
  {
   "cell_type": "markdown",
   "id": "efbebc1c-a25e-48dc-aaec-e3689eaa87f1",
   "metadata": {},
   "source": [
    "### Choosing models"
   ]
  },
  {
   "cell_type": "code",
   "execution_count": 40,
   "id": "94a2a493-7c60-4899-ac98-ea799077b553",
   "metadata": {
    "tags": []
   },
   "outputs": [
    {
     "data": {
      "text/plain": [
       "(7750, 18)"
      ]
     },
     "execution_count": 40,
     "metadata": {},
     "output_type": "execute_result"
    }
   ],
   "source": [
    "X_resampled.shape"
   ]
  },
  {
   "cell_type": "code",
   "execution_count": 43,
   "id": "353db8bb-3a6d-499c-86b7-9499d0ee60e6",
   "metadata": {
    "tags": []
   },
   "outputs": [
    {
     "data": {
      "text/plain": [
       "(7750,)"
      ]
     },
     "execution_count": 43,
     "metadata": {},
     "output_type": "execute_result"
    }
   ],
   "source": [
    "y_resampled.shape"
   ]
  },
  {
   "cell_type": "code",
   "execution_count": 90,
   "id": "85428941-4fc2-4143-9c51-cee4995b22ad",
   "metadata": {
    "tags": []
   },
   "outputs": [],
   "source": [
    "from sklearn.linear_model import LogisticRegression\n",
    "from sklearn.neighbors import KNeighborsClassifier\n",
    "from sklearn.ensemble import RandomForestClassifier\n",
    "from sklearn.ensemble import GradientBoostingClassifier\n",
    "from sklearn.ensemble import AdaBoostClassifier\n",
    "\n",
    "\n",
    "models = []\n",
    "models.append(('LR', LogisticRegression(random_state = 12345)))\n",
    "models.append(('KNN', KNeighborsClassifier()))\n",
    "models.append(('RF', RandomForestClassifier(random_state = 12345)))\n",
    "models.append(('GB', GradientBoostingClassifier(random_state = 12345)))\n",
    "models.append(('AB', AdaBoostClassifier(random_state = 12345)))"
   ]
  },
  {
   "cell_type": "code",
   "execution_count": 91,
   "id": "aea6f3fc-6229-4513-b40e-797709e19c04",
   "metadata": {
    "tags": []
   },
   "outputs": [
    {
     "name": "stdout",
     "output_type": "stream",
     "text": [
      "LR: 0.755483870967742 (0.04424226182655737)\n",
      "KNN: 0.8992258064516129 (0.0690833696825897)\n",
      "RF: 0.9469677419354838 (0.02511625415313167)\n",
      "GB: 0.8603870967741936 (0.04768191519245422)\n",
      "AB: 0.8105806451612902 (0.061005927621787685)\n"
     ]
    }
   ],
   "source": [
    "# evaluate each model in turn\n",
    "from sklearn.model_selection import KFold\n",
    "from sklearn.model_selection import cross_val_score\n",
    "import warnings\n",
    "warnings.filterwarnings('ignore')\n",
    "\n",
    "X_resampled2 = np.ascontiguousarray(X_resampled)\n",
    "y_resampled2 = np.ascontiguousarray(y_resampled)\n",
    "\n",
    "names = []\n",
    "results = []\n",
    "\n",
    "for name, model in models:\n",
    "    kfold = KFold(n_splits=10, shuffle=False)\n",
    "    cv_results = cross_val_score(model, X_resampled2, y_resampled2, cv=kfold, scoring=\"accuracy\")\n",
    "    results.append(cv_results)\n",
    "    names.append(name)\n",
    "    msg = f\"{name}: {cv_results.mean()} ({cv_results.std()})\"\n",
    "    print(msg)\n"
   ]
  },
  {
   "cell_type": "code",
   "execution_count": 92,
   "id": "b81101bf-df07-4b2d-899b-cfe870300806",
   "metadata": {
    "tags": []
   },
   "outputs": [
    {
     "data": {
      "image/png": "[encoded data removed]",
      "text/plain": [
       "<Figure size 1500x1000 with 1 Axes>"
      ]
     },
     "metadata": {},
     "output_type": "display_data"
    }
   ],
   "source": [
    "# boxplot algorithm comparison\n",
    "fig = plt.figure(figsize=(15,10))\n",
    "fig.suptitle('Algorithm Comparison')\n",
    "ax = fig.add_subplot(111)\n",
    "plt.boxplot(results)\n",
    "ax.set_xticklabels(names)\n",
    "plt.show()"
   ]
  },
  {
   "cell_type": "markdown",
   "id": "da90aed6-4a46-4d5d-a394-b5ecddf42333",
   "metadata": {},
   "source": [
    "####  KNN and Random Forest  are chosen. In addition, nuural network is investigated."
   ]
  },
  {
   "cell_type": "code",
   "execution_count": 93,
   "id": "ec05eede-9451-4211-a146-7fbf446d25bd",
   "metadata": {
    "tags": []
   },
   "outputs": [
    {
     "data": {
      "text/plain": [
       "['LR', 'KNN', 'RF', 'GB', 'AB']"
      ]
     },
     "execution_count": 93,
     "metadata": {},
     "output_type": "execute_result"
    }
   ],
   "source": [
    "names"
   ]
  },
  {
   "cell_type": "code",
   "execution_count": 94,
   "id": "26e81f0d-2b34-45e0-81da-36973b56a5a9",
   "metadata": {
    "tags": []
   },
   "outputs": [
    {
     "data": {
      "text/plain": [
       "[array([0.70322581, 0.72774194, 0.71612903, 0.68516129, 0.74193548,\n",
       "        0.80645161, 0.76774194, 0.80774194, 0.80516129, 0.79354839]),\n",
       " array([0.8283871 , 0.83225806, 0.85032258, 0.79612903, 0.85419355,\n",
       "        0.94967742, 0.95612903, 0.98322581, 0.96645161, 0.97548387]),\n",
       " array([0.92903226, 0.91483871, 0.9316129 , 0.90322581, 0.94580645,\n",
       "        0.96903226, 0.95612903, 0.98322581, 0.96774194, 0.96903226]),\n",
       " array([0.81290323, 0.82709677, 0.79741935, 0.79870968, 0.83870968,\n",
       "        0.89677419, 0.88903226, 0.92      , 0.92129032, 0.90193548]),\n",
       " array([0.75741935, 0.7716129 , 0.72903226, 0.72387097, 0.77806452,\n",
       "        0.86064516, 0.85419355, 0.87741935, 0.87870968, 0.87483871])]"
      ]
     },
     "execution_count": 94,
     "metadata": {},
     "output_type": "execute_result"
    }
   ],
   "source": [
    "results"
   ]
  },
  {
   "cell_type": "code",
   "execution_count": 95,
   "id": "13ed925c-3ec9-4eb2-a05b-2653b5fdb5e9",
   "metadata": {
    "tags": []
   },
   "outputs": [
    {
     "data": {
      "text/html": [
       "<div>\n",
       "<style scoped>\n",
       "    .dataframe tbody tr th:only-of-type {\n",
       "        vertical-align: middle;\n",
       "    }\n",
       "\n",
       "    .dataframe tbody tr th {\n",
       "        vertical-align: top;\n",
       "    }\n",
       "\n",
       "    .dataframe thead th {\n",
       "        text-align: right;\n",
       "    }\n",
       "</style>\n",
       "<table border=\"1\" class=\"dataframe\">\n",
       "  <thead>\n",
       "    <tr style=\"text-align: right;\">\n",
       "      <th></th>\n",
       "      <th>LR</th>\n",
       "      <th>KNN</th>\n",
       "      <th>RF</th>\n",
       "      <th>GB</th>\n",
       "      <th>AB</th>\n",
       "    </tr>\n",
       "  </thead>\n",
       "  <tbody>\n",
       "    <tr>\n",
       "      <th>0</th>\n",
       "      <td>0.703226</td>\n",
       "      <td>0.828387</td>\n",
       "      <td>0.929032</td>\n",
       "      <td>0.812903</td>\n",
       "      <td>0.757419</td>\n",
       "    </tr>\n",
       "    <tr>\n",
       "      <th>1</th>\n",
       "      <td>0.727742</td>\n",
       "      <td>0.832258</td>\n",
       "      <td>0.914839</td>\n",
       "      <td>0.827097</td>\n",
       "      <td>0.771613</td>\n",
       "    </tr>\n",
       "    <tr>\n",
       "      <th>2</th>\n",
       "      <td>0.716129</td>\n",
       "      <td>0.850323</td>\n",
       "      <td>0.931613</td>\n",
       "      <td>0.797419</td>\n",
       "      <td>0.729032</td>\n",
       "    </tr>\n",
       "    <tr>\n",
       "      <th>3</th>\n",
       "      <td>0.685161</td>\n",
       "      <td>0.796129</td>\n",
       "      <td>0.903226</td>\n",
       "      <td>0.798710</td>\n",
       "      <td>0.723871</td>\n",
       "    </tr>\n",
       "    <tr>\n",
       "      <th>4</th>\n",
       "      <td>0.741935</td>\n",
       "      <td>0.854194</td>\n",
       "      <td>0.945806</td>\n",
       "      <td>0.838710</td>\n",
       "      <td>0.778065</td>\n",
       "    </tr>\n",
       "    <tr>\n",
       "      <th>5</th>\n",
       "      <td>0.806452</td>\n",
       "      <td>0.949677</td>\n",
       "      <td>0.969032</td>\n",
       "      <td>0.896774</td>\n",
       "      <td>0.860645</td>\n",
       "    </tr>\n",
       "    <tr>\n",
       "      <th>6</th>\n",
       "      <td>0.767742</td>\n",
       "      <td>0.956129</td>\n",
       "      <td>0.956129</td>\n",
       "      <td>0.889032</td>\n",
       "      <td>0.854194</td>\n",
       "    </tr>\n",
       "    <tr>\n",
       "      <th>7</th>\n",
       "      <td>0.807742</td>\n",
       "      <td>0.983226</td>\n",
       "      <td>0.983226</td>\n",
       "      <td>0.920000</td>\n",
       "      <td>0.877419</td>\n",
       "    </tr>\n",
       "    <tr>\n",
       "      <th>8</th>\n",
       "      <td>0.805161</td>\n",
       "      <td>0.966452</td>\n",
       "      <td>0.967742</td>\n",
       "      <td>0.921290</td>\n",
       "      <td>0.878710</td>\n",
       "    </tr>\n",
       "    <tr>\n",
       "      <th>9</th>\n",
       "      <td>0.793548</td>\n",
       "      <td>0.975484</td>\n",
       "      <td>0.969032</td>\n",
       "      <td>0.901935</td>\n",
       "      <td>0.874839</td>\n",
       "    </tr>\n",
       "  </tbody>\n",
       "</table>\n",
       "</div>"
      ],
      "text/plain": [
       "         LR       KNN        RF        GB        AB\n",
       "0  0.703226  0.828387  0.929032  0.812903  0.757419\n",
       "1  0.727742  0.832258  0.914839  0.827097  0.771613\n",
       "2  0.716129  0.850323  0.931613  0.797419  0.729032\n",
       "3  0.685161  0.796129  0.903226  0.798710  0.723871\n",
       "4  0.741935  0.854194  0.945806  0.838710  0.778065\n",
       "5  0.806452  0.949677  0.969032  0.896774  0.860645\n",
       "6  0.767742  0.956129  0.956129  0.889032  0.854194\n",
       "7  0.807742  0.983226  0.983226  0.920000  0.877419\n",
       "8  0.805161  0.966452  0.967742  0.921290  0.878710\n",
       "9  0.793548  0.975484  0.969032  0.901935  0.874839"
      ]
     },
     "metadata": {},
     "output_type": "display_data"
    }
   ],
   "source": [
    "results_dict = {name: result for name, result in zip(names, results)}\n",
    "\n",
    "# Create the DataFrame using the dictionary\n",
    "score = pd.DataFrame(results_dict)\n",
    "\n",
    "# Print the DataFrame\n",
    "display(score)"
   ]
  },
  {
   "cell_type": "code",
   "execution_count": 96,
   "id": "a9267dab-8eb3-4226-a9e0-2400a0fe4c9f",
   "metadata": {
    "tags": []
   },
   "outputs": [],
   "source": [
    "score.to_csv('../data/score/scores_5_models.csv', index=False)"
   ]
  },
  {
   "cell_type": "markdown",
   "id": "3779eddb-e9f0-49cd-a12e-5a9ac3446a9f",
   "metadata": {},
   "source": [
    "#### recall"
   ]
  },
  {
   "cell_type": "code",
   "execution_count": 101,
   "id": "5ec674cc-9227-41d6-a5c6-fdc92245bd0b",
   "metadata": {
    "tags": []
   },
   "outputs": [
    {
     "name": "stdout",
     "output_type": "stream",
     "text": [
      "LR: 0.8223755047034569 (0.033157823346994166)\n",
      "KNN: 0.9748159185915679 (0.017415848453062176)\n",
      "RF: 0.8869544969196757 (0.08768720596000759)\n",
      "GB: 0.7744458513208163 (0.1375489519680115)\n",
      "AB: 0.7995943426968569 (0.09321519104212649)\n"
     ]
    }
   ],
   "source": [
    "#evaluate each model in turn\n",
    "from sklearn.model_selection import KFold\n",
    "from sklearn.model_selection import cross_val_score\n",
    "import warnings\n",
    "warnings.filterwarnings('ignore')\n",
    "\n",
    "X_resampled2 = np.ascontiguousarray(X_resampled)\n",
    "y_resampled2 = np.ascontiguousarray(y_resampled)\n",
    "\n",
    "names2 = []\n",
    "results2 = []\n",
    "\n",
    "for name, model in models:\n",
    "    kfold = KFold(n_splits=10, shuffle=False)\n",
    "    cv_results2 = cross_val_score(model, X_resampled2, y_resampled2, cv=kfold, scoring=\"recall\")\n",
    "    results2.append(cv_results2)\n",
    "    names2.append(name)\n",
    "    msg2 = f\"{name}: {cv_results2.mean()} ({cv_results2.std()})\"\n",
    "    print(msg2)\n"
   ]
  },
  {
   "cell_type": "code",
   "execution_count": 102,
   "id": "da03ac3f-fc81-41da-97f3-848b9db85d17",
   "metadata": {
    "tags": []
   },
   "outputs": [
    {
     "data": {
      "image/png": "[encoded data removed]",
      "text/plain": [
       "<Figure size 1500x1000 with 1 Axes>"
      ]
     },
     "metadata": {},
     "output_type": "display_data"
    }
   ],
   "source": [
    "# boxplot algorithm comparison\n",
    "fig = plt.figure(figsize=(15,10))\n",
    "fig.suptitle('Algorithm Comparison')\n",
    "ax = fig.add_subplot(111)\n",
    "plt.boxplot(results2)\n",
    "ax.set_xticklabels(names2)\n",
    "plt.show()"
   ]
  },
  {
   "cell_type": "code",
   "execution_count": 103,
   "id": "c39d6e92-a8f7-4adf-902f-01dbfc450a49",
   "metadata": {
    "tags": []
   },
   "outputs": [
    {
     "data": {
      "text/html": [
       "<div>\n",
       "<style scoped>\n",
       "    .dataframe tbody tr th:only-of-type {\n",
       "        vertical-align: middle;\n",
       "    }\n",
       "\n",
       "    .dataframe tbody tr th {\n",
       "        vertical-align: top;\n",
       "    }\n",
       "\n",
       "    .dataframe thead th {\n",
       "        text-align: right;\n",
       "    }\n",
       "</style>\n",
       "<table border=\"1\" class=\"dataframe\">\n",
       "  <thead>\n",
       "    <tr style=\"text-align: right;\">\n",
       "      <th></th>\n",
       "      <th>LR</th>\n",
       "      <th>KNN</th>\n",
       "      <th>RF</th>\n",
       "      <th>GB</th>\n",
       "      <th>AB</th>\n",
       "    </tr>\n",
       "  </thead>\n",
       "  <tbody>\n",
       "    <tr>\n",
       "      <th>0</th>\n",
       "      <td>0.818182</td>\n",
       "      <td>0.939394</td>\n",
       "      <td>0.757576</td>\n",
       "      <td>0.636364</td>\n",
       "      <td>0.606061</td>\n",
       "    </tr>\n",
       "    <tr>\n",
       "      <th>1</th>\n",
       "      <td>0.891304</td>\n",
       "      <td>1.000000</td>\n",
       "      <td>0.782609</td>\n",
       "      <td>0.608696</td>\n",
       "      <td>0.847826</td>\n",
       "    </tr>\n",
       "    <tr>\n",
       "      <th>2</th>\n",
       "      <td>0.851064</td>\n",
       "      <td>0.978723</td>\n",
       "      <td>0.808511</td>\n",
       "      <td>0.680851</td>\n",
       "      <td>0.765957</td>\n",
       "    </tr>\n",
       "    <tr>\n",
       "      <th>3</th>\n",
       "      <td>0.810811</td>\n",
       "      <td>0.972973</td>\n",
       "      <td>0.810811</td>\n",
       "      <td>0.594595</td>\n",
       "      <td>0.702703</td>\n",
       "    </tr>\n",
       "    <tr>\n",
       "      <th>4</th>\n",
       "      <td>0.852941</td>\n",
       "      <td>1.000000</td>\n",
       "      <td>0.852941</td>\n",
       "      <td>0.676471</td>\n",
       "      <td>0.705882</td>\n",
       "    </tr>\n",
       "    <tr>\n",
       "      <th>5</th>\n",
       "      <td>0.825260</td>\n",
       "      <td>0.975779</td>\n",
       "      <td>0.980969</td>\n",
       "      <td>0.915225</td>\n",
       "      <td>0.882353</td>\n",
       "    </tr>\n",
       "    <tr>\n",
       "      <th>6</th>\n",
       "      <td>0.767742</td>\n",
       "      <td>0.956129</td>\n",
       "      <td>0.956129</td>\n",
       "      <td>0.889032</td>\n",
       "      <td>0.854194</td>\n",
       "    </tr>\n",
       "    <tr>\n",
       "      <th>7</th>\n",
       "      <td>0.807742</td>\n",
       "      <td>0.983226</td>\n",
       "      <td>0.983226</td>\n",
       "      <td>0.920000</td>\n",
       "      <td>0.877419</td>\n",
       "    </tr>\n",
       "    <tr>\n",
       "      <th>8</th>\n",
       "      <td>0.805161</td>\n",
       "      <td>0.966452</td>\n",
       "      <td>0.967742</td>\n",
       "      <td>0.921290</td>\n",
       "      <td>0.878710</td>\n",
       "    </tr>\n",
       "    <tr>\n",
       "      <th>9</th>\n",
       "      <td>0.793548</td>\n",
       "      <td>0.975484</td>\n",
       "      <td>0.969032</td>\n",
       "      <td>0.901935</td>\n",
       "      <td>0.874839</td>\n",
       "    </tr>\n",
       "  </tbody>\n",
       "</table>\n",
       "</div>"
      ],
      "text/plain": [
       "         LR       KNN        RF        GB        AB\n",
       "0  0.818182  0.939394  0.757576  0.636364  0.606061\n",
       "1  0.891304  1.000000  0.782609  0.608696  0.847826\n",
       "2  0.851064  0.978723  0.808511  0.680851  0.765957\n",
       "3  0.810811  0.972973  0.810811  0.594595  0.702703\n",
       "4  0.852941  1.000000  0.852941  0.676471  0.705882\n",
       "5  0.825260  0.975779  0.980969  0.915225  0.882353\n",
       "6  0.767742  0.956129  0.956129  0.889032  0.854194\n",
       "7  0.807742  0.983226  0.983226  0.920000  0.877419\n",
       "8  0.805161  0.966452  0.967742  0.921290  0.878710\n",
       "9  0.793548  0.975484  0.969032  0.901935  0.874839"
      ]
     },
     "metadata": {},
     "output_type": "display_data"
    }
   ],
   "source": [
    "results_dict2 = {name2: result2 for name2, result2 in zip(names2, results2)}\n",
    "\n",
    "# Create the DataFrame using the dictionary\n",
    "score2 = pd.DataFrame(results_dict2)\n",
    "\n",
    "# Print the DataFrame\n",
    "display(score2)"
   ]
  },
  {
   "cell_type": "code",
   "execution_count": 104,
   "id": "194abf31-43be-4281-a374-40fdbc5e5cee",
   "metadata": {
    "tags": []
   },
   "outputs": [],
   "source": [
    "score2.to_csv('../data/score/scores_5_models_recall.csv', index=False)"
   ]
  },
  {
   "cell_type": "markdown",
   "id": "4298a1ea-706d-42cc-855e-45303c74069b",
   "metadata": {},
   "source": [
    "  "
   ]
  },
  {
   "cell_type": "markdown",
   "id": "e482ac2d-e311-4996-b1db-d3e23da904e4",
   "metadata": {
    "tags": []
   },
   "source": [
    "### Precision"
   ]
  },
  {
   "cell_type": "code",
   "execution_count": 107,
   "id": "c2913788-7b6c-4c38-b06b-8f67002b5c79",
   "metadata": {
    "tags": []
   },
   "outputs": [
    {
     "name": "stdout",
     "output_type": "stream",
     "text": [
      "LR: 0.5580332333487927 (0.4244834566465215)\n",
      "KNN: 0.611381213945366 (0.38129944107388847)\n",
      "RF: 0.6925043799464734 (0.30582104319075315)\n",
      "GB: 0.5762211520760155 (0.4133605340041035)\n",
      "AB: 0.5612200565980375 (0.42526495872236564)\n"
     ]
    }
   ],
   "source": [
    "#evaluate each model in turn\n",
    "from sklearn.model_selection import KFold\n",
    "from sklearn.model_selection import cross_val_score\n",
    "import warnings\n",
    "warnings.filterwarnings('ignore')\n",
    "\n",
    "X_resampled3 = np.ascontiguousarray(X_resampled)\n",
    "y_resampled3 = np.ascontiguousarray(y_resampled)\n",
    "\n",
    "names3 = []\n",
    "results3 = []\n",
    "\n",
    "for name, model in models:\n",
    "    kfold = KFold(n_splits=10, shuffle=False)\n",
    "    cv_results3 = cross_val_score(model, X_resampled3, y_resampled3, cv=kfold, scoring=\"precision\")\n",
    "    results3.append(cv_results3)\n",
    "    names3.append(name)\n",
    "    msg3 = f\"{name}: {cv_results3.mean()} ({cv_results3.std()})\"\n",
    "    print(msg3)\n"
   ]
  },
  {
   "cell_type": "code",
   "execution_count": 108,
   "id": "8e474ad0-ff46-4ebe-9d2c-4d8ca54c2a79",
   "metadata": {
    "tags": []
   },
   "outputs": [
    {
     "data": {
      "image/png": "[encoded data removed]",
      "text/plain": [
       "<Figure size 1500x1000 with 1 Axes>"
      ]
     },
     "metadata": {},
     "output_type": "display_data"
    }
   ],
   "source": [
    "# boxplot algorithm comparison\n",
    "fig = plt.figure(figsize=(15,10))\n",
    "fig.suptitle('Algorithm Comparison -Precision-')\n",
    "ax = fig.add_subplot(111)\n",
    "plt.boxplot(results3)\n",
    "ax.set_xticklabels(names3)\n",
    "plt.show()"
   ]
  },
  {
   "cell_type": "code",
   "execution_count": 109,
   "id": "af975d52-02f0-4c09-b125-66d39e091747",
   "metadata": {
    "tags": []
   },
   "outputs": [
    {
     "data": {
      "text/html": [
       "<div>\n",
       "<style scoped>\n",
       "    .dataframe tbody tr th:only-of-type {\n",
       "        vertical-align: middle;\n",
       "    }\n",
       "\n",
       "    .dataframe tbody tr th {\n",
       "        vertical-align: top;\n",
       "    }\n",
       "\n",
       "    .dataframe thead th {\n",
       "        text-align: right;\n",
       "    }\n",
       "</style>\n",
       "<table border=\"1\" class=\"dataframe\">\n",
       "  <thead>\n",
       "    <tr style=\"text-align: right;\">\n",
       "      <th></th>\n",
       "      <th>LR</th>\n",
       "      <th>KNN</th>\n",
       "      <th>RF</th>\n",
       "      <th>GB</th>\n",
       "      <th>AB</th>\n",
       "    </tr>\n",
       "  </thead>\n",
       "  <tbody>\n",
       "    <tr>\n",
       "      <th>0</th>\n",
       "      <td>0.107570</td>\n",
       "      <td>0.191358</td>\n",
       "      <td>0.347222</td>\n",
       "      <td>0.136364</td>\n",
       "      <td>0.102564</td>\n",
       "    </tr>\n",
       "    <tr>\n",
       "      <th>1</th>\n",
       "      <td>0.165992</td>\n",
       "      <td>0.261364</td>\n",
       "      <td>0.391304</td>\n",
       "      <td>0.194444</td>\n",
       "      <td>0.186603</td>\n",
       "    </tr>\n",
       "    <tr>\n",
       "      <th>2</th>\n",
       "      <td>0.158103</td>\n",
       "      <td>0.285714</td>\n",
       "      <td>0.463415</td>\n",
       "      <td>0.183908</td>\n",
       "      <td>0.153191</td>\n",
       "    </tr>\n",
       "    <tr>\n",
       "      <th>3</th>\n",
       "      <td>0.112360</td>\n",
       "      <td>0.186528</td>\n",
       "      <td>0.306122</td>\n",
       "      <td>0.134969</td>\n",
       "      <td>0.113537</td>\n",
       "    </tr>\n",
       "    <tr>\n",
       "      <th>4</th>\n",
       "      <td>0.129464</td>\n",
       "      <td>0.231293</td>\n",
       "      <td>0.439394</td>\n",
       "      <td>0.167883</td>\n",
       "      <td>0.129032</td>\n",
       "    </tr>\n",
       "    <tr>\n",
       "      <th>5</th>\n",
       "      <td>0.906844</td>\n",
       "      <td>0.957555</td>\n",
       "      <td>0.977586</td>\n",
       "      <td>0.944643</td>\n",
       "      <td>0.927273</td>\n",
       "    </tr>\n",
       "    <tr>\n",
       "      <th>6</th>\n",
       "      <td>1.000000</td>\n",
       "      <td>1.000000</td>\n",
       "      <td>1.000000</td>\n",
       "      <td>1.000000</td>\n",
       "      <td>1.000000</td>\n",
       "    </tr>\n",
       "    <tr>\n",
       "      <th>7</th>\n",
       "      <td>1.000000</td>\n",
       "      <td>1.000000</td>\n",
       "      <td>1.000000</td>\n",
       "      <td>1.000000</td>\n",
       "      <td>1.000000</td>\n",
       "    </tr>\n",
       "    <tr>\n",
       "      <th>8</th>\n",
       "      <td>1.000000</td>\n",
       "      <td>1.000000</td>\n",
       "      <td>1.000000</td>\n",
       "      <td>1.000000</td>\n",
       "      <td>1.000000</td>\n",
       "    </tr>\n",
       "    <tr>\n",
       "      <th>9</th>\n",
       "      <td>1.000000</td>\n",
       "      <td>1.000000</td>\n",
       "      <td>1.000000</td>\n",
       "      <td>1.000000</td>\n",
       "      <td>1.000000</td>\n",
       "    </tr>\n",
       "  </tbody>\n",
       "</table>\n",
       "</div>"
      ],
      "text/plain": [
       "         LR       KNN        RF        GB        AB\n",
       "0  0.107570  0.191358  0.347222  0.136364  0.102564\n",
       "1  0.165992  0.261364  0.391304  0.194444  0.186603\n",
       "2  0.158103  0.285714  0.463415  0.183908  0.153191\n",
       "3  0.112360  0.186528  0.306122  0.134969  0.113537\n",
       "4  0.129464  0.231293  0.439394  0.167883  0.129032\n",
       "5  0.906844  0.957555  0.977586  0.944643  0.927273\n",
       "6  1.000000  1.000000  1.000000  1.000000  1.000000\n",
       "7  1.000000  1.000000  1.000000  1.000000  1.000000\n",
       "8  1.000000  1.000000  1.000000  1.000000  1.000000\n",
       "9  1.000000  1.000000  1.000000  1.000000  1.000000"
      ]
     },
     "metadata": {},
     "output_type": "display_data"
    }
   ],
   "source": [
    "results_dict3 = {name3: result3 for name3, result3 in zip(names3, results3)}\n",
    "\n",
    "# Create the DataFrame using the dictionary\n",
    "score3 = pd.DataFrame(results_dict3)\n",
    "\n",
    "# Print the DataFrame\n",
    "display(score3)"
   ]
  },
  {
   "cell_type": "code",
   "execution_count": 110,
   "id": "9e30f899-afe2-49df-b639-8ec9e5d72199",
   "metadata": {
    "tags": []
   },
   "outputs": [],
   "source": [
    "score3.to_csv('../data/score/scores_5_models_precision.csv', index=False)"
   ]
  },
  {
   "cell_type": "markdown",
   "id": "4cef3a48-d84f-4424-a5de-9ca5e6c49318",
   "metadata": {},
   "source": [
    "### f1"
   ]
  },
  {
   "cell_type": "code",
   "execution_count": 116,
   "id": "2a350018-71f4-4f6d-b807-a85f972dd1eb",
   "metadata": {
    "tags": []
   },
   "outputs": [
    {
     "name": "stdout",
     "output_type": "stream",
     "text": [
      "LR: 0.5562194431344551 (0.32556271881759635)\n",
      "KNN: 0.6769629854890884 (0.30649696907799)\n",
      "RF: 0.7527789639026619 (0.23394220716569455)\n",
      "GB: 0.6034698302957008 (0.344699527973212)\n",
      "AB: 0.5779318943569902 (0.34950709039048355)\n"
     ]
    }
   ],
   "source": [
    "#evaluate each model in turn\n",
    "from sklearn.model_selection import KFold\n",
    "from sklearn.model_selection import cross_val_score\n",
    "import warnings\n",
    "warnings.filterwarnings('ignore')\n",
    "\n",
    "X_resampled4 = np.ascontiguousarray(X_resampled)\n",
    "y_resampled4 = np.ascontiguousarray(y_resampled)\n",
    "\n",
    "names4 = []\n",
    "results4 = []\n",
    "\n",
    "for name, model in models:\n",
    "    kfold = KFold(n_splits=10, shuffle=False)\n",
    "    cv_results4 = cross_val_score(model, X_resampled4, y_resampled4, cv=kfold, scoring=\"f1\")\n",
    "    results4.append(cv_results4)\n",
    "    names4.append(name)\n",
    "    msg4 = f\"{name}: {cv_results4.mean()} ({cv_results4.std()})\"\n",
    "    print(msg4)\n"
   ]
  },
  {
   "cell_type": "code",
   "execution_count": 117,
   "id": "dbb4c484-9f47-49f2-b7bf-2102e5c7d124",
   "metadata": {
    "tags": []
   },
   "outputs": [
    {
     "data": {
      "image/png": "[encoded data removed]",
      "text/plain": [
       "<Figure size 1500x1000 with 1 Axes>"
      ]
     },
     "metadata": {},
     "output_type": "display_data"
    }
   ],
   "source": [
    "# boxplot algorithm comparison\n",
    "fig = plt.figure(figsize=(15,10))\n",
    "fig.suptitle('Algorithm Comparison -f1-')\n",
    "ax = fig.add_subplot(111)\n",
    "plt.boxplot(results4)\n",
    "ax.set_xticklabels(names4)\n",
    "plt.show()"
   ]
  },
  {
   "cell_type": "code",
   "execution_count": 118,
   "id": "9c34d545-5437-4013-bd24-0bfed06b68ef",
   "metadata": {
    "tags": []
   },
   "outputs": [
    {
     "data": {
      "text/html": [
       "<div>\n",
       "<style scoped>\n",
       "    .dataframe tbody tr th:only-of-type {\n",
       "        vertical-align: middle;\n",
       "    }\n",
       "\n",
       "    .dataframe tbody tr th {\n",
       "        vertical-align: top;\n",
       "    }\n",
       "\n",
       "    .dataframe thead th {\n",
       "        text-align: right;\n",
       "    }\n",
       "</style>\n",
       "<table border=\"1\" class=\"dataframe\">\n",
       "  <thead>\n",
       "    <tr style=\"text-align: right;\">\n",
       "      <th></th>\n",
       "      <th>LR</th>\n",
       "      <th>KNN</th>\n",
       "      <th>RF</th>\n",
       "      <th>GB</th>\n",
       "      <th>AB</th>\n",
       "    </tr>\n",
       "  </thead>\n",
       "  <tbody>\n",
       "    <tr>\n",
       "      <th>0</th>\n",
       "      <td>0.190141</td>\n",
       "      <td>0.317949</td>\n",
       "      <td>0.476190</td>\n",
       "      <td>0.224599</td>\n",
       "      <td>0.175439</td>\n",
       "    </tr>\n",
       "    <tr>\n",
       "      <th>1</th>\n",
       "      <td>0.279863</td>\n",
       "      <td>0.414414</td>\n",
       "      <td>0.521739</td>\n",
       "      <td>0.294737</td>\n",
       "      <td>0.305882</td>\n",
       "    </tr>\n",
       "    <tr>\n",
       "      <th>2</th>\n",
       "      <td>0.266667</td>\n",
       "      <td>0.442308</td>\n",
       "      <td>0.589147</td>\n",
       "      <td>0.289593</td>\n",
       "      <td>0.255319</td>\n",
       "    </tr>\n",
       "    <tr>\n",
       "      <th>3</th>\n",
       "      <td>0.197368</td>\n",
       "      <td>0.313043</td>\n",
       "      <td>0.444444</td>\n",
       "      <td>0.220000</td>\n",
       "      <td>0.195489</td>\n",
       "    </tr>\n",
       "    <tr>\n",
       "      <th>4</th>\n",
       "      <td>0.224806</td>\n",
       "      <td>0.375691</td>\n",
       "      <td>0.580000</td>\n",
       "      <td>0.269006</td>\n",
       "      <td>0.218182</td>\n",
       "    </tr>\n",
       "    <tr>\n",
       "      <th>5</th>\n",
       "      <td>0.864130</td>\n",
       "      <td>0.966581</td>\n",
       "      <td>0.979275</td>\n",
       "      <td>0.929701</td>\n",
       "      <td>0.904255</td>\n",
       "    </tr>\n",
       "    <tr>\n",
       "      <th>6</th>\n",
       "      <td>0.868613</td>\n",
       "      <td>0.977573</td>\n",
       "      <td>0.977573</td>\n",
       "      <td>0.941257</td>\n",
       "      <td>0.921364</td>\n",
       "    </tr>\n",
       "    <tr>\n",
       "      <th>7</th>\n",
       "      <td>0.893647</td>\n",
       "      <td>0.991542</td>\n",
       "      <td>0.991542</td>\n",
       "      <td>0.958333</td>\n",
       "      <td>0.934708</td>\n",
       "    </tr>\n",
       "    <tr>\n",
       "      <th>8</th>\n",
       "      <td>0.892066</td>\n",
       "      <td>0.982940</td>\n",
       "      <td>0.983607</td>\n",
       "      <td>0.959033</td>\n",
       "      <td>0.935440</td>\n",
       "    </tr>\n",
       "    <tr>\n",
       "      <th>9</th>\n",
       "      <td>0.884892</td>\n",
       "      <td>0.987590</td>\n",
       "      <td>0.984273</td>\n",
       "      <td>0.948440</td>\n",
       "      <td>0.933242</td>\n",
       "    </tr>\n",
       "  </tbody>\n",
       "</table>\n",
       "</div>"
      ],
      "text/plain": [
       "         LR       KNN        RF        GB        AB\n",
       "0  0.190141  0.317949  0.476190  0.224599  0.175439\n",
       "1  0.279863  0.414414  0.521739  0.294737  0.305882\n",
       "2  0.266667  0.442308  0.589147  0.289593  0.255319\n",
       "3  0.197368  0.313043  0.444444  0.220000  0.195489\n",
       "4  0.224806  0.375691  0.580000  0.269006  0.218182\n",
       "5  0.864130  0.966581  0.979275  0.929701  0.904255\n",
       "6  0.868613  0.977573  0.977573  0.941257  0.921364\n",
       "7  0.893647  0.991542  0.991542  0.958333  0.934708\n",
       "8  0.892066  0.982940  0.983607  0.959033  0.935440\n",
       "9  0.884892  0.987590  0.984273  0.948440  0.933242"
      ]
     },
     "metadata": {},
     "output_type": "display_data"
    }
   ],
   "source": [
    "results_dict4 = {name4: result4 for name4, result4 in zip(names4, results4)}\n",
    "\n",
    "# Create the DataFrame using the dictionary\n",
    "score4 = pd.DataFrame(results_dict4)\n",
    "\n",
    "# Print the DataFrame\n",
    "display(score4)"
   ]
  },
  {
   "cell_type": "code",
   "execution_count": 119,
   "id": "fb26b073-30b8-4c77-99b4-5632765f09fa",
   "metadata": {
    "tags": []
   },
   "outputs": [],
   "source": [
    "score4.to_csv('../data/score/scores_5_models_f1.csv', index=False)"
   ]
  },
  {
   "cell_type": "code",
   "execution_count": null,
   "id": "59275e1e-ee52-4704-8b63-cb932c7ad472",
   "metadata": {},
   "outputs": [],
   "source": []
  }
 ],
 "metadata": {
  "kernelspec": {
   "display_name": "final_project_env",
   "language": "python",
   "name": "final_project_env"
  },
  "language_info": {
   "codemirror_mode": {
    "name": "ipython",
    "version": 3
   },
   "file_extension": ".py",
   "mimetype": "text/x-python",
   "name": "python",
   "nbconvert_exporter": "python",
   "pygments_lexer": "ipython3",
   "version": "3.11.3"
  }
 },
 "nbformat": 4,
 "nbformat_minor": 5
}
