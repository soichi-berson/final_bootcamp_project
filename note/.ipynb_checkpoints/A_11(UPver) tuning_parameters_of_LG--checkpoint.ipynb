{
 "cells": [
  {
   "cell_type": "markdown",
   "id": "49d9ccc4-3eba-4231-ba00-61a1404876eb",
   "metadata": {},
   "source": [
    "# 7. Tuning parameters of LG"
   ]
  },
  {
   "cell_type": "code",
   "execution_count": 2,
   "id": "827c8281-248c-4444-b313-b4bad7931dcd",
   "metadata": {
    "tags": []
   },
   "outputs": [],
   "source": [
    "import pandas as pd\n",
    "import numpy as np\n",
    "import seaborn as sns\n",
    "import matplotlib.pyplot as plt\n",
    "from sklearn.linear_model import LogisticRegression\n",
    "from sklearn.model_selection import GridSearchCV\n",
    "import warnings\n",
    "warnings.filterwarnings('ignore')\n",
    "from sklearn.model_selection import KFold\n",
    "from sklearn.model_selection import cross_val_score\n",
    "import pickle\n",
    "from sklearn.metrics import accuracy_score, classification_report"
   ]
  },
  {
   "cell_type": "code",
   "execution_count": 3,
   "id": "14fa9b4c-a152-4ea4-aa43-8edaac916d27",
   "metadata": {
    "tags": []
   },
   "outputs": [],
   "source": [
    "#load the files\n",
    "\n",
    "X_train = pd.read_csv('../data/x_y_data/X_resampled.csv')\n",
    "y_train = pd.read_csv('../data/x_y_data/y_resampled.csv')\n",
    "X_test = pd.read_csv('../data/x_y_data/X_test.csv')\n",
    "y_test = pd.read_csv('../data/x_y_data/y_test.csv')\n",
    "data = pd.read_csv('../data/cleaned_data/cleaned_data.csv')\n"
   ]
  },
  {
   "cell_type": "code",
   "execution_count": 4,
   "id": "09674a2a-ef99-43bd-b133-910fd7ccb78a",
   "metadata": {
    "tags": []
   },
   "outputs": [
    {
     "data": {
      "text/plain": [
       "(7750, 18)"
      ]
     },
     "execution_count": 4,
     "metadata": {},
     "output_type": "execute_result"
    }
   ],
   "source": [
    "X_train.shape"
   ]
  },
  {
   "cell_type": "code",
   "execution_count": 5,
   "id": "8e0435cd-581d-4f76-a2a0-43c500752a8e",
   "metadata": {
    "tags": []
   },
   "outputs": [
    {
     "name": "stdout",
     "output_type": "stream",
     "text": [
      "Fitting 5 folds for each of 4 candidates, totalling 20 fits\n"
     ]
    },
    {
     "name": "stderr",
     "output_type": "stream",
     "text": [
      "/Users/soichirotanabe/Desktop/IRONHACK/Week_9/Final_project/final_project_env/lib/python3.11/site-packages/sklearn/utils/validation.py:1184: DataConversionWarning: A column-vector y was passed when a 1d array was expected. Please change the shape of y to (n_samples, ), for example using ravel().\n",
      "  y = column_or_1d(y, warn=True)\n",
      "/Users/soichirotanabe/Desktop/IRONHACK/Week_9/Final_project/final_project_env/lib/python3.11/site-packages/sklearn/utils/validation.py:1184: DataConversionWarning: A column-vector y was passed when a 1d array was expected. Please change the shape of y to (n_samples, ), for example using ravel().\n",
      "  y = column_or_1d(y, warn=True)\n",
      "/Users/soichirotanabe/Desktop/IRONHACK/Week_9/Final_project/final_project_env/lib/python3.11/site-packages/sklearn/utils/validation.py:1184: DataConversionWarning: A column-vector y was passed when a 1d array was expected. Please change the shape of y to (n_samples, ), for example using ravel().\n",
      "  y = column_or_1d(y, warn=True)\n",
      "/Users/soichirotanabe/Desktop/IRONHACK/Week_9/Final_project/final_project_env/lib/python3.11/site-packages/sklearn/utils/validation.py:1184: DataConversionWarning: A column-vector y was passed when a 1d array was expected. Please change the shape of y to (n_samples, ), for example using ravel().\n",
      "  y = column_or_1d(y, warn=True)\n",
      "/Users/soichirotanabe/Desktop/IRONHACK/Week_9/Final_project/final_project_env/lib/python3.11/site-packages/sklearn/utils/validation.py:1184: DataConversionWarning: A column-vector y was passed when a 1d array was expected. Please change the shape of y to (n_samples, ), for example using ravel().\n",
      "  y = column_or_1d(y, warn=True)\n",
      "/Users/soichirotanabe/Desktop/IRONHACK/Week_9/Final_project/final_project_env/lib/python3.11/site-packages/sklearn/utils/validation.py:1184: DataConversionWarning: A column-vector y was passed when a 1d array was expected. Please change the shape of y to (n_samples, ), for example using ravel().\n",
      "  y = column_or_1d(y, warn=True)\n",
      "/Users/soichirotanabe/Desktop/IRONHACK/Week_9/Final_project/final_project_env/lib/python3.11/site-packages/sklearn/utils/validation.py:1184: DataConversionWarning: A column-vector y was passed when a 1d array was expected. Please change the shape of y to (n_samples, ), for example using ravel().\n",
      "  y = column_or_1d(y, warn=True)\n",
      "/Users/soichirotanabe/Desktop/IRONHACK/Week_9/Final_project/final_project_env/lib/python3.11/site-packages/sklearn/utils/validation.py:1184: DataConversionWarning: A column-vector y was passed when a 1d array was expected. Please change the shape of y to (n_samples, ), for example using ravel().\n",
      "  y = column_or_1d(y, warn=True)\n",
      "/Users/soichirotanabe/Desktop/IRONHACK/Week_9/Final_project/final_project_env/lib/python3.11/site-packages/sklearn/utils/validation.py:1184: DataConversionWarning: A column-vector y was passed when a 1d array was expected. Please change the shape of y to (n_samples, ), for example using ravel().\n",
      "  y = column_or_1d(y, warn=True)\n",
      "/Users/soichirotanabe/Desktop/IRONHACK/Week_9/Final_project/final_project_env/lib/python3.11/site-packages/sklearn/utils/validation.py:1184: DataConversionWarning: A column-vector y was passed when a 1d array was expected. Please change the shape of y to (n_samples, ), for example using ravel().\n",
      "  y = column_or_1d(y, warn=True)\n"
     ]
    },
    {
     "data": {
      "text/plain": [
       "{'penalty': 'l2'}"
      ]
     },
     "execution_count": 5,
     "metadata": {},
     "output_type": "execute_result"
    }
   ],
   "source": [
    "#set the high-parameter\n",
    "\n",
    "param_grid = {\n",
    "    'penalty': ['l1', 'l2', 'elasticnet', None],\n",
    "    }\n",
    "\n",
    "lg = LogisticRegression(random_state=12345)\n",
    "\n",
    "grid_search = GridSearchCV(lg, param_grid, cv=5, return_train_score=True,\n",
    "                           n_jobs=-1, verbose=20, scoring='accuracy')\n",
    "grid_search.fit(X_train,y_train)\n",
    "grid_search.best_params_ #To check the best set of parameters returned"
   ]
  },
  {
   "cell_type": "markdown",
   "id": "b81719d8-1308-43ce-885c-82d44e95c58d",
   "metadata": {},
   "source": [
    "####  Cross validation socre - Accuracy-"
   ]
  },
  {
   "cell_type": "code",
   "execution_count": 6,
   "id": "715dcee0-d61a-41e4-a7d4-58afe5095c02",
   "metadata": {
    "tags": []
   },
   "outputs": [
    {
     "name": "stdout",
     "output_type": "stream",
     "text": [
      " GB: 0.755483870967742 (0.04424226182655737)\n"
     ]
    }
   ],
   "source": [
    "lg1= LogisticRegression(penalty = 'l2')\n",
    "\n",
    "results = []\n",
    "kfold = KFold(n_splits=10, shuffle=False)\n",
    "cv_results = cross_val_score(lg1, X_train, y_train, cv=kfold, scoring=\"accuracy\")\n",
    "\n",
    "results.append(cv_results)\n",
    "    \n",
    "msg = f\" GB: {cv_results.mean()} ({cv_results.std()})\"\n",
    "print(msg)"
   ]
  },
  {
   "cell_type": "code",
   "execution_count": 7,
   "id": "dbf509c0-adda-467b-90f7-6c08eccdc76f",
   "metadata": {
    "tags": []
   },
   "outputs": [
    {
     "data": {
      "text/html": [
       "<div>\n",
       "<style scoped>\n",
       "    .dataframe tbody tr th:only-of-type {\n",
       "        vertical-align: middle;\n",
       "    }\n",
       "\n",
       "    .dataframe tbody tr th {\n",
       "        vertical-align: top;\n",
       "    }\n",
       "\n",
       "    .dataframe thead th {\n",
       "        text-align: right;\n",
       "    }\n",
       "</style>\n",
       "<table border=\"1\" class=\"dataframe\">\n",
       "  <thead>\n",
       "    <tr style=\"text-align: right;\">\n",
       "      <th></th>\n",
       "      <th>accuracy</th>\n",
       "    </tr>\n",
       "  </thead>\n",
       "  <tbody>\n",
       "    <tr>\n",
       "      <th>0</th>\n",
       "      <td>0.703226</td>\n",
       "    </tr>\n",
       "    <tr>\n",
       "      <th>1</th>\n",
       "      <td>0.727742</td>\n",
       "    </tr>\n",
       "    <tr>\n",
       "      <th>2</th>\n",
       "      <td>0.716129</td>\n",
       "    </tr>\n",
       "    <tr>\n",
       "      <th>3</th>\n",
       "      <td>0.685161</td>\n",
       "    </tr>\n",
       "    <tr>\n",
       "      <th>4</th>\n",
       "      <td>0.741935</td>\n",
       "    </tr>\n",
       "    <tr>\n",
       "      <th>5</th>\n",
       "      <td>0.806452</td>\n",
       "    </tr>\n",
       "    <tr>\n",
       "      <th>6</th>\n",
       "      <td>0.767742</td>\n",
       "    </tr>\n",
       "    <tr>\n",
       "      <th>7</th>\n",
       "      <td>0.807742</td>\n",
       "    </tr>\n",
       "    <tr>\n",
       "      <th>8</th>\n",
       "      <td>0.805161</td>\n",
       "    </tr>\n",
       "    <tr>\n",
       "      <th>9</th>\n",
       "      <td>0.793548</td>\n",
       "    </tr>\n",
       "  </tbody>\n",
       "</table>\n",
       "</div>"
      ],
      "text/plain": [
       "   accuracy\n",
       "0  0.703226\n",
       "1  0.727742\n",
       "2  0.716129\n",
       "3  0.685161\n",
       "4  0.741935\n",
       "5  0.806452\n",
       "6  0.767742\n",
       "7  0.807742\n",
       "8  0.805161\n",
       "9  0.793548"
      ]
     },
     "metadata": {},
     "output_type": "display_data"
    }
   ],
   "source": [
    "names = [\"accuracy\"]\n",
    "results_dict = {name: result for name, result in zip(names, results)}\n",
    "\n",
    "# Create the DataFrame using the dictionary\n",
    "score = pd.DataFrame(results_dict)\n",
    "\n",
    "# Print the DataFrame\n",
    "display(score)"
   ]
  },
  {
   "cell_type": "code",
   "execution_count": 8,
   "id": "7eb69197-2f5b-44b2-bf15-7aeff9adc9ca",
   "metadata": {
    "tags": []
   },
   "outputs": [],
   "source": [
    "#save the score\n",
    "score.to_csv('../data/score/after_tuning_parameter/LG/lg_cross_val_accuracy.csv', index=False)"
   ]
  },
  {
   "cell_type": "code",
   "execution_count": 9,
   "id": "b2c5626f-c0c6-4f08-b862-1ebbcf0e09b4",
   "metadata": {
    "tags": []
   },
   "outputs": [],
   "source": [
    "#save the model\n",
    "lg1.fit(X_train, y_train)\n",
    "\n",
    "filename = \"../models/lg.pickle\" # Path with filename\n",
    "\n",
    "with open(filename, \"wb\") as file:\n",
    "        pickle.dump(lg1,file)"
   ]
  },
  {
   "cell_type": "markdown",
   "id": "6f7294a9-e9fa-4476-9370-85aaffc81e71",
   "metadata": {},
   "source": [
    "#### Cross validation socre - Recall-"
   ]
  },
  {
   "cell_type": "code",
   "execution_count": 10,
   "id": "196a745e-3bf6-4567-841d-29aad663f6da",
   "metadata": {
    "tags": []
   },
   "outputs": [
    {
     "name": "stdout",
     "output_type": "stream",
     "text": [
      " GB: 0.8223755047034569 (0.033157823346994166)\n"
     ]
    }
   ],
   "source": [
    "results2 = []\n",
    "kfold = KFold(n_splits=10, shuffle=False)\n",
    "cv_results2 = cross_val_score(lg1, X_train, y_train, cv=kfold, scoring=\"recall\")\n",
    "\n",
    "results2.append(cv_results2)\n",
    "    \n",
    "msg2 = f\" GB: {cv_results2.mean()} ({cv_results2.std()})\"\n",
    "print(msg2)"
   ]
  },
  {
   "cell_type": "code",
   "execution_count": 11,
   "id": "bb3163ac-b1f1-4dce-8cfa-994040dc7683",
   "metadata": {
    "tags": []
   },
   "outputs": [
    {
     "data": {
      "text/html": [
       "<div>\n",
       "<style scoped>\n",
       "    .dataframe tbody tr th:only-of-type {\n",
       "        vertical-align: middle;\n",
       "    }\n",
       "\n",
       "    .dataframe tbody tr th {\n",
       "        vertical-align: top;\n",
       "    }\n",
       "\n",
       "    .dataframe thead th {\n",
       "        text-align: right;\n",
       "    }\n",
       "</style>\n",
       "<table border=\"1\" class=\"dataframe\">\n",
       "  <thead>\n",
       "    <tr style=\"text-align: right;\">\n",
       "      <th></th>\n",
       "      <th>recall</th>\n",
       "    </tr>\n",
       "  </thead>\n",
       "  <tbody>\n",
       "    <tr>\n",
       "      <th>0</th>\n",
       "      <td>0.818182</td>\n",
       "    </tr>\n",
       "    <tr>\n",
       "      <th>1</th>\n",
       "      <td>0.891304</td>\n",
       "    </tr>\n",
       "    <tr>\n",
       "      <th>2</th>\n",
       "      <td>0.851064</td>\n",
       "    </tr>\n",
       "    <tr>\n",
       "      <th>3</th>\n",
       "      <td>0.810811</td>\n",
       "    </tr>\n",
       "    <tr>\n",
       "      <th>4</th>\n",
       "      <td>0.852941</td>\n",
       "    </tr>\n",
       "    <tr>\n",
       "      <th>5</th>\n",
       "      <td>0.825260</td>\n",
       "    </tr>\n",
       "    <tr>\n",
       "      <th>6</th>\n",
       "      <td>0.767742</td>\n",
       "    </tr>\n",
       "    <tr>\n",
       "      <th>7</th>\n",
       "      <td>0.807742</td>\n",
       "    </tr>\n",
       "    <tr>\n",
       "      <th>8</th>\n",
       "      <td>0.805161</td>\n",
       "    </tr>\n",
       "    <tr>\n",
       "      <th>9</th>\n",
       "      <td>0.793548</td>\n",
       "    </tr>\n",
       "  </tbody>\n",
       "</table>\n",
       "</div>"
      ],
      "text/plain": [
       "     recall\n",
       "0  0.818182\n",
       "1  0.891304\n",
       "2  0.851064\n",
       "3  0.810811\n",
       "4  0.852941\n",
       "5  0.825260\n",
       "6  0.767742\n",
       "7  0.807742\n",
       "8  0.805161\n",
       "9  0.793548"
      ]
     },
     "metadata": {},
     "output_type": "display_data"
    }
   ],
   "source": [
    "names2 = [\"recall\"]\n",
    "results_dict2 = {name2: result2 for name2, result2 in zip(names2, results2)}\n",
    "\n",
    "# Create the DataFrame using the dictionary\n",
    "score2 = pd.DataFrame(results_dict2)\n",
    "\n",
    "# Print the DataFrame\n",
    "display(score2)"
   ]
  },
  {
   "cell_type": "code",
   "execution_count": 12,
   "id": "c314ec52-d3de-4913-8412-a54baf27f2c9",
   "metadata": {
    "tags": []
   },
   "outputs": [],
   "source": [
    "score2.to_csv('../data/score/after_tuning_parameter/LG/lg_cross_val_recall.csv', index=False)"
   ]
  },
  {
   "cell_type": "markdown",
   "id": "5f72c60a-18e6-4228-a40a-a0b9c7e87274",
   "metadata": {},
   "source": [
    "#### Cross validation socre -Precision-"
   ]
  },
  {
   "cell_type": "code",
   "execution_count": 13,
   "id": "f7e94c97-16eb-4dfd-b276-6ad2a555eb58",
   "metadata": {
    "tags": []
   },
   "outputs": [
    {
     "name": "stdout",
     "output_type": "stream",
     "text": [
      " LG: 0.5580332333487927 (0.4244834566465215)\n"
     ]
    }
   ],
   "source": [
    "results3 = []\n",
    "kfold = KFold(n_splits=10, shuffle=False)\n",
    "cv_results3 = cross_val_score(lg1, X_train, y_train, cv=kfold, scoring=\"precision\")\n",
    "\n",
    "results3.append(cv_results3)\n",
    "    \n",
    "msg3 = f\" LG: {cv_results3.mean()} ({cv_results3.std()})\"\n",
    "print(msg3)"
   ]
  },
  {
   "cell_type": "code",
   "execution_count": 14,
   "id": "1a484ad8-a811-4965-bc32-e85333568a1f",
   "metadata": {
    "tags": []
   },
   "outputs": [
    {
     "data": {
      "text/html": [
       "<div>\n",
       "<style scoped>\n",
       "    .dataframe tbody tr th:only-of-type {\n",
       "        vertical-align: middle;\n",
       "    }\n",
       "\n",
       "    .dataframe tbody tr th {\n",
       "        vertical-align: top;\n",
       "    }\n",
       "\n",
       "    .dataframe thead th {\n",
       "        text-align: right;\n",
       "    }\n",
       "</style>\n",
       "<table border=\"1\" class=\"dataframe\">\n",
       "  <thead>\n",
       "    <tr style=\"text-align: right;\">\n",
       "      <th></th>\n",
       "      <th>precision</th>\n",
       "    </tr>\n",
       "  </thead>\n",
       "  <tbody>\n",
       "    <tr>\n",
       "      <th>0</th>\n",
       "      <td>0.107570</td>\n",
       "    </tr>\n",
       "    <tr>\n",
       "      <th>1</th>\n",
       "      <td>0.165992</td>\n",
       "    </tr>\n",
       "    <tr>\n",
       "      <th>2</th>\n",
       "      <td>0.158103</td>\n",
       "    </tr>\n",
       "    <tr>\n",
       "      <th>3</th>\n",
       "      <td>0.112360</td>\n",
       "    </tr>\n",
       "    <tr>\n",
       "      <th>4</th>\n",
       "      <td>0.129464</td>\n",
       "    </tr>\n",
       "    <tr>\n",
       "      <th>5</th>\n",
       "      <td>0.906844</td>\n",
       "    </tr>\n",
       "    <tr>\n",
       "      <th>6</th>\n",
       "      <td>1.000000</td>\n",
       "    </tr>\n",
       "    <tr>\n",
       "      <th>7</th>\n",
       "      <td>1.000000</td>\n",
       "    </tr>\n",
       "    <tr>\n",
       "      <th>8</th>\n",
       "      <td>1.000000</td>\n",
       "    </tr>\n",
       "    <tr>\n",
       "      <th>9</th>\n",
       "      <td>1.000000</td>\n",
       "    </tr>\n",
       "  </tbody>\n",
       "</table>\n",
       "</div>"
      ],
      "text/plain": [
       "   precision\n",
       "0   0.107570\n",
       "1   0.165992\n",
       "2   0.158103\n",
       "3   0.112360\n",
       "4   0.129464\n",
       "5   0.906844\n",
       "6   1.000000\n",
       "7   1.000000\n",
       "8   1.000000\n",
       "9   1.000000"
      ]
     },
     "metadata": {},
     "output_type": "display_data"
    }
   ],
   "source": [
    "names3 = [\"precision\"]\n",
    "results_dict3 = {name3: result3 for name3, result3 in zip(names3, results3)}\n",
    "\n",
    "# Create the DataFrame using the dictionary\n",
    "score3 = pd.DataFrame(results_dict3)\n",
    "\n",
    "# Print the DataFrame\n",
    "display(score3)"
   ]
  },
  {
   "cell_type": "code",
   "execution_count": 15,
   "id": "eaa5bc77-0b00-4993-9985-895ad4aac969",
   "metadata": {
    "tags": []
   },
   "outputs": [],
   "source": [
    "score3.to_csv('../data/score/after_tuning_parameter/LG/lg_cross_val_precision.csv', index=False)"
   ]
  },
  {
   "cell_type": "markdown",
   "id": "2466408a-715b-479b-beb9-03e60b9f9af1",
   "metadata": {},
   "source": [
    "  "
   ]
  },
  {
   "cell_type": "markdown",
   "id": "2e27ded8-22b3-4f52-9e0f-733b92a7781d",
   "metadata": {
    "tags": []
   },
   "source": [
    "#### Cross validation socre -F1-"
   ]
  },
  {
   "cell_type": "code",
   "execution_count": 16,
   "id": "d7d54530-4b8b-478b-86e6-7e59bbbf4ee8",
   "metadata": {
    "tags": []
   },
   "outputs": [
    {
     "name": "stdout",
     "output_type": "stream",
     "text": [
      " LG: 0.5562194431344551 (0.32556271881759635)\n"
     ]
    }
   ],
   "source": [
    "results4 = []\n",
    "kfold = KFold(n_splits=10, shuffle=False)\n",
    "cv_results4 = cross_val_score(lg1, X_train, y_train, cv=kfold, scoring=\"f1\")\n",
    "\n",
    "results4.append(cv_results4)\n",
    "    \n",
    "msg4 = f\" LG: {cv_results4.mean()} ({cv_results4.std()})\"\n",
    "print(msg4)"
   ]
  },
  {
   "cell_type": "code",
   "execution_count": 17,
   "id": "2a941ae8-cc15-4bfd-8b2c-557f7ce794ab",
   "metadata": {
    "tags": []
   },
   "outputs": [
    {
     "data": {
      "text/html": [
       "<div>\n",
       "<style scoped>\n",
       "    .dataframe tbody tr th:only-of-type {\n",
       "        vertical-align: middle;\n",
       "    }\n",
       "\n",
       "    .dataframe tbody tr th {\n",
       "        vertical-align: top;\n",
       "    }\n",
       "\n",
       "    .dataframe thead th {\n",
       "        text-align: right;\n",
       "    }\n",
       "</style>\n",
       "<table border=\"1\" class=\"dataframe\">\n",
       "  <thead>\n",
       "    <tr style=\"text-align: right;\">\n",
       "      <th></th>\n",
       "      <th>f1</th>\n",
       "    </tr>\n",
       "  </thead>\n",
       "  <tbody>\n",
       "    <tr>\n",
       "      <th>0</th>\n",
       "      <td>0.190141</td>\n",
       "    </tr>\n",
       "    <tr>\n",
       "      <th>1</th>\n",
       "      <td>0.279863</td>\n",
       "    </tr>\n",
       "    <tr>\n",
       "      <th>2</th>\n",
       "      <td>0.266667</td>\n",
       "    </tr>\n",
       "    <tr>\n",
       "      <th>3</th>\n",
       "      <td>0.197368</td>\n",
       "    </tr>\n",
       "    <tr>\n",
       "      <th>4</th>\n",
       "      <td>0.224806</td>\n",
       "    </tr>\n",
       "    <tr>\n",
       "      <th>5</th>\n",
       "      <td>0.864130</td>\n",
       "    </tr>\n",
       "    <tr>\n",
       "      <th>6</th>\n",
       "      <td>0.868613</td>\n",
       "    </tr>\n",
       "    <tr>\n",
       "      <th>7</th>\n",
       "      <td>0.893647</td>\n",
       "    </tr>\n",
       "    <tr>\n",
       "      <th>8</th>\n",
       "      <td>0.892066</td>\n",
       "    </tr>\n",
       "    <tr>\n",
       "      <th>9</th>\n",
       "      <td>0.884892</td>\n",
       "    </tr>\n",
       "  </tbody>\n",
       "</table>\n",
       "</div>"
      ],
      "text/plain": [
       "         f1\n",
       "0  0.190141\n",
       "1  0.279863\n",
       "2  0.266667\n",
       "3  0.197368\n",
       "4  0.224806\n",
       "5  0.864130\n",
       "6  0.868613\n",
       "7  0.893647\n",
       "8  0.892066\n",
       "9  0.884892"
      ]
     },
     "metadata": {},
     "output_type": "display_data"
    }
   ],
   "source": [
    "names4 = [\"f1\"]\n",
    "results_dict4 = {name4: result4 for name4, result4 in zip(names4, results4)}\n",
    "\n",
    "# Create the DataFrame using the dictionary\n",
    "score4 = pd.DataFrame(results_dict4)\n",
    "\n",
    "# Print the DataFrame\n",
    "display(score4)"
   ]
  },
  {
   "cell_type": "code",
   "execution_count": 18,
   "id": "c8774981-cb37-413d-b264-db08f7aa5893",
   "metadata": {
    "tags": []
   },
   "outputs": [],
   "source": [
    "score4.to_csv('../data/score/after_tuning_parameter/LG/lg_cross_val_f1.csv', index=False)"
   ]
  },
  {
   "cell_type": "markdown",
   "id": "c1f31545-380d-49c5-a992-cfcde45d43d8",
   "metadata": {
    "tags": []
   },
   "source": [
    "### Variable Importance "
   ]
  },
  {
   "cell_type": "code",
   "execution_count": 20,
   "id": "2bbdd449-7de4-40a4-aa26-8230a7211302",
   "metadata": {
    "tags": []
   },
   "outputs": [
    {
     "data": {
      "image/png": "[encoded data removed]",
      "text/plain": [
       "<Figure size 640x480 with 1 Axes>"
      ]
     },
     "metadata": {},
     "output_type": "display_data"
    }
   ],
   "source": [
    "X_train2 = pd.read_csv('../data/x_y_data/X_resampled.csv')\n",
    "y_train2 = pd.read_csv('../data/x_y_data/y_resampled.csv')\n",
    "\n",
    "\n",
    "lg_tuned = lg1.fit(X_train2, y_train2)\n",
    "\n",
    "from sklearn.inspection import permutation_importance\n",
    "\n",
    "\n",
    "# Calculate permutation feature importances\n",
    "result = permutation_importance(lg_tuned, X_train2, y_train2, n_repeats=10, random_state=42)\n",
    "\n",
    "# Sort and display the results\n",
    "feature_importances = pd.Series(result.importances_mean, index=X_train2.columns).sort_values(ascending=False)\n",
    "\n",
    "# Plot the feature importances\n",
    "import matplotlib.pyplot as plt\n",
    "\n",
    "sns.barplot(x=feature_importances, y=feature_importances.index)\n",
    "plt.xlabel('Significance Score Of Variables')\n",
    "plt.ylabel('Variables')\n",
    "plt.title(\"Variable Importance for Gradient Boosting  Model\")\n",
    "plt.show()\n"
   ]
  },
  {
   "cell_type": "markdown",
   "id": "7359bba8-8f72-4f00-974e-7be10c394faf",
   "metadata": {},
   "source": [
    "#####  The level of 'age' is very high, compared to 'KNN'"
   ]
  },
  {
   "cell_type": "code",
   "execution_count": 21,
   "id": "4417f808-51f6-46bc-83d2-0864baf65f5e",
   "metadata": {
    "tags": []
   },
   "outputs": [
    {
     "data": {
      "text/html": [
       "<div>\n",
       "<style scoped>\n",
       "    .dataframe tbody tr th:only-of-type {\n",
       "        vertical-align: middle;\n",
       "    }\n",
       "\n",
       "    .dataframe tbody tr th {\n",
       "        vertical-align: top;\n",
       "    }\n",
       "\n",
       "    .dataframe thead th {\n",
       "        text-align: right;\n",
       "    }\n",
       "</style>\n",
       "<table border=\"1\" class=\"dataframe\">\n",
       "  <thead>\n",
       "    <tr style=\"text-align: right;\">\n",
       "      <th></th>\n",
       "      <th>0</th>\n",
       "    </tr>\n",
       "  </thead>\n",
       "  <tbody>\n",
       "    <tr>\n",
       "      <th>age</th>\n",
       "      <td>0.286374</td>\n",
       "    </tr>\n",
       "    <tr>\n",
       "      <th>work_type_Self-employed</th>\n",
       "      <td>0.009006</td>\n",
       "    </tr>\n",
       "    <tr>\n",
       "      <th>hypertension</th>\n",
       "      <td>0.004310</td>\n",
       "    </tr>\n",
       "    <tr>\n",
       "      <th>smoking_status_never smoked</th>\n",
       "      <td>0.003819</td>\n",
       "    </tr>\n",
       "    <tr>\n",
       "      <th>work_type_Other</th>\n",
       "      <td>0.002232</td>\n",
       "    </tr>\n",
       "    <tr>\n",
       "      <th>avg_glucose_level</th>\n",
       "      <td>0.001432</td>\n",
       "    </tr>\n",
       "    <tr>\n",
       "      <th>smoking_status_formerly smoked</th>\n",
       "      <td>0.000439</td>\n",
       "    </tr>\n",
       "    <tr>\n",
       "      <th>gender_F</th>\n",
       "      <td>0.000090</td>\n",
       "    </tr>\n",
       "    <tr>\n",
       "      <th>ever_married</th>\n",
       "      <td>0.000052</td>\n",
       "    </tr>\n",
       "    <tr>\n",
       "      <th>heart_disease</th>\n",
       "      <td>-0.000039</td>\n",
       "    </tr>\n",
       "    <tr>\n",
       "      <th>residence_type_Rural</th>\n",
       "      <td>-0.000129</td>\n",
       "    </tr>\n",
       "    <tr>\n",
       "      <th>residence_type_Urban</th>\n",
       "      <td>-0.000387</td>\n",
       "    </tr>\n",
       "    <tr>\n",
       "      <th>smoking_status_smokes</th>\n",
       "      <td>-0.000400</td>\n",
       "    </tr>\n",
       "    <tr>\n",
       "      <th>gender_M</th>\n",
       "      <td>-0.000439</td>\n",
       "    </tr>\n",
       "    <tr>\n",
       "      <th>work_type_Private</th>\n",
       "      <td>-0.000581</td>\n",
       "    </tr>\n",
       "    <tr>\n",
       "      <th>bmi</th>\n",
       "      <td>-0.001006</td>\n",
       "    </tr>\n",
       "    <tr>\n",
       "      <th>smoking_status_Unknown</th>\n",
       "      <td>-0.001071</td>\n",
       "    </tr>\n",
       "    <tr>\n",
       "      <th>work_type_Govt_job</th>\n",
       "      <td>-0.001239</td>\n",
       "    </tr>\n",
       "  </tbody>\n",
       "</table>\n",
       "</div>"
      ],
      "text/plain": [
       "                                       0\n",
       "age                             0.286374\n",
       "work_type_Self-employed         0.009006\n",
       "hypertension                    0.004310\n",
       "smoking_status_never smoked     0.003819\n",
       "work_type_Other                 0.002232\n",
       "avg_glucose_level               0.001432\n",
       "smoking_status_formerly smoked  0.000439\n",
       "gender_F                        0.000090\n",
       "ever_married                    0.000052\n",
       "heart_disease                  -0.000039\n",
       "residence_type_Rural           -0.000129\n",
       "residence_type_Urban           -0.000387\n",
       "smoking_status_smokes          -0.000400\n",
       "gender_M                       -0.000439\n",
       "work_type_Private              -0.000581\n",
       "bmi                            -0.001006\n",
       "smoking_status_Unknown         -0.001071\n",
       "work_type_Govt_job             -0.001239"
      ]
     },
     "execution_count": 21,
     "metadata": {},
     "output_type": "execute_result"
    }
   ],
   "source": [
    "feature_importances_df = pd.DataFrame(feature_importances)\n",
    "feature_importances_df"
   ]
  },
  {
   "cell_type": "code",
   "execution_count": 22,
   "id": "8786598c-3715-4703-9a1d-d6e1e3b266cf",
   "metadata": {
    "tags": []
   },
   "outputs": [
    {
     "data": {
      "text/html": [
       "<div>\n",
       "<style scoped>\n",
       "    .dataframe tbody tr th:only-of-type {\n",
       "        vertical-align: middle;\n",
       "    }\n",
       "\n",
       "    .dataframe tbody tr th {\n",
       "        vertical-align: top;\n",
       "    }\n",
       "\n",
       "    .dataframe thead th {\n",
       "        text-align: right;\n",
       "    }\n",
       "</style>\n",
       "<table border=\"1\" class=\"dataframe\">\n",
       "  <thead>\n",
       "    <tr style=\"text-align: right;\">\n",
       "      <th></th>\n",
       "      <th>Significance Score</th>\n",
       "    </tr>\n",
       "  </thead>\n",
       "  <tbody>\n",
       "    <tr>\n",
       "      <th>age</th>\n",
       "      <td>0.286374</td>\n",
       "    </tr>\n",
       "    <tr>\n",
       "      <th>work_type_Self-employed</th>\n",
       "      <td>0.009006</td>\n",
       "    </tr>\n",
       "  </tbody>\n",
       "</table>\n",
       "</div>"
      ],
      "text/plain": [
       "                         Significance Score\n",
       "age                                0.286374\n",
       "work_type_Self-employed            0.009006"
      ]
     },
     "execution_count": 22,
     "metadata": {},
     "output_type": "execute_result"
    }
   ],
   "source": [
    "feature_importances_df = feature_importances_df.rename(columns={0:'Significance Score'})\n",
    "feature_importances_df.head(2)"
   ]
  },
  {
   "cell_type": "code",
   "execution_count": 23,
   "id": "91be4620-a189-4ca2-9782-01421367b659",
   "metadata": {
    "tags": []
   },
   "outputs": [],
   "source": [
    "feature_importances_df.to_csv('../data/score/Significant_Score/LG_Significance_Score.csv', index=False)"
   ]
  },
  {
   "cell_type": "markdown",
   "id": "1915cb25-a47f-4259-b1ee-875f0cf5bcfc",
   "metadata": {},
   "source": [
    "  "
   ]
  },
  {
   "cell_type": "markdown",
   "id": "d19659f8-0890-410f-b923-7337a9453e55",
   "metadata": {
    "tags": []
   },
   "source": [
    "### the classification report"
   ]
  },
  {
   "cell_type": "code",
   "execution_count": 24,
   "id": "a751f965-2fe5-4365-a403-f04d84abdbb4",
   "metadata": {
    "tags": []
   },
   "outputs": [
    {
     "name": "stdout",
     "output_type": "stream",
     "text": [
      "Confusion Matrix:\n"
     ]
    },
    {
     "data": {
      "text/plain": [
       "array([[736, 236],\n",
       "       [ 13,  35]])"
      ]
     },
     "metadata": {},
     "output_type": "display_data"
    }
   ],
   "source": [
    "from sklearn.metrics import confusion_matrix\n",
    "\n",
    "\n",
    "y_pred = lg1.predict(X_test)\n",
    "\n",
    "# Calculate the confusion matrix\n",
    "cm = confusion_matrix(y_test, y_pred)\n",
    "\n",
    "print(\"Confusion Matrix:\")\n",
    "display(cm)"
   ]
  },
  {
   "cell_type": "code",
   "execution_count": 25,
   "id": "6ca21141-f526-4caf-a587-ba365a625152",
   "metadata": {
    "tags": []
   },
   "outputs": [
    {
     "data": {
      "text/plain": [
       "0    749\n",
       "1    271\n",
       "Name: count, dtype: int64"
      ]
     },
     "execution_count": 25,
     "metadata": {},
     "output_type": "execute_result"
    }
   ],
   "source": [
    "y_pred_df = pd.DataFrame(y_pred)\n",
    "\n",
    "y_pred_df.value_counts()"
   ]
  },
  {
   "cell_type": "code",
   "execution_count": 26,
   "id": "461c7501-a7a6-4015-bccf-eb991b53c15f",
   "metadata": {
    "tags": []
   },
   "outputs": [
    {
     "data": {
      "text/plain": [
       "stroke\n",
       "0         972\n",
       "1          48\n",
       "Name: count, dtype: int64"
      ]
     },
     "execution_count": 26,
     "metadata": {},
     "output_type": "execute_result"
    }
   ],
   "source": [
    "y_test_df = pd.DataFrame(y_test)\n",
    "\n",
    "y_test_df.value_counts()"
   ]
  },
  {
   "cell_type": "code",
   "execution_count": 27,
   "id": "39c09533-7118-4a68-b051-96ba1aeb7984",
   "metadata": {
    "tags": []
   },
   "outputs": [
    {
     "data": {
      "text/html": [
       "<div>\n",
       "<style scoped>\n",
       "    .dataframe tbody tr th:only-of-type {\n",
       "        vertical-align: middle;\n",
       "    }\n",
       "\n",
       "    .dataframe tbody tr th {\n",
       "        vertical-align: top;\n",
       "    }\n",
       "\n",
       "    .dataframe thead th {\n",
       "        text-align: right;\n",
       "    }\n",
       "</style>\n",
       "<table border=\"1\" class=\"dataframe\">\n",
       "  <thead>\n",
       "    <tr style=\"text-align: right;\">\n",
       "      <th></th>\n",
       "      <th>Metric</th>\n",
       "      <th>Score</th>\n",
       "    </tr>\n",
       "  </thead>\n",
       "  <tbody>\n",
       "    <tr>\n",
       "      <th>0</th>\n",
       "      <td>Accuracy</td>\n",
       "      <td>0.755882</td>\n",
       "    </tr>\n",
       "    <tr>\n",
       "      <th>1</th>\n",
       "      <td>Precision</td>\n",
       "      <td>0.129151</td>\n",
       "    </tr>\n",
       "    <tr>\n",
       "      <th>2</th>\n",
       "      <td>Recall</td>\n",
       "      <td>0.729167</td>\n",
       "    </tr>\n",
       "    <tr>\n",
       "      <th>3</th>\n",
       "      <td>F1-Score</td>\n",
       "      <td>0.219436</td>\n",
       "    </tr>\n",
       "    <tr>\n",
       "      <th>4</th>\n",
       "      <td>Kappa</td>\n",
       "      <td>0.151601</td>\n",
       "    </tr>\n",
       "  </tbody>\n",
       "</table>\n",
       "</div>"
      ],
      "text/plain": [
       "      Metric     Score\n",
       "0   Accuracy  0.755882\n",
       "1  Precision  0.129151\n",
       "2     Recall  0.729167\n",
       "3   F1-Score  0.219436\n",
       "4      Kappa  0.151601"
      ]
     },
     "metadata": {},
     "output_type": "display_data"
    }
   ],
   "source": [
    "from sklearn.metrics import accuracy_score, precision_score, recall_score, f1_score, cohen_kappa_score\n",
    "\n",
    "\n",
    "y_pred = lg1.predict(X_test)\n",
    "\n",
    "accuracy = accuracy_score(y_test, y_pred)\n",
    "precision = precision_score(y_test, y_pred)\n",
    "recall = recall_score(y_test, y_pred)\n",
    "f1 = f1_score(y_test, y_pred)\n",
    "kappa = cohen_kappa_score(y_test, y_pred)\n",
    "\n",
    "# Create a DataFrame\n",
    "metrics_df = pd.DataFrame({\n",
    "    \"Metric\": [\"Accuracy\", \"Precision\", \"Recall\", \"F1-Score\", \"Kappa\"],\n",
    "    \"Score\": [accuracy, precision, recall, f1, kappa]\n",
    "})\n",
    "\n",
    "display(metrics_df)"
   ]
  },
  {
   "cell_type": "code",
   "execution_count": 28,
   "id": "c4bb9f3c-e186-409c-938c-a6b5aaf8f447",
   "metadata": {
    "tags": []
   },
   "outputs": [
    {
     "name": "stdout",
     "output_type": "stream",
     "text": [
      "[CV 5/5; 1/4] START penalty=l1..................................................\n",
      "[CV 5/5; 1/4] END ...penalty=l1;, score=(train=nan, test=nan) total time=   0.0s\n",
      "[CV 3/5; 3/4] START penalty=elasticnet..........................................\n",
      "[CV 3/5; 3/4] END penalty=elasticnet;, score=(train=nan, test=nan) total time=   0.0s\n",
      "[CV 5/5; 3/4] START penalty=elasticnet..........................................\n",
      "[CV 5/5; 3/4] END penalty=elasticnet;, score=(train=nan, test=nan) total time=   0.0s\n",
      "[CV 2/5; 1/4] START penalty=l1..................................................\n",
      "[CV 2/5; 1/4] END ...penalty=l1;, score=(train=nan, test=nan) total time=   0.0s\n",
      "[CV 5/5; 2/4] START penalty=l2..................................................\n",
      "[CV 5/5; 2/4] END penalty=l2;, score=(train=0.787, test=0.795) total time=   0.1s\n",
      "[CV 1/5; 1/4] START penalty=l1..................................................\n",
      "[CV 1/5; 1/4] END ...penalty=l1;, score=(train=nan, test=nan) total time=   0.0s\n",
      "[CV 4/5; 2/4] START penalty=l2..................................................\n",
      "[CV 4/5; 2/4] END penalty=l2;, score=(train=0.791, test=0.788) total time=   0.1s\n",
      "[CV 4/5; 1/4] START penalty=l1..................................................\n",
      "[CV 4/5; 1/4] END ...penalty=l1;, score=(train=nan, test=nan) total time=   0.0s\n",
      "[CV 1/5; 3/4] START penalty=elasticnet..........................................\n",
      "[CV 1/5; 3/4] END penalty=elasticnet;, score=(train=nan, test=nan) total time=   0.0s\n",
      "[CV 1/5; 4/4] START penalty=None................................................\n",
      "[CV 1/5; 4/4] END penalty=None;, score=(train=0.789, test=0.781) total time=   0.1s\n",
      "[CV 3/5; 2/4] START penalty=l2..................................................\n",
      "[CV 3/5; 2/4] END penalty=l2;, score=(train=0.787, test=0.793) total time=   0.1s\n",
      "[CV 2/5; 4/4] START penalty=None................................................\n",
      "[CV 2/5; 4/4] END penalty=None;, score=(train=0.790, test=0.784) total time=   0.1s\n",
      "[CV 2/5; 2/4] START penalty=l2..................................................\n",
      "[CV 2/5; 2/4] END penalty=l2;, score=(train=0.790, test=0.783) total time=   0.1s\n",
      "[CV 4/5; 4/4] START penalty=None................................................\n",
      "[CV 4/5; 4/4] END penalty=None;, score=(train=0.792, test=0.786) total time=   0.1s\n",
      "[CV 3/5; 1/4] START penalty=l1..................................................\n",
      "[CV 3/5; 1/4] END ...penalty=l1;, score=(train=nan, test=nan) total time=   0.0s\n",
      "[CV 2/5; 3/4] START penalty=elasticnet..........................................\n",
      "[CV 2/5; 3/4] END penalty=elasticnet;, score=(train=nan, test=nan) total time=   0.0s\n",
      "[CV 4/5; 3/4] START penalty=elasticnet..........................................\n",
      "[CV 4/5; 3/4] END penalty=elasticnet;, score=(train=nan, test=nan) total time=   0.0s\n",
      "[CV 5/5; 4/4] START penalty=None................................................\n",
      "[CV 5/5; 4/4] END penalty=None;, score=(train=0.786, test=0.797) total time=   0.1s\n",
      "[CV 1/5; 2/4] START penalty=l2..................................................\n",
      "[CV 1/5; 2/4] END penalty=l2;, score=(train=0.790, test=0.783) total time=   0.1s\n",
      "[CV 3/5; 4/4] START penalty=None................................................\n",
      "[CV 3/5; 4/4] END penalty=None;, score=(train=0.787, test=0.792) total time=   0.1s\n"
     ]
    }
   ],
   "source": [
    "metrics_df.to_csv('../data/metrics/lg_metrics.csv', index=False)"
   ]
  },
  {
   "cell_type": "code",
   "execution_count": null,
   "id": "3c809616-d79c-4a09-be97-d88bfdd89b0b",
   "metadata": {},
   "outputs": [],
   "source": []
  }
 ],
 "metadata": {
  "kernelspec": {
   "display_name": "final_project_env",
   "language": "python",
   "name": "final_project_env"
  },
  "language_info": {
   "codemirror_mode": {
    "name": "ipython",
    "version": 3
   },
   "file_extension": ".py",
   "mimetype": "text/x-python",
   "name": "python",
   "nbconvert_exporter": "python",
   "pygments_lexer": "ipython3",
   "version": "3.11.3"
  }
 },
 "nbformat": 4,
 "nbformat_minor": 5
}
