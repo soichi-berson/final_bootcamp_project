{
 "cells": [
  {
   "cell_type": "markdown",
   "id": "fc6cd6b7-3cef-4992-9e20-c9ada62565dd",
   "metadata": {},
   "source": [
    "# C._(rm_null) 3_choose_learning_machine_models"
   ]
  },
  {
   "cell_type": "code",
   "execution_count": 2,
   "id": "6f0b1332-e5d5-405e-87c0-6f71765b12dd",
   "metadata": {
    "tags": []
   },
   "outputs": [],
   "source": [
    "import pandas as pd\n",
    "import numpy as np\n",
    "import seaborn as sns\n",
    "import matplotlib.pyplot as plt"
   ]
  },
  {
   "cell_type": "code",
   "execution_count": 3,
   "id": "ac273ad0-eb62-4d96-ba88-bfa07fce7392",
   "metadata": {
    "tags": []
   },
   "outputs": [
    {
     "data": {
      "text/html": [
       "<div>\n",
       "<style scoped>\n",
       "    .dataframe tbody tr th:only-of-type {\n",
       "        vertical-align: middle;\n",
       "    }\n",
       "\n",
       "    .dataframe tbody tr th {\n",
       "        vertical-align: top;\n",
       "    }\n",
       "\n",
       "    .dataframe thead th {\n",
       "        text-align: right;\n",
       "    }\n",
       "</style>\n",
       "<table border=\"1\" class=\"dataframe\">\n",
       "  <thead>\n",
       "    <tr style=\"text-align: right;\">\n",
       "      <th></th>\n",
       "      <th>age</th>\n",
       "      <th>hypertension</th>\n",
       "      <th>heart_disease</th>\n",
       "      <th>ever_married</th>\n",
       "      <th>avg_glucose_level</th>\n",
       "      <th>bmi</th>\n",
       "      <th>gender_F</th>\n",
       "      <th>gender_M</th>\n",
       "      <th>work_type_Govt_job</th>\n",
       "      <th>work_type_Other</th>\n",
       "      <th>work_type_Private</th>\n",
       "      <th>work_type_Self-employed</th>\n",
       "      <th>residence_type_Rural</th>\n",
       "      <th>residence_type_Urban</th>\n",
       "      <th>smoking_status_Unknown</th>\n",
       "      <th>smoking_status_formerly smoked</th>\n",
       "      <th>smoking_status_never smoked</th>\n",
       "      <th>smoking_status_smokes</th>\n",
       "      <th>stroke</th>\n",
       "    </tr>\n",
       "  </thead>\n",
       "  <tbody>\n",
       "    <tr>\n",
       "      <th>0</th>\n",
       "      <td>0.839182</td>\n",
       "      <td>0.0</td>\n",
       "      <td>1.0</td>\n",
       "      <td>1.0</td>\n",
       "      <td>0.954770</td>\n",
       "      <td>0.700525</td>\n",
       "      <td>0</td>\n",
       "      <td>1</td>\n",
       "      <td>0</td>\n",
       "      <td>0</td>\n",
       "      <td>1</td>\n",
       "      <td>0</td>\n",
       "      <td>0</td>\n",
       "      <td>1</td>\n",
       "      <td>0</td>\n",
       "      <td>1</td>\n",
       "      <td>0</td>\n",
       "      <td>0</td>\n",
       "      <td>1</td>\n",
       "    </tr>\n",
       "    <tr>\n",
       "      <th>1</th>\n",
       "      <td>0.978813</td>\n",
       "      <td>0.0</td>\n",
       "      <td>1.0</td>\n",
       "      <td>1.0</td>\n",
       "      <td>0.612224</td>\n",
       "      <td>0.630121</td>\n",
       "      <td>0</td>\n",
       "      <td>1</td>\n",
       "      <td>0</td>\n",
       "      <td>0</td>\n",
       "      <td>1</td>\n",
       "      <td>0</td>\n",
       "      <td>1</td>\n",
       "      <td>0</td>\n",
       "      <td>0</td>\n",
       "      <td>0</td>\n",
       "      <td>1</td>\n",
       "      <td>0</td>\n",
       "      <td>1</td>\n",
       "    </tr>\n",
       "    <tr>\n",
       "      <th>2</th>\n",
       "      <td>0.639247</td>\n",
       "      <td>0.0</td>\n",
       "      <td>0.0</td>\n",
       "      <td>1.0</td>\n",
       "      <td>0.857404</td>\n",
       "      <td>0.663675</td>\n",
       "      <td>1</td>\n",
       "      <td>0</td>\n",
       "      <td>0</td>\n",
       "      <td>0</td>\n",
       "      <td>1</td>\n",
       "      <td>0</td>\n",
       "      <td>0</td>\n",
       "      <td>1</td>\n",
       "      <td>0</td>\n",
       "      <td>0</td>\n",
       "      <td>0</td>\n",
       "      <td>1</td>\n",
       "      <td>1</td>\n",
       "    </tr>\n",
       "    <tr>\n",
       "      <th>3</th>\n",
       "      <td>0.968192</td>\n",
       "      <td>1.0</td>\n",
       "      <td>0.0</td>\n",
       "      <td>1.0</td>\n",
       "      <td>0.863892</td>\n",
       "      <td>0.454702</td>\n",
       "      <td>1</td>\n",
       "      <td>0</td>\n",
       "      <td>0</td>\n",
       "      <td>0</td>\n",
       "      <td>0</td>\n",
       "      <td>1</td>\n",
       "      <td>1</td>\n",
       "      <td>0</td>\n",
       "      <td>0</td>\n",
       "      <td>0</td>\n",
       "      <td>1</td>\n",
       "      <td>0</td>\n",
       "      <td>1</td>\n",
       "    </tr>\n",
       "    <tr>\n",
       "      <th>4</th>\n",
       "      <td>0.989416</td>\n",
       "      <td>0.0</td>\n",
       "      <td>0.0</td>\n",
       "      <td>1.0</td>\n",
       "      <td>0.888781</td>\n",
       "      <td>0.563472</td>\n",
       "      <td>0</td>\n",
       "      <td>1</td>\n",
       "      <td>0</td>\n",
       "      <td>0</td>\n",
       "      <td>1</td>\n",
       "      <td>0</td>\n",
       "      <td>0</td>\n",
       "      <td>1</td>\n",
       "      <td>0</td>\n",
       "      <td>1</td>\n",
       "      <td>0</td>\n",
       "      <td>0</td>\n",
       "      <td>1</td>\n",
       "    </tr>\n",
       "  </tbody>\n",
       "</table>\n",
       "</div>"
      ],
      "text/plain": [
       "        age  hypertension  heart_disease  ever_married  avg_glucose_level  \\\n",
       "0  0.839182           0.0            1.0           1.0           0.954770   \n",
       "1  0.978813           0.0            1.0           1.0           0.612224   \n",
       "2  0.639247           0.0            0.0           1.0           0.857404   \n",
       "3  0.968192           1.0            0.0           1.0           0.863892   \n",
       "4  0.989416           0.0            0.0           1.0           0.888781   \n",
       "\n",
       "        bmi  gender_F  gender_M  work_type_Govt_job  work_type_Other  \\\n",
       "0  0.700525         0         1                   0                0   \n",
       "1  0.630121         0         1                   0                0   \n",
       "2  0.663675         1         0                   0                0   \n",
       "3  0.454702         1         0                   0                0   \n",
       "4  0.563472         0         1                   0                0   \n",
       "\n",
       "   work_type_Private  work_type_Self-employed  residence_type_Rural  \\\n",
       "0                  1                        0                     0   \n",
       "1                  1                        0                     1   \n",
       "2                  1                        0                     0   \n",
       "3                  0                        1                     1   \n",
       "4                  1                        0                     0   \n",
       "\n",
       "   residence_type_Urban  smoking_status_Unknown  \\\n",
       "0                     1                       0   \n",
       "1                     0                       0   \n",
       "2                     1                       0   \n",
       "3                     0                       0   \n",
       "4                     1                       0   \n",
       "\n",
       "   smoking_status_formerly smoked  smoking_status_never smoked  \\\n",
       "0                               1                            0   \n",
       "1                               0                            1   \n",
       "2                               0                            0   \n",
       "3                               0                            1   \n",
       "4                               1                            0   \n",
       "\n",
       "   smoking_status_smokes  stroke  \n",
       "0                      0       1  \n",
       "1                      0       1  \n",
       "2                      1       1  \n",
       "3                      0       1  \n",
       "4                      0       1  "
      ]
     },
     "execution_count": 3,
     "metadata": {},
     "output_type": "execute_result"
    }
   ],
   "source": [
    "#load the file \n",
    "data = pd.read_csv('../data/cleaned_data/rm_null_cleaned_data.csv')\n",
    "data.head()\n"
   ]
  },
  {
   "cell_type": "markdown",
   "id": "6aa0f8ff-da64-4385-a969-a6ae331695e6",
   "metadata": {},
   "source": [
    "### x/y split"
   ]
  },
  {
   "cell_type": "code",
   "execution_count": 4,
   "id": "c9625b34-dcd6-4f59-9b20-d103efd0d91d",
   "metadata": {
    "tags": []
   },
   "outputs": [],
   "source": [
    "#separate the features from the labels\n",
    "y = data['stroke']\n",
    "X = data.drop(['stroke'], axis=1)"
   ]
  },
  {
   "cell_type": "code",
   "execution_count": 5,
   "id": "f36caa48-de31-4a3e-8047-7a7ff363a94b",
   "metadata": {
    "tags": []
   },
   "outputs": [
    {
     "data": {
      "text/plain": [
       "0    1\n",
       "Name: stroke, dtype: int64"
      ]
     },
     "execution_count": 5,
     "metadata": {},
     "output_type": "execute_result"
    }
   ],
   "source": [
    "y.head(1)"
   ]
  },
  {
   "cell_type": "code",
   "execution_count": 6,
   "id": "b11aa827-27a4-445b-925b-dbe0a5dc2d81",
   "metadata": {
    "tags": []
   },
   "outputs": [
    {
     "data": {
      "text/plain": [
       "dtype('int64')"
      ]
     },
     "execution_count": 6,
     "metadata": {},
     "output_type": "execute_result"
    }
   ],
   "source": [
    "# change the type of 'y'\n",
    "y = y.astype('int64')\n",
    "y.dtypes"
   ]
  },
  {
   "cell_type": "code",
   "execution_count": 7,
   "id": "c053205b-dabe-4c4d-a255-747d92b90cf2",
   "metadata": {
    "tags": []
   },
   "outputs": [],
   "source": [
    "from sklearn.model_selection import train_test_split\n",
    "\n",
    "X_train, X_test, y_train, y_test = train_test_split(X, y, test_size=0.2, random_state=123)"
   ]
  },
  {
   "cell_type": "code",
   "execution_count": 8,
   "id": "a0954aa6-4903-4ce0-bc2b-0d5a5b383641",
   "metadata": {
    "tags": []
   },
   "outputs": [
    {
     "data": {
      "text/plain": [
       "stroke\n",
       "0    3747\n",
       "1     169\n",
       "Name: count, dtype: int64"
      ]
     },
     "metadata": {},
     "output_type": "display_data"
    },
    {
     "data": {
      "text/plain": [
       "stroke\n",
       "0    939\n",
       "1     40\n",
       "Name: count, dtype: int64"
      ]
     },
     "metadata": {},
     "output_type": "display_data"
    }
   ],
   "source": [
    "display(y_train.value_counts())\n",
    "display(y_test.value_counts())"
   ]
  },
  {
   "cell_type": "markdown",
   "id": "e68db4b5-4560-476a-87e3-b63d33c60af6",
   "metadata": {},
   "source": [
    "##### As I mentioned earlier, it is clearly imbalanced and it needs Random oversampling  or SMOTE. \n",
    "##### Random oversampling can lead to overfitting, while SMOTE can help to reduce overfitting, as it increases the diversity in the dataset. In this case, SMOTE was chosen.\n",
    "reference: https://www.quora.com/Whats-the-difference-between-random-oversampling-and-oversampling-using-SMOTE-on-an-imbalanced-dataset-Is-the-later-always-better-then-the-first "
   ]
  },
  {
   "cell_type": "code",
   "execution_count": 9,
   "id": "035ec182-8770-4c34-b8bd-80afa5036902",
   "metadata": {
    "tags": []
   },
   "outputs": [],
   "source": [
    "from imblearn.over_sampling import SMOTE\n",
    "\n",
    "smote = SMOTE()\n",
    "# Fit and apply SMOTE to generate synthetic samples for the minority class\n",
    "X_resampled, y_resampled = smote.fit_resample(X_train, y_train)"
   ]
  },
  {
   "cell_type": "code",
   "execution_count": 10,
   "id": "0d801fa3-3642-4791-8e44-580b3b77ac91",
   "metadata": {
    "tags": []
   },
   "outputs": [
    {
     "data": {
      "text/plain": [
       "(7494, 18)"
      ]
     },
     "execution_count": 10,
     "metadata": {},
     "output_type": "execute_result"
    }
   ],
   "source": [
    "X_resampled.shape"
   ]
  },
  {
   "cell_type": "code",
   "execution_count": 11,
   "id": "c2671847-7ad9-4f2c-815f-9783f9967e1e",
   "metadata": {
    "tags": []
   },
   "outputs": [
    {
     "name": "stdout",
     "output_type": "stream",
     "text": [
      "stroke\n",
      "0    3747\n",
      "1    3747\n",
      "Name: count, dtype: int64\n"
     ]
    }
   ],
   "source": [
    "class_counts = y_resampled.value_counts()\n",
    "print(class_counts)"
   ]
  },
  {
   "cell_type": "code",
   "execution_count": 12,
   "id": "2dba9f8d-fde8-4a2b-a62c-06274e852d8a",
   "metadata": {
    "tags": []
   },
   "outputs": [
    {
     "data": {
      "text/plain": [
       "dtype('O')"
      ]
     },
     "execution_count": 12,
     "metadata": {},
     "output_type": "execute_result"
    }
   ],
   "source": [
    "# In order to apply K-NN, the type 'y' are changed into '~Object' \n",
    "y_resampled_obj = y_resampled.apply(lambda x: str(x))\n",
    "y_resampled_obj.dtypes"
   ]
  },
  {
   "cell_type": "code",
   "execution_count": 13,
   "id": "4bae4b9b-d5d3-4038-98fa-82d7f93ae769",
   "metadata": {
    "tags": []
   },
   "outputs": [],
   "source": [
    "# save train and test sets \n",
    "\n",
    "X_resampled.to_csv('../data/x_y_data/rm_null/X_resampled.csv', index=False)\n",
    "y_resampled.to_csv('../data/x_y_data/rm_null/y_resampled.csv', index=False)\n",
    "X_test.to_csv('../data/x_y_data/rm_null/X_test.csv', index=False)\n",
    "y_test.to_csv('../data/x_y_data/rm_null/y_test.csv', index=False)"
   ]
  },
  {
   "cell_type": "markdown",
   "id": "fd8f9d0d-3f13-4a1a-94c8-7000b76d626f",
   "metadata": {},
   "source": [
    "   "
   ]
  },
  {
   "cell_type": "markdown",
   "id": "efbebc1c-a25e-48dc-aaec-e3689eaa87f1",
   "metadata": {},
   "source": [
    "### Choosing models"
   ]
  },
  {
   "cell_type": "code",
   "execution_count": null,
   "id": "94a2a493-7c60-4899-ac98-ea799077b553",
   "metadata": {
    "tags": []
   },
   "outputs": [],
   "source": [
    "X_resampled.shape"
   ]
  },
  {
   "cell_type": "code",
   "execution_count": null,
   "id": "353db8bb-3a6d-499c-86b7-9499d0ee60e6",
   "metadata": {
    "tags": []
   },
   "outputs": [],
   "source": [
    "y_resampled.shape"
   ]
  },
  {
   "cell_type": "code",
   "execution_count": null,
   "id": "85428941-4fc2-4143-9c51-cee4995b22ad",
   "metadata": {
    "tags": []
   },
   "outputs": [],
   "source": [
    "from sklearn.linear_model import LogisticRegression\n",
    "from sklearn.neighbors import KNeighborsClassifier\n",
    "from sklearn.ensemble import RandomForestClassifier\n",
    "from sklearn.ensemble import GradientBoostingClassifier\n",
    "from sklearn.ensemble import AdaBoostClassifier\n",
    "\n",
    "\n",
    "models = []\n",
    "models.append(('LR', LogisticRegression(random_state = 12345)))\n",
    "models.append(('KNN', KNeighborsClassifier()))\n",
    "models.append(('RF', RandomForestClassifier(random_state = 12345)))\n",
    "models.append(('GB', GradientBoostingClassifier(random_state = 12345)))\n",
    "models.append(('AB', AdaBoostClassifier(random_state = 12345)))"
   ]
  },
  {
   "cell_type": "code",
   "execution_count": null,
   "id": "aea6f3fc-6229-4513-b40e-797709e19c04",
   "metadata": {
    "tags": []
   },
   "outputs": [],
   "source": [
    "# evaluate each model in turn\n",
    "from sklearn.model_selection import KFold\n",
    "from sklearn.model_selection import cross_val_score\n",
    "import warnings\n",
    "warnings.filterwarnings('ignore')\n",
    "\n",
    "X_resampled2 = np.ascontiguousarray(X_resampled)\n",
    "y_resampled2 = np.ascontiguousarray(y_resampled)\n",
    "\n",
    "names = []\n",
    "results = []\n",
    "\n",
    "for name, model in models:\n",
    "    kfold = KFold(n_splits=10, shuffle=False)\n",
    "    cv_results = cross_val_score(model, X_resampled2, y_resampled2, cv=kfold, scoring=\"accuracy\")\n",
    "    results.append(cv_results)\n",
    "    names.append(name)\n",
    "    msg = f\"{name}: {cv_results.mean()} ({cv_results.std()})\"\n",
    "    print(msg)\n"
   ]
  },
  {
   "cell_type": "code",
   "execution_count": null,
   "id": "b81101bf-df07-4b2d-899b-cfe870300806",
   "metadata": {
    "tags": []
   },
   "outputs": [],
   "source": [
    "# boxplot algorithm comparison\n",
    "fig = plt.figure(figsize=(15,10))\n",
    "fig.suptitle('Algorithm Comparison')\n",
    "ax = fig.add_subplot(111)\n",
    "plt.boxplot(results)\n",
    "ax.set_xticklabels(names)\n",
    "plt.show()"
   ]
  },
  {
   "cell_type": "markdown",
   "id": "da90aed6-4a46-4d5d-a394-b5ecddf42333",
   "metadata": {},
   "source": [
    "####  KNN and Random Forest  are chosen. In addition, nuural network is investigated."
   ]
  },
  {
   "cell_type": "code",
   "execution_count": null,
   "id": "ec05eede-9451-4211-a146-7fbf446d25bd",
   "metadata": {
    "tags": []
   },
   "outputs": [],
   "source": [
    "names"
   ]
  },
  {
   "cell_type": "code",
   "execution_count": null,
   "id": "26e81f0d-2b34-45e0-81da-36973b56a5a9",
   "metadata": {
    "tags": []
   },
   "outputs": [],
   "source": [
    "results"
   ]
  },
  {
   "cell_type": "code",
   "execution_count": null,
   "id": "13ed925c-3ec9-4eb2-a05b-2653b5fdb5e9",
   "metadata": {
    "tags": []
   },
   "outputs": [],
   "source": [
    "results_dict = {name: result for name, result in zip(names, results)}\n",
    "\n",
    "# Create the DataFrame using the dictionary\n",
    "score = pd.DataFrame(results_dict)\n",
    "\n",
    "# Print the DataFrame\n",
    "display(score)"
   ]
  },
  {
   "cell_type": "code",
   "execution_count": null,
   "id": "a9267dab-8eb3-4226-a9e0-2400a0fe4c9f",
   "metadata": {
    "tags": []
   },
   "outputs": [],
   "source": [
    "score.to_csv('../data/score/scores_5_models.csv', index=False)"
   ]
  },
  {
   "cell_type": "markdown",
   "id": "3779eddb-e9f0-49cd-a12e-5a9ac3446a9f",
   "metadata": {},
   "source": [
    "#### recall"
   ]
  },
  {
   "cell_type": "code",
   "execution_count": null,
   "id": "5ec674cc-9227-41d6-a5c6-fdc92245bd0b",
   "metadata": {
    "tags": []
   },
   "outputs": [],
   "source": [
    "#evaluate each model in turn\n",
    "from sklearn.model_selection import KFold\n",
    "from sklearn.model_selection import cross_val_score\n",
    "import warnings\n",
    "warnings.filterwarnings('ignore')\n",
    "\n",
    "X_resampled2 = np.ascontiguousarray(X_resampled)\n",
    "y_resampled2 = np.ascontiguousarray(y_resampled)\n",
    "\n",
    "names2 = []\n",
    "results2 = []\n",
    "\n",
    "for name, model in models:\n",
    "    kfold = KFold(n_splits=10, shuffle=False)\n",
    "    cv_results2 = cross_val_score(model, X_resampled2, y_resampled2, cv=kfold, scoring=\"recall\")\n",
    "    results2.append(cv_results2)\n",
    "    names2.append(name)\n",
    "    msg2 = f\"{name}: {cv_results2.mean()} ({cv_results2.std()})\"\n",
    "    print(msg2)\n"
   ]
  },
  {
   "cell_type": "code",
   "execution_count": null,
   "id": "da03ac3f-fc81-41da-97f3-848b9db85d17",
   "metadata": {
    "tags": []
   },
   "outputs": [],
   "source": [
    "# boxplot algorithm comparison\n",
    "fig = plt.figure(figsize=(15,10))\n",
    "fig.suptitle('Algorithm Comparison')\n",
    "ax = fig.add_subplot(111)\n",
    "plt.boxplot(results2)\n",
    "ax.set_xticklabels(names2)\n",
    "plt.show()"
   ]
  },
  {
   "cell_type": "code",
   "execution_count": null,
   "id": "c39d6e92-a8f7-4adf-902f-01dbfc450a49",
   "metadata": {
    "tags": []
   },
   "outputs": [],
   "source": [
    "results_dict2 = {name2: result2 for name2, result2 in zip(names2, results2)}\n",
    "\n",
    "# Create the DataFrame using the dictionary\n",
    "score2 = pd.DataFrame(results_dict2)\n",
    "\n",
    "# Print the DataFrame\n",
    "display(score2)"
   ]
  },
  {
   "cell_type": "code",
   "execution_count": null,
   "id": "194abf31-43be-4281-a374-40fdbc5e5cee",
   "metadata": {
    "tags": []
   },
   "outputs": [],
   "source": [
    "score2.to_csv('../data/score/scores_5_models_recall.csv', index=False)"
   ]
  },
  {
   "cell_type": "markdown",
   "id": "4298a1ea-706d-42cc-855e-45303c74069b",
   "metadata": {},
   "source": [
    "  "
   ]
  },
  {
   "cell_type": "markdown",
   "id": "e482ac2d-e311-4996-b1db-d3e23da904e4",
   "metadata": {
    "tags": []
   },
   "source": [
    "### Precision"
   ]
  },
  {
   "cell_type": "code",
   "execution_count": null,
   "id": "c2913788-7b6c-4c38-b06b-8f67002b5c79",
   "metadata": {
    "tags": []
   },
   "outputs": [],
   "source": [
    "#evaluate each model in turn\n",
    "from sklearn.model_selection import KFold\n",
    "from sklearn.model_selection import cross_val_score\n",
    "import warnings\n",
    "warnings.filterwarnings('ignore')\n",
    "\n",
    "X_resampled3 = np.ascontiguousarray(X_resampled)\n",
    "y_resampled3 = np.ascontiguousarray(y_resampled)\n",
    "\n",
    "names3 = []\n",
    "results3 = []\n",
    "\n",
    "for name, model in models:\n",
    "    kfold = KFold(n_splits=10, shuffle=False)\n",
    "    cv_results3 = cross_val_score(model, X_resampled3, y_resampled3, cv=kfold, scoring=\"precision\")\n",
    "    results3.append(cv_results3)\n",
    "    names3.append(name)\n",
    "    msg3 = f\"{name}: {cv_results3.mean()} ({cv_results3.std()})\"\n",
    "    print(msg3)\n"
   ]
  },
  {
   "cell_type": "code",
   "execution_count": null,
   "id": "8e474ad0-ff46-4ebe-9d2c-4d8ca54c2a79",
   "metadata": {
    "tags": []
   },
   "outputs": [],
   "source": [
    "# boxplot algorithm comparison\n",
    "fig = plt.figure(figsize=(15,10))\n",
    "fig.suptitle('Algorithm Comparison -Precision-')\n",
    "ax = fig.add_subplot(111)\n",
    "plt.boxplot(results3)\n",
    "ax.set_xticklabels(names3)\n",
    "plt.show()"
   ]
  },
  {
   "cell_type": "code",
   "execution_count": null,
   "id": "af975d52-02f0-4c09-b125-66d39e091747",
   "metadata": {
    "tags": []
   },
   "outputs": [],
   "source": [
    "results_dict3 = {name3: result3 for name3, result3 in zip(names3, results3)}\n",
    "\n",
    "# Create the DataFrame using the dictionary\n",
    "score3 = pd.DataFrame(results_dict3)\n",
    "\n",
    "# Print the DataFrame\n",
    "display(score3)"
   ]
  },
  {
   "cell_type": "code",
   "execution_count": null,
   "id": "9e30f899-afe2-49df-b639-8ec9e5d72199",
   "metadata": {
    "tags": []
   },
   "outputs": [],
   "source": [
    "score3.to_csv('../data/score/scores_5_models_precision.csv', index=False)"
   ]
  },
  {
   "cell_type": "markdown",
   "id": "4cef3a48-d84f-4424-a5de-9ca5e6c49318",
   "metadata": {},
   "source": [
    "### f1"
   ]
  },
  {
   "cell_type": "code",
   "execution_count": null,
   "id": "2a350018-71f4-4f6d-b807-a85f972dd1eb",
   "metadata": {
    "tags": []
   },
   "outputs": [],
   "source": [
    "#evaluate each model in turn\n",
    "from sklearn.model_selection import KFold\n",
    "from sklearn.model_selection import cross_val_score\n",
    "import warnings\n",
    "warnings.filterwarnings('ignore')\n",
    "\n",
    "X_resampled4 = np.ascontiguousarray(X_resampled)\n",
    "y_resampled4 = np.ascontiguousarray(y_resampled)\n",
    "\n",
    "names4 = []\n",
    "results4 = []\n",
    "\n",
    "for name, model in models:\n",
    "    kfold = KFold(n_splits=10, shuffle=False)\n",
    "    cv_results4 = cross_val_score(model, X_resampled4, y_resampled4, cv=kfold, scoring=\"f1\")\n",
    "    results4.append(cv_results4)\n",
    "    names4.append(name)\n",
    "    msg4 = f\"{name}: {cv_results4.mean()} ({cv_results4.std()})\"\n",
    "    print(msg4)\n"
   ]
  },
  {
   "cell_type": "code",
   "execution_count": null,
   "id": "dbb4c484-9f47-49f2-b7bf-2102e5c7d124",
   "metadata": {
    "tags": []
   },
   "outputs": [],
   "source": [
    "# boxplot algorithm comparison\n",
    "fig = plt.figure(figsize=(15,10))\n",
    "fig.suptitle('Algorithm Comparison -f1-')\n",
    "ax = fig.add_subplot(111)\n",
    "plt.boxplot(results4)\n",
    "ax.set_xticklabels(names4)\n",
    "plt.show()"
   ]
  },
  {
   "cell_type": "code",
   "execution_count": null,
   "id": "9c34d545-5437-4013-bd24-0bfed06b68ef",
   "metadata": {
    "tags": []
   },
   "outputs": [],
   "source": [
    "results_dict4 = {name4: result4 for name4, result4 in zip(names4, results4)}\n",
    "\n",
    "# Create the DataFrame using the dictionary\n",
    "score4 = pd.DataFrame(results_dict4)\n",
    "\n",
    "# Print the DataFrame\n",
    "display(score4)"
   ]
  },
  {
   "cell_type": "code",
   "execution_count": null,
   "id": "fb26b073-30b8-4c77-99b4-5632765f09fa",
   "metadata": {
    "tags": []
   },
   "outputs": [],
   "source": [
    "score4.to_csv('../data/score/scores_5_models_f1.csv', index=False)"
   ]
  },
  {
   "cell_type": "code",
   "execution_count": null,
   "id": "59275e1e-ee52-4704-8b63-cb932c7ad472",
   "metadata": {},
   "outputs": [],
   "source": []
  }
 ],
 "metadata": {
  "kernelspec": {
   "display_name": "final_project_env",
   "language": "python",
   "name": "final_project_env"
  },
  "language_info": {
   "codemirror_mode": {
    "name": "ipython",
    "version": 3
   },
   "file_extension": ".py",
   "mimetype": "text/x-python",
   "name": "python",
   "nbconvert_exporter": "python",
   "pygments_lexer": "ipython3",
   "version": "3.11.3"
  }
 },
 "nbformat": 4,
 "nbformat_minor": 5
}
