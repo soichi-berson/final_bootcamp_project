{
 "cells": [
  {
   "cell_type": "markdown",
   "id": "07926411-7575-4496-ab0e-8148a5963f14",
   "metadata": {
    "tags": []
   },
   "source": [
    "# 1_2.  Analyse and clean row data"
   ]
  },
  {
   "cell_type": "code",
   "execution_count": 1,
   "id": "2b320c34-95ca-48c4-918c-d733fcbb229f",
   "metadata": {
    "tags": []
   },
   "outputs": [],
   "source": [
    "import pandas as pd\n",
    "import numpy as np\n",
    "import seaborn as sns\n",
    "import matplotlib.pyplot as plt"
   ]
  },
  {
   "cell_type": "code",
   "execution_count": 2,
   "id": "dc89d352-b2c7-4909-80d2-64b6d5795aa8",
   "metadata": {
    "tags": []
   },
   "outputs": [
    {
     "data": {
      "text/html": [
       "<div>\n",
       "<style scoped>\n",
       "    .dataframe tbody tr th:only-of-type {\n",
       "        vertical-align: middle;\n",
       "    }\n",
       "\n",
       "    .dataframe tbody tr th {\n",
       "        vertical-align: top;\n",
       "    }\n",
       "\n",
       "    .dataframe thead th {\n",
       "        text-align: right;\n",
       "    }\n",
       "</style>\n",
       "<table border=\"1\" class=\"dataframe\">\n",
       "  <thead>\n",
       "    <tr style=\"text-align: right;\">\n",
       "      <th></th>\n",
       "      <th>customerID</th>\n",
       "      <th>gender</th>\n",
       "      <th>SeniorCitizen</th>\n",
       "      <th>Partner</th>\n",
       "      <th>Dependents</th>\n",
       "      <th>tenure</th>\n",
       "      <th>PhoneService</th>\n",
       "      <th>MultipleLines</th>\n",
       "      <th>InternetService</th>\n",
       "      <th>OnlineSecurity</th>\n",
       "      <th>...</th>\n",
       "      <th>DeviceProtection</th>\n",
       "      <th>TechSupport</th>\n",
       "      <th>StreamingTV</th>\n",
       "      <th>StreamingMovies</th>\n",
       "      <th>Contract</th>\n",
       "      <th>PaperlessBilling</th>\n",
       "      <th>PaymentMethod</th>\n",
       "      <th>MonthlyCharges</th>\n",
       "      <th>TotalCharges</th>\n",
       "      <th>Churn</th>\n",
       "    </tr>\n",
       "  </thead>\n",
       "  <tbody>\n",
       "    <tr>\n",
       "      <th>0</th>\n",
       "      <td>7590-VHVEG</td>\n",
       "      <td>Female</td>\n",
       "      <td>0</td>\n",
       "      <td>Yes</td>\n",
       "      <td>No</td>\n",
       "      <td>1</td>\n",
       "      <td>No</td>\n",
       "      <td>No phone service</td>\n",
       "      <td>DSL</td>\n",
       "      <td>No</td>\n",
       "      <td>...</td>\n",
       "      <td>No</td>\n",
       "      <td>No</td>\n",
       "      <td>No</td>\n",
       "      <td>No</td>\n",
       "      <td>Month-to-month</td>\n",
       "      <td>Yes</td>\n",
       "      <td>Electronic check</td>\n",
       "      <td>29.85</td>\n",
       "      <td>29.85</td>\n",
       "      <td>No</td>\n",
       "    </tr>\n",
       "    <tr>\n",
       "      <th>1</th>\n",
       "      <td>5575-GNVDE</td>\n",
       "      <td>Male</td>\n",
       "      <td>0</td>\n",
       "      <td>No</td>\n",
       "      <td>No</td>\n",
       "      <td>34</td>\n",
       "      <td>Yes</td>\n",
       "      <td>No</td>\n",
       "      <td>DSL</td>\n",
       "      <td>Yes</td>\n",
       "      <td>...</td>\n",
       "      <td>Yes</td>\n",
       "      <td>No</td>\n",
       "      <td>No</td>\n",
       "      <td>No</td>\n",
       "      <td>One year</td>\n",
       "      <td>No</td>\n",
       "      <td>Mailed check</td>\n",
       "      <td>56.95</td>\n",
       "      <td>1889.5</td>\n",
       "      <td>No</td>\n",
       "    </tr>\n",
       "    <tr>\n",
       "      <th>2</th>\n",
       "      <td>3668-QPYBK</td>\n",
       "      <td>Male</td>\n",
       "      <td>0</td>\n",
       "      <td>No</td>\n",
       "      <td>No</td>\n",
       "      <td>2</td>\n",
       "      <td>Yes</td>\n",
       "      <td>No</td>\n",
       "      <td>DSL</td>\n",
       "      <td>Yes</td>\n",
       "      <td>...</td>\n",
       "      <td>No</td>\n",
       "      <td>No</td>\n",
       "      <td>No</td>\n",
       "      <td>No</td>\n",
       "      <td>Month-to-month</td>\n",
       "      <td>Yes</td>\n",
       "      <td>Mailed check</td>\n",
       "      <td>53.85</td>\n",
       "      <td>108.15</td>\n",
       "      <td>Yes</td>\n",
       "    </tr>\n",
       "    <tr>\n",
       "      <th>3</th>\n",
       "      <td>7795-CFOCW</td>\n",
       "      <td>Male</td>\n",
       "      <td>0</td>\n",
       "      <td>No</td>\n",
       "      <td>No</td>\n",
       "      <td>45</td>\n",
       "      <td>No</td>\n",
       "      <td>No phone service</td>\n",
       "      <td>DSL</td>\n",
       "      <td>Yes</td>\n",
       "      <td>...</td>\n",
       "      <td>Yes</td>\n",
       "      <td>Yes</td>\n",
       "      <td>No</td>\n",
       "      <td>No</td>\n",
       "      <td>One year</td>\n",
       "      <td>No</td>\n",
       "      <td>Bank transfer (automatic)</td>\n",
       "      <td>42.30</td>\n",
       "      <td>1840.75</td>\n",
       "      <td>No</td>\n",
       "    </tr>\n",
       "    <tr>\n",
       "      <th>4</th>\n",
       "      <td>9237-HQITU</td>\n",
       "      <td>Female</td>\n",
       "      <td>0</td>\n",
       "      <td>No</td>\n",
       "      <td>No</td>\n",
       "      <td>2</td>\n",
       "      <td>Yes</td>\n",
       "      <td>No</td>\n",
       "      <td>Fiber optic</td>\n",
       "      <td>No</td>\n",
       "      <td>...</td>\n",
       "      <td>No</td>\n",
       "      <td>No</td>\n",
       "      <td>No</td>\n",
       "      <td>No</td>\n",
       "      <td>Month-to-month</td>\n",
       "      <td>Yes</td>\n",
       "      <td>Electronic check</td>\n",
       "      <td>70.70</td>\n",
       "      <td>151.65</td>\n",
       "      <td>Yes</td>\n",
       "    </tr>\n",
       "  </tbody>\n",
       "</table>\n",
       "<p>5 rows × 21 columns</p>\n",
       "</div>"
      ],
      "text/plain": [
       "   customerID  gender  SeniorCitizen Partner Dependents  tenure PhoneService  \\\n",
       "0  7590-VHVEG  Female              0     Yes         No       1           No   \n",
       "1  5575-GNVDE    Male              0      No         No      34          Yes   \n",
       "2  3668-QPYBK    Male              0      No         No       2          Yes   \n",
       "3  7795-CFOCW    Male              0      No         No      45           No   \n",
       "4  9237-HQITU  Female              0      No         No       2          Yes   \n",
       "\n",
       "      MultipleLines InternetService OnlineSecurity  ... DeviceProtection  \\\n",
       "0  No phone service             DSL             No  ...               No   \n",
       "1                No             DSL            Yes  ...              Yes   \n",
       "2                No             DSL            Yes  ...               No   \n",
       "3  No phone service             DSL            Yes  ...              Yes   \n",
       "4                No     Fiber optic             No  ...               No   \n",
       "\n",
       "  TechSupport StreamingTV StreamingMovies        Contract PaperlessBilling  \\\n",
       "0          No          No              No  Month-to-month              Yes   \n",
       "1          No          No              No        One year               No   \n",
       "2          No          No              No  Month-to-month              Yes   \n",
       "3         Yes          No              No        One year               No   \n",
       "4          No          No              No  Month-to-month              Yes   \n",
       "\n",
       "               PaymentMethod MonthlyCharges  TotalCharges Churn  \n",
       "0           Electronic check          29.85         29.85    No  \n",
       "1               Mailed check          56.95        1889.5    No  \n",
       "2               Mailed check          53.85        108.15   Yes  \n",
       "3  Bank transfer (automatic)          42.30       1840.75    No  \n",
       "4           Electronic check          70.70        151.65   Yes  \n",
       "\n",
       "[5 rows x 21 columns]"
      ]
     },
     "execution_count": 2,
     "metadata": {},
     "output_type": "execute_result"
    }
   ],
   "source": [
    "data = pd.read_csv('../data/raw/WA_Fn-UseC_-Telco-Customer-Churn.csv')\n",
    "data.head()"
   ]
  },
  {
   "cell_type": "code",
   "execution_count": 3,
   "id": "f724efb2-554b-4245-bf2c-484d1338ef64",
   "metadata": {
    "tags": []
   },
   "outputs": [
    {
     "data": {
      "text/plain": [
       "(7043, 21)"
      ]
     },
     "execution_count": 3,
     "metadata": {},
     "output_type": "execute_result"
    }
   ],
   "source": [
    "data.shape"
   ]
  },
  {
   "cell_type": "code",
   "execution_count": 4,
   "id": "4ef3ad71-9e56-4829-bb80-736dbfae0e88",
   "metadata": {
    "tags": []
   },
   "outputs": [
    {
     "data": {
      "text/plain": [
       "customerID          0\n",
       "gender              0\n",
       "SeniorCitizen       0\n",
       "Partner             0\n",
       "Dependents          0\n",
       "tenure              0\n",
       "PhoneService        0\n",
       "MultipleLines       0\n",
       "InternetService     0\n",
       "OnlineSecurity      0\n",
       "OnlineBackup        0\n",
       "DeviceProtection    0\n",
       "TechSupport         0\n",
       "StreamingTV         0\n",
       "StreamingMovies     0\n",
       "Contract            0\n",
       "PaperlessBilling    0\n",
       "PaymentMethod       0\n",
       "MonthlyCharges      0\n",
       "TotalCharges        0\n",
       "Churn               0\n",
       "dtype: int64"
      ]
     },
     "execution_count": 4,
     "metadata": {},
     "output_type": "execute_result"
    }
   ],
   "source": [
    "data.isnull().sum()"
   ]
  },
  {
   "cell_type": "code",
   "execution_count": null,
   "id": "3aa90df3-ef72-42cc-b0f6-dc09f05c5b19",
   "metadata": {},
   "outputs": [],
   "source": []
  },
  {
   "cell_type": "markdown",
   "id": "03a81f5c-c4c1-4983-a243-151ec1d4be14",
   "metadata": {
    "tags": []
   },
   "source": [
    "####  there is no null data"
   ]
  },
  {
   "cell_type": "code",
   "execution_count": 5,
   "id": "e1d88120-8f62-4176-86d5-44e10ef535a5",
   "metadata": {
    "tags": []
   },
   "outputs": [
    {
     "data": {
      "text/plain": [
       "customerID           object\n",
       "gender               object\n",
       "SeniorCitizen         int64\n",
       "Partner              object\n",
       "Dependents           object\n",
       "tenure                int64\n",
       "PhoneService         object\n",
       "MultipleLines        object\n",
       "InternetService      object\n",
       "OnlineSecurity       object\n",
       "OnlineBackup         object\n",
       "DeviceProtection     object\n",
       "TechSupport          object\n",
       "StreamingTV          object\n",
       "StreamingMovies      object\n",
       "Contract             object\n",
       "PaperlessBilling     object\n",
       "PaymentMethod        object\n",
       "MonthlyCharges      float64\n",
       "TotalCharges         object\n",
       "Churn                object\n",
       "dtype: object"
      ]
     },
     "execution_count": 5,
     "metadata": {},
     "output_type": "execute_result"
    }
   ],
   "source": [
    "data.dtypes"
   ]
  },
  {
   "cell_type": "markdown",
   "id": "fbf33f5f-93a6-446a-a16c-f7189fdd08e2",
   "metadata": {
    "tags": []
   },
   "source": [
    "### Churn"
   ]
  },
  {
   "cell_type": "code",
   "execution_count": 6,
   "id": "3a30ce25-67e8-4b60-8c93-15689cad42bd",
   "metadata": {
    "tags": []
   },
   "outputs": [
    {
     "data": {
      "text/plain": [
       "Churn\n",
       "No     5174\n",
       "Yes    1869\n",
       "Name: count, dtype: int64"
      ]
     },
     "execution_count": 6,
     "metadata": {},
     "output_type": "execute_result"
    }
   ],
   "source": [
    "data['Churn'].value_counts()"
   ]
  },
  {
   "cell_type": "markdown",
   "id": "eb18ecd8-a90a-40a3-b905-195a230ce499",
   "metadata": {},
   "source": [
    "#### It is imbalanced. It needs upsampling or SMOTE"
   ]
  },
  {
   "cell_type": "code",
   "execution_count": 7,
   "id": "4a069c98-c315-45c5-bdec-baff0983c7da",
   "metadata": {
    "tags": []
   },
   "outputs": [
    {
     "data": {
      "text/html": [
       "<div>\n",
       "<style scoped>\n",
       "    .dataframe tbody tr th:only-of-type {\n",
       "        vertical-align: middle;\n",
       "    }\n",
       "\n",
       "    .dataframe tbody tr th {\n",
       "        vertical-align: top;\n",
       "    }\n",
       "\n",
       "    .dataframe thead th {\n",
       "        text-align: right;\n",
       "    }\n",
       "</style>\n",
       "<table border=\"1\" class=\"dataframe\">\n",
       "  <thead>\n",
       "    <tr style=\"text-align: right;\">\n",
       "      <th></th>\n",
       "      <th>customer_i_d</th>\n",
       "      <th>gender</th>\n",
       "      <th>senior_citizen</th>\n",
       "      <th>partner</th>\n",
       "      <th>dependents</th>\n",
       "      <th>tenure</th>\n",
       "      <th>phone_service</th>\n",
       "      <th>multiple_lines</th>\n",
       "      <th>internet_service</th>\n",
       "      <th>online_security</th>\n",
       "      <th>...</th>\n",
       "      <th>device_protection</th>\n",
       "      <th>tech_support</th>\n",
       "      <th>streaming_t_v</th>\n",
       "      <th>streaming_movies</th>\n",
       "      <th>contract</th>\n",
       "      <th>paperless_billing</th>\n",
       "      <th>payment_method</th>\n",
       "      <th>monthly_charges</th>\n",
       "      <th>total_charges</th>\n",
       "      <th>churn</th>\n",
       "    </tr>\n",
       "  </thead>\n",
       "  <tbody>\n",
       "    <tr>\n",
       "      <th>0</th>\n",
       "      <td>7590-VHVEG</td>\n",
       "      <td>Female</td>\n",
       "      <td>0</td>\n",
       "      <td>Yes</td>\n",
       "      <td>No</td>\n",
       "      <td>1</td>\n",
       "      <td>No</td>\n",
       "      <td>No phone service</td>\n",
       "      <td>DSL</td>\n",
       "      <td>No</td>\n",
       "      <td>...</td>\n",
       "      <td>No</td>\n",
       "      <td>No</td>\n",
       "      <td>No</td>\n",
       "      <td>No</td>\n",
       "      <td>Month-to-month</td>\n",
       "      <td>Yes</td>\n",
       "      <td>Electronic check</td>\n",
       "      <td>29.85</td>\n",
       "      <td>29.85</td>\n",
       "      <td>No</td>\n",
       "    </tr>\n",
       "    <tr>\n",
       "      <th>1</th>\n",
       "      <td>5575-GNVDE</td>\n",
       "      <td>Male</td>\n",
       "      <td>0</td>\n",
       "      <td>No</td>\n",
       "      <td>No</td>\n",
       "      <td>34</td>\n",
       "      <td>Yes</td>\n",
       "      <td>No</td>\n",
       "      <td>DSL</td>\n",
       "      <td>Yes</td>\n",
       "      <td>...</td>\n",
       "      <td>Yes</td>\n",
       "      <td>No</td>\n",
       "      <td>No</td>\n",
       "      <td>No</td>\n",
       "      <td>One year</td>\n",
       "      <td>No</td>\n",
       "      <td>Mailed check</td>\n",
       "      <td>56.95</td>\n",
       "      <td>1889.5</td>\n",
       "      <td>No</td>\n",
       "    </tr>\n",
       "    <tr>\n",
       "      <th>2</th>\n",
       "      <td>3668-QPYBK</td>\n",
       "      <td>Male</td>\n",
       "      <td>0</td>\n",
       "      <td>No</td>\n",
       "      <td>No</td>\n",
       "      <td>2</td>\n",
       "      <td>Yes</td>\n",
       "      <td>No</td>\n",
       "      <td>DSL</td>\n",
       "      <td>Yes</td>\n",
       "      <td>...</td>\n",
       "      <td>No</td>\n",
       "      <td>No</td>\n",
       "      <td>No</td>\n",
       "      <td>No</td>\n",
       "      <td>Month-to-month</td>\n",
       "      <td>Yes</td>\n",
       "      <td>Mailed check</td>\n",
       "      <td>53.85</td>\n",
       "      <td>108.15</td>\n",
       "      <td>Yes</td>\n",
       "    </tr>\n",
       "    <tr>\n",
       "      <th>3</th>\n",
       "      <td>7795-CFOCW</td>\n",
       "      <td>Male</td>\n",
       "      <td>0</td>\n",
       "      <td>No</td>\n",
       "      <td>No</td>\n",
       "      <td>45</td>\n",
       "      <td>No</td>\n",
       "      <td>No phone service</td>\n",
       "      <td>DSL</td>\n",
       "      <td>Yes</td>\n",
       "      <td>...</td>\n",
       "      <td>Yes</td>\n",
       "      <td>Yes</td>\n",
       "      <td>No</td>\n",
       "      <td>No</td>\n",
       "      <td>One year</td>\n",
       "      <td>No</td>\n",
       "      <td>Bank transfer (automatic)</td>\n",
       "      <td>42.30</td>\n",
       "      <td>1840.75</td>\n",
       "      <td>No</td>\n",
       "    </tr>\n",
       "    <tr>\n",
       "      <th>4</th>\n",
       "      <td>9237-HQITU</td>\n",
       "      <td>Female</td>\n",
       "      <td>0</td>\n",
       "      <td>No</td>\n",
       "      <td>No</td>\n",
       "      <td>2</td>\n",
       "      <td>Yes</td>\n",
       "      <td>No</td>\n",
       "      <td>Fiber optic</td>\n",
       "      <td>No</td>\n",
       "      <td>...</td>\n",
       "      <td>No</td>\n",
       "      <td>No</td>\n",
       "      <td>No</td>\n",
       "      <td>No</td>\n",
       "      <td>Month-to-month</td>\n",
       "      <td>Yes</td>\n",
       "      <td>Electronic check</td>\n",
       "      <td>70.70</td>\n",
       "      <td>151.65</td>\n",
       "      <td>Yes</td>\n",
       "    </tr>\n",
       "    <tr>\n",
       "      <th>...</th>\n",
       "      <td>...</td>\n",
       "      <td>...</td>\n",
       "      <td>...</td>\n",
       "      <td>...</td>\n",
       "      <td>...</td>\n",
       "      <td>...</td>\n",
       "      <td>...</td>\n",
       "      <td>...</td>\n",
       "      <td>...</td>\n",
       "      <td>...</td>\n",
       "      <td>...</td>\n",
       "      <td>...</td>\n",
       "      <td>...</td>\n",
       "      <td>...</td>\n",
       "      <td>...</td>\n",
       "      <td>...</td>\n",
       "      <td>...</td>\n",
       "      <td>...</td>\n",
       "      <td>...</td>\n",
       "      <td>...</td>\n",
       "      <td>...</td>\n",
       "    </tr>\n",
       "    <tr>\n",
       "      <th>7038</th>\n",
       "      <td>6840-RESVB</td>\n",
       "      <td>Male</td>\n",
       "      <td>0</td>\n",
       "      <td>Yes</td>\n",
       "      <td>Yes</td>\n",
       "      <td>24</td>\n",
       "      <td>Yes</td>\n",
       "      <td>Yes</td>\n",
       "      <td>DSL</td>\n",
       "      <td>Yes</td>\n",
       "      <td>...</td>\n",
       "      <td>Yes</td>\n",
       "      <td>Yes</td>\n",
       "      <td>Yes</td>\n",
       "      <td>Yes</td>\n",
       "      <td>One year</td>\n",
       "      <td>Yes</td>\n",
       "      <td>Mailed check</td>\n",
       "      <td>84.80</td>\n",
       "      <td>1990.5</td>\n",
       "      <td>No</td>\n",
       "    </tr>\n",
       "    <tr>\n",
       "      <th>7039</th>\n",
       "      <td>2234-XADUH</td>\n",
       "      <td>Female</td>\n",
       "      <td>0</td>\n",
       "      <td>Yes</td>\n",
       "      <td>Yes</td>\n",
       "      <td>72</td>\n",
       "      <td>Yes</td>\n",
       "      <td>Yes</td>\n",
       "      <td>Fiber optic</td>\n",
       "      <td>No</td>\n",
       "      <td>...</td>\n",
       "      <td>Yes</td>\n",
       "      <td>No</td>\n",
       "      <td>Yes</td>\n",
       "      <td>Yes</td>\n",
       "      <td>One year</td>\n",
       "      <td>Yes</td>\n",
       "      <td>Credit card (automatic)</td>\n",
       "      <td>103.20</td>\n",
       "      <td>7362.9</td>\n",
       "      <td>No</td>\n",
       "    </tr>\n",
       "    <tr>\n",
       "      <th>7040</th>\n",
       "      <td>4801-JZAZL</td>\n",
       "      <td>Female</td>\n",
       "      <td>0</td>\n",
       "      <td>Yes</td>\n",
       "      <td>Yes</td>\n",
       "      <td>11</td>\n",
       "      <td>No</td>\n",
       "      <td>No phone service</td>\n",
       "      <td>DSL</td>\n",
       "      <td>Yes</td>\n",
       "      <td>...</td>\n",
       "      <td>No</td>\n",
       "      <td>No</td>\n",
       "      <td>No</td>\n",
       "      <td>No</td>\n",
       "      <td>Month-to-month</td>\n",
       "      <td>Yes</td>\n",
       "      <td>Electronic check</td>\n",
       "      <td>29.60</td>\n",
       "      <td>346.45</td>\n",
       "      <td>No</td>\n",
       "    </tr>\n",
       "    <tr>\n",
       "      <th>7041</th>\n",
       "      <td>8361-LTMKD</td>\n",
       "      <td>Male</td>\n",
       "      <td>1</td>\n",
       "      <td>Yes</td>\n",
       "      <td>No</td>\n",
       "      <td>4</td>\n",
       "      <td>Yes</td>\n",
       "      <td>Yes</td>\n",
       "      <td>Fiber optic</td>\n",
       "      <td>No</td>\n",
       "      <td>...</td>\n",
       "      <td>No</td>\n",
       "      <td>No</td>\n",
       "      <td>No</td>\n",
       "      <td>No</td>\n",
       "      <td>Month-to-month</td>\n",
       "      <td>Yes</td>\n",
       "      <td>Mailed check</td>\n",
       "      <td>74.40</td>\n",
       "      <td>306.6</td>\n",
       "      <td>Yes</td>\n",
       "    </tr>\n",
       "    <tr>\n",
       "      <th>7042</th>\n",
       "      <td>3186-AJIEK</td>\n",
       "      <td>Male</td>\n",
       "      <td>0</td>\n",
       "      <td>No</td>\n",
       "      <td>No</td>\n",
       "      <td>66</td>\n",
       "      <td>Yes</td>\n",
       "      <td>No</td>\n",
       "      <td>Fiber optic</td>\n",
       "      <td>Yes</td>\n",
       "      <td>...</td>\n",
       "      <td>Yes</td>\n",
       "      <td>Yes</td>\n",
       "      <td>Yes</td>\n",
       "      <td>Yes</td>\n",
       "      <td>Two year</td>\n",
       "      <td>Yes</td>\n",
       "      <td>Bank transfer (automatic)</td>\n",
       "      <td>105.65</td>\n",
       "      <td>6844.5</td>\n",
       "      <td>No</td>\n",
       "    </tr>\n",
       "  </tbody>\n",
       "</table>\n",
       "<p>7043 rows × 21 columns</p>\n",
       "</div>"
      ],
      "text/plain": [
       "     customer_i_d  gender  senior_citizen partner dependents  tenure  \\\n",
       "0      7590-VHVEG  Female               0     Yes         No       1   \n",
       "1      5575-GNVDE    Male               0      No         No      34   \n",
       "2      3668-QPYBK    Male               0      No         No       2   \n",
       "3      7795-CFOCW    Male               0      No         No      45   \n",
       "4      9237-HQITU  Female               0      No         No       2   \n",
       "...           ...     ...             ...     ...        ...     ...   \n",
       "7038   6840-RESVB    Male               0     Yes        Yes      24   \n",
       "7039   2234-XADUH  Female               0     Yes        Yes      72   \n",
       "7040   4801-JZAZL  Female               0     Yes        Yes      11   \n",
       "7041   8361-LTMKD    Male               1     Yes         No       4   \n",
       "7042   3186-AJIEK    Male               0      No         No      66   \n",
       "\n",
       "     phone_service    multiple_lines internet_service online_security  ...  \\\n",
       "0               No  No phone service              DSL              No  ...   \n",
       "1              Yes                No              DSL             Yes  ...   \n",
       "2              Yes                No              DSL             Yes  ...   \n",
       "3               No  No phone service              DSL             Yes  ...   \n",
       "4              Yes                No      Fiber optic              No  ...   \n",
       "...            ...               ...              ...             ...  ...   \n",
       "7038           Yes               Yes              DSL             Yes  ...   \n",
       "7039           Yes               Yes      Fiber optic              No  ...   \n",
       "7040            No  No phone service              DSL             Yes  ...   \n",
       "7041           Yes               Yes      Fiber optic              No  ...   \n",
       "7042           Yes                No      Fiber optic             Yes  ...   \n",
       "\n",
       "     device_protection tech_support streaming_t_v streaming_movies  \\\n",
       "0                   No           No            No               No   \n",
       "1                  Yes           No            No               No   \n",
       "2                   No           No            No               No   \n",
       "3                  Yes          Yes            No               No   \n",
       "4                   No           No            No               No   \n",
       "...                ...          ...           ...              ...   \n",
       "7038               Yes          Yes           Yes              Yes   \n",
       "7039               Yes           No           Yes              Yes   \n",
       "7040                No           No            No               No   \n",
       "7041                No           No            No               No   \n",
       "7042               Yes          Yes           Yes              Yes   \n",
       "\n",
       "            contract paperless_billing             payment_method  \\\n",
       "0     Month-to-month               Yes           Electronic check   \n",
       "1           One year                No               Mailed check   \n",
       "2     Month-to-month               Yes               Mailed check   \n",
       "3           One year                No  Bank transfer (automatic)   \n",
       "4     Month-to-month               Yes           Electronic check   \n",
       "...              ...               ...                        ...   \n",
       "7038        One year               Yes               Mailed check   \n",
       "7039        One year               Yes    Credit card (automatic)   \n",
       "7040  Month-to-month               Yes           Electronic check   \n",
       "7041  Month-to-month               Yes               Mailed check   \n",
       "7042        Two year               Yes  Bank transfer (automatic)   \n",
       "\n",
       "     monthly_charges  total_charges churn  \n",
       "0              29.85          29.85    No  \n",
       "1              56.95         1889.5    No  \n",
       "2              53.85         108.15   Yes  \n",
       "3              42.30        1840.75    No  \n",
       "4              70.70         151.65   Yes  \n",
       "...              ...            ...   ...  \n",
       "7038           84.80         1990.5    No  \n",
       "7039          103.20         7362.9    No  \n",
       "7040           29.60         346.45    No  \n",
       "7041           74.40          306.6   Yes  \n",
       "7042          105.65         6844.5    No  \n",
       "\n",
       "[7043 rows x 21 columns]"
      ]
     },
     "execution_count": 7,
     "metadata": {},
     "output_type": "execute_result"
    }
   ],
   "source": [
    "import re\n",
    "\n",
    "df = data.copy()\n",
    "\n",
    "# Function to insert underscore before capital letters (except the first character) and convert to lowercase\n",
    "def rename_columns_with_underscores(df):\n",
    "    def insert_underscore(column_name):\n",
    "        return re.sub(r'(?<!^)(?=[A-Z])', '_', column_name)\n",
    "\n",
    "    new_columns = {col: insert_underscore(col).lower() for col in df.columns}\n",
    "    df.rename(columns=new_columns, inplace=True)\n",
    "\n",
    "# Call the function to rename columns with underscores and convert to lowercase\n",
    "rename_columns_with_underscores(df)\n",
    "df"
   ]
  },
  {
   "cell_type": "markdown",
   "id": "87317ca4-9048-4edc-b79a-104743d95bed",
   "metadata": {
    "tags": []
   },
   "source": [
    "### Gender"
   ]
  },
  {
   "cell_type": "code",
   "execution_count": 8,
   "id": "56e3c590-efe4-4e3f-a4bd-6f91bc02860e",
   "metadata": {
    "tags": []
   },
   "outputs": [
    {
     "data": {
      "text/plain": [
       "gender\n",
       "Male      3555\n",
       "Female    3488\n",
       "Name: count, dtype: int64"
      ]
     },
     "execution_count": 8,
     "metadata": {},
     "output_type": "execute_result"
    }
   ],
   "source": [
    "df['gender'].value_counts()"
   ]
  },
  {
   "cell_type": "code",
   "execution_count": 9,
   "id": "0130257f-79f0-4f3e-988b-ed96186865b0",
   "metadata": {
    "tags": []
   },
   "outputs": [
    {
     "data": {
      "text/plain": [
       "gender\n",
       "M    3555\n",
       "F    3488\n",
       "Name: count, dtype: int64"
      ]
     },
     "execution_count": 9,
     "metadata": {},
     "output_type": "execute_result"
    }
   ],
   "source": [
    "# rename\n",
    "df[\"gender\"] = df[\"gender\"].apply(lambda x: \"F\" if x in [ \"Female\"] else \"M\")\n",
    "df['gender'].value_counts()"
   ]
  },
  {
   "cell_type": "markdown",
   "id": "d8cb04f4-4a73-40e9-abe1-5968a473a13a",
   "metadata": {},
   "source": [
    "### senior_citizen"
   ]
  },
  {
   "cell_type": "code",
   "execution_count": 10,
   "id": "1e8a0033-9812-49dc-9bee-8949e5e520d9",
   "metadata": {
    "tags": []
   },
   "outputs": [
    {
     "data": {
      "text/plain": [
       "senior_citizen\n",
       "0    5901\n",
       "1    1142\n",
       "Name: count, dtype: int64"
      ]
     },
     "execution_count": 10,
     "metadata": {},
     "output_type": "execute_result"
    }
   ],
   "source": [
    "df['senior_citizen'].value_counts()"
   ]
  },
  {
   "cell_type": "markdown",
   "id": "68622a1e-8616-4fe3-8ea2-6640e30b57d8",
   "metadata": {
    "tags": []
   },
   "source": [
    "### partner"
   ]
  },
  {
   "cell_type": "code",
   "execution_count": 11,
   "id": "dae89fe1-2f9f-4991-b455-91929c4cfbf8",
   "metadata": {
    "tags": []
   },
   "outputs": [
    {
     "data": {
      "text/plain": [
       "partner\n",
       "No     3641\n",
       "Yes    3402\n",
       "Name: count, dtype: int64"
      ]
     },
     "execution_count": 11,
     "metadata": {},
     "output_type": "execute_result"
    }
   ],
   "source": [
    "df['partner'].value_counts()"
   ]
  },
  {
   "cell_type": "code",
   "execution_count": 12,
   "id": "9d3c5613-3123-4e78-8584-0e197d3a05a8",
   "metadata": {
    "tags": []
   },
   "outputs": [
    {
     "data": {
      "text/plain": [
       "partner\n",
       "0    3641\n",
       "1    3402\n",
       "Name: count, dtype: int64"
      ]
     },
     "execution_count": 12,
     "metadata": {},
     "output_type": "execute_result"
    }
   ],
   "source": [
    "df.loc[df['partner'] == 'Yes', 'partner'] = 1\n",
    "df.loc[df['partner'] == 'No', 'partner'] = 0\n",
    "df['partner'].value_counts()"
   ]
  },
  {
   "cell_type": "code",
   "execution_count": 13,
   "id": "e572b373-24f4-456e-b522-a0d4e526c10f",
   "metadata": {
    "tags": []
   },
   "outputs": [
    {
     "data": {
      "text/plain": [
       "dtype('int64')"
      ]
     },
     "execution_count": 13,
     "metadata": {},
     "output_type": "execute_result"
    }
   ],
   "source": [
    "df['partner'] = df['partner'].astype('int64')\n",
    "df['partner'].dtypes"
   ]
  },
  {
   "cell_type": "markdown",
   "id": "74814f35-457d-4c9b-a1a2-2f8380337495",
   "metadata": {
    "tags": []
   },
   "source": [
    "### dependents"
   ]
  },
  {
   "cell_type": "code",
   "execution_count": 14,
   "id": "10b2cab4-ad34-42d2-8955-0e64c0a87cee",
   "metadata": {
    "tags": []
   },
   "outputs": [
    {
     "data": {
      "text/plain": [
       "dependents\n",
       "No     4933\n",
       "Yes    2110\n",
       "Name: count, dtype: int64"
      ]
     },
     "execution_count": 14,
     "metadata": {},
     "output_type": "execute_result"
    }
   ],
   "source": [
    "df['dependents'].value_counts()"
   ]
  },
  {
   "cell_type": "code",
   "execution_count": 15,
   "id": "362ecbc6-4ab3-498c-a2ec-0beb2057cb72",
   "metadata": {
    "tags": []
   },
   "outputs": [
    {
     "data": {
      "text/plain": [
       "dependents\n",
       "0    4933\n",
       "1    2110\n",
       "Name: count, dtype: int64"
      ]
     },
     "execution_count": 15,
     "metadata": {},
     "output_type": "execute_result"
    }
   ],
   "source": [
    "df.loc[df['dependents'] == 'Yes', 'dependents'] = 1\n",
    "df.loc[df['dependents'] == 'No', 'dependents'] = 0\n",
    "df['dependents'].value_counts()"
   ]
  },
  {
   "cell_type": "code",
   "execution_count": 16,
   "id": "401a229d-24e2-4d3a-9832-1d2ef41c27b7",
   "metadata": {
    "tags": []
   },
   "outputs": [
    {
     "data": {
      "text/plain": [
       "dtype('int64')"
      ]
     },
     "execution_count": 16,
     "metadata": {},
     "output_type": "execute_result"
    }
   ],
   "source": [
    "df['dependents'] = df['dependents'].astype('int64')\n",
    "df['dependents'].dtypes"
   ]
  },
  {
   "cell_type": "markdown",
   "id": "161f565d-7743-44e3-95ac-780e84c1fddc",
   "metadata": {
    "tags": []
   },
   "source": [
    "### tenure"
   ]
  },
  {
   "cell_type": "code",
   "execution_count": 17,
   "id": "44b35222-97f3-4adc-9cf6-8e43473f6667",
   "metadata": {
    "tags": []
   },
   "outputs": [
    {
     "data": {
      "text/plain": [
       "tenure\n",
       "1     613\n",
       "72    362\n",
       "2     238\n",
       "3     200\n",
       "4     176\n",
       "     ... \n",
       "28     57\n",
       "39     56\n",
       "44     51\n",
       "36     50\n",
       "0      11\n",
       "Name: count, Length: 73, dtype: int64"
      ]
     },
     "execution_count": 17,
     "metadata": {},
     "output_type": "execute_result"
    }
   ],
   "source": [
    "df['tenure'].value_counts()"
   ]
  },
  {
   "cell_type": "code",
   "execution_count": 18,
   "id": "ebfc18b1-5bb7-4ed0-ac0b-f0834fcca3b6",
   "metadata": {
    "tags": []
   },
   "outputs": [
    {
     "data": {
      "image/png": "[encoded data removed]",
      "text/plain": [
       "<Figure size 640x480 with 1 Axes>"
      ]
     },
     "metadata": {},
     "output_type": "display_data"
    }
   ],
   "source": [
    "# Create a histogram using Seaborn\n",
    "sns.histplot(df['tenure'], kde=True)\n",
    "\n",
    "# Set plot labels and title\n",
    "plt.xlabel('tenure')\n",
    "plt.ylabel('Frequency')\n",
    "plt.title('tenure Distribution')\n",
    "\n",
    "# Display the plot\n",
    "plt.show()"
   ]
  },
  {
   "cell_type": "markdown",
   "id": "9ad52dab-1594-4e33-a04c-fd9a8cbe3dfe",
   "metadata": {},
   "source": [
    "### phone_service"
   ]
  },
  {
   "cell_type": "code",
   "execution_count": 19,
   "id": "0a592662-3149-46d1-a8b7-f60ecacd61c0",
   "metadata": {
    "tags": []
   },
   "outputs": [
    {
     "data": {
      "text/plain": [
       "phone_service\n",
       "Yes    6361\n",
       "No      682\n",
       "Name: count, dtype: int64"
      ]
     },
     "execution_count": 19,
     "metadata": {},
     "output_type": "execute_result"
    }
   ],
   "source": [
    "df['phone_service'].value_counts()"
   ]
  },
  {
   "cell_type": "code",
   "execution_count": 20,
   "id": "f2cbd011-cc0e-4f39-bdfb-9f1a8fdfbaca",
   "metadata": {
    "tags": []
   },
   "outputs": [
    {
     "data": {
      "text/plain": [
       "phone_service\n",
       "1    6361\n",
       "0     682\n",
       "Name: count, dtype: int64"
      ]
     },
     "execution_count": 20,
     "metadata": {},
     "output_type": "execute_result"
    }
   ],
   "source": [
    "df.loc[df['phone_service'] == 'Yes', 'phone_service'] = 1\n",
    "df.loc[df['phone_service'] == 'No', 'phone_service'] = 0\n",
    "df['phone_service'].value_counts()"
   ]
  },
  {
   "cell_type": "code",
   "execution_count": 21,
   "id": "d47c6483-4e3d-4560-b704-3d1503dbb5e4",
   "metadata": {
    "tags": []
   },
   "outputs": [
    {
     "data": {
      "text/plain": [
       "dtype('int64')"
      ]
     },
     "execution_count": 21,
     "metadata": {},
     "output_type": "execute_result"
    }
   ],
   "source": [
    "df['phone_service'] = df['phone_service'].astype('int64')\n",
    "df['phone_service'].dtypes"
   ]
  },
  {
   "cell_type": "markdown",
   "id": "5d62bbd7-ca77-451a-b7b5-1bf29c1fb160",
   "metadata": {},
   "source": [
    "### multiple_lines"
   ]
  },
  {
   "cell_type": "code",
   "execution_count": 22,
   "id": "c948bac1-1901-4465-a395-06c01ba47075",
   "metadata": {
    "tags": []
   },
   "outputs": [
    {
     "data": {
      "text/plain": [
       "multiple_lines\n",
       "No                  3390\n",
       "Yes                 2971\n",
       "No phone service     682\n",
       "Name: count, dtype: int64"
      ]
     },
     "execution_count": 22,
     "metadata": {},
     "output_type": "execute_result"
    }
   ],
   "source": [
    "df['multiple_lines'].value_counts()"
   ]
  },
  {
   "cell_type": "code",
   "execution_count": 23,
   "id": "75a4c130-550f-401d-a788-329f3f793f65",
   "metadata": {
    "tags": []
   },
   "outputs": [
    {
     "data": {
      "text/plain": [
       "multiple_lines\n",
       "0    4072\n",
       "1    2971\n",
       "Name: count, dtype: int64"
      ]
     },
     "execution_count": 23,
     "metadata": {},
     "output_type": "execute_result"
    }
   ],
   "source": [
    "df.loc[df['multiple_lines'] == 'Yes', 'multiple_lines'] = 1\n",
    "df.loc[df['multiple_lines'] == 'No', 'multiple_lines'] = 0\n",
    "df.loc[df['multiple_lines'] == 'No phone service', 'multiple_lines'] = 0\n",
    "df['multiple_lines'].value_counts()"
   ]
  },
  {
   "cell_type": "code",
   "execution_count": 24,
   "id": "5864f11d-7bc9-48de-b5a1-84c8213503bc",
   "metadata": {
    "tags": []
   },
   "outputs": [
    {
     "data": {
      "text/plain": [
       "dtype('int64')"
      ]
     },
     "execution_count": 24,
     "metadata": {},
     "output_type": "execute_result"
    }
   ],
   "source": [
    "df['multiple_lines'] = df['multiple_lines'].astype('int64')\n",
    "df['multiple_lines'].dtypes"
   ]
  },
  {
   "cell_type": "markdown",
   "id": "87c2149d-6daa-4c71-8b63-36b955bf6da6",
   "metadata": {},
   "source": [
    "### internet_service"
   ]
  },
  {
   "cell_type": "code",
   "execution_count": 25,
   "id": "43cb07d7-d695-477f-9b95-16ada804ab1e",
   "metadata": {
    "tags": []
   },
   "outputs": [
    {
     "data": {
      "text/plain": [
       "internet_service\n",
       "Fiber optic    3096\n",
       "DSL            2421\n",
       "No             1526\n",
       "Name: count, dtype: int64"
      ]
     },
     "execution_count": 25,
     "metadata": {},
     "output_type": "execute_result"
    }
   ],
   "source": [
    "df['internet_service'].value_counts()"
   ]
  },
  {
   "cell_type": "markdown",
   "id": "624f39f1-a91c-4b97-9404-beca8c9f2882",
   "metadata": {},
   "source": [
    "### online_security"
   ]
  },
  {
   "cell_type": "code",
   "execution_count": 26,
   "id": "37be421e-554c-4fb3-97f3-a047f4cc14e5",
   "metadata": {
    "tags": []
   },
   "outputs": [
    {
     "data": {
      "text/plain": [
       "online_security\n",
       "No                     3498\n",
       "Yes                    2019\n",
       "No internet service    1526\n",
       "Name: count, dtype: int64"
      ]
     },
     "execution_count": 26,
     "metadata": {},
     "output_type": "execute_result"
    }
   ],
   "source": [
    "df['online_security'].value_counts()"
   ]
  },
  {
   "cell_type": "code",
   "execution_count": 27,
   "id": "fe47d931-e84b-48dd-aee9-00cbceb9901e",
   "metadata": {
    "tags": []
   },
   "outputs": [
    {
     "data": {
      "text/plain": [
       "online_security\n",
       "0    5024\n",
       "1    2019\n",
       "Name: count, dtype: int64"
      ]
     },
     "execution_count": 27,
     "metadata": {},
     "output_type": "execute_result"
    }
   ],
   "source": [
    "df.loc[df['online_security'] == 'Yes', 'online_security'] = 1\n",
    "df.loc[df['online_security'] == 'No', 'online_security'] = 0\n",
    "df.loc[df['online_security'] == 'No internet service', 'online_security'] = 0\n",
    "df['online_security'].value_counts()"
   ]
  },
  {
   "cell_type": "code",
   "execution_count": 28,
   "id": "01870cdd-4c0e-4483-85c8-5adb7e93d9e2",
   "metadata": {
    "tags": []
   },
   "outputs": [
    {
     "data": {
      "text/plain": [
       "dtype('int64')"
      ]
     },
     "execution_count": 28,
     "metadata": {},
     "output_type": "execute_result"
    }
   ],
   "source": [
    "df['online_security'] = df['online_security'].astype('int64')\n",
    "df['online_security'].dtypes"
   ]
  },
  {
   "cell_type": "code",
   "execution_count": 29,
   "id": "fd43e108-d6eb-4db9-878d-9a0d146b254d",
   "metadata": {
    "tags": []
   },
   "outputs": [
    {
     "data": {
      "text/plain": [
       "Index(['customer_i_d', 'gender', 'senior_citizen', 'partner', 'dependents',\n",
       "       'tenure', 'phone_service', 'multiple_lines', 'internet_service',\n",
       "       'online_security', 'online_backup', 'device_protection', 'tech_support',\n",
       "       'streaming_t_v', 'streaming_movies', 'contract', 'paperless_billing',\n",
       "       'payment_method', 'monthly_charges', 'total_charges', 'churn'],\n",
       "      dtype='object')"
      ]
     },
     "execution_count": 29,
     "metadata": {},
     "output_type": "execute_result"
    }
   ],
   "source": [
    "df.columns"
   ]
  },
  {
   "cell_type": "markdown",
   "id": "3309abf5-08d7-42fd-b423-342364c487b0",
   "metadata": {},
   "source": [
    "### online_backup"
   ]
  },
  {
   "cell_type": "code",
   "execution_count": 30,
   "id": "34b007f3-7aa8-4e36-8a54-519f8b133fc1",
   "metadata": {
    "tags": []
   },
   "outputs": [
    {
     "data": {
      "text/plain": [
       "online_backup\n",
       "No                     3088\n",
       "Yes                    2429\n",
       "No internet service    1526\n",
       "Name: count, dtype: int64"
      ]
     },
     "execution_count": 30,
     "metadata": {},
     "output_type": "execute_result"
    }
   ],
   "source": [
    "df['online_backup'].value_counts()"
   ]
  },
  {
   "cell_type": "code",
   "execution_count": 31,
   "id": "3adf4f4e-0070-4736-b867-2a69e3454e6c",
   "metadata": {
    "tags": []
   },
   "outputs": [
    {
     "data": {
      "text/plain": [
       "online_backup\n",
       "0    4614\n",
       "1    2429\n",
       "Name: count, dtype: int64"
      ]
     },
     "execution_count": 31,
     "metadata": {},
     "output_type": "execute_result"
    }
   ],
   "source": [
    "df.loc[df['online_backup'] == 'Yes', 'online_backup'] = 1\n",
    "df.loc[df['online_backup'] == 'No', 'online_backup'] = 0\n",
    "df.loc[df['online_backup'] == 'No internet service', 'online_backup'] = 0\n",
    "df['online_backup'].value_counts()"
   ]
  },
  {
   "cell_type": "code",
   "execution_count": 32,
   "id": "d9b4c1c2-ddc6-462e-bcc8-3281cf3775a0",
   "metadata": {
    "tags": []
   },
   "outputs": [
    {
     "data": {
      "text/plain": [
       "dtype('int64')"
      ]
     },
     "execution_count": 32,
     "metadata": {},
     "output_type": "execute_result"
    }
   ],
   "source": [
    "df['online_backup'] = df['online_backup'].astype('int64')\n",
    "df['online_backup'].dtypes"
   ]
  },
  {
   "cell_type": "markdown",
   "id": "66732b1d-bdff-405c-9509-6d85b0b9f873",
   "metadata": {},
   "source": [
    "### device_protection"
   ]
  },
  {
   "cell_type": "code",
   "execution_count": 33,
   "id": "54512d49-515d-4e5b-8986-d0d4550c9d33",
   "metadata": {
    "tags": []
   },
   "outputs": [
    {
     "data": {
      "text/plain": [
       "device_protection\n",
       "No                     3095\n",
       "Yes                    2422\n",
       "No internet service    1526\n",
       "Name: count, dtype: int64"
      ]
     },
     "execution_count": 33,
     "metadata": {},
     "output_type": "execute_result"
    }
   ],
   "source": [
    "df['device_protection'].value_counts()"
   ]
  },
  {
   "cell_type": "code",
   "execution_count": 34,
   "id": "07db8e0d-f913-4515-8f32-09ab6254f46b",
   "metadata": {
    "tags": []
   },
   "outputs": [
    {
     "data": {
      "text/plain": [
       "device_protection\n",
       "0    4621\n",
       "1    2422\n",
       "Name: count, dtype: int64"
      ]
     },
     "execution_count": 34,
     "metadata": {},
     "output_type": "execute_result"
    }
   ],
   "source": [
    "df.loc[df['device_protection'] == 'Yes', 'device_protection'] = 1\n",
    "df.loc[df['device_protection'] == 'No', 'device_protection'] = 0\n",
    "df.loc[df['device_protection'] == 'No internet service', 'device_protection'] = 0\n",
    "df['device_protection'].value_counts()"
   ]
  },
  {
   "cell_type": "code",
   "execution_count": 35,
   "id": "658d549b-9d7e-4433-8868-bd80b89c3dbe",
   "metadata": {
    "tags": []
   },
   "outputs": [
    {
     "data": {
      "text/plain": [
       "dtype('int64')"
      ]
     },
     "execution_count": 35,
     "metadata": {},
     "output_type": "execute_result"
    }
   ],
   "source": [
    "df['device_protection'] = df['device_protection'].astype('int64')\n",
    "df['device_protection'].dtypes"
   ]
  },
  {
   "cell_type": "markdown",
   "id": "ab3cac30-1318-4b03-bcae-0693581a1d5a",
   "metadata": {
    "tags": []
   },
   "source": [
    "### tech_support"
   ]
  },
  {
   "cell_type": "code",
   "execution_count": 36,
   "id": "3ec6557a-b26a-4e60-821d-88dff41e90dc",
   "metadata": {
    "tags": []
   },
   "outputs": [
    {
     "data": {
      "text/plain": [
       "tech_support\n",
       "No                     3473\n",
       "Yes                    2044\n",
       "No internet service    1526\n",
       "Name: count, dtype: int64"
      ]
     },
     "execution_count": 36,
     "metadata": {},
     "output_type": "execute_result"
    }
   ],
   "source": [
    "df['tech_support'].value_counts()"
   ]
  },
  {
   "cell_type": "code",
   "execution_count": 37,
   "id": "8dcf8441-c731-4bc9-b517-f913d892502c",
   "metadata": {
    "tags": []
   },
   "outputs": [
    {
     "data": {
      "text/plain": [
       "tech_support\n",
       "0    4999\n",
       "1    2044\n",
       "Name: count, dtype: int64"
      ]
     },
     "execution_count": 37,
     "metadata": {},
     "output_type": "execute_result"
    }
   ],
   "source": [
    "df.loc[df['tech_support'] == 'Yes', 'tech_support'] = 1\n",
    "df.loc[df['tech_support'] == 'No', 'tech_support'] = 0\n",
    "df.loc[df['tech_support'] == 'No internet service', 'tech_support'] = 0\n",
    "df['tech_support'].value_counts()"
   ]
  },
  {
   "cell_type": "code",
   "execution_count": 38,
   "id": "c73cc51d-b0f0-439d-86ca-e6d4c6409f56",
   "metadata": {
    "tags": []
   },
   "outputs": [
    {
     "data": {
      "text/plain": [
       "dtype('int64')"
      ]
     },
     "execution_count": 38,
     "metadata": {},
     "output_type": "execute_result"
    }
   ],
   "source": [
    "df['tech_support'] = df['tech_support'].astype('int64')\n",
    "df['tech_support'].dtypes"
   ]
  },
  {
   "cell_type": "markdown",
   "id": "00ffeb07-a697-4724-9ca5-f76de73b613e",
   "metadata": {},
   "source": [
    "### streaming_tv"
   ]
  },
  {
   "cell_type": "code",
   "execution_count": 39,
   "id": "9905d00c-4aa2-498a-9d93-96afb271e21c",
   "metadata": {
    "tags": []
   },
   "outputs": [
    {
     "data": {
      "text/plain": [
       "streaming_t_v\n",
       "No                     2810\n",
       "Yes                    2707\n",
       "No internet service    1526\n",
       "Name: count, dtype: int64"
      ]
     },
     "execution_count": 39,
     "metadata": {},
     "output_type": "execute_result"
    }
   ],
   "source": [
    "df['streaming_t_v'].value_counts()"
   ]
  },
  {
   "cell_type": "code",
   "execution_count": 40,
   "id": "92a08439-2111-486e-9141-c35794a7c0f0",
   "metadata": {
    "tags": []
   },
   "outputs": [],
   "source": [
    "# rename \n",
    "df = df.rename(columns={'streaming_t_v':'streaming_tv'})"
   ]
  },
  {
   "cell_type": "code",
   "execution_count": 41,
   "id": "879928c7-8a62-47bd-af84-872884d18fd8",
   "metadata": {
    "tags": []
   },
   "outputs": [
    {
     "data": {
      "text/plain": [
       "streaming_tv\n",
       "0    4336\n",
       "1    2707\n",
       "Name: count, dtype: int64"
      ]
     },
     "execution_count": 41,
     "metadata": {},
     "output_type": "execute_result"
    }
   ],
   "source": [
    "df.loc[df['streaming_tv'] == 'Yes', 'streaming_tv'] = 1\n",
    "df.loc[df['streaming_tv'] == 'No', 'streaming_tv'] = 0\n",
    "df.loc[df['streaming_tv'] == 'No internet service', 'streaming_tv'] = 0\n",
    "df['streaming_tv'].value_counts()"
   ]
  },
  {
   "cell_type": "code",
   "execution_count": 42,
   "id": "2c772812-78c2-4a2b-9463-4a71512f44e6",
   "metadata": {
    "tags": []
   },
   "outputs": [
    {
     "data": {
      "text/plain": [
       "dtype('int64')"
      ]
     },
     "execution_count": 42,
     "metadata": {},
     "output_type": "execute_result"
    }
   ],
   "source": [
    "df['tech_support'] = df['tech_support'].astype('int64')\n",
    "df['tech_support'].dtypes"
   ]
  },
  {
   "cell_type": "markdown",
   "id": "7558c056-8b4d-4bc5-8bc1-9559edb8ab34",
   "metadata": {},
   "source": [
    "### streaming_movies"
   ]
  },
  {
   "cell_type": "code",
   "execution_count": 43,
   "id": "f103b923-9e92-417b-a99d-7230902a7d65",
   "metadata": {
    "tags": []
   },
   "outputs": [
    {
     "data": {
      "text/plain": [
       "streaming_movies\n",
       "No                     2785\n",
       "Yes                    2732\n",
       "No internet service    1526\n",
       "Name: count, dtype: int64"
      ]
     },
     "execution_count": 43,
     "metadata": {},
     "output_type": "execute_result"
    }
   ],
   "source": [
    "df['streaming_movies'].value_counts()"
   ]
  },
  {
   "cell_type": "code",
   "execution_count": 44,
   "id": "77f353c9-cea1-4f32-b37d-dd3abc960649",
   "metadata": {
    "tags": []
   },
   "outputs": [
    {
     "data": {
      "text/plain": [
       "streaming_movies\n",
       "0    4311\n",
       "1    2732\n",
       "Name: count, dtype: int64"
      ]
     },
     "execution_count": 44,
     "metadata": {},
     "output_type": "execute_result"
    }
   ],
   "source": [
    "df.loc[df['streaming_movies'] == 'Yes', 'streaming_movies'] = 1\n",
    "df.loc[df['streaming_movies'] == 'No', 'streaming_movies'] = 0\n",
    "df.loc[df['streaming_movies'] == 'No internet service', 'streaming_movies'] = 0\n",
    "df['streaming_movies'].value_counts()"
   ]
  },
  {
   "cell_type": "code",
   "execution_count": 45,
   "id": "65bc76cb-e2b4-4ab1-b63b-bd3902b8b077",
   "metadata": {
    "tags": []
   },
   "outputs": [
    {
     "data": {
      "text/plain": [
       "dtype('int64')"
      ]
     },
     "execution_count": 45,
     "metadata": {},
     "output_type": "execute_result"
    }
   ],
   "source": [
    "df['streaming_movies'] = df['streaming_movies'].astype('int64')\n",
    "df['streaming_movies'].dtypes"
   ]
  },
  {
   "cell_type": "markdown",
   "id": "1b030c1d-9f5a-4dba-bd1a-ed4cb69e8024",
   "metadata": {
    "tags": []
   },
   "source": [
    "### contract"
   ]
  },
  {
   "cell_type": "code",
   "execution_count": 46,
   "id": "c1619573-11cd-4c4e-8edc-a60b57d8e4db",
   "metadata": {
    "tags": []
   },
   "outputs": [
    {
     "data": {
      "text/plain": [
       "contract\n",
       "Month-to-month    3875\n",
       "Two year          1695\n",
       "One year          1473\n",
       "Name: count, dtype: int64"
      ]
     },
     "execution_count": 46,
     "metadata": {},
     "output_type": "execute_result"
    }
   ],
   "source": [
    "df['contract'].value_counts()"
   ]
  },
  {
   "cell_type": "markdown",
   "id": "10b85806-cc8c-4097-8046-999119837aa8",
   "metadata": {},
   "source": [
    "### paperless_billing"
   ]
  },
  {
   "cell_type": "code",
   "execution_count": 47,
   "id": "e26401d5-b4e8-4ae6-9351-29c73a143094",
   "metadata": {
    "tags": []
   },
   "outputs": [
    {
     "data": {
      "text/plain": [
       "paperless_billing\n",
       "Yes    4171\n",
       "No     2872\n",
       "Name: count, dtype: int64"
      ]
     },
     "execution_count": 47,
     "metadata": {},
     "output_type": "execute_result"
    }
   ],
   "source": [
    "df['paperless_billing'].value_counts()"
   ]
  },
  {
   "cell_type": "markdown",
   "id": "b2fe4af4-4377-44d2-bfc7-db46cd0ba086",
   "metadata": {},
   "source": [
    "It is not expected to predict 'Churn'. so it is removed."
   ]
  },
  {
   "cell_type": "code",
   "execution_count": 48,
   "id": "7030818c-a44e-4048-868a-9f187c45aefd",
   "metadata": {
    "tags": []
   },
   "outputs": [],
   "source": [
    "df.drop('paperless_billing', axis=1, inplace=True)"
   ]
  },
  {
   "cell_type": "markdown",
   "id": "21de68ff-c507-4c5d-a8b7-22ed73b66e85",
   "metadata": {},
   "source": [
    "### payment_method"
   ]
  },
  {
   "cell_type": "code",
   "execution_count": 49,
   "id": "8b3fc7f1-b3f3-4b47-949b-c0a105744714",
   "metadata": {
    "tags": []
   },
   "outputs": [
    {
     "data": {
      "text/plain": [
       "payment_method\n",
       "Electronic check             2365\n",
       "Mailed check                 1612\n",
       "Bank transfer (automatic)    1544\n",
       "Credit card (automatic)      1522\n",
       "Name: count, dtype: int64"
      ]
     },
     "execution_count": 49,
     "metadata": {},
     "output_type": "execute_result"
    }
   ],
   "source": [
    "df['payment_method'].value_counts()"
   ]
  },
  {
   "cell_type": "markdown",
   "id": "f30e4277-fcf3-4c6f-bfbd-35b38505b5ba",
   "metadata": {
    "tags": []
   },
   "source": [
    "### monthly_charges"
   ]
  },
  {
   "cell_type": "code",
   "execution_count": 50,
   "id": "d29740bb-0aae-4b4b-ac27-11ccbc81d07b",
   "metadata": {
    "tags": []
   },
   "outputs": [
    {
     "data": {
      "image/png": "[encoded data removed]",
      "text/plain": [
       "<Figure size 640x480 with 1 Axes>"
      ]
     },
     "metadata": {},
     "output_type": "display_data"
    }
   ],
   "source": [
    "# Create a histogram using Seaborn\n",
    "sns.histplot(df['monthly_charges'], kde=True)\n",
    "\n",
    "# Set plot labels and title\n",
    "plt.xlabel('monthly_charges')\n",
    "plt.ylabel('Frequency')\n",
    "plt.title('monthly_charges Distribution')\n",
    "\n",
    "# Display the plot\n",
    "plt.show()"
   ]
  },
  {
   "cell_type": "markdown",
   "id": "f7a89248-f7bf-48b8-b5e9-44ae0a2b2ffb",
   "metadata": {},
   "source": [
    "#####  it needs scaling later."
   ]
  },
  {
   "cell_type": "markdown",
   "id": "07afb6e5-c622-4e64-976a-acc8fc43d3b6",
   "metadata": {},
   "source": [
    "### total_charges"
   ]
  },
  {
   "cell_type": "code",
   "execution_count": 51,
   "id": "c129cb2b-e4c8-4fde-ad95-353be1e99123",
   "metadata": {
    "tags": []
   },
   "outputs": [
    {
     "data": {
      "text/plain": [
       "0"
      ]
     },
     "execution_count": 51,
     "metadata": {},
     "output_type": "execute_result"
    }
   ],
   "source": [
    "df['total_charges'] = df['total_charges'].str.strip()\n",
    "\n",
    "df['total_charges'] = pd.to_numeric(df['total_charges'], errors='coerce')\n",
    "\n",
    "# Drop rows with NaN values in 'total_charges' column\n",
    "df.dropna(subset=['total_charges'], inplace=True)\n",
    "\n",
    "df['total_charges'].isnull().sum()"
   ]
  },
  {
   "cell_type": "code",
   "execution_count": 52,
   "id": "6998d436-9621-4da9-b008-4116dfb5c3a3",
   "metadata": {
    "tags": []
   },
   "outputs": [
    {
     "data": {
      "text/plain": [
       "dtype('float64')"
      ]
     },
     "execution_count": 52,
     "metadata": {},
     "output_type": "execute_result"
    }
   ],
   "source": [
    "df['total_charges'].dtypes"
   ]
  },
  {
   "cell_type": "code",
   "execution_count": 53,
   "id": "685b94da-60b4-4356-811c-2464aadf2c1f",
   "metadata": {
    "tags": []
   },
   "outputs": [
    {
     "data": {
      "image/png": "[encoded data removed]",
      "text/plain": [
       "<Figure size 640x480 with 1 Axes>"
      ]
     },
     "metadata": {},
     "output_type": "display_data"
    }
   ],
   "source": [
    "# Create a histogram using Seaborn\n",
    "sns.histplot(df['total_charges'], kde=True)\n",
    "\n",
    "# Set plot labels and title\n",
    "plt.xlabel('total_charges')\n",
    "plt.ylabel('Frequency')\n",
    "plt.title('total_charges Distribution')\n",
    "\n",
    "# Display the plot\n",
    "plt.show()"
   ]
  },
  {
   "cell_type": "markdown",
   "id": "eab34cd0-4ce7-4e80-ba26-6a4a8ecefdef",
   "metadata": {
    "tags": []
   },
   "source": [
    "### It neads transformation later"
   ]
  },
  {
   "cell_type": "markdown",
   "id": "62a63d89-580a-4f15-a4ad-2e79a62cc151",
   "metadata": {},
   "source": [
    "## Checking for multicollinearity"
   ]
  },
  {
   "cell_type": "code",
   "execution_count": 54,
   "id": "d172e488-14f3-473f-be0a-22f5c8a2bff9",
   "metadata": {
    "tags": []
   },
   "outputs": [
    {
     "data": {
      "image/png": "[encoded data removed]",
      "text/plain": [
       "<Figure size 1000x800 with 2 Axes>"
      ]
     },
     "metadata": {},
     "output_type": "display_data"
    }
   ],
   "source": [
    "numericals = df.select_dtypes(np.number)\n",
    "corr_matrix=numericals.corr(method='pearson')  # default\n",
    "fig, ax = plt.subplots(figsize=(10, 8))\n",
    "ax = sns.heatmap(corr_matrix, annot=True)\n",
    "plt.show()"
   ]
  },
  {
   "cell_type": "markdown",
   "id": "c6406fae-ab27-47f3-a6ac-91122219b6a8",
   "metadata": {},
   "source": [
    "#### There is high multicollinearity between two variables between 'tenure' and 'total_charges': 0.83. This time, both of the mare remained.  "
   ]
  },
  {
   "cell_type": "code",
   "execution_count": 55,
   "id": "421d19e1-64bd-4da1-ab5d-33e6f49b9e13",
   "metadata": {},
   "outputs": [],
   "source": [
    "df.drop('customer_i_d', axis=1, inplace=True)"
   ]
  },
  {
   "cell_type": "code",
   "execution_count": 56,
   "id": "eafc81b2-04b7-47bd-9a8f-1709ac750e96",
   "metadata": {
    "tags": []
   },
   "outputs": [],
   "source": [
    "df.to_csv('../data/cleaned_data/2semi_cleaned_data.csv', index=False)"
   ]
  },
  {
   "cell_type": "code",
   "execution_count": null,
   "id": "bc3ca284-2464-42a3-a514-95447f1bf4bf",
   "metadata": {},
   "outputs": [],
   "source": []
  }
 ],
 "metadata": {
  "kernelspec": {
   "display_name": "final_project_env",
   "language": "python",
   "name": "final_project_env"
  },
  "language_info": {
   "codemirror_mode": {
    "name": "ipython",
    "version": 3
   },
   "file_extension": ".py",
   "mimetype": "text/x-python",
   "name": "python",
   "nbconvert_exporter": "python",
   "pygments_lexer": "ipython3",
   "version": "3.11.3"
  }
 },
 "nbformat": 4,
 "nbformat_minor": 5
}
