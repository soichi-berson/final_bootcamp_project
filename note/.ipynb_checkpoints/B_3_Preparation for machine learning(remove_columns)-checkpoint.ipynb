{
 "cells": [
  {
   "cell_type": "code",
   "execution_count": 1,
   "id": "f4062d8d-b0c3-449c-8b13-ea74a9f4e209",
   "metadata": {
    "tags": []
   },
   "outputs": [],
   "source": [
    "import pandas as pd\n",
    "import numpy as np\n",
    "import seaborn as sns\n",
    "import matplotlib.pyplot as plt"
   ]
  },
  {
   "cell_type": "markdown",
   "id": "d8dca1ad-ad88-4c82-9d04-bdeaffa17b54",
   "metadata": {},
   "source": [
    "#### This is experiment. 'Total_charges' is removed. "
   ]
  },
  {
   "cell_type": "code",
   "execution_count": 2,
   "id": "adbb0ca5-1f1c-4b07-9d30-d3e153f3bb2a",
   "metadata": {
    "tags": []
   },
   "outputs": [
    {
     "data": {
      "text/html": [
       "<div>\n",
       "<style scoped>\n",
       "    .dataframe tbody tr th:only-of-type {\n",
       "        vertical-align: middle;\n",
       "    }\n",
       "\n",
       "    .dataframe tbody tr th {\n",
       "        vertical-align: top;\n",
       "    }\n",
       "\n",
       "    .dataframe thead th {\n",
       "        text-align: right;\n",
       "    }\n",
       "</style>\n",
       "<table border=\"1\" class=\"dataframe\">\n",
       "  <thead>\n",
       "    <tr style=\"text-align: right;\">\n",
       "      <th></th>\n",
       "      <th>senior_citizen</th>\n",
       "      <th>partner</th>\n",
       "      <th>dependents</th>\n",
       "      <th>multiple_lines</th>\n",
       "      <th>internet_service</th>\n",
       "      <th>online_security</th>\n",
       "      <th>online_backup</th>\n",
       "      <th>device_protection</th>\n",
       "      <th>tech_support</th>\n",
       "      <th>streaming_tv</th>\n",
       "      <th>streaming_movies</th>\n",
       "      <th>contract</th>\n",
       "      <th>paperless_billing</th>\n",
       "      <th>payment_method</th>\n",
       "      <th>monthly_charges</th>\n",
       "      <th>total_charges</th>\n",
       "      <th>churn</th>\n",
       "    </tr>\n",
       "  </thead>\n",
       "  <tbody>\n",
       "    <tr>\n",
       "      <th>0</th>\n",
       "      <td>No</td>\n",
       "      <td>Yes</td>\n",
       "      <td>No</td>\n",
       "      <td>No phone service</td>\n",
       "      <td>DSL</td>\n",
       "      <td>No</td>\n",
       "      <td>Yes</td>\n",
       "      <td>No</td>\n",
       "      <td>No</td>\n",
       "      <td>No</td>\n",
       "      <td>No</td>\n",
       "      <td>Month-to-month</td>\n",
       "      <td>Yes</td>\n",
       "      <td>Electronic check</td>\n",
       "      <td>29.85</td>\n",
       "      <td>29.85</td>\n",
       "      <td>No</td>\n",
       "    </tr>\n",
       "    <tr>\n",
       "      <th>1</th>\n",
       "      <td>No</td>\n",
       "      <td>No</td>\n",
       "      <td>No</td>\n",
       "      <td>No</td>\n",
       "      <td>DSL</td>\n",
       "      <td>Yes</td>\n",
       "      <td>No</td>\n",
       "      <td>Yes</td>\n",
       "      <td>No</td>\n",
       "      <td>No</td>\n",
       "      <td>No</td>\n",
       "      <td>One year</td>\n",
       "      <td>No</td>\n",
       "      <td>Mailed check</td>\n",
       "      <td>56.95</td>\n",
       "      <td>1889.50</td>\n",
       "      <td>No</td>\n",
       "    </tr>\n",
       "    <tr>\n",
       "      <th>2</th>\n",
       "      <td>No</td>\n",
       "      <td>No</td>\n",
       "      <td>No</td>\n",
       "      <td>No</td>\n",
       "      <td>DSL</td>\n",
       "      <td>Yes</td>\n",
       "      <td>Yes</td>\n",
       "      <td>No</td>\n",
       "      <td>No</td>\n",
       "      <td>No</td>\n",
       "      <td>No</td>\n",
       "      <td>Month-to-month</td>\n",
       "      <td>Yes</td>\n",
       "      <td>Mailed check</td>\n",
       "      <td>53.85</td>\n",
       "      <td>108.15</td>\n",
       "      <td>Yes</td>\n",
       "    </tr>\n",
       "    <tr>\n",
       "      <th>3</th>\n",
       "      <td>No</td>\n",
       "      <td>No</td>\n",
       "      <td>No</td>\n",
       "      <td>No phone service</td>\n",
       "      <td>DSL</td>\n",
       "      <td>Yes</td>\n",
       "      <td>No</td>\n",
       "      <td>Yes</td>\n",
       "      <td>Yes</td>\n",
       "      <td>No</td>\n",
       "      <td>No</td>\n",
       "      <td>One year</td>\n",
       "      <td>No</td>\n",
       "      <td>Bank transfer (automatic)</td>\n",
       "      <td>42.30</td>\n",
       "      <td>1840.75</td>\n",
       "      <td>No</td>\n",
       "    </tr>\n",
       "    <tr>\n",
       "      <th>4</th>\n",
       "      <td>No</td>\n",
       "      <td>No</td>\n",
       "      <td>No</td>\n",
       "      <td>No</td>\n",
       "      <td>Fiber optic</td>\n",
       "      <td>No</td>\n",
       "      <td>No</td>\n",
       "      <td>No</td>\n",
       "      <td>No</td>\n",
       "      <td>No</td>\n",
       "      <td>No</td>\n",
       "      <td>Month-to-month</td>\n",
       "      <td>Yes</td>\n",
       "      <td>Electronic check</td>\n",
       "      <td>70.70</td>\n",
       "      <td>151.65</td>\n",
       "      <td>Yes</td>\n",
       "    </tr>\n",
       "  </tbody>\n",
       "</table>\n",
       "</div>"
      ],
      "text/plain": [
       "  senior_citizen partner dependents    multiple_lines internet_service  \\\n",
       "0             No     Yes         No  No phone service              DSL   \n",
       "1             No      No         No                No              DSL   \n",
       "2             No      No         No                No              DSL   \n",
       "3             No      No         No  No phone service              DSL   \n",
       "4             No      No         No                No      Fiber optic   \n",
       "\n",
       "  online_security online_backup device_protection tech_support streaming_tv  \\\n",
       "0              No           Yes                No           No           No   \n",
       "1             Yes            No               Yes           No           No   \n",
       "2             Yes           Yes                No           No           No   \n",
       "3             Yes            No               Yes          Yes           No   \n",
       "4              No            No                No           No           No   \n",
       "\n",
       "  streaming_movies        contract paperless_billing  \\\n",
       "0               No  Month-to-month               Yes   \n",
       "1               No        One year                No   \n",
       "2               No  Month-to-month               Yes   \n",
       "3               No        One year                No   \n",
       "4               No  Month-to-month               Yes   \n",
       "\n",
       "              payment_method  monthly_charges  total_charges churn  \n",
       "0           Electronic check            29.85          29.85    No  \n",
       "1               Mailed check            56.95        1889.50    No  \n",
       "2               Mailed check            53.85         108.15   Yes  \n",
       "3  Bank transfer (automatic)            42.30        1840.75    No  \n",
       "4           Electronic check            70.70         151.65   Yes  "
      ]
     },
     "execution_count": 2,
     "metadata": {},
     "output_type": "execute_result"
    }
   ],
   "source": [
    "# load the file\n",
    "data = pd.read_csv('../data/cleaned_data/re_semi_cleaned_data.csv')\n",
    "data.head()"
   ]
  },
  {
   "cell_type": "code",
   "execution_count": 3,
   "id": "36227df2-71a8-4635-ac3d-04d472a15d0e",
   "metadata": {
    "tags": []
   },
   "outputs": [
    {
     "data": {
      "text/plain": [
       "(7032, 17)"
      ]
     },
     "execution_count": 3,
     "metadata": {},
     "output_type": "execute_result"
    }
   ],
   "source": [
    "data.shape"
   ]
  },
  {
   "cell_type": "markdown",
   "id": "ed88a83a-4418-4da1-9798-e09920c96ec1",
   "metadata": {
    "tags": []
   },
   "source": [
    "### removed 'total_charges'"
   ]
  },
  {
   "cell_type": "code",
   "execution_count": null,
   "id": "13f23924-622b-4534-af48-6e677ef66969",
   "metadata": {},
   "outputs": [],
   "source": []
  },
  {
   "cell_type": "markdown",
   "id": "3d7a3214-874d-4300-87ae-134d11412d00",
   "metadata": {
    "tags": []
   },
   "source": [
    "####  now, divide the data split numerical and categorical. "
   ]
  },
  {
   "cell_type": "code",
   "execution_count": null,
   "id": "6a50e43f-f6fa-4dc3-950d-4c382454c008",
   "metadata": {
    "tags": []
   },
   "outputs": [],
   "source": [
    "numericals = data.select_dtypes(np.number)\n",
    "categoricals = data.select_dtypes(exclude=np.number)"
   ]
  },
  {
   "cell_type": "code",
   "execution_count": null,
   "id": "04969083-645b-4aa0-bec4-37312d50e120",
   "metadata": {
    "tags": []
   },
   "outputs": [],
   "source": [
    "numericals"
   ]
  },
  {
   "cell_type": "code",
   "execution_count": null,
   "id": "1b5bf4ce-4101-4bcc-8373-4e3a0cfbee14",
   "metadata": {
    "tags": []
   },
   "outputs": [],
   "source": [
    "numericals.describe()"
   ]
  },
  {
   "cell_type": "code",
   "execution_count": null,
   "id": "1528bd7d-4114-410a-b4b0-9660cad36f77",
   "metadata": {},
   "outputs": [],
   "source": [
    "# The target 'stroke' is dropped and merged later.\n",
    "categoricals = categoricals.drop('churn', axis=1)"
   ]
  },
  {
   "cell_type": "code",
   "execution_count": null,
   "id": "eea82bb9-b1b7-44c4-88ca-eec4cfa67ed9",
   "metadata": {
    "tags": []
   },
   "outputs": [],
   "source": [
    "categoricals"
   ]
  },
  {
   "cell_type": "markdown",
   "id": "a50a15ce-8fbc-4a5e-a71e-b297eb1b1d8a",
   "metadata": {},
   "source": [
    "### numerical columns transformation"
   ]
  },
  {
   "cell_type": "code",
   "execution_count": null,
   "id": "2c6b2957-f797-47f1-b181-51aacd51e0bd",
   "metadata": {
    "tags": []
   },
   "outputs": [],
   "source": [
    "from sklearn.preprocessing import PowerTransformer\n",
    "import pickle\n",
    "\n",
    "\n",
    "\n",
    "# Columns to apply power transformation\n",
    "columns_to_transform = ['monthly_charges', 'total_charges']\n",
    "\n",
    "# Initialize the PowerTransformer\n",
    "pt = PowerTransformer(method='yeo-johnson')\n",
    "\n",
    "pt.fit(numericals[columns_to_transform])\n",
    "\n",
    "# Fit and transform the specified columns\n",
    "\n",
    "numericals[columns_to_transform] = pt.transform(numericals[columns_to_transform])\n",
    "\n",
    "\n",
    "#save the transformer\n",
    "filename = \"../scaler/re_transformer.pickle\" # Path with filename\n",
    "\n",
    "with open(filename, \"wb\") as file:\n",
    "        pickle.dump(pt,file)\n",
    "\n"
   ]
  },
  {
   "cell_type": "code",
   "execution_count": null,
   "id": "e2915121-a6c2-4763-a93e-f6e24325c4fb",
   "metadata": {
    "tags": []
   },
   "outputs": [],
   "source": [
    "plt.figure(figsize=(12, 5))\n",
    "\n",
    "# Plot 1\n",
    "plt.subplot(1, 2, 1)  # 1 row, 2 columns, plot 1\n",
    "sns.histplot(data['total_charges'], kde=True)\n",
    "# Set plot labels and title\n",
    "plt.xlabel('total_charges')\n",
    "plt.ylabel('Frequency')\n",
    "plt.title('total_charges Distribution')\n",
    "\n",
    "# Plot 2\n",
    "plt.subplot(1, 2, 2)  # 1 row, 2 columns, plot 2\n",
    "sns.histplot(numericals['total_charges'], kde=True)\n",
    "# Set plot labels and title\n",
    "plt.xlabel('total_charges')\n",
    "plt.ylabel('Frequency')\n",
    "plt.title('transformed total_charges Distribution')\n",
    "\n",
    "plt.tight_layout()  # To prevent overlapping of plots\n",
    "plt.show()"
   ]
  },
  {
   "cell_type": "code",
   "execution_count": null,
   "id": "8aacd34e-9946-444d-ac68-ff8bbad15dd2",
   "metadata": {
    "tags": []
   },
   "outputs": [],
   "source": [
    "plt.figure(figsize=(12, 5))\n",
    "\n",
    "# Plot 1\n",
    "plt.subplot(1, 2, 1)  # 1 row, 2 columns, plot 1\n",
    "sns.histplot(data['monthly_charges'], kde=True)\n",
    "# Set plot labels and title\n",
    "plt.xlabel('monthly_charges')\n",
    "plt.ylabel('Frequency')\n",
    "plt.title('monthly_charges Distribution')\n",
    "\n",
    "# Plot 2\n",
    "plt.subplot(1, 2, 2)  # 1 row, 2 columns, plot 2\n",
    "sns.histplot(numericals['monthly_charges'], kde=True)\n",
    "# Set plot labels and title\n",
    "plt.xlabel('monthly_charges')\n",
    "plt.ylabel('Frequency')\n",
    "plt.title('transformed monthly_charges Distribution')\n",
    "\n",
    "plt.tight_layout()  # To prevent overlapping of plots\n",
    "plt.show()"
   ]
  },
  {
   "cell_type": "markdown",
   "id": "54c5d31f-4158-4ac6-9f48-9a02e94f4c0e",
   "metadata": {
    "tags": []
   },
   "source": [
    "#### Min Max scaler is appled for numerical columns"
   ]
  },
  {
   "cell_type": "code",
   "execution_count": null,
   "id": "69b3b77a-3ed4-4f42-95d4-221dd2364bff",
   "metadata": {
    "tags": []
   },
   "outputs": [],
   "source": [
    "from sklearn.preprocessing import MinMaxScaler\n",
    "\n",
    "scaler = MinMaxScaler()\n",
    "\n",
    "scaler.fit(numericals)\n",
    "\n",
    "scaled_numericals = scaler.transform(numericals) \n",
    "\n",
    "\n",
    "filename = \"../scaler/re_min_max_scaler.pickle\" # Path with filename\n",
    "\n",
    "with open(filename, \"wb\") as file:\n",
    "        pickle.dump(scaler,file)"
   ]
  },
  {
   "cell_type": "code",
   "execution_count": null,
   "id": "f1d202a9-1a56-4c88-a5ef-36ec72e34dae",
   "metadata": {
    "tags": []
   },
   "outputs": [],
   "source": [
    "numericals_scaled_df = pd.DataFrame(scaled_numericals, columns=numericals.columns)\n",
    "numericals_scaled_df.head()"
   ]
  },
  {
   "cell_type": "code",
   "execution_count": null,
   "id": "4c8050b7-a488-4d71-addd-fbc44272f092",
   "metadata": {
    "tags": []
   },
   "outputs": [],
   "source": [
    "numericals_scaled_df.shape"
   ]
  },
  {
   "cell_type": "code",
   "execution_count": null,
   "id": "6d691324-72f5-496c-b38e-b4b9d0023a9f",
   "metadata": {
    "tags": []
   },
   "outputs": [],
   "source": [
    "numericals_scaled_df.describe()"
   ]
  },
  {
   "cell_type": "markdown",
   "id": "ebe23b0a-7901-4b78-8631-ed677526c348",
   "metadata": {
    "tags": []
   },
   "source": [
    "## categorical columns"
   ]
  },
  {
   "cell_type": "markdown",
   "id": "e79b6b72-e83c-410c-aa0b-272a291df133",
   "metadata": {},
   "source": [
    "##### convert categorical columns into dummy variables"
   ]
  },
  {
   "cell_type": "code",
   "execution_count": null,
   "id": "12709f57-99e8-47a1-aa51-ae876f3ead2f",
   "metadata": {
    "tags": []
   },
   "outputs": [],
   "source": [
    "encoded_categoricals = pd.get_dummies(categoricals, columns=categoricals.columns, dtype=int)\n",
    "encoded_categoricals"
   ]
  },
  {
   "cell_type": "markdown",
   "id": "167e1a36-b8e5-4523-9640-47209111878b",
   "metadata": {},
   "source": [
    "### concatanate columns "
   ]
  },
  {
   "cell_type": "code",
   "execution_count": null,
   "id": "4a9ccd1f-572d-4d30-9fa8-857b52babb31",
   "metadata": {
    "tags": []
   },
   "outputs": [],
   "source": [
    "numericals_scaled_df.reset_index(drop=True)\n",
    "encoded_categoricals.reset_index(drop=True)\n"
   ]
  },
  {
   "cell_type": "code",
   "execution_count": null,
   "id": "56105634-8fa1-41d0-a127-db153a9f1188",
   "metadata": {
    "tags": []
   },
   "outputs": [],
   "source": [
    "concatenated_data = pd.concat([numericals_scaled_df,encoded_categoricals, data['churn']], axis=1)\n",
    "concatenated_data"
   ]
  },
  {
   "cell_type": "code",
   "execution_count": null,
   "id": "f7520ef4-ad5f-42bd-bc91-39096ccb3c59",
   "metadata": {
    "tags": []
   },
   "outputs": [],
   "source": [
    "#save the file\n",
    "concatenated_data.to_csv('../data/cleaned_data/re_cleaned_data.csv', index=False)"
   ]
  },
  {
   "cell_type": "code",
   "execution_count": null,
   "id": "ce32d61c-14a8-4bbe-88d1-fc3049e8f4ac",
   "metadata": {},
   "outputs": [],
   "source": []
  }
 ],
 "metadata": {
  "kernelspec": {
   "display_name": "final_project_env",
   "language": "python",
   "name": "final_project_env"
  },
  "language_info": {
   "codemirror_mode": {
    "name": "ipython",
    "version": 3
   },
   "file_extension": ".py",
   "mimetype": "text/x-python",
   "name": "python",
   "nbconvert_exporter": "python",
   "pygments_lexer": "ipython3",
   "version": "3.11.3"
  }
 },
 "nbformat": 4,
 "nbformat_minor": 5
}
