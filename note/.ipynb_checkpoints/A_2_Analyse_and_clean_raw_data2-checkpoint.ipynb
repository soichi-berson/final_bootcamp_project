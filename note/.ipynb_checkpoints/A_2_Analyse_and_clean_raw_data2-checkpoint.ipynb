{
 "cells": [
  {
   "cell_type": "markdown",
   "id": "07926411-7575-4496-ab0e-8148a5963f14",
   "metadata": {
    "tags": []
   },
   "source": [
    "# 1_4.  Analyse and clean row data "
   ]
  },
  {
   "cell_type": "code",
   "execution_count": 1,
   "id": "2b320c34-95ca-48c4-918c-d733fcbb229f",
   "metadata": {
    "tags": []
   },
   "outputs": [],
   "source": [
    "import pandas as pd\n",
    "import numpy as np\n",
    "import seaborn as sns\n",
    "import matplotlib.pyplot as plt"
   ]
  },
  {
   "cell_type": "code",
   "execution_count": 2,
   "id": "dc89d352-b2c7-4909-80d2-64b6d5795aa8",
   "metadata": {
    "tags": []
   },
   "outputs": [
    {
     "data": {
      "text/html": [
       "<div>\n",
       "<style scoped>\n",
       "    .dataframe tbody tr th:only-of-type {\n",
       "        vertical-align: middle;\n",
       "    }\n",
       "\n",
       "    .dataframe tbody tr th {\n",
       "        vertical-align: top;\n",
       "    }\n",
       "\n",
       "    .dataframe thead th {\n",
       "        text-align: right;\n",
       "    }\n",
       "</style>\n",
       "<table border=\"1\" class=\"dataframe\">\n",
       "  <thead>\n",
       "    <tr style=\"text-align: right;\">\n",
       "      <th></th>\n",
       "      <th>customerID</th>\n",
       "      <th>gender</th>\n",
       "      <th>SeniorCitizen</th>\n",
       "      <th>Partner</th>\n",
       "      <th>Dependents</th>\n",
       "      <th>tenure</th>\n",
       "      <th>PhoneService</th>\n",
       "      <th>MultipleLines</th>\n",
       "      <th>InternetService</th>\n",
       "      <th>OnlineSecurity</th>\n",
       "      <th>...</th>\n",
       "      <th>DeviceProtection</th>\n",
       "      <th>TechSupport</th>\n",
       "      <th>StreamingTV</th>\n",
       "      <th>StreamingMovies</th>\n",
       "      <th>Contract</th>\n",
       "      <th>PaperlessBilling</th>\n",
       "      <th>PaymentMethod</th>\n",
       "      <th>MonthlyCharges</th>\n",
       "      <th>TotalCharges</th>\n",
       "      <th>Churn</th>\n",
       "    </tr>\n",
       "  </thead>\n",
       "  <tbody>\n",
       "    <tr>\n",
       "      <th>0</th>\n",
       "      <td>7590-VHVEG</td>\n",
       "      <td>Female</td>\n",
       "      <td>0</td>\n",
       "      <td>Yes</td>\n",
       "      <td>No</td>\n",
       "      <td>1</td>\n",
       "      <td>No</td>\n",
       "      <td>No phone service</td>\n",
       "      <td>DSL</td>\n",
       "      <td>No</td>\n",
       "      <td>...</td>\n",
       "      <td>No</td>\n",
       "      <td>No</td>\n",
       "      <td>No</td>\n",
       "      <td>No</td>\n",
       "      <td>Month-to-month</td>\n",
       "      <td>Yes</td>\n",
       "      <td>Electronic check</td>\n",
       "      <td>29.85</td>\n",
       "      <td>29.85</td>\n",
       "      <td>No</td>\n",
       "    </tr>\n",
       "    <tr>\n",
       "      <th>1</th>\n",
       "      <td>5575-GNVDE</td>\n",
       "      <td>Male</td>\n",
       "      <td>0</td>\n",
       "      <td>No</td>\n",
       "      <td>No</td>\n",
       "      <td>34</td>\n",
       "      <td>Yes</td>\n",
       "      <td>No</td>\n",
       "      <td>DSL</td>\n",
       "      <td>Yes</td>\n",
       "      <td>...</td>\n",
       "      <td>Yes</td>\n",
       "      <td>No</td>\n",
       "      <td>No</td>\n",
       "      <td>No</td>\n",
       "      <td>One year</td>\n",
       "      <td>No</td>\n",
       "      <td>Mailed check</td>\n",
       "      <td>56.95</td>\n",
       "      <td>1889.5</td>\n",
       "      <td>No</td>\n",
       "    </tr>\n",
       "    <tr>\n",
       "      <th>2</th>\n",
       "      <td>3668-QPYBK</td>\n",
       "      <td>Male</td>\n",
       "      <td>0</td>\n",
       "      <td>No</td>\n",
       "      <td>No</td>\n",
       "      <td>2</td>\n",
       "      <td>Yes</td>\n",
       "      <td>No</td>\n",
       "      <td>DSL</td>\n",
       "      <td>Yes</td>\n",
       "      <td>...</td>\n",
       "      <td>No</td>\n",
       "      <td>No</td>\n",
       "      <td>No</td>\n",
       "      <td>No</td>\n",
       "      <td>Month-to-month</td>\n",
       "      <td>Yes</td>\n",
       "      <td>Mailed check</td>\n",
       "      <td>53.85</td>\n",
       "      <td>108.15</td>\n",
       "      <td>Yes</td>\n",
       "    </tr>\n",
       "    <tr>\n",
       "      <th>3</th>\n",
       "      <td>7795-CFOCW</td>\n",
       "      <td>Male</td>\n",
       "      <td>0</td>\n",
       "      <td>No</td>\n",
       "      <td>No</td>\n",
       "      <td>45</td>\n",
       "      <td>No</td>\n",
       "      <td>No phone service</td>\n",
       "      <td>DSL</td>\n",
       "      <td>Yes</td>\n",
       "      <td>...</td>\n",
       "      <td>Yes</td>\n",
       "      <td>Yes</td>\n",
       "      <td>No</td>\n",
       "      <td>No</td>\n",
       "      <td>One year</td>\n",
       "      <td>No</td>\n",
       "      <td>Bank transfer (automatic)</td>\n",
       "      <td>42.30</td>\n",
       "      <td>1840.75</td>\n",
       "      <td>No</td>\n",
       "    </tr>\n",
       "    <tr>\n",
       "      <th>4</th>\n",
       "      <td>9237-HQITU</td>\n",
       "      <td>Female</td>\n",
       "      <td>0</td>\n",
       "      <td>No</td>\n",
       "      <td>No</td>\n",
       "      <td>2</td>\n",
       "      <td>Yes</td>\n",
       "      <td>No</td>\n",
       "      <td>Fiber optic</td>\n",
       "      <td>No</td>\n",
       "      <td>...</td>\n",
       "      <td>No</td>\n",
       "      <td>No</td>\n",
       "      <td>No</td>\n",
       "      <td>No</td>\n",
       "      <td>Month-to-month</td>\n",
       "      <td>Yes</td>\n",
       "      <td>Electronic check</td>\n",
       "      <td>70.70</td>\n",
       "      <td>151.65</td>\n",
       "      <td>Yes</td>\n",
       "    </tr>\n",
       "  </tbody>\n",
       "</table>\n",
       "<p>5 rows × 21 columns</p>\n",
       "</div>"
      ],
      "text/plain": [
       "   customerID  gender  SeniorCitizen Partner Dependents  tenure PhoneService  \\\n",
       "0  7590-VHVEG  Female              0     Yes         No       1           No   \n",
       "1  5575-GNVDE    Male              0      No         No      34          Yes   \n",
       "2  3668-QPYBK    Male              0      No         No       2          Yes   \n",
       "3  7795-CFOCW    Male              0      No         No      45           No   \n",
       "4  9237-HQITU  Female              0      No         No       2          Yes   \n",
       "\n",
       "      MultipleLines InternetService OnlineSecurity  ... DeviceProtection  \\\n",
       "0  No phone service             DSL             No  ...               No   \n",
       "1                No             DSL            Yes  ...              Yes   \n",
       "2                No             DSL            Yes  ...               No   \n",
       "3  No phone service             DSL            Yes  ...              Yes   \n",
       "4                No     Fiber optic             No  ...               No   \n",
       "\n",
       "  TechSupport StreamingTV StreamingMovies        Contract PaperlessBilling  \\\n",
       "0          No          No              No  Month-to-month              Yes   \n",
       "1          No          No              No        One year               No   \n",
       "2          No          No              No  Month-to-month              Yes   \n",
       "3         Yes          No              No        One year               No   \n",
       "4          No          No              No  Month-to-month              Yes   \n",
       "\n",
       "               PaymentMethod MonthlyCharges  TotalCharges Churn  \n",
       "0           Electronic check          29.85         29.85    No  \n",
       "1               Mailed check          56.95        1889.5    No  \n",
       "2               Mailed check          53.85        108.15   Yes  \n",
       "3  Bank transfer (automatic)          42.30       1840.75    No  \n",
       "4           Electronic check          70.70        151.65   Yes  \n",
       "\n",
       "[5 rows x 21 columns]"
      ]
     },
     "execution_count": 2,
     "metadata": {},
     "output_type": "execute_result"
    }
   ],
   "source": [
    "data = pd.read_csv('../data/raw/WA_Fn-UseC_-Telco-Customer-Churn.csv')\n",
    "data.head()"
   ]
  },
  {
   "cell_type": "code",
   "execution_count": 3,
   "id": "f724efb2-554b-4245-bf2c-484d1338ef64",
   "metadata": {
    "tags": []
   },
   "outputs": [
    {
     "data": {
      "text/plain": [
       "(7043, 21)"
      ]
     },
     "execution_count": 3,
     "metadata": {},
     "output_type": "execute_result"
    }
   ],
   "source": [
    "data.shape"
   ]
  },
  {
   "cell_type": "code",
   "execution_count": 4,
   "id": "4ef3ad71-9e56-4829-bb80-736dbfae0e88",
   "metadata": {
    "tags": []
   },
   "outputs": [
    {
     "data": {
      "text/plain": [
       "customerID          0\n",
       "gender              0\n",
       "SeniorCitizen       0\n",
       "Partner             0\n",
       "Dependents          0\n",
       "tenure              0\n",
       "PhoneService        0\n",
       "MultipleLines       0\n",
       "InternetService     0\n",
       "OnlineSecurity      0\n",
       "OnlineBackup        0\n",
       "DeviceProtection    0\n",
       "TechSupport         0\n",
       "StreamingTV         0\n",
       "StreamingMovies     0\n",
       "Contract            0\n",
       "PaperlessBilling    0\n",
       "PaymentMethod       0\n",
       "MonthlyCharges      0\n",
       "TotalCharges        0\n",
       "Churn               0\n",
       "dtype: int64"
      ]
     },
     "execution_count": 4,
     "metadata": {},
     "output_type": "execute_result"
    }
   ],
   "source": [
    "data.isnull().sum()"
   ]
  },
  {
   "cell_type": "code",
   "execution_count": null,
   "id": "3aa90df3-ef72-42cc-b0f6-dc09f05c5b19",
   "metadata": {},
   "outputs": [],
   "source": []
  },
  {
   "cell_type": "markdown",
   "id": "03a81f5c-c4c1-4983-a243-151ec1d4be14",
   "metadata": {
    "tags": []
   },
   "source": [
    "####  there is no null data"
   ]
  },
  {
   "cell_type": "code",
   "execution_count": 5,
   "id": "e1d88120-8f62-4176-86d5-44e10ef535a5",
   "metadata": {
    "tags": []
   },
   "outputs": [
    {
     "data": {
      "text/plain": [
       "customerID           object\n",
       "gender               object\n",
       "SeniorCitizen         int64\n",
       "Partner              object\n",
       "Dependents           object\n",
       "tenure                int64\n",
       "PhoneService         object\n",
       "MultipleLines        object\n",
       "InternetService      object\n",
       "OnlineSecurity       object\n",
       "OnlineBackup         object\n",
       "DeviceProtection     object\n",
       "TechSupport          object\n",
       "StreamingTV          object\n",
       "StreamingMovies      object\n",
       "Contract             object\n",
       "PaperlessBilling     object\n",
       "PaymentMethod        object\n",
       "MonthlyCharges      float64\n",
       "TotalCharges         object\n",
       "Churn                object\n",
       "dtype: object"
      ]
     },
     "execution_count": 5,
     "metadata": {},
     "output_type": "execute_result"
    }
   ],
   "source": [
    "data.dtypes"
   ]
  },
  {
   "cell_type": "markdown",
   "id": "fbf33f5f-93a6-446a-a16c-f7189fdd08e2",
   "metadata": {
    "tags": []
   },
   "source": [
    "### Churn"
   ]
  },
  {
   "cell_type": "code",
   "execution_count": 6,
   "id": "3a30ce25-67e8-4b60-8c93-15689cad42bd",
   "metadata": {
    "tags": []
   },
   "outputs": [
    {
     "data": {
      "text/plain": [
       "Churn\n",
       "No     5174\n",
       "Yes    1869\n",
       "Name: count, dtype: int64"
      ]
     },
     "execution_count": 6,
     "metadata": {},
     "output_type": "execute_result"
    }
   ],
   "source": [
    "data['Churn'].value_counts()"
   ]
  },
  {
   "cell_type": "markdown",
   "id": "eb18ecd8-a90a-40a3-b905-195a230ce499",
   "metadata": {},
   "source": [
    "#### It is imbalanced. It needs upsampling or SMOTE"
   ]
  },
  {
   "cell_type": "code",
   "execution_count": null,
   "id": "ca2e8348-a11d-41ae-b62b-439c2ca3c5ed",
   "metadata": {},
   "outputs": [],
   "source": []
  },
  {
   "cell_type": "code",
   "execution_count": 7,
   "id": "4a069c98-c315-45c5-bdec-baff0983c7da",
   "metadata": {
    "tags": []
   },
   "outputs": [
    {
     "data": {
      "text/html": [
       "<div>\n",
       "<style scoped>\n",
       "    .dataframe tbody tr th:only-of-type {\n",
       "        vertical-align: middle;\n",
       "    }\n",
       "\n",
       "    .dataframe tbody tr th {\n",
       "        vertical-align: top;\n",
       "    }\n",
       "\n",
       "    .dataframe thead th {\n",
       "        text-align: right;\n",
       "    }\n",
       "</style>\n",
       "<table border=\"1\" class=\"dataframe\">\n",
       "  <thead>\n",
       "    <tr style=\"text-align: right;\">\n",
       "      <th></th>\n",
       "      <th>customer_i_d</th>\n",
       "      <th>gender</th>\n",
       "      <th>senior_citizen</th>\n",
       "      <th>partner</th>\n",
       "      <th>dependents</th>\n",
       "      <th>tenure</th>\n",
       "      <th>phone_service</th>\n",
       "      <th>multiple_lines</th>\n",
       "      <th>internet_service</th>\n",
       "      <th>online_security</th>\n",
       "      <th>...</th>\n",
       "      <th>device_protection</th>\n",
       "      <th>tech_support</th>\n",
       "      <th>streaming_t_v</th>\n",
       "      <th>streaming_movies</th>\n",
       "      <th>contract</th>\n",
       "      <th>paperless_billing</th>\n",
       "      <th>payment_method</th>\n",
       "      <th>monthly_charges</th>\n",
       "      <th>total_charges</th>\n",
       "      <th>churn</th>\n",
       "    </tr>\n",
       "  </thead>\n",
       "  <tbody>\n",
       "    <tr>\n",
       "      <th>0</th>\n",
       "      <td>7590-VHVEG</td>\n",
       "      <td>Female</td>\n",
       "      <td>0</td>\n",
       "      <td>Yes</td>\n",
       "      <td>No</td>\n",
       "      <td>1</td>\n",
       "      <td>No</td>\n",
       "      <td>No phone service</td>\n",
       "      <td>DSL</td>\n",
       "      <td>No</td>\n",
       "      <td>...</td>\n",
       "      <td>No</td>\n",
       "      <td>No</td>\n",
       "      <td>No</td>\n",
       "      <td>No</td>\n",
       "      <td>Month-to-month</td>\n",
       "      <td>Yes</td>\n",
       "      <td>Electronic check</td>\n",
       "      <td>29.85</td>\n",
       "      <td>29.85</td>\n",
       "      <td>No</td>\n",
       "    </tr>\n",
       "    <tr>\n",
       "      <th>1</th>\n",
       "      <td>5575-GNVDE</td>\n",
       "      <td>Male</td>\n",
       "      <td>0</td>\n",
       "      <td>No</td>\n",
       "      <td>No</td>\n",
       "      <td>34</td>\n",
       "      <td>Yes</td>\n",
       "      <td>No</td>\n",
       "      <td>DSL</td>\n",
       "      <td>Yes</td>\n",
       "      <td>...</td>\n",
       "      <td>Yes</td>\n",
       "      <td>No</td>\n",
       "      <td>No</td>\n",
       "      <td>No</td>\n",
       "      <td>One year</td>\n",
       "      <td>No</td>\n",
       "      <td>Mailed check</td>\n",
       "      <td>56.95</td>\n",
       "      <td>1889.5</td>\n",
       "      <td>No</td>\n",
       "    </tr>\n",
       "    <tr>\n",
       "      <th>2</th>\n",
       "      <td>3668-QPYBK</td>\n",
       "      <td>Male</td>\n",
       "      <td>0</td>\n",
       "      <td>No</td>\n",
       "      <td>No</td>\n",
       "      <td>2</td>\n",
       "      <td>Yes</td>\n",
       "      <td>No</td>\n",
       "      <td>DSL</td>\n",
       "      <td>Yes</td>\n",
       "      <td>...</td>\n",
       "      <td>No</td>\n",
       "      <td>No</td>\n",
       "      <td>No</td>\n",
       "      <td>No</td>\n",
       "      <td>Month-to-month</td>\n",
       "      <td>Yes</td>\n",
       "      <td>Mailed check</td>\n",
       "      <td>53.85</td>\n",
       "      <td>108.15</td>\n",
       "      <td>Yes</td>\n",
       "    </tr>\n",
       "    <tr>\n",
       "      <th>3</th>\n",
       "      <td>7795-CFOCW</td>\n",
       "      <td>Male</td>\n",
       "      <td>0</td>\n",
       "      <td>No</td>\n",
       "      <td>No</td>\n",
       "      <td>45</td>\n",
       "      <td>No</td>\n",
       "      <td>No phone service</td>\n",
       "      <td>DSL</td>\n",
       "      <td>Yes</td>\n",
       "      <td>...</td>\n",
       "      <td>Yes</td>\n",
       "      <td>Yes</td>\n",
       "      <td>No</td>\n",
       "      <td>No</td>\n",
       "      <td>One year</td>\n",
       "      <td>No</td>\n",
       "      <td>Bank transfer (automatic)</td>\n",
       "      <td>42.30</td>\n",
       "      <td>1840.75</td>\n",
       "      <td>No</td>\n",
       "    </tr>\n",
       "    <tr>\n",
       "      <th>4</th>\n",
       "      <td>9237-HQITU</td>\n",
       "      <td>Female</td>\n",
       "      <td>0</td>\n",
       "      <td>No</td>\n",
       "      <td>No</td>\n",
       "      <td>2</td>\n",
       "      <td>Yes</td>\n",
       "      <td>No</td>\n",
       "      <td>Fiber optic</td>\n",
       "      <td>No</td>\n",
       "      <td>...</td>\n",
       "      <td>No</td>\n",
       "      <td>No</td>\n",
       "      <td>No</td>\n",
       "      <td>No</td>\n",
       "      <td>Month-to-month</td>\n",
       "      <td>Yes</td>\n",
       "      <td>Electronic check</td>\n",
       "      <td>70.70</td>\n",
       "      <td>151.65</td>\n",
       "      <td>Yes</td>\n",
       "    </tr>\n",
       "    <tr>\n",
       "      <th>...</th>\n",
       "      <td>...</td>\n",
       "      <td>...</td>\n",
       "      <td>...</td>\n",
       "      <td>...</td>\n",
       "      <td>...</td>\n",
       "      <td>...</td>\n",
       "      <td>...</td>\n",
       "      <td>...</td>\n",
       "      <td>...</td>\n",
       "      <td>...</td>\n",
       "      <td>...</td>\n",
       "      <td>...</td>\n",
       "      <td>...</td>\n",
       "      <td>...</td>\n",
       "      <td>...</td>\n",
       "      <td>...</td>\n",
       "      <td>...</td>\n",
       "      <td>...</td>\n",
       "      <td>...</td>\n",
       "      <td>...</td>\n",
       "      <td>...</td>\n",
       "    </tr>\n",
       "    <tr>\n",
       "      <th>7038</th>\n",
       "      <td>6840-RESVB</td>\n",
       "      <td>Male</td>\n",
       "      <td>0</td>\n",
       "      <td>Yes</td>\n",
       "      <td>Yes</td>\n",
       "      <td>24</td>\n",
       "      <td>Yes</td>\n",
       "      <td>Yes</td>\n",
       "      <td>DSL</td>\n",
       "      <td>Yes</td>\n",
       "      <td>...</td>\n",
       "      <td>Yes</td>\n",
       "      <td>Yes</td>\n",
       "      <td>Yes</td>\n",
       "      <td>Yes</td>\n",
       "      <td>One year</td>\n",
       "      <td>Yes</td>\n",
       "      <td>Mailed check</td>\n",
       "      <td>84.80</td>\n",
       "      <td>1990.5</td>\n",
       "      <td>No</td>\n",
       "    </tr>\n",
       "    <tr>\n",
       "      <th>7039</th>\n",
       "      <td>2234-XADUH</td>\n",
       "      <td>Female</td>\n",
       "      <td>0</td>\n",
       "      <td>Yes</td>\n",
       "      <td>Yes</td>\n",
       "      <td>72</td>\n",
       "      <td>Yes</td>\n",
       "      <td>Yes</td>\n",
       "      <td>Fiber optic</td>\n",
       "      <td>No</td>\n",
       "      <td>...</td>\n",
       "      <td>Yes</td>\n",
       "      <td>No</td>\n",
       "      <td>Yes</td>\n",
       "      <td>Yes</td>\n",
       "      <td>One year</td>\n",
       "      <td>Yes</td>\n",
       "      <td>Credit card (automatic)</td>\n",
       "      <td>103.20</td>\n",
       "      <td>7362.9</td>\n",
       "      <td>No</td>\n",
       "    </tr>\n",
       "    <tr>\n",
       "      <th>7040</th>\n",
       "      <td>4801-JZAZL</td>\n",
       "      <td>Female</td>\n",
       "      <td>0</td>\n",
       "      <td>Yes</td>\n",
       "      <td>Yes</td>\n",
       "      <td>11</td>\n",
       "      <td>No</td>\n",
       "      <td>No phone service</td>\n",
       "      <td>DSL</td>\n",
       "      <td>Yes</td>\n",
       "      <td>...</td>\n",
       "      <td>No</td>\n",
       "      <td>No</td>\n",
       "      <td>No</td>\n",
       "      <td>No</td>\n",
       "      <td>Month-to-month</td>\n",
       "      <td>Yes</td>\n",
       "      <td>Electronic check</td>\n",
       "      <td>29.60</td>\n",
       "      <td>346.45</td>\n",
       "      <td>No</td>\n",
       "    </tr>\n",
       "    <tr>\n",
       "      <th>7041</th>\n",
       "      <td>8361-LTMKD</td>\n",
       "      <td>Male</td>\n",
       "      <td>1</td>\n",
       "      <td>Yes</td>\n",
       "      <td>No</td>\n",
       "      <td>4</td>\n",
       "      <td>Yes</td>\n",
       "      <td>Yes</td>\n",
       "      <td>Fiber optic</td>\n",
       "      <td>No</td>\n",
       "      <td>...</td>\n",
       "      <td>No</td>\n",
       "      <td>No</td>\n",
       "      <td>No</td>\n",
       "      <td>No</td>\n",
       "      <td>Month-to-month</td>\n",
       "      <td>Yes</td>\n",
       "      <td>Mailed check</td>\n",
       "      <td>74.40</td>\n",
       "      <td>306.6</td>\n",
       "      <td>Yes</td>\n",
       "    </tr>\n",
       "    <tr>\n",
       "      <th>7042</th>\n",
       "      <td>3186-AJIEK</td>\n",
       "      <td>Male</td>\n",
       "      <td>0</td>\n",
       "      <td>No</td>\n",
       "      <td>No</td>\n",
       "      <td>66</td>\n",
       "      <td>Yes</td>\n",
       "      <td>No</td>\n",
       "      <td>Fiber optic</td>\n",
       "      <td>Yes</td>\n",
       "      <td>...</td>\n",
       "      <td>Yes</td>\n",
       "      <td>Yes</td>\n",
       "      <td>Yes</td>\n",
       "      <td>Yes</td>\n",
       "      <td>Two year</td>\n",
       "      <td>Yes</td>\n",
       "      <td>Bank transfer (automatic)</td>\n",
       "      <td>105.65</td>\n",
       "      <td>6844.5</td>\n",
       "      <td>No</td>\n",
       "    </tr>\n",
       "  </tbody>\n",
       "</table>\n",
       "<p>7043 rows × 21 columns</p>\n",
       "</div>"
      ],
      "text/plain": [
       "     customer_i_d  gender  senior_citizen partner dependents  tenure  \\\n",
       "0      7590-VHVEG  Female               0     Yes         No       1   \n",
       "1      5575-GNVDE    Male               0      No         No      34   \n",
       "2      3668-QPYBK    Male               0      No         No       2   \n",
       "3      7795-CFOCW    Male               0      No         No      45   \n",
       "4      9237-HQITU  Female               0      No         No       2   \n",
       "...           ...     ...             ...     ...        ...     ...   \n",
       "7038   6840-RESVB    Male               0     Yes        Yes      24   \n",
       "7039   2234-XADUH  Female               0     Yes        Yes      72   \n",
       "7040   4801-JZAZL  Female               0     Yes        Yes      11   \n",
       "7041   8361-LTMKD    Male               1     Yes         No       4   \n",
       "7042   3186-AJIEK    Male               0      No         No      66   \n",
       "\n",
       "     phone_service    multiple_lines internet_service online_security  ...  \\\n",
       "0               No  No phone service              DSL              No  ...   \n",
       "1              Yes                No              DSL             Yes  ...   \n",
       "2              Yes                No              DSL             Yes  ...   \n",
       "3               No  No phone service              DSL             Yes  ...   \n",
       "4              Yes                No      Fiber optic              No  ...   \n",
       "...            ...               ...              ...             ...  ...   \n",
       "7038           Yes               Yes              DSL             Yes  ...   \n",
       "7039           Yes               Yes      Fiber optic              No  ...   \n",
       "7040            No  No phone service              DSL             Yes  ...   \n",
       "7041           Yes               Yes      Fiber optic              No  ...   \n",
       "7042           Yes                No      Fiber optic             Yes  ...   \n",
       "\n",
       "     device_protection tech_support streaming_t_v streaming_movies  \\\n",
       "0                   No           No            No               No   \n",
       "1                  Yes           No            No               No   \n",
       "2                   No           No            No               No   \n",
       "3                  Yes          Yes            No               No   \n",
       "4                   No           No            No               No   \n",
       "...                ...          ...           ...              ...   \n",
       "7038               Yes          Yes           Yes              Yes   \n",
       "7039               Yes           No           Yes              Yes   \n",
       "7040                No           No            No               No   \n",
       "7041                No           No            No               No   \n",
       "7042               Yes          Yes           Yes              Yes   \n",
       "\n",
       "            contract paperless_billing             payment_method  \\\n",
       "0     Month-to-month               Yes           Electronic check   \n",
       "1           One year                No               Mailed check   \n",
       "2     Month-to-month               Yes               Mailed check   \n",
       "3           One year                No  Bank transfer (automatic)   \n",
       "4     Month-to-month               Yes           Electronic check   \n",
       "...              ...               ...                        ...   \n",
       "7038        One year               Yes               Mailed check   \n",
       "7039        One year               Yes    Credit card (automatic)   \n",
       "7040  Month-to-month               Yes           Electronic check   \n",
       "7041  Month-to-month               Yes               Mailed check   \n",
       "7042        Two year               Yes  Bank transfer (automatic)   \n",
       "\n",
       "     monthly_charges  total_charges churn  \n",
       "0              29.85          29.85    No  \n",
       "1              56.95         1889.5    No  \n",
       "2              53.85         108.15   Yes  \n",
       "3              42.30        1840.75    No  \n",
       "4              70.70         151.65   Yes  \n",
       "...              ...            ...   ...  \n",
       "7038           84.80         1990.5    No  \n",
       "7039          103.20         7362.9    No  \n",
       "7040           29.60         346.45    No  \n",
       "7041           74.40          306.6   Yes  \n",
       "7042          105.65         6844.5    No  \n",
       "\n",
       "[7043 rows x 21 columns]"
      ]
     },
     "execution_count": 7,
     "metadata": {},
     "output_type": "execute_result"
    }
   ],
   "source": [
    "import re\n",
    "\n",
    "df = data.copy()\n",
    "\n",
    "# Function to insert underscore before capital letters (except the first character) and convert to lowercase\n",
    "def rename_columns_with_underscores(df):\n",
    "    def insert_underscore(column_name):\n",
    "        return re.sub(r'(?<!^)(?=[A-Z])', '_', column_name)\n",
    "\n",
    "    new_columns = {col: insert_underscore(col).lower() for col in df.columns}\n",
    "    df.rename(columns=new_columns, inplace=True)\n",
    "\n",
    "# Call the function to rename columns with underscores and convert to lowercase\n",
    "rename_columns_with_underscores(df)\n",
    "df"
   ]
  },
  {
   "cell_type": "markdown",
   "id": "87317ca4-9048-4edc-b79a-104743d95bed",
   "metadata": {
    "tags": []
   },
   "source": [
    "### Gender"
   ]
  },
  {
   "cell_type": "code",
   "execution_count": 8,
   "id": "56e3c590-efe4-4e3f-a4bd-6f91bc02860e",
   "metadata": {
    "tags": []
   },
   "outputs": [
    {
     "data": {
      "text/plain": [
       "gender\n",
       "Male      3555\n",
       "Female    3488\n",
       "Name: count, dtype: int64"
      ]
     },
     "execution_count": 8,
     "metadata": {},
     "output_type": "execute_result"
    }
   ],
   "source": [
    "df['gender'].value_counts()"
   ]
  },
  {
   "cell_type": "markdown",
   "id": "c37d94c9-6368-46b3-a26a-db4779451fd7",
   "metadata": {},
   "source": [
    "##### Check if there is a relationship between Gender and Churn. Chi2 test"
   ]
  },
  {
   "cell_type": "code",
   "execution_count": 9,
   "id": "e23e8f10-6221-49ff-bd1a-79c1bc949bb3",
   "metadata": {
    "tags": []
   },
   "outputs": [
    {
     "data": {
      "text/html": [
       "<div>\n",
       "<style scoped>\n",
       "    .dataframe tbody tr th:only-of-type {\n",
       "        vertical-align: middle;\n",
       "    }\n",
       "\n",
       "    .dataframe tbody tr th {\n",
       "        vertical-align: top;\n",
       "    }\n",
       "\n",
       "    .dataframe thead th {\n",
       "        text-align: right;\n",
       "    }\n",
       "</style>\n",
       "<table border=\"1\" class=\"dataframe\">\n",
       "  <thead>\n",
       "    <tr style=\"text-align: right;\">\n",
       "      <th>churn</th>\n",
       "      <th>No</th>\n",
       "      <th>Yes</th>\n",
       "    </tr>\n",
       "    <tr>\n",
       "      <th>gender</th>\n",
       "      <th></th>\n",
       "      <th></th>\n",
       "    </tr>\n",
       "  </thead>\n",
       "  <tbody>\n",
       "    <tr>\n",
       "      <th>Female</th>\n",
       "      <td>2549</td>\n",
       "      <td>939</td>\n",
       "    </tr>\n",
       "    <tr>\n",
       "      <th>Male</th>\n",
       "      <td>2625</td>\n",
       "      <td>930</td>\n",
       "    </tr>\n",
       "  </tbody>\n",
       "</table>\n",
       "</div>"
      ],
      "text/plain": [
       "churn     No  Yes\n",
       "gender           \n",
       "Female  2549  939\n",
       "Male    2625  930"
      ]
     },
     "execution_count": 9,
     "metadata": {},
     "output_type": "execute_result"
    }
   ],
   "source": [
    "import scipy.stats as st\n",
    "from scipy.stats import ttest_1samp\n",
    "data_crosstab = pd.crosstab(df['gender'], df['churn'], margins = False)\n",
    "data_crosstab"
   ]
  },
  {
   "cell_type": "code",
   "execution_count": 10,
   "id": "ecc3bbd8-27fe-4697-825a-1033d031d59f",
   "metadata": {
    "tags": []
   },
   "outputs": [
    {
     "data": {
      "text/plain": [
       "Chi2ContingencyResult(statistic=0.4840828822091383, pvalue=0.48657873605618596, dof=1, expected_freq=array([[2562.38989067,  925.61010933],\n",
       "       [2611.61010933,  943.38989067]]))"
      ]
     },
     "execution_count": 10,
     "metadata": {},
     "output_type": "execute_result"
    }
   ],
   "source": [
    "st.chi2_contingency(np.array(data_crosstab))"
   ]
  },
  {
   "cell_type": "markdown",
   "id": "00db03e5-78d7-4c73-8669-655a43c570a5",
   "metadata": {
    "tags": []
   },
   "source": [
    "##### p_value is 0.4 and 0.4 > 0.05. Therefore, there is no relationship between them. And it is removed."
   ]
  },
  {
   "cell_type": "code",
   "execution_count": 11,
   "id": "bbf53b1a-5c45-40e4-a109-8f7e3dd1b781",
   "metadata": {
    "tags": []
   },
   "outputs": [],
   "source": [
    "df.drop('gender', axis=1, inplace=True)"
   ]
  },
  {
   "cell_type": "markdown",
   "id": "d8cb04f4-4a73-40e9-abe1-5968a473a13a",
   "metadata": {},
   "source": [
    "### senior_citizen"
   ]
  },
  {
   "cell_type": "code",
   "execution_count": 12,
   "id": "1e8a0033-9812-49dc-9bee-8949e5e520d9",
   "metadata": {
    "tags": []
   },
   "outputs": [
    {
     "data": {
      "text/plain": [
       "senior_citizen\n",
       "0    5901\n",
       "1    1142\n",
       "Name: count, dtype: int64"
      ]
     },
     "execution_count": 12,
     "metadata": {},
     "output_type": "execute_result"
    }
   ],
   "source": [
    "df['senior_citizen'].value_counts()"
   ]
  },
  {
   "cell_type": "markdown",
   "id": "16a98802-7429-423f-b831-60c6100d852d",
   "metadata": {
    "tags": []
   },
   "source": [
    "##### Check if there is a relationship between senior_citizen and Churn. Chi2 test"
   ]
  },
  {
   "cell_type": "code",
   "execution_count": 13,
   "id": "e451aaad-2cef-4364-bab5-948181f4d75a",
   "metadata": {
    "tags": []
   },
   "outputs": [
    {
     "data": {
      "text/html": [
       "<div>\n",
       "<style scoped>\n",
       "    .dataframe tbody tr th:only-of-type {\n",
       "        vertical-align: middle;\n",
       "    }\n",
       "\n",
       "    .dataframe tbody tr th {\n",
       "        vertical-align: top;\n",
       "    }\n",
       "\n",
       "    .dataframe thead th {\n",
       "        text-align: right;\n",
       "    }\n",
       "</style>\n",
       "<table border=\"1\" class=\"dataframe\">\n",
       "  <thead>\n",
       "    <tr style=\"text-align: right;\">\n",
       "      <th>churn</th>\n",
       "      <th>No</th>\n",
       "      <th>Yes</th>\n",
       "    </tr>\n",
       "    <tr>\n",
       "      <th>senior_citizen</th>\n",
       "      <th></th>\n",
       "      <th></th>\n",
       "    </tr>\n",
       "  </thead>\n",
       "  <tbody>\n",
       "    <tr>\n",
       "      <th>0</th>\n",
       "      <td>4508</td>\n",
       "      <td>1393</td>\n",
       "    </tr>\n",
       "    <tr>\n",
       "      <th>1</th>\n",
       "      <td>666</td>\n",
       "      <td>476</td>\n",
       "    </tr>\n",
       "  </tbody>\n",
       "</table>\n",
       "</div>"
      ],
      "text/plain": [
       "churn             No   Yes\n",
       "senior_citizen            \n",
       "0               4508  1393\n",
       "1                666   476"
      ]
     },
     "execution_count": 13,
     "metadata": {},
     "output_type": "execute_result"
    }
   ],
   "source": [
    "data_crosstab2 = pd.crosstab(df['senior_citizen'], df['churn'], margins = False)\n",
    "data_crosstab2"
   ]
  },
  {
   "cell_type": "code",
   "execution_count": 14,
   "id": "4eaac315-6911-4969-80fb-2854a961c65a",
   "metadata": {
    "tags": []
   },
   "outputs": [
    {
     "data": {
      "text/plain": [
       "Chi2ContingencyResult(statistic=159.42630036838742, pvalue=1.510066805092378e-36, dof=1, expected_freq=array([[4335.05239245, 1565.94760755],\n",
       "       [ 838.94760755,  303.05239245]]))"
      ]
     },
     "execution_count": 14,
     "metadata": {},
     "output_type": "execute_result"
    }
   ],
   "source": [
    "st.chi2_contingency(np.array(data_crosstab2))"
   ]
  },
  {
   "cell_type": "markdown",
   "id": "18802740-c4a2-4bf7-98b5-3f6fa974e3b9",
   "metadata": {},
   "source": [
    "##### p_value is 1.510066805092378e-36 and 1.510066805092378e-36 < 0.05. Therefore, there is relationship between them."
   ]
  },
  {
   "cell_type": "code",
   "execution_count": 15,
   "id": "b287289f-475d-47b9-8f39-8d13f7b5a6cb",
   "metadata": {
    "tags": []
   },
   "outputs": [
    {
     "data": {
      "text/plain": [
       "0    No\n",
       "1    No\n",
       "2    No\n",
       "3    No\n",
       "4    No\n",
       "Name: senior_citizen, dtype: object"
      ]
     },
     "execution_count": 15,
     "metadata": {},
     "output_type": "execute_result"
    }
   ],
   "source": [
    "df['senior_citizen'] = df['senior_citizen'].map({0: 'No', 1: 'Yes'})\n",
    "\n",
    "df['senior_citizen'].head()"
   ]
  },
  {
   "cell_type": "markdown",
   "id": "68622a1e-8616-4fe3-8ea2-6640e30b57d8",
   "metadata": {
    "tags": []
   },
   "source": [
    "### partner"
   ]
  },
  {
   "cell_type": "code",
   "execution_count": 16,
   "id": "dae89fe1-2f9f-4991-b455-91929c4cfbf8",
   "metadata": {
    "tags": []
   },
   "outputs": [
    {
     "data": {
      "text/plain": [
       "partner\n",
       "No     3641\n",
       "Yes    3402\n",
       "Name: count, dtype: int64"
      ]
     },
     "execution_count": 16,
     "metadata": {},
     "output_type": "execute_result"
    }
   ],
   "source": [
    "df['partner'].value_counts()"
   ]
  },
  {
   "cell_type": "markdown",
   "id": "ff3a03c2-6a81-4040-a647-df8f370c6c8a",
   "metadata": {},
   "source": [
    "##### Check if there is a relationship with Churn. Chi2 test"
   ]
  },
  {
   "cell_type": "code",
   "execution_count": 17,
   "id": "a949e024-fed0-4ed0-9454-e4e69f2b0a73",
   "metadata": {
    "tags": []
   },
   "outputs": [
    {
     "data": {
      "text/html": [
       "<div>\n",
       "<style scoped>\n",
       "    .dataframe tbody tr th:only-of-type {\n",
       "        vertical-align: middle;\n",
       "    }\n",
       "\n",
       "    .dataframe tbody tr th {\n",
       "        vertical-align: top;\n",
       "    }\n",
       "\n",
       "    .dataframe thead th {\n",
       "        text-align: right;\n",
       "    }\n",
       "</style>\n",
       "<table border=\"1\" class=\"dataframe\">\n",
       "  <thead>\n",
       "    <tr style=\"text-align: right;\">\n",
       "      <th>churn</th>\n",
       "      <th>No</th>\n",
       "      <th>Yes</th>\n",
       "    </tr>\n",
       "    <tr>\n",
       "      <th>partner</th>\n",
       "      <th></th>\n",
       "      <th></th>\n",
       "    </tr>\n",
       "  </thead>\n",
       "  <tbody>\n",
       "    <tr>\n",
       "      <th>No</th>\n",
       "      <td>2441</td>\n",
       "      <td>1200</td>\n",
       "    </tr>\n",
       "    <tr>\n",
       "      <th>Yes</th>\n",
       "      <td>2733</td>\n",
       "      <td>669</td>\n",
       "    </tr>\n",
       "  </tbody>\n",
       "</table>\n",
       "</div>"
      ],
      "text/plain": [
       "churn      No   Yes\n",
       "partner            \n",
       "No       2441  1200\n",
       "Yes      2733   669"
      ]
     },
     "execution_count": 17,
     "metadata": {},
     "output_type": "execute_result"
    }
   ],
   "source": [
    "data_crosstab3 = pd.crosstab(df['partner'], df['churn'], margins = False)\n",
    "data_crosstab3"
   ]
  },
  {
   "cell_type": "code",
   "execution_count": 18,
   "id": "0fe0066a-5557-434d-8f5b-50d15e144d80",
   "metadata": {
    "tags": []
   },
   "outputs": [
    {
     "data": {
      "text/plain": [
       "Chi2ContingencyResult(statistic=158.7333820309922, pvalue=2.1399113440759935e-36, dof=1, expected_freq=array([[2674.78830044,  966.21169956],\n",
       "       [2499.21169956,  902.78830044]]))"
      ]
     },
     "execution_count": 18,
     "metadata": {},
     "output_type": "execute_result"
    }
   ],
   "source": [
    "st.chi2_contingency(np.array(data_crosstab3))"
   ]
  },
  {
   "cell_type": "markdown",
   "id": "b9e174c9-0841-4e08-83b8-d4a3f3be2b51",
   "metadata": {},
   "source": [
    "##### p_value is 2.1399113440759935e-36 and 2.1399113440759935e-36 < 0.05. Therefore, there is relationship between them."
   ]
  },
  {
   "cell_type": "markdown",
   "id": "74814f35-457d-4c9b-a1a2-2f8380337495",
   "metadata": {
    "tags": []
   },
   "source": [
    "### dependents"
   ]
  },
  {
   "cell_type": "code",
   "execution_count": 19,
   "id": "10b2cab4-ad34-42d2-8955-0e64c0a87cee",
   "metadata": {
    "tags": []
   },
   "outputs": [
    {
     "data": {
      "text/plain": [
       "dependents\n",
       "No     4933\n",
       "Yes    2110\n",
       "Name: count, dtype: int64"
      ]
     },
     "execution_count": 19,
     "metadata": {},
     "output_type": "execute_result"
    }
   ],
   "source": [
    "df['dependents'].value_counts()"
   ]
  },
  {
   "cell_type": "markdown",
   "id": "ef4b8454-2ed6-42c9-bc97-88e68ea39f1c",
   "metadata": {},
   "source": [
    "##### Check if there is a relationship with Churn. Chi2 test"
   ]
  },
  {
   "cell_type": "code",
   "execution_count": 20,
   "id": "be4b632a-5b99-4ab0-85fa-101d2482a899",
   "metadata": {
    "tags": []
   },
   "outputs": [
    {
     "data": {
      "text/html": [
       "<div>\n",
       "<style scoped>\n",
       "    .dataframe tbody tr th:only-of-type {\n",
       "        vertical-align: middle;\n",
       "    }\n",
       "\n",
       "    .dataframe tbody tr th {\n",
       "        vertical-align: top;\n",
       "    }\n",
       "\n",
       "    .dataframe thead th {\n",
       "        text-align: right;\n",
       "    }\n",
       "</style>\n",
       "<table border=\"1\" class=\"dataframe\">\n",
       "  <thead>\n",
       "    <tr style=\"text-align: right;\">\n",
       "      <th>churn</th>\n",
       "      <th>No</th>\n",
       "      <th>Yes</th>\n",
       "    </tr>\n",
       "    <tr>\n",
       "      <th>dependents</th>\n",
       "      <th></th>\n",
       "      <th></th>\n",
       "    </tr>\n",
       "  </thead>\n",
       "  <tbody>\n",
       "    <tr>\n",
       "      <th>No</th>\n",
       "      <td>3390</td>\n",
       "      <td>1543</td>\n",
       "    </tr>\n",
       "    <tr>\n",
       "      <th>Yes</th>\n",
       "      <td>1784</td>\n",
       "      <td>326</td>\n",
       "    </tr>\n",
       "  </tbody>\n",
       "</table>\n",
       "</div>"
      ],
      "text/plain": [
       "churn         No   Yes\n",
       "dependents            \n",
       "No          3390  1543\n",
       "Yes         1784   326"
      ]
     },
     "execution_count": 20,
     "metadata": {},
     "output_type": "execute_result"
    }
   ],
   "source": [
    "data_crosstab4 = pd.crosstab(df['dependents'], df['churn'], margins = False)\n",
    "data_crosstab4"
   ]
  },
  {
   "cell_type": "code",
   "execution_count": 21,
   "id": "393c5155-c82b-452c-9819-d5ad088eba1e",
   "metadata": {
    "tags": []
   },
   "outputs": [
    {
     "data": {
      "text/plain": [
       "Chi2ContingencyResult(statistic=189.12924940423474, pvalue=4.9249216612154196e-43, dof=1, expected_freq=array([[3623.93042737, 1309.06957263],\n",
       "       [1550.06957263,  559.93042737]]))"
      ]
     },
     "execution_count": 21,
     "metadata": {},
     "output_type": "execute_result"
    }
   ],
   "source": [
    "st.chi2_contingency(np.array(data_crosstab4))"
   ]
  },
  {
   "cell_type": "markdown",
   "id": "a39ad5e8-b955-4263-876f-f37778d0a819",
   "metadata": {},
   "source": [
    "##### p_value is 4.9249216612154196e-43, and 4.9249216612154196e-43, < 0.05. Therefore, there is relationship between them."
   ]
  },
  {
   "cell_type": "markdown",
   "id": "161f565d-7743-44e3-95ac-780e84c1fddc",
   "metadata": {
    "tags": []
   },
   "source": [
    "### tenure"
   ]
  },
  {
   "cell_type": "code",
   "execution_count": 22,
   "id": "44b35222-97f3-4adc-9cf6-8e43473f6667",
   "metadata": {
    "tags": []
   },
   "outputs": [
    {
     "data": {
      "text/plain": [
       "tenure\n",
       "1     613\n",
       "72    362\n",
       "2     238\n",
       "3     200\n",
       "4     176\n",
       "     ... \n",
       "28     57\n",
       "39     56\n",
       "44     51\n",
       "36     50\n",
       "0      11\n",
       "Name: count, Length: 73, dtype: int64"
      ]
     },
     "execution_count": 22,
     "metadata": {},
     "output_type": "execute_result"
    }
   ],
   "source": [
    "df['tenure'].value_counts()"
   ]
  },
  {
   "cell_type": "code",
   "execution_count": 23,
   "id": "ebfc18b1-5bb7-4ed0-ac0b-f0834fcca3b6",
   "metadata": {
    "tags": []
   },
   "outputs": [
    {
     "data": {
      "image/png": "[encoded data removed]",
      "text/plain": [
       "<Figure size 640x480 with 1 Axes>"
      ]
     },
     "metadata": {},
     "output_type": "display_data"
    }
   ],
   "source": [
    "# Create a histogram using Seaborn\n",
    "sns.histplot(df['tenure'], kde=True)\n",
    "\n",
    "# Set plot labels and title\n",
    "plt.xlabel('tenure')\n",
    "plt.ylabel('Frequency')\n",
    "plt.title('tenure Distribution')\n",
    "\n",
    "# Display the plot\n",
    "plt.show()"
   ]
  },
  {
   "cell_type": "markdown",
   "id": "9ad52dab-1594-4e33-a04c-fd9a8cbe3dfe",
   "metadata": {},
   "source": [
    "### phone_service"
   ]
  },
  {
   "cell_type": "code",
   "execution_count": 24,
   "id": "0a592662-3149-46d1-a8b7-f60ecacd61c0",
   "metadata": {
    "tags": []
   },
   "outputs": [
    {
     "data": {
      "text/plain": [
       "phone_service\n",
       "Yes    6361\n",
       "No      682\n",
       "Name: count, dtype: int64"
      ]
     },
     "execution_count": 24,
     "metadata": {},
     "output_type": "execute_result"
    }
   ],
   "source": [
    "df['phone_service'].value_counts()"
   ]
  },
  {
   "cell_type": "markdown",
   "id": "a8e54ca5-aa1f-40d6-926d-80e7aedcc1fc",
   "metadata": {
    "tags": []
   },
   "source": [
    "##### Check if there is a relationship with Churn. Chi2 test"
   ]
  },
  {
   "cell_type": "code",
   "execution_count": 25,
   "id": "25ae487a-27f4-40c6-ba8a-d83f4af5078c",
   "metadata": {
    "tags": []
   },
   "outputs": [
    {
     "data": {
      "text/plain": [
       "Chi2ContingencyResult(statistic=0.9150329892546948, pvalue=0.3387825358066928, dof=1, expected_freq=array([[ 501.01774812,  180.98225188],\n",
       "       [4672.98225188, 1688.01774812]]))"
      ]
     },
     "execution_count": 25,
     "metadata": {},
     "output_type": "execute_result"
    }
   ],
   "source": [
    "data_crosstab5 = pd.crosstab(df['phone_service'], df['churn'], margins = False)\n",
    "st.chi2_contingency(np.array(data_crosstab5))"
   ]
  },
  {
   "cell_type": "markdown",
   "id": "214c3aa8-bfda-4aa3-9bf7-1d1d6072b7c6",
   "metadata": {},
   "source": [
    "##### p_value is 0.3387825358066928, and 40.3387825358066928 > 0.05. Therefore, there is no relationship between them."
   ]
  },
  {
   "cell_type": "code",
   "execution_count": 26,
   "id": "d9a9c8c4-5014-439f-b8a7-3b197a610ff2",
   "metadata": {
    "tags": []
   },
   "outputs": [],
   "source": [
    "df.drop('phone_service', axis=1, inplace=True)"
   ]
  },
  {
   "cell_type": "markdown",
   "id": "5d62bbd7-ca77-451a-b7b5-1bf29c1fb160",
   "metadata": {},
   "source": [
    "### multiple_lines"
   ]
  },
  {
   "cell_type": "code",
   "execution_count": 27,
   "id": "c948bac1-1901-4465-a395-06c01ba47075",
   "metadata": {
    "tags": []
   },
   "outputs": [
    {
     "data": {
      "text/plain": [
       "multiple_lines\n",
       "No                  3390\n",
       "Yes                 2971\n",
       "No phone service     682\n",
       "Name: count, dtype: int64"
      ]
     },
     "execution_count": 27,
     "metadata": {},
     "output_type": "execute_result"
    }
   ],
   "source": [
    "df['multiple_lines'].value_counts()"
   ]
  },
  {
   "cell_type": "markdown",
   "id": "2da8b1d4-6a22-4b14-af01-01f7cca84fd1",
   "metadata": {},
   "source": [
    "##### Check if there is a relationship with Churn. Chi2 test"
   ]
  },
  {
   "cell_type": "code",
   "execution_count": 28,
   "id": "b3c6f3f3-ae5e-4b71-a58f-5a9a3577b78f",
   "metadata": {
    "tags": []
   },
   "outputs": [
    {
     "data": {
      "text/plain": [
       "Chi2ContingencyResult(statistic=11.33044148319756, pvalue=0.0034643829548773, dof=2, expected_freq=array([[2490.39613801,  899.60386199],\n",
       "       [ 501.01774812,  180.98225188],\n",
       "       [2182.58611387,  788.41388613]]))"
      ]
     },
     "execution_count": 28,
     "metadata": {},
     "output_type": "execute_result"
    }
   ],
   "source": [
    "data_crosstab6 = pd.crosstab(df['multiple_lines'], df['churn'], margins = False)\n",
    "st.chi2_contingency(np.array(data_crosstab6))"
   ]
  },
  {
   "cell_type": "markdown",
   "id": "b2d06f28-9796-46e8-9c7f-2f7cc368eee1",
   "metadata": {},
   "source": [
    "##### p_value is 0.0034643829548773, and 0.0034643829548773 < 0.05. Therefore, there is relationship between them."
   ]
  },
  {
   "cell_type": "markdown",
   "id": "87c2149d-6daa-4c71-8b63-36b955bf6da6",
   "metadata": {},
   "source": [
    "### internet_service"
   ]
  },
  {
   "cell_type": "code",
   "execution_count": 29,
   "id": "43cb07d7-d695-477f-9b95-16ada804ab1e",
   "metadata": {
    "tags": []
   },
   "outputs": [
    {
     "data": {
      "text/plain": [
       "internet_service\n",
       "Fiber optic    3096\n",
       "DSL            2421\n",
       "No             1526\n",
       "Name: count, dtype: int64"
      ]
     },
     "execution_count": 29,
     "metadata": {},
     "output_type": "execute_result"
    }
   ],
   "source": [
    "df['internet_service'].value_counts()"
   ]
  },
  {
   "cell_type": "markdown",
   "id": "4e83766d-f64b-43bc-b92c-5b679eccc84d",
   "metadata": {},
   "source": [
    "##### Check if there is a relationship with Churn. Chi2 test"
   ]
  },
  {
   "cell_type": "code",
   "execution_count": 30,
   "id": "57c88e0d-81cc-4bbf-be6e-c9638f538f2a",
   "metadata": {
    "tags": []
   },
   "outputs": [
    {
     "data": {
      "text/plain": [
       "Chi2ContingencyResult(statistic=732.309589667794, pvalue=9.571788222840544e-160, dof=2, expected_freq=array([[1778.53954281,  642.46045719],\n",
       "       [2274.41488002,  821.58511998],\n",
       "       [1121.04557717,  404.95442283]]))"
      ]
     },
     "execution_count": 30,
     "metadata": {},
     "output_type": "execute_result"
    }
   ],
   "source": [
    "data_crosstab7 = pd.crosstab(df['internet_service'], df['churn'], margins = False)\n",
    "st.chi2_contingency(np.array(data_crosstab7))"
   ]
  },
  {
   "cell_type": "markdown",
   "id": "4c89ab5b-cf15-45d8-8bd9-9bda38d941f1",
   "metadata": {},
   "source": [
    "##### p_value is 9.571788222840544e-160, and 9.571788222840544e-160 < 0.05. Therefore, there is relationship between them."
   ]
  },
  {
   "cell_type": "markdown",
   "id": "624f39f1-a91c-4b97-9404-beca8c9f2882",
   "metadata": {},
   "source": [
    "### online_security"
   ]
  },
  {
   "cell_type": "code",
   "execution_count": 31,
   "id": "37be421e-554c-4fb3-97f3-a047f4cc14e5",
   "metadata": {
    "tags": []
   },
   "outputs": [
    {
     "data": {
      "text/plain": [
       "online_security\n",
       "No                     3498\n",
       "Yes                    2019\n",
       "No internet service    1526\n",
       "Name: count, dtype: int64"
      ]
     },
     "execution_count": 31,
     "metadata": {},
     "output_type": "execute_result"
    }
   ],
   "source": [
    "df['online_security'].value_counts()"
   ]
  },
  {
   "cell_type": "markdown",
   "id": "7399cb7d-1c3e-48bf-86a5-b8a60cf5c6f0",
   "metadata": {},
   "source": [
    "##### Check if there is a relationship with Churn. Chi2 test"
   ]
  },
  {
   "cell_type": "code",
   "execution_count": 32,
   "id": "ed1169d7-1cfc-40e6-8291-737768e8f753",
   "metadata": {
    "tags": []
   },
   "outputs": [
    {
     "data": {
      "text/plain": [
       "Chi2ContingencyResult(statistic=849.9989679615965, pvalue=2.661149635176552e-185, dof=2, expected_freq=array([[2569.73619196,  928.26380804],\n",
       "       [1121.04557717,  404.95442283],\n",
       "       [1483.21823087,  535.78176913]]))"
      ]
     },
     "execution_count": 32,
     "metadata": {},
     "output_type": "execute_result"
    }
   ],
   "source": [
    "data_crosstab8 = pd.crosstab(df['online_security'], df['churn'], margins = False)\n",
    "st.chi2_contingency(np.array(data_crosstab8))"
   ]
  },
  {
   "cell_type": "markdown",
   "id": "8aef5c98-54f4-4b96-af44-e31fa3704223",
   "metadata": {},
   "source": [
    "Therefore, there is relationship between them."
   ]
  },
  {
   "cell_type": "markdown",
   "id": "3309abf5-08d7-42fd-b423-342364c487b0",
   "metadata": {},
   "source": [
    "### online_backup"
   ]
  },
  {
   "cell_type": "code",
   "execution_count": 33,
   "id": "34b007f3-7aa8-4e36-8a54-519f8b133fc1",
   "metadata": {
    "tags": []
   },
   "outputs": [
    {
     "data": {
      "text/plain": [
       "online_backup\n",
       "No                     3088\n",
       "Yes                    2429\n",
       "No internet service    1526\n",
       "Name: count, dtype: int64"
      ]
     },
     "execution_count": 33,
     "metadata": {},
     "output_type": "execute_result"
    }
   ],
   "source": [
    "df['online_backup'].value_counts()"
   ]
  },
  {
   "cell_type": "code",
   "execution_count": 34,
   "id": "1893c7fc-c496-4f1a-964b-f9339a9870ca",
   "metadata": {
    "tags": []
   },
   "outputs": [
    {
     "data": {
      "text/plain": [
       "Chi2ContingencyResult(statistic=601.812790113409, pvalue=2.0797592160864276e-131, dof=2, expected_freq=array([[2268.53783899,  819.46216101],\n",
       "       [1121.04557717,  404.95442283],\n",
       "       [1784.41658384,  644.58341616]]))"
      ]
     },
     "execution_count": 34,
     "metadata": {},
     "output_type": "execute_result"
    }
   ],
   "source": [
    "# Chi2 test to evaluate if being online backup is related to Churn\n",
    "data_crosstab9 = pd.crosstab(df['online_backup'], df['churn'], margins = False)\n",
    "st.chi2_contingency(np.array(data_crosstab9))"
   ]
  },
  {
   "cell_type": "markdown",
   "id": "87a282ac-a62c-4474-86c4-c417cae8c023",
   "metadata": {},
   "source": [
    "##### Therefore, there is relationship between them."
   ]
  },
  {
   "cell_type": "markdown",
   "id": "66732b1d-bdff-405c-9509-6d85b0b9f873",
   "metadata": {},
   "source": [
    "### device_protection"
   ]
  },
  {
   "cell_type": "code",
   "execution_count": 35,
   "id": "54512d49-515d-4e5b-8986-d0d4550c9d33",
   "metadata": {
    "tags": []
   },
   "outputs": [
    {
     "data": {
      "text/plain": [
       "device_protection\n",
       "No                     3095\n",
       "Yes                    2422\n",
       "No internet service    1526\n",
       "Name: count, dtype: int64"
      ]
     },
     "execution_count": 35,
     "metadata": {},
     "output_type": "execute_result"
    }
   ],
   "source": [
    "df['device_protection'].value_counts()"
   ]
  },
  {
   "cell_type": "code",
   "execution_count": 36,
   "id": "05cff116-5f10-40e9-b64e-39658e7c6bf3",
   "metadata": {
    "tags": []
   },
   "outputs": [
    {
     "data": {
      "text/plain": [
       "Chi2ContingencyResult(statistic=558.419369407389, pvalue=5.505219496457244e-122, dof=2, expected_freq=array([[2273.68024989,  821.31975011],\n",
       "       [1121.04557717,  404.95442283],\n",
       "       [1779.27417294,  642.72582706]]))"
      ]
     },
     "execution_count": 36,
     "metadata": {},
     "output_type": "execute_result"
    }
   ],
   "source": [
    "# Chi2 test to evaluate if device_protection is related to Churn\n",
    "data_crosstab10 = pd.crosstab(df['device_protection'], df['churn'], margins = False)\n",
    "st.chi2_contingency(np.array(data_crosstab10))"
   ]
  },
  {
   "cell_type": "markdown",
   "id": "73edd50c-ed16-425c-b50a-c78bce27ec94",
   "metadata": {
    "tags": []
   },
   "source": [
    "##### There is relationship between them"
   ]
  },
  {
   "cell_type": "markdown",
   "id": "ab3cac30-1318-4b03-bcae-0693581a1d5a",
   "metadata": {
    "tags": []
   },
   "source": [
    "### tech_support"
   ]
  },
  {
   "cell_type": "code",
   "execution_count": 37,
   "id": "3ec6557a-b26a-4e60-821d-88dff41e90dc",
   "metadata": {
    "tags": []
   },
   "outputs": [
    {
     "data": {
      "text/plain": [
       "tech_support\n",
       "No                     3473\n",
       "Yes                    2044\n",
       "No internet service    1526\n",
       "Name: count, dtype: int64"
      ]
     },
     "execution_count": 37,
     "metadata": {},
     "output_type": "execute_result"
    }
   ],
   "source": [
    "df['tech_support'].value_counts()"
   ]
  },
  {
   "cell_type": "code",
   "execution_count": 38,
   "id": "d0ac6854-67ca-478e-bcdf-5baca2346a06",
   "metadata": {
    "tags": []
   },
   "outputs": [
    {
     "data": {
      "text/plain": [
       "Chi2ContingencyResult(statistic=828.1970684587394, pvalue=1.4430840279998987e-180, dof=2, expected_freq=array([[2551.37043873,  921.62956127],\n",
       "       [1121.04557717,  404.95442283],\n",
       "       [1501.5839841 ,  542.4160159 ]]))"
      ]
     },
     "execution_count": 38,
     "metadata": {},
     "output_type": "execute_result"
    }
   ],
   "source": [
    "# Chi2 test to evaluate if tech_suport is related to Churn\n",
    "data_crosstab11 = pd.crosstab(df['tech_support'], df['churn'], margins = False)\n",
    "st.chi2_contingency(np.array(data_crosstab11))"
   ]
  },
  {
   "cell_type": "markdown",
   "id": "a4740277-1463-4382-8a38-ad6834938455",
   "metadata": {},
   "source": [
    "##### There is relationship between them"
   ]
  },
  {
   "cell_type": "markdown",
   "id": "00ffeb07-a697-4724-9ca5-f76de73b613e",
   "metadata": {},
   "source": [
    "### streaming_tv"
   ]
  },
  {
   "cell_type": "code",
   "execution_count": 39,
   "id": "9905d00c-4aa2-498a-9d93-96afb271e21c",
   "metadata": {
    "tags": []
   },
   "outputs": [
    {
     "data": {
      "text/plain": [
       "streaming_t_v\n",
       "No                     2810\n",
       "Yes                    2707\n",
       "No internet service    1526\n",
       "Name: count, dtype: int64"
      ]
     },
     "execution_count": 39,
     "metadata": {},
     "output_type": "execute_result"
    }
   ],
   "source": [
    "df['streaming_t_v'].value_counts()"
   ]
  },
  {
   "cell_type": "code",
   "execution_count": 40,
   "id": "559c3b1e-fce3-4315-a07e-17ef23417add",
   "metadata": {
    "tags": []
   },
   "outputs": [
    {
     "data": {
      "text/plain": [
       "Chi2ContingencyResult(statistic=374.2039433109813, pvalue=5.528994485739183e-82, dof=2, expected_freq=array([[2064.31066307,  745.68933693],\n",
       "       [1121.04557717,  404.95442283],\n",
       "       [1988.64375976,  718.35624024]]))"
      ]
     },
     "execution_count": 40,
     "metadata": {},
     "output_type": "execute_result"
    }
   ],
   "source": [
    "# Chi2 test to evaluate if straming_tv is related to Churn\n",
    "data_crosstab12 = pd.crosstab(df['streaming_t_v'], df['churn'], margins = False)\n",
    "st.chi2_contingency(np.array(data_crosstab12))"
   ]
  },
  {
   "cell_type": "markdown",
   "id": "752feca5-637e-4038-a261-afc151b1d9e2",
   "metadata": {},
   "source": [
    "There is relationship between them"
   ]
  },
  {
   "cell_type": "code",
   "execution_count": 41,
   "id": "92a08439-2111-486e-9141-c35794a7c0f0",
   "metadata": {
    "tags": []
   },
   "outputs": [],
   "source": [
    "# rename \n",
    "df = df.rename(columns={'streaming_t_v':'streaming_tv'})"
   ]
  },
  {
   "cell_type": "markdown",
   "id": "7558c056-8b4d-4bc5-8bc1-9559edb8ab34",
   "metadata": {},
   "source": [
    "### streaming_movies"
   ]
  },
  {
   "cell_type": "code",
   "execution_count": 42,
   "id": "f103b923-9e92-417b-a99d-7230902a7d65",
   "metadata": {
    "tags": []
   },
   "outputs": [
    {
     "data": {
      "text/plain": [
       "streaming_movies\n",
       "No                     2785\n",
       "Yes                    2732\n",
       "No internet service    1526\n",
       "Name: count, dtype: int64"
      ]
     },
     "execution_count": 42,
     "metadata": {},
     "output_type": "execute_result"
    }
   ],
   "source": [
    "df['streaming_movies'].value_counts()"
   ]
  },
  {
   "cell_type": "code",
   "execution_count": 43,
   "id": "d5ac88d3-1b06-4570-9fad-534d70085582",
   "metadata": {
    "tags": []
   },
   "outputs": [
    {
     "data": {
      "text/plain": [
       "Chi2ContingencyResult(statistic=375.6614793452656, pvalue=2.667756755723681e-82, dof=2, expected_freq=array([[2045.94490984,  739.05509016],\n",
       "       [1121.04557717,  404.95442283],\n",
       "       [2007.00951299,  724.99048701]]))"
      ]
     },
     "execution_count": 43,
     "metadata": {},
     "output_type": "execute_result"
    }
   ],
   "source": [
    "# Chi2 test to evaluate if streming movies is related to Churn\n",
    "data_crosstab13 = pd.crosstab(df['streaming_movies'], df['churn'], margins = False)\n",
    "st.chi2_contingency(np.array(data_crosstab13))"
   ]
  },
  {
   "cell_type": "markdown",
   "id": "0a02d0bc-18c5-44c6-9061-71374ed4a76f",
   "metadata": {
    "tags": []
   },
   "source": [
    "There is relationship between them"
   ]
  },
  {
   "cell_type": "markdown",
   "id": "1b030c1d-9f5a-4dba-bd1a-ed4cb69e8024",
   "metadata": {
    "tags": []
   },
   "source": [
    "### contract"
   ]
  },
  {
   "cell_type": "code",
   "execution_count": 44,
   "id": "c1619573-11cd-4c4e-8edc-a60b57d8e4db",
   "metadata": {
    "tags": []
   },
   "outputs": [
    {
     "data": {
      "text/plain": [
       "contract\n",
       "Month-to-month    3875\n",
       "Two year          1695\n",
       "One year          1473\n",
       "Name: count, dtype: int64"
      ]
     },
     "execution_count": 44,
     "metadata": {},
     "output_type": "execute_result"
    }
   ],
   "source": [
    "df['contract'].value_counts()"
   ]
  },
  {
   "cell_type": "code",
   "execution_count": 45,
   "id": "4b3ef854-346a-47c9-9400-723504857f30",
   "metadata": {
    "tags": []
   },
   "outputs": [
    {
     "data": {
      "text/plain": [
       "Chi2ContingencyResult(statistic=1184.5965720837926, pvalue=5.863038300673391e-258, dof=2, expected_freq=array([[2846.69175067, 1028.30824933],\n",
       "       [1082.11018032,  390.88981968],\n",
       "       [1245.198069  ,  449.801931  ]]))"
      ]
     },
     "execution_count": 45,
     "metadata": {},
     "output_type": "execute_result"
    }
   ],
   "source": [
    "# Chi2 test to evaluate if contract is related to Churn\n",
    "data_crosstab14 = pd.crosstab(df['contract'], df['churn'], margins = False)\n",
    "st.chi2_contingency(np.array(data_crosstab14))"
   ]
  },
  {
   "cell_type": "markdown",
   "id": "d92b254a-12d9-400f-be65-5e70c58b5e6e",
   "metadata": {},
   "source": [
    "There is relationship between them"
   ]
  },
  {
   "cell_type": "markdown",
   "id": "10b85806-cc8c-4097-8046-999119837aa8",
   "metadata": {},
   "source": [
    "### paperless_billing"
   ]
  },
  {
   "cell_type": "code",
   "execution_count": 46,
   "id": "e26401d5-b4e8-4ae6-9351-29c73a143094",
   "metadata": {
    "tags": []
   },
   "outputs": [
    {
     "data": {
      "text/plain": [
       "paperless_billing\n",
       "Yes    4171\n",
       "No     2872\n",
       "Name: count, dtype: int64"
      ]
     },
     "execution_count": 46,
     "metadata": {},
     "output_type": "execute_result"
    }
   ],
   "source": [
    "df['paperless_billing'].value_counts()"
   ]
  },
  {
   "cell_type": "code",
   "execution_count": 47,
   "id": "8644d763-a823-45ca-ab3d-ac374f06a2e1",
   "metadata": {
    "tags": []
   },
   "outputs": [
    {
     "data": {
      "text/plain": [
       "Chi2ContingencyResult(statistic=258.27764906707307, pvalue=4.073354668665985e-58, dof=1, expected_freq=array([[2109.85773108,  762.14226892],\n",
       "       [3064.14226892, 1106.85773108]]))"
      ]
     },
     "execution_count": 47,
     "metadata": {},
     "output_type": "execute_result"
    }
   ],
   "source": [
    "# Chi2 test to evaluate if paeperless_billing is related to Churn\n",
    "data_crosstab15 = pd.crosstab(df['paperless_billing'], df['churn'], margins = False)\n",
    "st.chi2_contingency(np.array(data_crosstab15))"
   ]
  },
  {
   "cell_type": "markdown",
   "id": "c3f1dc0a-87f2-4a0b-ae5c-925f0b29de68",
   "metadata": {},
   "source": [
    "There is relationship between them"
   ]
  },
  {
   "cell_type": "markdown",
   "id": "21de68ff-c507-4c5d-a8b7-22ed73b66e85",
   "metadata": {},
   "source": [
    "### payment_method"
   ]
  },
  {
   "cell_type": "code",
   "execution_count": 48,
   "id": "8b3fc7f1-b3f3-4b47-949b-c0a105744714",
   "metadata": {
    "tags": []
   },
   "outputs": [
    {
     "data": {
      "text/plain": [
       "payment_method\n",
       "Electronic check             2365\n",
       "Mailed check                 1612\n",
       "Bank transfer (automatic)    1544\n",
       "Credit card (automatic)      1522\n",
       "Name: count, dtype: int64"
      ]
     },
     "execution_count": 48,
     "metadata": {},
     "output_type": "execute_result"
    }
   ],
   "source": [
    "df['payment_method'].value_counts()"
   ]
  },
  {
   "cell_type": "code",
   "execution_count": 49,
   "id": "d2eea505-4f1a-4921-baea-775d20e9d0aa",
   "metadata": {
    "tags": []
   },
   "outputs": [
    {
     "data": {
      "text/plain": [
       "Chi2ContingencyResult(statistic=648.1423274814, pvalue=3.6823546520097993e-140, dof=3, expected_freq=array([[1134.26891949,  409.73108051],\n",
       "       [1118.10705665,  403.89294335],\n",
       "       [1737.40025557,  627.59974443],\n",
       "       [1184.22376828,  427.77623172]]))"
      ]
     },
     "execution_count": 49,
     "metadata": {},
     "output_type": "execute_result"
    }
   ],
   "source": [
    "# Chi2 test to evaluate if payment_method is related to Churn\n",
    "data_crosstab16 = pd.crosstab(df['payment_method'], df['churn'], margins = False)\n",
    "st.chi2_contingency(np.array(data_crosstab16))"
   ]
  },
  {
   "cell_type": "markdown",
   "id": "37097252-44c2-4470-98d0-483f457a6863",
   "metadata": {
    "tags": []
   },
   "source": [
    "There is relationship between them"
   ]
  },
  {
   "cell_type": "markdown",
   "id": "f30e4277-fcf3-4c6f-bfbd-35b38505b5ba",
   "metadata": {
    "tags": []
   },
   "source": [
    "### monthly_charges"
   ]
  },
  {
   "cell_type": "code",
   "execution_count": 50,
   "id": "d29740bb-0aae-4b4b-ac27-11ccbc81d07b",
   "metadata": {
    "tags": []
   },
   "outputs": [
    {
     "data": {
      "image/png": "[encoded data removed]",
      "text/plain": [
       "<Figure size 640x480 with 1 Axes>"
      ]
     },
     "metadata": {},
     "output_type": "display_data"
    }
   ],
   "source": [
    "# Create a histogram using Seaborn\n",
    "sns.histplot(df['monthly_charges'], kde=True)\n",
    "\n",
    "# Set plot labels and title\n",
    "plt.xlabel('monthly_charges')\n",
    "plt.ylabel('Frequency')\n",
    "plt.title('monthly_charges Distribution')\n",
    "\n",
    "# Display the plot\n",
    "plt.show()"
   ]
  },
  {
   "cell_type": "markdown",
   "id": "f7a89248-f7bf-48b8-b5e9-44ae0a2b2ffb",
   "metadata": {},
   "source": [
    "#####  it needs scaling later."
   ]
  },
  {
   "cell_type": "markdown",
   "id": "07afb6e5-c622-4e64-976a-acc8fc43d3b6",
   "metadata": {},
   "source": [
    "### total_charges"
   ]
  },
  {
   "cell_type": "code",
   "execution_count": 51,
   "id": "c129cb2b-e4c8-4fde-ad95-353be1e99123",
   "metadata": {
    "tags": []
   },
   "outputs": [
    {
     "data": {
      "text/plain": [
       "0"
      ]
     },
     "execution_count": 51,
     "metadata": {},
     "output_type": "execute_result"
    }
   ],
   "source": [
    "df['total_charges'] = df['total_charges'].str.strip()\n",
    "\n",
    "df['total_charges'] = pd.to_numeric(df['total_charges'], errors='coerce')\n",
    "\n",
    "# Drop rows with NaN values in 'total_charges' column\n",
    "df.dropna(subset=['total_charges'], inplace=True)\n",
    "\n",
    "df['total_charges'].isnull().sum()"
   ]
  },
  {
   "cell_type": "code",
   "execution_count": 52,
   "id": "6998d436-9621-4da9-b008-4116dfb5c3a3",
   "metadata": {
    "tags": []
   },
   "outputs": [
    {
     "data": {
      "text/plain": [
       "dtype('float64')"
      ]
     },
     "execution_count": 52,
     "metadata": {},
     "output_type": "execute_result"
    }
   ],
   "source": [
    "df['total_charges'].dtypes"
   ]
  },
  {
   "cell_type": "code",
   "execution_count": 53,
   "id": "685b94da-60b4-4356-811c-2464aadf2c1f",
   "metadata": {
    "tags": []
   },
   "outputs": [
    {
     "data": {
      "image/png": "[encoded data removed]",
      "text/plain": [
       "<Figure size 640x480 with 1 Axes>"
      ]
     },
     "metadata": {},
     "output_type": "display_data"
    }
   ],
   "source": [
    "# Create a histogram using Seaborn\n",
    "sns.histplot(df['total_charges'], kde=True)\n",
    "\n",
    "# Set plot labels and title\n",
    "plt.xlabel('total_charges')\n",
    "plt.ylabel('Frequency')\n",
    "plt.title('total_charges Distribution')\n",
    "\n",
    "# Display the plot\n",
    "plt.show()"
   ]
  },
  {
   "cell_type": "markdown",
   "id": "eab34cd0-4ce7-4e80-ba26-6a4a8ecefdef",
   "metadata": {
    "tags": []
   },
   "source": [
    "### It neads transformation later"
   ]
  },
  {
   "cell_type": "markdown",
   "id": "62a63d89-580a-4f15-a4ad-2e79a62cc151",
   "metadata": {},
   "source": [
    "## Checking for multicollinearity"
   ]
  },
  {
   "cell_type": "code",
   "execution_count": 54,
   "id": "d172e488-14f3-473f-be0a-22f5c8a2bff9",
   "metadata": {
    "tags": []
   },
   "outputs": [
    {
     "data": {
      "image/png": "[encoded data removed]",
      "text/plain": [
       "<Figure size 1000x800 with 2 Axes>"
      ]
     },
     "metadata": {},
     "output_type": "display_data"
    }
   ],
   "source": [
    "numericals = df.select_dtypes(np.number)\n",
    "corr_matrix=numericals.corr(method='pearson')  # default\n",
    "fig, ax = plt.subplots(figsize=(10, 8))\n",
    "ax = sns.heatmap(corr_matrix, annot=True)\n",
    "plt.show()"
   ]
  },
  {
   "cell_type": "markdown",
   "id": "c6406fae-ab27-47f3-a6ac-91122219b6a8",
   "metadata": {},
   "source": [
    "#### There is high multicollinearity between two variables between 'tenure' and 'total_charges': 0.83. This time, tenure is removoed.  "
   ]
  },
  {
   "cell_type": "code",
   "execution_count": 55,
   "id": "421d19e1-64bd-4da1-ab5d-33e6f49b9e13",
   "metadata": {},
   "outputs": [],
   "source": [
    "df.drop('customer_i_d', axis=1, inplace=True)\n",
    "df.drop('tenure', axis=1, inplace=True)"
   ]
  },
  {
   "cell_type": "code",
   "execution_count": 56,
   "id": "eafc81b2-04b7-47bd-9a8f-1709ac750e96",
   "metadata": {
    "tags": []
   },
   "outputs": [],
   "source": [
    "df.to_csv('../data/cleaned_data/re_semi_cleaned_data.csv', index=False)"
   ]
  },
  {
   "cell_type": "code",
   "execution_count": null,
   "id": "bc3ca284-2464-42a3-a514-95447f1bf4bf",
   "metadata": {},
   "outputs": [],
   "source": []
  }
 ],
 "metadata": {
  "kernelspec": {
   "display_name": "final_project_env",
   "language": "python",
   "name": "final_project_env"
  },
  "language_info": {
   "codemirror_mode": {
    "name": "ipython",
    "version": 3
   },
   "file_extension": ".py",
   "mimetype": "text/x-python",
   "name": "python",
   "nbconvert_exporter": "python",
   "pygments_lexer": "ipython3",
   "version": "3.11.3"
  }
 },
 "nbformat": 4,
 "nbformat_minor": 5
}
